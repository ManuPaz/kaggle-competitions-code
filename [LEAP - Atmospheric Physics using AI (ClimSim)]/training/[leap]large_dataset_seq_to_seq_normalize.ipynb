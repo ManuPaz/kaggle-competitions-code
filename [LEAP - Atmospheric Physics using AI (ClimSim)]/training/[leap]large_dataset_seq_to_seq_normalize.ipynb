{
  "cells": [
    {
      "cell_type": "code",
      "execution_count": null,
      "metadata": {
        "id": "YQdw_R3LHgSf"
      },
      "outputs": [],
      "source": [
        "\n"
      ]
    },
    {
      "cell_type": "code",
      "source": [
        "import os\n",
        "\n",
        "from google.colab import drive\n",
        "\n",
        "INIT=True\n",
        "PATH=\"/content\"\n",
        "\n",
        "if INIT:\n",
        "  drive.mount('/content/drive')\n",
        "  ! pip install kaggle\n",
        "\n",
        "  !mkdir ~/.kaggle\n",
        "\n",
        "\n",
        "  ! cp kaggle.json ~/.kaggle/\n",
        "  ! chmod 600 ~/.kaggle/kaggle.json"
      ],
      "metadata": {
        "colab": {
          "base_uri": "https://localhost:8080/"
        },
        "id": "gm6LUjNadhB4",
        "outputId": "ab86c71b-b1e9-4661-df5b-e42d66384118"
      },
      "execution_count": 1,
      "outputs": [
        {
          "output_type": "stream",
          "name": "stdout",
          "text": [
            "Mounted at /content/drive\n",
            "Requirement already satisfied: kaggle in /usr/local/lib/python3.10/dist-packages (1.6.14)\n",
            "Requirement already satisfied: six>=1.10 in /usr/local/lib/python3.10/dist-packages (from kaggle) (1.16.0)\n",
            "Requirement already satisfied: certifi>=2023.7.22 in /usr/local/lib/python3.10/dist-packages (from kaggle) (2024.6.2)\n",
            "Requirement already satisfied: python-dateutil in /usr/local/lib/python3.10/dist-packages (from kaggle) (2.8.2)\n",
            "Requirement already satisfied: requests in /usr/local/lib/python3.10/dist-packages (from kaggle) (2.31.0)\n",
            "Requirement already satisfied: tqdm in /usr/local/lib/python3.10/dist-packages (from kaggle) (4.66.4)\n",
            "Requirement already satisfied: python-slugify in /usr/local/lib/python3.10/dist-packages (from kaggle) (8.0.4)\n",
            "Requirement already satisfied: urllib3 in /usr/local/lib/python3.10/dist-packages (from kaggle) (2.0.7)\n",
            "Requirement already satisfied: bleach in /usr/local/lib/python3.10/dist-packages (from kaggle) (6.1.0)\n",
            "Requirement already satisfied: webencodings in /usr/local/lib/python3.10/dist-packages (from bleach->kaggle) (0.5.1)\n",
            "Requirement already satisfied: text-unidecode>=1.3 in /usr/local/lib/python3.10/dist-packages (from python-slugify->kaggle) (1.3)\n",
            "Requirement already satisfied: charset-normalizer<4,>=2 in /usr/local/lib/python3.10/dist-packages (from requests->kaggle) (3.3.2)\n",
            "Requirement already satisfied: idna<4,>=2.5 in /usr/local/lib/python3.10/dist-packages (from requests->kaggle) (3.7)\n"
          ]
        }
      ]
    },
    {
      "cell_type": "code",
      "source": [
        "!pip install keras==3.2.1"
      ],
      "metadata": {
        "colab": {
          "base_uri": "https://localhost:8080/"
        },
        "id": "XKOUFKMTdhtZ",
        "outputId": "97569365-af3b-4708-d0bc-cc3c51197315"
      },
      "execution_count": 2,
      "outputs": [
        {
          "output_type": "stream",
          "name": "stdout",
          "text": [
            "Collecting keras==3.2.1\n",
            "  Downloading keras-3.2.1-py3-none-any.whl (1.1 MB)\n",
            "\u001b[?25l     \u001b[90m━━━━━━━━━━━━━━━━━━━━━━━━━━━━━━━━━━━━━━━━\u001b[0m \u001b[32m0.0/1.1 MB\u001b[0m \u001b[31m?\u001b[0m eta \u001b[36m-:--:--\u001b[0m\r\u001b[2K     \u001b[91m━━━━━━━━━━━━━━━━━━━━━━━━━━━━━━━━━━━━━━━\u001b[0m\u001b[91m╸\u001b[0m \u001b[32m1.1/1.1 MB\u001b[0m \u001b[31m35.8 MB/s\u001b[0m eta \u001b[36m0:00:01\u001b[0m\r\u001b[2K     \u001b[90m━━━━━━━━━━━━━━━━━━━━━━━━━━━━━━━━━━━━━━━━\u001b[0m \u001b[32m1.1/1.1 MB\u001b[0m \u001b[31m25.6 MB/s\u001b[0m eta \u001b[36m0:00:00\u001b[0m\n",
            "\u001b[?25hRequirement already satisfied: absl-py in /usr/local/lib/python3.10/dist-packages (from keras==3.2.1) (1.4.0)\n",
            "Requirement already satisfied: numpy in /usr/local/lib/python3.10/dist-packages (from keras==3.2.1) (1.25.2)\n",
            "Requirement already satisfied: rich in /usr/local/lib/python3.10/dist-packages (from keras==3.2.1) (13.7.1)\n",
            "Collecting namex (from keras==3.2.1)\n",
            "  Downloading namex-0.0.8-py3-none-any.whl (5.8 kB)\n",
            "Requirement already satisfied: h5py in /usr/local/lib/python3.10/dist-packages (from keras==3.2.1) (3.9.0)\n",
            "Collecting optree (from keras==3.2.1)\n",
            "  Downloading optree-0.12.1-cp310-cp310-manylinux_2_17_x86_64.manylinux2014_x86_64.whl (347 kB)\n",
            "\u001b[2K     \u001b[90m━━━━━━━━━━━━━━━━━━━━━━━━━━━━━━━━━━━━━━━━\u001b[0m \u001b[32m347.7/347.7 kB\u001b[0m \u001b[31m46.1 MB/s\u001b[0m eta \u001b[36m0:00:00\u001b[0m\n",
            "\u001b[?25hRequirement already satisfied: ml-dtypes in /usr/local/lib/python3.10/dist-packages (from keras==3.2.1) (0.2.0)\n",
            "Requirement already satisfied: typing-extensions>=4.5.0 in /usr/local/lib/python3.10/dist-packages (from optree->keras==3.2.1) (4.12.2)\n",
            "Requirement already satisfied: markdown-it-py>=2.2.0 in /usr/local/lib/python3.10/dist-packages (from rich->keras==3.2.1) (3.0.0)\n",
            "Requirement already satisfied: pygments<3.0.0,>=2.13.0 in /usr/local/lib/python3.10/dist-packages (from rich->keras==3.2.1) (2.16.1)\n",
            "Requirement already satisfied: mdurl~=0.1 in /usr/local/lib/python3.10/dist-packages (from markdown-it-py>=2.2.0->rich->keras==3.2.1) (0.1.2)\n",
            "Installing collected packages: namex, optree, keras\n",
            "  Attempting uninstall: keras\n",
            "    Found existing installation: keras 2.15.0\n",
            "    Uninstalling keras-2.15.0:\n",
            "      Successfully uninstalled keras-2.15.0\n",
            "\u001b[31mERROR: pip's dependency resolver does not currently take into account all the packages that are installed. This behaviour is the source of the following dependency conflicts.\n",
            "tensorflow 2.15.0 requires keras<2.16,>=2.15.0, but you have keras 3.2.1 which is incompatible.\u001b[0m\u001b[31m\n",
            "\u001b[0mSuccessfully installed keras-3.2.1 namex-0.0.8 optree-0.12.1\n"
          ]
        }
      ]
    },
    {
      "cell_type": "code",
      "execution_count": 3,
      "metadata": {
        "colab": {
          "base_uri": "https://localhost:8080/",
          "height": 36
        },
        "id": "9simieHGa7SD",
        "outputId": "4a969483-ec79-4a44-f107-d17e73c5e744"
      },
      "outputs": [
        {
          "output_type": "execute_result",
          "data": {
            "text/plain": [
              "'3.2.1'"
            ],
            "application/vnd.google.colaboratory.intrinsic+json": {
              "type": "string"
            }
          },
          "metadata": {},
          "execution_count": 3
        }
      ],
      "source": [
        "import keras\n",
        "keras.__version__"
      ]
    },
    {
      "cell_type": "code",
      "execution_count": 4,
      "metadata": {
        "colab": {
          "base_uri": "https://localhost:8080/"
        },
        "id": "acQ96Q3taTnS",
        "outputId": "85a334aa-ced0-4731-f25d-bb57ccf29707"
      },
      "outputs": [
        {
          "output_type": "stream",
          "name": "stdout",
          "text": [
            "2.15.0\n",
            "0.4.26\n"
          ]
        }
      ],
      "source": [
        "import os\n",
        "os.environ[\"KERAS_BACKEND\"] = \"jax\"\n",
        "\n",
        "import gc\n",
        "import numpy as np\n",
        "import pandas as pd\n",
        "import polars as pl\n",
        "import matplotlib.pyplot as plt\n",
        "\n",
        "import tensorflow as tf\n",
        "import jax\n",
        "import keras\n",
        "\n",
        "from sklearn import metrics\n",
        "\n",
        "from tqdm.notebook import tqdm\n",
        "\n",
        "print(tf.__version__)\n",
        "print(jax.__version__)"
      ]
    },
    {
      "cell_type": "code",
      "execution_count": 4,
      "metadata": {
        "id": "Fv8fU_nsC1Cw"
      },
      "outputs": [],
      "source": []
    },
    {
      "cell_type": "code",
      "source": [
        "#from google.colab import auth\n",
        "#auth.authenticate_user()\n",
        "#!gcloud auth application-default login"
      ],
      "metadata": {
        "id": "BWoIY-PHdVRC"
      },
      "execution_count": 5,
      "outputs": []
    },
    {
      "cell_type": "code",
      "execution_count": 5,
      "metadata": {
        "id": "aIGXitQ8DDFv"
      },
      "outputs": [],
      "source": []
    },
    {
      "cell_type": "code",
      "execution_count": 6,
      "metadata": {
        "id": "bP-bxVE_DJfv",
        "colab": {
          "base_uri": "https://localhost:8080/"
        },
        "outputId": "484d004c-386e-449a-a74f-b0ea62de9c2f"
      },
      "outputs": [
        {
          "output_type": "stream",
          "name": "stdout",
          "text": [
            "Dataset URL: https://www.kaggle.com/datasets/abiolatti/leap-train-tfrecords\n",
            "License(s): unknown\n",
            "Downloading leap-train-tfrecords.zip to /content\n",
            "100% 26.7G/26.7G [25:17<00:00, 17.8MB/s]\n",
            "100% 26.7G/26.7G [25:17<00:00, 18.9MB/s]\n",
            "Archive:  leap-train-tfrecords.zip\n",
            "  inflating: leap-train-tfrecords/train_000.tfrec  \n",
            "  inflating: leap-train-tfrecords/train_001.tfrec  \n",
            "  inflating: leap-train-tfrecords/train_002.tfrec  \n",
            "  inflating: leap-train-tfrecords/train_003.tfrec  \n",
            "  inflating: leap-train-tfrecords/train_004.tfrec  \n",
            "  inflating: leap-train-tfrecords/train_005.tfrec  \n",
            "  inflating: leap-train-tfrecords/train_006.tfrec  \n",
            "  inflating: leap-train-tfrecords/train_007.tfrec  \n",
            "  inflating: leap-train-tfrecords/train_008.tfrec  \n",
            "  inflating: leap-train-tfrecords/train_009.tfrec  \n",
            "  inflating: leap-train-tfrecords/train_010.tfrec  \n",
            "  inflating: leap-train-tfrecords/train_011.tfrec  \n",
            "  inflating: leap-train-tfrecords/train_012.tfrec  \n",
            "  inflating: leap-train-tfrecords/train_013.tfrec  \n",
            "  inflating: leap-train-tfrecords/train_014.tfrec  \n",
            "  inflating: leap-train-tfrecords/train_015.tfrec  \n",
            "  inflating: leap-train-tfrecords/train_016.tfrec  \n",
            "  inflating: leap-train-tfrecords/train_017.tfrec  \n",
            "  inflating: leap-train-tfrecords/train_018.tfrec  \n",
            "  inflating: leap-train-tfrecords/train_019.tfrec  \n",
            "  inflating: leap-train-tfrecords/train_020.tfrec  \n",
            "  inflating: leap-train-tfrecords/train_021.tfrec  \n",
            "  inflating: leap-train-tfrecords/train_022.tfrec  \n",
            "  inflating: leap-train-tfrecords/train_023.tfrec  \n",
            "  inflating: leap-train-tfrecords/train_024.tfrec  \n",
            "  inflating: leap-train-tfrecords/train_025.tfrec  \n",
            "  inflating: leap-train-tfrecords/train_026.tfrec  \n",
            "  inflating: leap-train-tfrecords/train_027.tfrec  \n",
            "  inflating: leap-train-tfrecords/train_028.tfrec  \n",
            "  inflating: leap-train-tfrecords/train_029.tfrec  \n",
            "  inflating: leap-train-tfrecords/train_030.tfrec  \n",
            "  inflating: leap-train-tfrecords/train_031.tfrec  \n",
            "  inflating: leap-train-tfrecords/train_032.tfrec  \n",
            "  inflating: leap-train-tfrecords/train_033.tfrec  \n",
            "  inflating: leap-train-tfrecords/train_034.tfrec  \n",
            "  inflating: leap-train-tfrecords/train_035.tfrec  \n",
            "  inflating: leap-train-tfrecords/train_036.tfrec  \n",
            "  inflating: leap-train-tfrecords/train_037.tfrec  \n",
            "  inflating: leap-train-tfrecords/train_038.tfrec  \n",
            "  inflating: leap-train-tfrecords/train_039.tfrec  \n",
            "  inflating: leap-train-tfrecords/train_040.tfrec  \n",
            "  inflating: leap-train-tfrecords/train_041.tfrec  \n",
            "  inflating: leap-train-tfrecords/train_042.tfrec  \n",
            "  inflating: leap-train-tfrecords/train_043.tfrec  \n",
            "  inflating: leap-train-tfrecords/train_044.tfrec  \n",
            "  inflating: leap-train-tfrecords/train_045.tfrec  \n",
            "  inflating: leap-train-tfrecords/train_046.tfrec  \n",
            "  inflating: leap-train-tfrecords/train_047.tfrec  \n",
            "  inflating: leap-train-tfrecords/train_048.tfrec  \n",
            "  inflating: leap-train-tfrecords/train_049.tfrec  \n",
            "  inflating: leap-train-tfrecords/train_050.tfrec  \n",
            "  inflating: leap-train-tfrecords/train_051.tfrec  \n",
            "  inflating: leap-train-tfrecords/train_052.tfrec  \n",
            "  inflating: leap-train-tfrecords/train_053.tfrec  \n",
            "  inflating: leap-train-tfrecords/train_054.tfrec  \n",
            "  inflating: leap-train-tfrecords/train_055.tfrec  \n",
            "  inflating: leap-train-tfrecords/train_056.tfrec  \n",
            "  inflating: leap-train-tfrecords/train_057.tfrec  \n",
            "  inflating: leap-train-tfrecords/train_058.tfrec  \n",
            "  inflating: leap-train-tfrecords/train_059.tfrec  \n",
            "  inflating: leap-train-tfrecords/train_060.tfrec  \n",
            "  inflating: leap-train-tfrecords/train_061.tfrec  \n",
            "  inflating: leap-train-tfrecords/train_062.tfrec  \n",
            "  inflating: leap-train-tfrecords/train_063.tfrec  \n",
            "  inflating: leap-train-tfrecords/train_064.tfrec  \n",
            "  inflating: leap-train-tfrecords/train_065.tfrec  \n",
            "  inflating: leap-train-tfrecords/train_066.tfrec  \n",
            "  inflating: leap-train-tfrecords/train_067.tfrec  \n",
            "  inflating: leap-train-tfrecords/train_068.tfrec  \n",
            "  inflating: leap-train-tfrecords/train_069.tfrec  \n",
            "  inflating: leap-train-tfrecords/train_070.tfrec  \n",
            "  inflating: leap-train-tfrecords/train_071.tfrec  \n",
            "  inflating: leap-train-tfrecords/train_072.tfrec  \n",
            "  inflating: leap-train-tfrecords/train_073.tfrec  \n",
            "  inflating: leap-train-tfrecords/train_074.tfrec  \n",
            "  inflating: leap-train-tfrecords/train_075.tfrec  \n",
            "  inflating: leap-train-tfrecords/train_076.tfrec  \n",
            "  inflating: leap-train-tfrecords/train_077.tfrec  \n",
            "  inflating: leap-train-tfrecords/train_078.tfrec  \n",
            "  inflating: leap-train-tfrecords/train_079.tfrec  \n",
            "  inflating: leap-train-tfrecords/train_080.tfrec  \n",
            "  inflating: leap-train-tfrecords/train_081.tfrec  \n",
            "  inflating: leap-train-tfrecords/train_082.tfrec  \n",
            "  inflating: leap-train-tfrecords/train_083.tfrec  \n",
            "  inflating: leap-train-tfrecords/train_084.tfrec  \n",
            "  inflating: leap-train-tfrecords/train_085.tfrec  \n",
            "  inflating: leap-train-tfrecords/train_086.tfrec  \n",
            "  inflating: leap-train-tfrecords/train_087.tfrec  \n",
            "  inflating: leap-train-tfrecords/train_088.tfrec  \n",
            "  inflating: leap-train-tfrecords/train_089.tfrec  \n",
            "  inflating: leap-train-tfrecords/train_090.tfrec  \n",
            "  inflating: leap-train-tfrecords/train_091.tfrec  \n",
            "  inflating: leap-train-tfrecords/train_092.tfrec  \n",
            "  inflating: leap-train-tfrecords/train_093.tfrec  \n",
            "  inflating: leap-train-tfrecords/train_094.tfrec  \n",
            "  inflating: leap-train-tfrecords/train_095.tfrec  \n",
            "  inflating: leap-train-tfrecords/train_096.tfrec  \n",
            "  inflating: leap-train-tfrecords/train_097.tfrec  \n",
            "  inflating: leap-train-tfrecords/train_098.tfrec  \n",
            "  inflating: leap-train-tfrecords/train_099.tfrec  \n",
            "  inflating: leap-train-tfrecords/train_100.tfrec  \n"
          ]
        }
      ],
      "source": [
        "! kaggle datasets download -d abiolatti/leap-train-tfrecords\n",
        "! unzip -o  leap-train-tfrecords.zip -d    leap-train-tfrecords"
      ]
    },
    {
      "cell_type": "code",
      "source": [
        "! kaggle datasets download -d mpp1998/leap-percentiles-of-full-df\n",
        "! unzip -o  leap-percentiles-of-full-df.zip -d    leap-percentiles-of-full-df"
      ],
      "metadata": {
        "colab": {
          "base_uri": "https://localhost:8080/"
        },
        "id": "hZtFEtx25xmP",
        "outputId": "56faa88e-85fa-44d4-d422-68a41573b222"
      },
      "execution_count": 7,
      "outputs": [
        {
          "output_type": "stream",
          "name": "stdout",
          "text": [
            "Dataset URL: https://www.kaggle.com/datasets/mpp1998/leap-percentiles-of-full-df\n",
            "License(s): unknown\n",
            "Downloading leap-percentiles-of-full-df.zip to /content\n",
            " 83% 2.00M/2.42M [00:01<00:00, 2.14MB/s]\n",
            "100% 2.42M/2.42M [00:01<00:00, 2.17MB/s]\n",
            "Archive:  leap-percentiles-of-full-df.zip\n",
            "  inflating: leap-percentiles-of-full-df/limits_train_percentiles.csv  \n",
            "  inflating: leap-percentiles-of-full-df/myutils/constants.py  \n",
            "  inflating: leap-percentiles-of-full-df/myutils/kaggle_metric_utilities.py  \n",
            "  inflating: leap-percentiles-of-full-df/myutils/metric.py  \n",
            "  inflating: leap-percentiles-of-full-df/percentiles.pkl  \n"
          ]
        }
      ]
    },
    {
      "cell_type": "code",
      "source": [
        "df_limits = pd.read_csv(\"leap-percentiles-of-full-df/limits_train_percentiles.csv\",index_col=0)\n",
        "df_limits.sort_values(by=\"max\") .head(50)"
      ],
      "metadata": {
        "colab": {
          "base_uri": "https://localhost:8080/",
          "height": 1000
        },
        "collapsed": true,
        "id": "OPc33BNs50Jg",
        "outputId": "9af4654e-18c2-46ff-bbb8-37207ae6b1aa"
      },
      "execution_count": 8,
      "outputs": [
        {
          "output_type": "execute_result",
          "data": {
            "text/plain": [
              "                         max           min           q99           q01  \\\n",
              "column                                                                   \n",
              "ptend_q0002_12 -2.147357e-53 -2.692638e-38 -1.062446e-48 -5.291556e-39   \n",
              "ptend_q0002_6   0.000000e+00  0.000000e+00  0.000000e+00  0.000000e+00   \n",
              "ptend_q0002_11  0.000000e+00  0.000000e+00  0.000000e+00  0.000000e+00   \n",
              "ptend_q0002_10  0.000000e+00  0.000000e+00  0.000000e+00  0.000000e+00   \n",
              "ptend_q0002_9   0.000000e+00  0.000000e+00  0.000000e+00  0.000000e+00   \n",
              "ptend_q0002_8   0.000000e+00  0.000000e+00  0.000000e+00  0.000000e+00   \n",
              "ptend_q0002_17  0.000000e+00 -1.394760e-39  0.000000e+00 -5.596019e-56   \n",
              "ptend_q0002_16  0.000000e+00 -1.959202e-44  0.000000e+00  0.000000e+00   \n",
              "ptend_q0002_15  0.000000e+00 -6.381237e-48  0.000000e+00  0.000000e+00   \n",
              "ptend_q0003_10  0.000000e+00  0.000000e+00  0.000000e+00  0.000000e+00   \n",
              "ptend_q0002_13  0.000000e+00 -1.804728e-43  0.000000e+00 -2.420974e-44   \n",
              "ptend_q0002_5   0.000000e+00  0.000000e+00  0.000000e+00  0.000000e+00   \n",
              "ptend_q0002_4   0.000000e+00  0.000000e+00  0.000000e+00  0.000000e+00   \n",
              "ptend_q0003_5   0.000000e+00  0.000000e+00  0.000000e+00  0.000000e+00   \n",
              "ptend_q0003_4   0.000000e+00  0.000000e+00  0.000000e+00  0.000000e+00   \n",
              "ptend_q0003_3   0.000000e+00  0.000000e+00  0.000000e+00  0.000000e+00   \n",
              "ptend_q0003_2   0.000000e+00  0.000000e+00  0.000000e+00  0.000000e+00   \n",
              "ptend_v_8       0.000000e+00  0.000000e+00  0.000000e+00  0.000000e+00   \n",
              "ptend_v_7       0.000000e+00  0.000000e+00  0.000000e+00  0.000000e+00   \n",
              "ptend_q0002_21  0.000000e+00 -1.175655e-28  0.000000e+00 -4.181319e-41   \n",
              "ptend_v_4       0.000000e+00  0.000000e+00  0.000000e+00  0.000000e+00   \n",
              "ptend_q0001_8   0.000000e+00  0.000000e+00  0.000000e+00  0.000000e+00   \n",
              "ptend_q0001_7   0.000000e+00  0.000000e+00  0.000000e+00  0.000000e+00   \n",
              "ptend_q0001_6   0.000000e+00  0.000000e+00  0.000000e+00  0.000000e+00   \n",
              "ptend_q0001_5   0.000000e+00  0.000000e+00  0.000000e+00  0.000000e+00   \n",
              "ptend_q0001_4   0.000000e+00  0.000000e+00  0.000000e+00  0.000000e+00   \n",
              "ptend_u_3       0.000000e+00  0.000000e+00  0.000000e+00  0.000000e+00   \n",
              "ptend_q0002_22  0.000000e+00 -9.266323e-26  0.000000e+00 -5.449216e-37   \n",
              "ptend_q0002_7   0.000000e+00  0.000000e+00  0.000000e+00  0.000000e+00   \n",
              "ptend_q0002_20  0.000000e+00 -1.609746e-31  0.000000e+00 -6.470036e-45   \n",
              "ptend_q0002_19  0.000000e+00 -1.936263e-34  0.000000e+00 -2.370127e-48   \n",
              "ptend_q0002_18  0.000000e+00 -8.142601e-37  0.000000e+00 -1.178305e-51   \n",
              "ptend_v_6       0.000000e+00  0.000000e+00  0.000000e+00  0.000000e+00   \n",
              "ptend_v_5       0.000000e+00  0.000000e+00  0.000000e+00  0.000000e+00   \n",
              "ptend_v_0       0.000000e+00  0.000000e+00  0.000000e+00  0.000000e+00   \n",
              "ptend_v_2       0.000000e+00  0.000000e+00  0.000000e+00  0.000000e+00   \n",
              "ptend_q0002_14  0.000000e+00 -3.456842e-48  0.000000e+00 -1.655425e-49   \n",
              "ptend_q0002_23  0.000000e+00 -6.226475e-23  0.000000e+00 -1.590246e-32   \n",
              "ptend_q0003_6   0.000000e+00  0.000000e+00  0.000000e+00  0.000000e+00   \n",
              "ptend_u_10      0.000000e+00  0.000000e+00  0.000000e+00  0.000000e+00   \n",
              "ptend_u_1       0.000000e+00  0.000000e+00  0.000000e+00  0.000000e+00   \n",
              "ptend_q0001_10  0.000000e+00  0.000000e+00  0.000000e+00  0.000000e+00   \n",
              "ptend_q0001_9   0.000000e+00  0.000000e+00  0.000000e+00  0.000000e+00   \n",
              "ptend_q0002_26  0.000000e+00 -8.310832e-10  0.000000e+00 -5.580364e-19   \n",
              "ptend_q0002_25  0.000000e+00 -6.104450e-15  0.000000e+00 -1.880314e-23   \n",
              "ptend_q0002_24  0.000000e+00 -1.750640e-19  0.000000e+00 -5.781198e-28   \n",
              "ptend_q0003_7   0.000000e+00  0.000000e+00  0.000000e+00  0.000000e+00   \n",
              "ptend_u_2       0.000000e+00  0.000000e+00  0.000000e+00  0.000000e+00   \n",
              "ptend_u_0       0.000000e+00  0.000000e+00  0.000000e+00  0.000000e+00   \n",
              "ptend_q0003_1   0.000000e+00  0.000000e+00  0.000000e+00  0.000000e+00   \n",
              "\n",
              "                         std          mean  \n",
              "column                                      \n",
              "ptend_q0002_12  7.798521e-41 -2.113759e-41  \n",
              "ptend_q0002_6   0.000000e+00  0.000000e+00  \n",
              "ptend_q0002_11  0.000000e+00  0.000000e+00  \n",
              "ptend_q0002_10  0.000000e+00  0.000000e+00  \n",
              "ptend_q0002_9   0.000000e+00  0.000000e+00  \n",
              "ptend_q0002_8   0.000000e+00  0.000000e+00  \n",
              "ptend_q0002_17  1.369964e-43 -3.815392e-46  \n",
              "ptend_q0002_16  1.684660e-48 -5.760587e-51  \n",
              "ptend_q0002_15  3.346434e-52 -9.342572e-55  \n",
              "ptend_q0003_10  0.000000e+00  0.000000e+00  \n",
              "ptend_q0002_13  3.425109e-46 -8.181128e-47  \n",
              "ptend_q0002_5   0.000000e+00  0.000000e+00  \n",
              "ptend_q0002_4   0.000000e+00  0.000000e+00  \n",
              "ptend_q0003_5   0.000000e+00  0.000000e+00  \n",
              "ptend_q0003_4   0.000000e+00  0.000000e+00  \n",
              "ptend_q0003_3   0.000000e+00  0.000000e+00  \n",
              "ptend_q0003_2   0.000000e+00  0.000000e+00  \n",
              "ptend_v_8       0.000000e+00  0.000000e+00  \n",
              "ptend_v_7       0.000000e+00  0.000000e+00  \n",
              "ptend_q0002_21  1.556609e-32 -4.455943e-35  \n",
              "ptend_v_4       0.000000e+00  0.000000e+00  \n",
              "ptend_q0001_8   0.000000e+00  0.000000e+00  \n",
              "ptend_q0001_7   0.000000e+00  0.000000e+00  \n",
              "ptend_q0001_6   0.000000e+00  0.000000e+00  \n",
              "ptend_q0001_5   0.000000e+00  0.000000e+00  \n",
              "ptend_q0001_4   0.000000e+00  0.000000e+00  \n",
              "ptend_u_3       0.000000e+00  0.000000e+00  \n",
              "ptend_q0002_22  1.237242e-29 -3.612371e-32  \n",
              "ptend_q0002_7   0.000000e+00  0.000000e+00  \n",
              "ptend_q0002_20  2.242467e-35 -6.421433e-38  \n",
              "ptend_q0002_19  3.425166e-38 -1.010776e-40  \n",
              "ptend_q0002_18  1.015879e-40 -3.015021e-43  \n",
              "ptend_v_6       0.000000e+00  0.000000e+00  \n",
              "ptend_v_5       0.000000e+00  0.000000e+00  \n",
              "ptend_v_0       0.000000e+00  0.000000e+00  \n",
              "ptend_v_2       0.000000e+00  0.000000e+00  \n",
              "ptend_q0002_14  2.916364e-51 -4.903518e-52  \n",
              "ptend_q0002_23  9.099126e-27 -2.869437e-29  \n",
              "ptend_q0003_6   0.000000e+00  0.000000e+00  \n",
              "ptend_u_10      0.000000e+00  0.000000e+00  \n",
              "ptend_u_1       0.000000e+00  0.000000e+00  \n",
              "ptend_q0001_10  0.000000e+00  0.000000e+00  \n",
              "ptend_q0001_9   0.000000e+00  0.000000e+00  \n",
              "ptend_q0002_26  5.051750e-14 -1.371703e-16  \n",
              "ptend_q0002_25  4.086218e-19 -1.094733e-21  \n",
              "ptend_q0002_24  1.838057e-23 -5.990927e-26  \n",
              "ptend_q0003_7   0.000000e+00  0.000000e+00  \n",
              "ptend_u_2       0.000000e+00  0.000000e+00  \n",
              "ptend_u_0       0.000000e+00  0.000000e+00  \n",
              "ptend_q0003_1   0.000000e+00  0.000000e+00  "
            ],
            "text/html": [
              "\n",
              "  <div id=\"df-3d844844-060f-4657-a1b0-746513bdad2f\" class=\"colab-df-container\">\n",
              "    <div>\n",
              "<style scoped>\n",
              "    .dataframe tbody tr th:only-of-type {\n",
              "        vertical-align: middle;\n",
              "    }\n",
              "\n",
              "    .dataframe tbody tr th {\n",
              "        vertical-align: top;\n",
              "    }\n",
              "\n",
              "    .dataframe thead th {\n",
              "        text-align: right;\n",
              "    }\n",
              "</style>\n",
              "<table border=\"1\" class=\"dataframe\">\n",
              "  <thead>\n",
              "    <tr style=\"text-align: right;\">\n",
              "      <th></th>\n",
              "      <th>max</th>\n",
              "      <th>min</th>\n",
              "      <th>q99</th>\n",
              "      <th>q01</th>\n",
              "      <th>std</th>\n",
              "      <th>mean</th>\n",
              "    </tr>\n",
              "    <tr>\n",
              "      <th>column</th>\n",
              "      <th></th>\n",
              "      <th></th>\n",
              "      <th></th>\n",
              "      <th></th>\n",
              "      <th></th>\n",
              "      <th></th>\n",
              "    </tr>\n",
              "  </thead>\n",
              "  <tbody>\n",
              "    <tr>\n",
              "      <th>ptend_q0002_12</th>\n",
              "      <td>-2.147357e-53</td>\n",
              "      <td>-2.692638e-38</td>\n",
              "      <td>-1.062446e-48</td>\n",
              "      <td>-5.291556e-39</td>\n",
              "      <td>7.798521e-41</td>\n",
              "      <td>-2.113759e-41</td>\n",
              "    </tr>\n",
              "    <tr>\n",
              "      <th>ptend_q0002_6</th>\n",
              "      <td>0.000000e+00</td>\n",
              "      <td>0.000000e+00</td>\n",
              "      <td>0.000000e+00</td>\n",
              "      <td>0.000000e+00</td>\n",
              "      <td>0.000000e+00</td>\n",
              "      <td>0.000000e+00</td>\n",
              "    </tr>\n",
              "    <tr>\n",
              "      <th>ptend_q0002_11</th>\n",
              "      <td>0.000000e+00</td>\n",
              "      <td>0.000000e+00</td>\n",
              "      <td>0.000000e+00</td>\n",
              "      <td>0.000000e+00</td>\n",
              "      <td>0.000000e+00</td>\n",
              "      <td>0.000000e+00</td>\n",
              "    </tr>\n",
              "    <tr>\n",
              "      <th>ptend_q0002_10</th>\n",
              "      <td>0.000000e+00</td>\n",
              "      <td>0.000000e+00</td>\n",
              "      <td>0.000000e+00</td>\n",
              "      <td>0.000000e+00</td>\n",
              "      <td>0.000000e+00</td>\n",
              "      <td>0.000000e+00</td>\n",
              "    </tr>\n",
              "    <tr>\n",
              "      <th>ptend_q0002_9</th>\n",
              "      <td>0.000000e+00</td>\n",
              "      <td>0.000000e+00</td>\n",
              "      <td>0.000000e+00</td>\n",
              "      <td>0.000000e+00</td>\n",
              "      <td>0.000000e+00</td>\n",
              "      <td>0.000000e+00</td>\n",
              "    </tr>\n",
              "    <tr>\n",
              "      <th>ptend_q0002_8</th>\n",
              "      <td>0.000000e+00</td>\n",
              "      <td>0.000000e+00</td>\n",
              "      <td>0.000000e+00</td>\n",
              "      <td>0.000000e+00</td>\n",
              "      <td>0.000000e+00</td>\n",
              "      <td>0.000000e+00</td>\n",
              "    </tr>\n",
              "    <tr>\n",
              "      <th>ptend_q0002_17</th>\n",
              "      <td>0.000000e+00</td>\n",
              "      <td>-1.394760e-39</td>\n",
              "      <td>0.000000e+00</td>\n",
              "      <td>-5.596019e-56</td>\n",
              "      <td>1.369964e-43</td>\n",
              "      <td>-3.815392e-46</td>\n",
              "    </tr>\n",
              "    <tr>\n",
              "      <th>ptend_q0002_16</th>\n",
              "      <td>0.000000e+00</td>\n",
              "      <td>-1.959202e-44</td>\n",
              "      <td>0.000000e+00</td>\n",
              "      <td>0.000000e+00</td>\n",
              "      <td>1.684660e-48</td>\n",
              "      <td>-5.760587e-51</td>\n",
              "    </tr>\n",
              "    <tr>\n",
              "      <th>ptend_q0002_15</th>\n",
              "      <td>0.000000e+00</td>\n",
              "      <td>-6.381237e-48</td>\n",
              "      <td>0.000000e+00</td>\n",
              "      <td>0.000000e+00</td>\n",
              "      <td>3.346434e-52</td>\n",
              "      <td>-9.342572e-55</td>\n",
              "    </tr>\n",
              "    <tr>\n",
              "      <th>ptend_q0003_10</th>\n",
              "      <td>0.000000e+00</td>\n",
              "      <td>0.000000e+00</td>\n",
              "      <td>0.000000e+00</td>\n",
              "      <td>0.000000e+00</td>\n",
              "      <td>0.000000e+00</td>\n",
              "      <td>0.000000e+00</td>\n",
              "    </tr>\n",
              "    <tr>\n",
              "      <th>ptend_q0002_13</th>\n",
              "      <td>0.000000e+00</td>\n",
              "      <td>-1.804728e-43</td>\n",
              "      <td>0.000000e+00</td>\n",
              "      <td>-2.420974e-44</td>\n",
              "      <td>3.425109e-46</td>\n",
              "      <td>-8.181128e-47</td>\n",
              "    </tr>\n",
              "    <tr>\n",
              "      <th>ptend_q0002_5</th>\n",
              "      <td>0.000000e+00</td>\n",
              "      <td>0.000000e+00</td>\n",
              "      <td>0.000000e+00</td>\n",
              "      <td>0.000000e+00</td>\n",
              "      <td>0.000000e+00</td>\n",
              "      <td>0.000000e+00</td>\n",
              "    </tr>\n",
              "    <tr>\n",
              "      <th>ptend_q0002_4</th>\n",
              "      <td>0.000000e+00</td>\n",
              "      <td>0.000000e+00</td>\n",
              "      <td>0.000000e+00</td>\n",
              "      <td>0.000000e+00</td>\n",
              "      <td>0.000000e+00</td>\n",
              "      <td>0.000000e+00</td>\n",
              "    </tr>\n",
              "    <tr>\n",
              "      <th>ptend_q0003_5</th>\n",
              "      <td>0.000000e+00</td>\n",
              "      <td>0.000000e+00</td>\n",
              "      <td>0.000000e+00</td>\n",
              "      <td>0.000000e+00</td>\n",
              "      <td>0.000000e+00</td>\n",
              "      <td>0.000000e+00</td>\n",
              "    </tr>\n",
              "    <tr>\n",
              "      <th>ptend_q0003_4</th>\n",
              "      <td>0.000000e+00</td>\n",
              "      <td>0.000000e+00</td>\n",
              "      <td>0.000000e+00</td>\n",
              "      <td>0.000000e+00</td>\n",
              "      <td>0.000000e+00</td>\n",
              "      <td>0.000000e+00</td>\n",
              "    </tr>\n",
              "    <tr>\n",
              "      <th>ptend_q0003_3</th>\n",
              "      <td>0.000000e+00</td>\n",
              "      <td>0.000000e+00</td>\n",
              "      <td>0.000000e+00</td>\n",
              "      <td>0.000000e+00</td>\n",
              "      <td>0.000000e+00</td>\n",
              "      <td>0.000000e+00</td>\n",
              "    </tr>\n",
              "    <tr>\n",
              "      <th>ptend_q0003_2</th>\n",
              "      <td>0.000000e+00</td>\n",
              "      <td>0.000000e+00</td>\n",
              "      <td>0.000000e+00</td>\n",
              "      <td>0.000000e+00</td>\n",
              "      <td>0.000000e+00</td>\n",
              "      <td>0.000000e+00</td>\n",
              "    </tr>\n",
              "    <tr>\n",
              "      <th>ptend_v_8</th>\n",
              "      <td>0.000000e+00</td>\n",
              "      <td>0.000000e+00</td>\n",
              "      <td>0.000000e+00</td>\n",
              "      <td>0.000000e+00</td>\n",
              "      <td>0.000000e+00</td>\n",
              "      <td>0.000000e+00</td>\n",
              "    </tr>\n",
              "    <tr>\n",
              "      <th>ptend_v_7</th>\n",
              "      <td>0.000000e+00</td>\n",
              "      <td>0.000000e+00</td>\n",
              "      <td>0.000000e+00</td>\n",
              "      <td>0.000000e+00</td>\n",
              "      <td>0.000000e+00</td>\n",
              "      <td>0.000000e+00</td>\n",
              "    </tr>\n",
              "    <tr>\n",
              "      <th>ptend_q0002_21</th>\n",
              "      <td>0.000000e+00</td>\n",
              "      <td>-1.175655e-28</td>\n",
              "      <td>0.000000e+00</td>\n",
              "      <td>-4.181319e-41</td>\n",
              "      <td>1.556609e-32</td>\n",
              "      <td>-4.455943e-35</td>\n",
              "    </tr>\n",
              "    <tr>\n",
              "      <th>ptend_v_4</th>\n",
              "      <td>0.000000e+00</td>\n",
              "      <td>0.000000e+00</td>\n",
              "      <td>0.000000e+00</td>\n",
              "      <td>0.000000e+00</td>\n",
              "      <td>0.000000e+00</td>\n",
              "      <td>0.000000e+00</td>\n",
              "    </tr>\n",
              "    <tr>\n",
              "      <th>ptend_q0001_8</th>\n",
              "      <td>0.000000e+00</td>\n",
              "      <td>0.000000e+00</td>\n",
              "      <td>0.000000e+00</td>\n",
              "      <td>0.000000e+00</td>\n",
              "      <td>0.000000e+00</td>\n",
              "      <td>0.000000e+00</td>\n",
              "    </tr>\n",
              "    <tr>\n",
              "      <th>ptend_q0001_7</th>\n",
              "      <td>0.000000e+00</td>\n",
              "      <td>0.000000e+00</td>\n",
              "      <td>0.000000e+00</td>\n",
              "      <td>0.000000e+00</td>\n",
              "      <td>0.000000e+00</td>\n",
              "      <td>0.000000e+00</td>\n",
              "    </tr>\n",
              "    <tr>\n",
              "      <th>ptend_q0001_6</th>\n",
              "      <td>0.000000e+00</td>\n",
              "      <td>0.000000e+00</td>\n",
              "      <td>0.000000e+00</td>\n",
              "      <td>0.000000e+00</td>\n",
              "      <td>0.000000e+00</td>\n",
              "      <td>0.000000e+00</td>\n",
              "    </tr>\n",
              "    <tr>\n",
              "      <th>ptend_q0001_5</th>\n",
              "      <td>0.000000e+00</td>\n",
              "      <td>0.000000e+00</td>\n",
              "      <td>0.000000e+00</td>\n",
              "      <td>0.000000e+00</td>\n",
              "      <td>0.000000e+00</td>\n",
              "      <td>0.000000e+00</td>\n",
              "    </tr>\n",
              "    <tr>\n",
              "      <th>ptend_q0001_4</th>\n",
              "      <td>0.000000e+00</td>\n",
              "      <td>0.000000e+00</td>\n",
              "      <td>0.000000e+00</td>\n",
              "      <td>0.000000e+00</td>\n",
              "      <td>0.000000e+00</td>\n",
              "      <td>0.000000e+00</td>\n",
              "    </tr>\n",
              "    <tr>\n",
              "      <th>ptend_u_3</th>\n",
              "      <td>0.000000e+00</td>\n",
              "      <td>0.000000e+00</td>\n",
              "      <td>0.000000e+00</td>\n",
              "      <td>0.000000e+00</td>\n",
              "      <td>0.000000e+00</td>\n",
              "      <td>0.000000e+00</td>\n",
              "    </tr>\n",
              "    <tr>\n",
              "      <th>ptend_q0002_22</th>\n",
              "      <td>0.000000e+00</td>\n",
              "      <td>-9.266323e-26</td>\n",
              "      <td>0.000000e+00</td>\n",
              "      <td>-5.449216e-37</td>\n",
              "      <td>1.237242e-29</td>\n",
              "      <td>-3.612371e-32</td>\n",
              "    </tr>\n",
              "    <tr>\n",
              "      <th>ptend_q0002_7</th>\n",
              "      <td>0.000000e+00</td>\n",
              "      <td>0.000000e+00</td>\n",
              "      <td>0.000000e+00</td>\n",
              "      <td>0.000000e+00</td>\n",
              "      <td>0.000000e+00</td>\n",
              "      <td>0.000000e+00</td>\n",
              "    </tr>\n",
              "    <tr>\n",
              "      <th>ptend_q0002_20</th>\n",
              "      <td>0.000000e+00</td>\n",
              "      <td>-1.609746e-31</td>\n",
              "      <td>0.000000e+00</td>\n",
              "      <td>-6.470036e-45</td>\n",
              "      <td>2.242467e-35</td>\n",
              "      <td>-6.421433e-38</td>\n",
              "    </tr>\n",
              "    <tr>\n",
              "      <th>ptend_q0002_19</th>\n",
              "      <td>0.000000e+00</td>\n",
              "      <td>-1.936263e-34</td>\n",
              "      <td>0.000000e+00</td>\n",
              "      <td>-2.370127e-48</td>\n",
              "      <td>3.425166e-38</td>\n",
              "      <td>-1.010776e-40</td>\n",
              "    </tr>\n",
              "    <tr>\n",
              "      <th>ptend_q0002_18</th>\n",
              "      <td>0.000000e+00</td>\n",
              "      <td>-8.142601e-37</td>\n",
              "      <td>0.000000e+00</td>\n",
              "      <td>-1.178305e-51</td>\n",
              "      <td>1.015879e-40</td>\n",
              "      <td>-3.015021e-43</td>\n",
              "    </tr>\n",
              "    <tr>\n",
              "      <th>ptend_v_6</th>\n",
              "      <td>0.000000e+00</td>\n",
              "      <td>0.000000e+00</td>\n",
              "      <td>0.000000e+00</td>\n",
              "      <td>0.000000e+00</td>\n",
              "      <td>0.000000e+00</td>\n",
              "      <td>0.000000e+00</td>\n",
              "    </tr>\n",
              "    <tr>\n",
              "      <th>ptend_v_5</th>\n",
              "      <td>0.000000e+00</td>\n",
              "      <td>0.000000e+00</td>\n",
              "      <td>0.000000e+00</td>\n",
              "      <td>0.000000e+00</td>\n",
              "      <td>0.000000e+00</td>\n",
              "      <td>0.000000e+00</td>\n",
              "    </tr>\n",
              "    <tr>\n",
              "      <th>ptend_v_0</th>\n",
              "      <td>0.000000e+00</td>\n",
              "      <td>0.000000e+00</td>\n",
              "      <td>0.000000e+00</td>\n",
              "      <td>0.000000e+00</td>\n",
              "      <td>0.000000e+00</td>\n",
              "      <td>0.000000e+00</td>\n",
              "    </tr>\n",
              "    <tr>\n",
              "      <th>ptend_v_2</th>\n",
              "      <td>0.000000e+00</td>\n",
              "      <td>0.000000e+00</td>\n",
              "      <td>0.000000e+00</td>\n",
              "      <td>0.000000e+00</td>\n",
              "      <td>0.000000e+00</td>\n",
              "      <td>0.000000e+00</td>\n",
              "    </tr>\n",
              "    <tr>\n",
              "      <th>ptend_q0002_14</th>\n",
              "      <td>0.000000e+00</td>\n",
              "      <td>-3.456842e-48</td>\n",
              "      <td>0.000000e+00</td>\n",
              "      <td>-1.655425e-49</td>\n",
              "      <td>2.916364e-51</td>\n",
              "      <td>-4.903518e-52</td>\n",
              "    </tr>\n",
              "    <tr>\n",
              "      <th>ptend_q0002_23</th>\n",
              "      <td>0.000000e+00</td>\n",
              "      <td>-6.226475e-23</td>\n",
              "      <td>0.000000e+00</td>\n",
              "      <td>-1.590246e-32</td>\n",
              "      <td>9.099126e-27</td>\n",
              "      <td>-2.869437e-29</td>\n",
              "    </tr>\n",
              "    <tr>\n",
              "      <th>ptend_q0003_6</th>\n",
              "      <td>0.000000e+00</td>\n",
              "      <td>0.000000e+00</td>\n",
              "      <td>0.000000e+00</td>\n",
              "      <td>0.000000e+00</td>\n",
              "      <td>0.000000e+00</td>\n",
              "      <td>0.000000e+00</td>\n",
              "    </tr>\n",
              "    <tr>\n",
              "      <th>ptend_u_10</th>\n",
              "      <td>0.000000e+00</td>\n",
              "      <td>0.000000e+00</td>\n",
              "      <td>0.000000e+00</td>\n",
              "      <td>0.000000e+00</td>\n",
              "      <td>0.000000e+00</td>\n",
              "      <td>0.000000e+00</td>\n",
              "    </tr>\n",
              "    <tr>\n",
              "      <th>ptend_u_1</th>\n",
              "      <td>0.000000e+00</td>\n",
              "      <td>0.000000e+00</td>\n",
              "      <td>0.000000e+00</td>\n",
              "      <td>0.000000e+00</td>\n",
              "      <td>0.000000e+00</td>\n",
              "      <td>0.000000e+00</td>\n",
              "    </tr>\n",
              "    <tr>\n",
              "      <th>ptend_q0001_10</th>\n",
              "      <td>0.000000e+00</td>\n",
              "      <td>0.000000e+00</td>\n",
              "      <td>0.000000e+00</td>\n",
              "      <td>0.000000e+00</td>\n",
              "      <td>0.000000e+00</td>\n",
              "      <td>0.000000e+00</td>\n",
              "    </tr>\n",
              "    <tr>\n",
              "      <th>ptend_q0001_9</th>\n",
              "      <td>0.000000e+00</td>\n",
              "      <td>0.000000e+00</td>\n",
              "      <td>0.000000e+00</td>\n",
              "      <td>0.000000e+00</td>\n",
              "      <td>0.000000e+00</td>\n",
              "      <td>0.000000e+00</td>\n",
              "    </tr>\n",
              "    <tr>\n",
              "      <th>ptend_q0002_26</th>\n",
              "      <td>0.000000e+00</td>\n",
              "      <td>-8.310832e-10</td>\n",
              "      <td>0.000000e+00</td>\n",
              "      <td>-5.580364e-19</td>\n",
              "      <td>5.051750e-14</td>\n",
              "      <td>-1.371703e-16</td>\n",
              "    </tr>\n",
              "    <tr>\n",
              "      <th>ptend_q0002_25</th>\n",
              "      <td>0.000000e+00</td>\n",
              "      <td>-6.104450e-15</td>\n",
              "      <td>0.000000e+00</td>\n",
              "      <td>-1.880314e-23</td>\n",
              "      <td>4.086218e-19</td>\n",
              "      <td>-1.094733e-21</td>\n",
              "    </tr>\n",
              "    <tr>\n",
              "      <th>ptend_q0002_24</th>\n",
              "      <td>0.000000e+00</td>\n",
              "      <td>-1.750640e-19</td>\n",
              "      <td>0.000000e+00</td>\n",
              "      <td>-5.781198e-28</td>\n",
              "      <td>1.838057e-23</td>\n",
              "      <td>-5.990927e-26</td>\n",
              "    </tr>\n",
              "    <tr>\n",
              "      <th>ptend_q0003_7</th>\n",
              "      <td>0.000000e+00</td>\n",
              "      <td>0.000000e+00</td>\n",
              "      <td>0.000000e+00</td>\n",
              "      <td>0.000000e+00</td>\n",
              "      <td>0.000000e+00</td>\n",
              "      <td>0.000000e+00</td>\n",
              "    </tr>\n",
              "    <tr>\n",
              "      <th>ptend_u_2</th>\n",
              "      <td>0.000000e+00</td>\n",
              "      <td>0.000000e+00</td>\n",
              "      <td>0.000000e+00</td>\n",
              "      <td>0.000000e+00</td>\n",
              "      <td>0.000000e+00</td>\n",
              "      <td>0.000000e+00</td>\n",
              "    </tr>\n",
              "    <tr>\n",
              "      <th>ptend_u_0</th>\n",
              "      <td>0.000000e+00</td>\n",
              "      <td>0.000000e+00</td>\n",
              "      <td>0.000000e+00</td>\n",
              "      <td>0.000000e+00</td>\n",
              "      <td>0.000000e+00</td>\n",
              "      <td>0.000000e+00</td>\n",
              "    </tr>\n",
              "    <tr>\n",
              "      <th>ptend_q0003_1</th>\n",
              "      <td>0.000000e+00</td>\n",
              "      <td>0.000000e+00</td>\n",
              "      <td>0.000000e+00</td>\n",
              "      <td>0.000000e+00</td>\n",
              "      <td>0.000000e+00</td>\n",
              "      <td>0.000000e+00</td>\n",
              "    </tr>\n",
              "  </tbody>\n",
              "</table>\n",
              "</div>\n",
              "    <div class=\"colab-df-buttons\">\n",
              "\n",
              "  <div class=\"colab-df-container\">\n",
              "    <button class=\"colab-df-convert\" onclick=\"convertToInteractive('df-3d844844-060f-4657-a1b0-746513bdad2f')\"\n",
              "            title=\"Convert this dataframe to an interactive table.\"\n",
              "            style=\"display:none;\">\n",
              "\n",
              "  <svg xmlns=\"http://www.w3.org/2000/svg\" height=\"24px\" viewBox=\"0 -960 960 960\">\n",
              "    <path d=\"M120-120v-720h720v720H120Zm60-500h600v-160H180v160Zm220 220h160v-160H400v160Zm0 220h160v-160H400v160ZM180-400h160v-160H180v160Zm440 0h160v-160H620v160ZM180-180h160v-160H180v160Zm440 0h160v-160H620v160Z\"/>\n",
              "  </svg>\n",
              "    </button>\n",
              "\n",
              "  <style>\n",
              "    .colab-df-container {\n",
              "      display:flex;\n",
              "      gap: 12px;\n",
              "    }\n",
              "\n",
              "    .colab-df-convert {\n",
              "      background-color: #E8F0FE;\n",
              "      border: none;\n",
              "      border-radius: 50%;\n",
              "      cursor: pointer;\n",
              "      display: none;\n",
              "      fill: #1967D2;\n",
              "      height: 32px;\n",
              "      padding: 0 0 0 0;\n",
              "      width: 32px;\n",
              "    }\n",
              "\n",
              "    .colab-df-convert:hover {\n",
              "      background-color: #E2EBFA;\n",
              "      box-shadow: 0px 1px 2px rgba(60, 64, 67, 0.3), 0px 1px 3px 1px rgba(60, 64, 67, 0.15);\n",
              "      fill: #174EA6;\n",
              "    }\n",
              "\n",
              "    .colab-df-buttons div {\n",
              "      margin-bottom: 4px;\n",
              "    }\n",
              "\n",
              "    [theme=dark] .colab-df-convert {\n",
              "      background-color: #3B4455;\n",
              "      fill: #D2E3FC;\n",
              "    }\n",
              "\n",
              "    [theme=dark] .colab-df-convert:hover {\n",
              "      background-color: #434B5C;\n",
              "      box-shadow: 0px 1px 3px 1px rgba(0, 0, 0, 0.15);\n",
              "      filter: drop-shadow(0px 1px 2px rgba(0, 0, 0, 0.3));\n",
              "      fill: #FFFFFF;\n",
              "    }\n",
              "  </style>\n",
              "\n",
              "    <script>\n",
              "      const buttonEl =\n",
              "        document.querySelector('#df-3d844844-060f-4657-a1b0-746513bdad2f button.colab-df-convert');\n",
              "      buttonEl.style.display =\n",
              "        google.colab.kernel.accessAllowed ? 'block' : 'none';\n",
              "\n",
              "      async function convertToInteractive(key) {\n",
              "        const element = document.querySelector('#df-3d844844-060f-4657-a1b0-746513bdad2f');\n",
              "        const dataTable =\n",
              "          await google.colab.kernel.invokeFunction('convertToInteractive',\n",
              "                                                    [key], {});\n",
              "        if (!dataTable) return;\n",
              "\n",
              "        const docLinkHtml = 'Like what you see? Visit the ' +\n",
              "          '<a target=\"_blank\" href=https://colab.research.google.com/notebooks/data_table.ipynb>data table notebook</a>'\n",
              "          + ' to learn more about interactive tables.';\n",
              "        element.innerHTML = '';\n",
              "        dataTable['output_type'] = 'display_data';\n",
              "        await google.colab.output.renderOutput(dataTable, element);\n",
              "        const docLink = document.createElement('div');\n",
              "        docLink.innerHTML = docLinkHtml;\n",
              "        element.appendChild(docLink);\n",
              "      }\n",
              "    </script>\n",
              "  </div>\n",
              "\n",
              "\n",
              "<div id=\"df-04c915f8-f6eb-4a54-acf3-1a213cf31aef\">\n",
              "  <button class=\"colab-df-quickchart\" onclick=\"quickchart('df-04c915f8-f6eb-4a54-acf3-1a213cf31aef')\"\n",
              "            title=\"Suggest charts\"\n",
              "            style=\"display:none;\">\n",
              "\n",
              "<svg xmlns=\"http://www.w3.org/2000/svg\" height=\"24px\"viewBox=\"0 0 24 24\"\n",
              "     width=\"24px\">\n",
              "    <g>\n",
              "        <path d=\"M19 3H5c-1.1 0-2 .9-2 2v14c0 1.1.9 2 2 2h14c1.1 0 2-.9 2-2V5c0-1.1-.9-2-2-2zM9 17H7v-7h2v7zm4 0h-2V7h2v10zm4 0h-2v-4h2v4z\"/>\n",
              "    </g>\n",
              "</svg>\n",
              "  </button>\n",
              "\n",
              "<style>\n",
              "  .colab-df-quickchart {\n",
              "      --bg-color: #E8F0FE;\n",
              "      --fill-color: #1967D2;\n",
              "      --hover-bg-color: #E2EBFA;\n",
              "      --hover-fill-color: #174EA6;\n",
              "      --disabled-fill-color: #AAA;\n",
              "      --disabled-bg-color: #DDD;\n",
              "  }\n",
              "\n",
              "  [theme=dark] .colab-df-quickchart {\n",
              "      --bg-color: #3B4455;\n",
              "      --fill-color: #D2E3FC;\n",
              "      --hover-bg-color: #434B5C;\n",
              "      --hover-fill-color: #FFFFFF;\n",
              "      --disabled-bg-color: #3B4455;\n",
              "      --disabled-fill-color: #666;\n",
              "  }\n",
              "\n",
              "  .colab-df-quickchart {\n",
              "    background-color: var(--bg-color);\n",
              "    border: none;\n",
              "    border-radius: 50%;\n",
              "    cursor: pointer;\n",
              "    display: none;\n",
              "    fill: var(--fill-color);\n",
              "    height: 32px;\n",
              "    padding: 0;\n",
              "    width: 32px;\n",
              "  }\n",
              "\n",
              "  .colab-df-quickchart:hover {\n",
              "    background-color: var(--hover-bg-color);\n",
              "    box-shadow: 0 1px 2px rgba(60, 64, 67, 0.3), 0 1px 3px 1px rgba(60, 64, 67, 0.15);\n",
              "    fill: var(--button-hover-fill-color);\n",
              "  }\n",
              "\n",
              "  .colab-df-quickchart-complete:disabled,\n",
              "  .colab-df-quickchart-complete:disabled:hover {\n",
              "    background-color: var(--disabled-bg-color);\n",
              "    fill: var(--disabled-fill-color);\n",
              "    box-shadow: none;\n",
              "  }\n",
              "\n",
              "  .colab-df-spinner {\n",
              "    border: 2px solid var(--fill-color);\n",
              "    border-color: transparent;\n",
              "    border-bottom-color: var(--fill-color);\n",
              "    animation:\n",
              "      spin 1s steps(1) infinite;\n",
              "  }\n",
              "\n",
              "  @keyframes spin {\n",
              "    0% {\n",
              "      border-color: transparent;\n",
              "      border-bottom-color: var(--fill-color);\n",
              "      border-left-color: var(--fill-color);\n",
              "    }\n",
              "    20% {\n",
              "      border-color: transparent;\n",
              "      border-left-color: var(--fill-color);\n",
              "      border-top-color: var(--fill-color);\n",
              "    }\n",
              "    30% {\n",
              "      border-color: transparent;\n",
              "      border-left-color: var(--fill-color);\n",
              "      border-top-color: var(--fill-color);\n",
              "      border-right-color: var(--fill-color);\n",
              "    }\n",
              "    40% {\n",
              "      border-color: transparent;\n",
              "      border-right-color: var(--fill-color);\n",
              "      border-top-color: var(--fill-color);\n",
              "    }\n",
              "    60% {\n",
              "      border-color: transparent;\n",
              "      border-right-color: var(--fill-color);\n",
              "    }\n",
              "    80% {\n",
              "      border-color: transparent;\n",
              "      border-right-color: var(--fill-color);\n",
              "      border-bottom-color: var(--fill-color);\n",
              "    }\n",
              "    90% {\n",
              "      border-color: transparent;\n",
              "      border-bottom-color: var(--fill-color);\n",
              "    }\n",
              "  }\n",
              "</style>\n",
              "\n",
              "  <script>\n",
              "    async function quickchart(key) {\n",
              "      const quickchartButtonEl =\n",
              "        document.querySelector('#' + key + ' button');\n",
              "      quickchartButtonEl.disabled = true;  // To prevent multiple clicks.\n",
              "      quickchartButtonEl.classList.add('colab-df-spinner');\n",
              "      try {\n",
              "        const charts = await google.colab.kernel.invokeFunction(\n",
              "            'suggestCharts', [key], {});\n",
              "      } catch (error) {\n",
              "        console.error('Error during call to suggestCharts:', error);\n",
              "      }\n",
              "      quickchartButtonEl.classList.remove('colab-df-spinner');\n",
              "      quickchartButtonEl.classList.add('colab-df-quickchart-complete');\n",
              "    }\n",
              "    (() => {\n",
              "      let quickchartButtonEl =\n",
              "        document.querySelector('#df-04c915f8-f6eb-4a54-acf3-1a213cf31aef button');\n",
              "      quickchartButtonEl.style.display =\n",
              "        google.colab.kernel.accessAllowed ? 'block' : 'none';\n",
              "    })();\n",
              "  </script>\n",
              "</div>\n",
              "\n",
              "    </div>\n",
              "  </div>\n"
            ],
            "application/vnd.google.colaboratory.intrinsic+json": {
              "type": "dataframe",
              "summary": "{\n  \"name\": \"df_limits\",\n  \"rows\": 50,\n  \"fields\": [\n    {\n      \"column\": \"column\",\n      \"properties\": {\n        \"dtype\": \"string\",\n        \"num_unique_values\": 50,\n        \"samples\": [\n          \"ptend_q0003_5\",\n          \"ptend_u_10\",\n          \"ptend_q0002_19\"\n        ],\n        \"semantic_type\": \"\",\n        \"description\": \"\"\n      }\n    },\n    {\n      \"column\": \"max\",\n      \"properties\": {\n        \"dtype\": \"number\",\n        \"std\": 3.036821291900122e-54,\n        \"min\": -2.147356928754268e-53,\n        \"max\": 0.0,\n        \"num_unique_values\": 2,\n        \"samples\": [\n          0.0,\n          -2.147356928754268e-53\n        ],\n        \"semantic_type\": \"\",\n        \"description\": \"\"\n      }\n    },\n    {\n      \"column\": \"min\",\n      \"properties\": {\n        \"dtype\": \"number\",\n        \"std\": 1.1753289086409885e-10,\n        \"min\": -8.310831659863998e-10,\n        \"max\": 0.0,\n        \"num_unique_values\": 16,\n        \"samples\": [\n          -2.692638476909033e-38,\n          0.0\n        ],\n        \"semantic_type\": \"\",\n        \"description\": \"\"\n      }\n    },\n    {\n      \"column\": \"q99\",\n      \"properties\": {\n        \"dtype\": \"number\",\n        \"std\": 1.5025257345770448e-49,\n        \"min\": -1.0624461358267272e-48,\n        \"max\": 0.0,\n        \"num_unique_values\": 2,\n        \"samples\": [\n          0.0,\n          -1.0624461358267272e-48\n        ],\n        \"semantic_type\": \"\",\n        \"description\": \"\"\n      }\n    },\n    {\n      \"column\": \"q01\",\n      \"properties\": {\n        \"dtype\": \"number\",\n        \"std\": 7.891820574421859e-20,\n        \"min\": -5.580363678408937e-19,\n        \"max\": 0.0,\n        \"num_unique_values\": 14,\n        \"samples\": [\n          -1.6554245287071471e-49,\n          -5.580363678408937e-19\n        ],\n        \"semantic_type\": \"\",\n        \"description\": \"\"\n      }\n    },\n    {\n      \"column\": \"std\",\n      \"properties\": {\n        \"dtype\": \"number\",\n        \"std\": 7.14425246123842e-15,\n        \"min\": 0.0,\n        \"max\": 5.0517501956446924e-14,\n        \"num_unique_values\": 16,\n        \"samples\": [\n          7.798521270413115e-41,\n          0.0\n        ],\n        \"semantic_type\": \"\",\n        \"description\": \"\"\n      }\n    },\n    {\n      \"column\": \"mean\",\n      \"properties\": {\n        \"dtype\": \"number\",\n        \"std\": 1.939880249615283e-17,\n        \"min\": -1.3717027025762772e-16,\n        \"max\": 0.0,\n        \"num_unique_values\": 16,\n        \"samples\": [\n          -2.1137591979281304e-41,\n          0.0\n        ],\n        \"semantic_type\": \"\",\n        \"description\": \"\"\n      }\n    }\n  ]\n}"
            }
          },
          "metadata": {},
          "execution_count": 8
        }
      ]
    },
    {
      "cell_type": "code",
      "source": [
        "import sys\n",
        "sys.version"
      ],
      "metadata": {
        "colab": {
          "base_uri": "https://localhost:8080/",
          "height": 36
        },
        "id": "xhFgpGs_Rm9b",
        "outputId": "41fcf7d5-c379-4b4c-ce08-b01e5dd5faf2"
      },
      "execution_count": 9,
      "outputs": [
        {
          "output_type": "execute_result",
          "data": {
            "text/plain": [
              "'3.10.12 (main, Nov 20 2023, 15:14:05) [GCC 11.4.0]'"
            ],
            "application/vnd.google.colaboratory.intrinsic+json": {
              "type": "string"
            }
          },
          "metadata": {},
          "execution_count": 9
        }
      ]
    },
    {
      "cell_type": "code",
      "source": [
        "df_limits[[\"std\",\"std\"]].values"
      ],
      "metadata": {
        "colab": {
          "base_uri": "https://localhost:8080/"
        },
        "id": "j6_5NMed9V5M",
        "outputId": "eac3fbec-2f70-43cf-fbce-fcafca725d8c"
      },
      "execution_count": 10,
      "outputs": [
        {
          "output_type": "execute_result",
          "data": {
            "text/plain": [
              "array([[  5.97902046,   5.97902046],\n",
              "       [  8.15894896,   8.15894896],\n",
              "       [  7.96972228,   7.96972228],\n",
              "       ...,\n",
              "       [116.33490848, 116.33490848],\n",
              "       [ 46.37734006,  46.37734006],\n",
              "       [ 29.67401422,  29.67401422]])"
            ]
          },
          "metadata": {},
          "execution_count": 10
        }
      ]
    },
    {
      "cell_type": "code",
      "execution_count": 11,
      "metadata": {
        "id": "rIuLXqFyBJD-"
      },
      "outputs": [],
      "source": [
        "SEED = 42\n",
        "keras.utils.set_random_seed(SEED)\n",
        "tf.random.set_seed(SEED)\n",
        "tf.config.experimental.enable_op_determinism()"
      ]
    },
    {
      "cell_type": "code",
      "execution_count": 12,
      "metadata": {
        "id": "W0aCIYMfBJD-"
      },
      "outputs": [],
      "source": [
        "\n",
        "DATA_TFREC = \"drive/MyDrive/dataleap_tensors\""
      ]
    },
    {
      "cell_type": "code",
      "source": [],
      "metadata": {
        "id": "t-fbvuSU1Ijg"
      },
      "execution_count": 12,
      "outputs": []
    },
    {
      "cell_type": "code",
      "source": [],
      "metadata": {
        "collapsed": true,
        "id": "IR6-2ZynC2xp"
      },
      "execution_count": 12,
      "outputs": []
    },
    {
      "cell_type": "code",
      "source": [
        "#project_id = 'midyear-data-392210'\n",
        "#!gcloud config set project {project_id}"
      ],
      "metadata": {
        "id": "cBqTEMRviwgj"
      },
      "execution_count": 13,
      "outputs": []
    },
    {
      "cell_type": "code",
      "source": [
        "f__ = [e for e in df_limits.index]"
      ],
      "metadata": {
        "id": "ourf55sp5r_Z"
      },
      "execution_count": 14,
      "outputs": []
    },
    {
      "cell_type": "code",
      "source": [
        "#from google.cloud import storage\n",
        "#bucket_name=\"dataleap_tensors\"\n",
        "\n",
        "\n",
        "\n",
        "\n",
        "#storage_client = storage.Client(project= 'midyear-data-392210')\n",
        "#blobs = storage_client.list_blobs(bucket_name)\n",
        "#files=  [b. name for b in blobs]"
      ],
      "metadata": {
        "id": "tdu7axNlilDH"
      },
      "execution_count": 15,
      "outputs": []
    },
    {
      "cell_type": "code",
      "source": [
        "import glob\n",
        "files= glob.glob(\"/content/drive/MyDrive/dataleap_tensors/*\")"
      ],
      "metadata": {
        "id": "7GCPPTDyi3wS"
      },
      "execution_count": 16,
      "outputs": []
    },
    {
      "cell_type": "code",
      "source": [
        "len(files), files[0]"
      ],
      "metadata": {
        "colab": {
          "base_uri": "https://localhost:8080/"
        },
        "id": "z8rRM_LFi_db",
        "outputId": "aa1c2f5c-2dc1-4a91-8978-b2fa1c63ecc4"
      },
      "execution_count": 17,
      "outputs": [
        {
          "output_type": "execute_result",
          "data": {
            "text/plain": [
              "(351,\n",
              " '/content/drive/MyDrive/dataleap_tensors/record_E3SM-MMF.mli.0001-02-08-19200.tfrec')"
            ]
          },
          "metadata": {},
          "execution_count": 17
        }
      ]
    },
    {
      "cell_type": "code",
      "source": [
        "BATCH_SIZE = 1024*4"
      ],
      "metadata": {
        "id": "CQYj3ogKIm6w"
      },
      "execution_count": 18,
      "outputs": []
    },
    {
      "cell_type": "code",
      "source": [
        "DATA_TFREC_LOCAL= \"leap-train-tfrecords\""
      ],
      "metadata": {
        "id": "fIDNEedLZwTb"
      },
      "execution_count": 19,
      "outputs": []
    },
    {
      "cell_type": "code",
      "source": [
        "import tensorflow as tf\n",
        "import os\n",
        "\n",
        "# Define the GCS path to your TFRecord files\n",
        "DATA_TFREC = \"\"\n",
        "\n",
        "\n",
        "\n",
        "train_files = [os.path.join(DATA_TFREC, file) for i,file in enumerate(files) if i not in [10,30,50,70]]\n",
        "#valid_files = [os.path.join(DATA_TFREC, file) for i,file in enumerate(files) if i    in [10,30,50,70]]\n",
        "\n",
        "valid_files = [os.path.join(DATA_TFREC_LOCAL, \"train_%.3d.tfrec\" % i) for i  in [10,30,50,70]]\n",
        "\n",
        "\n",
        "# Function to parse a single example from the TFRecord file\n",
        "#TFRecords boilerplate\n",
        "def _bytes_feature(value):\n",
        "    \"\"\"Returns a bytes_list from a string / byte.\"\"\"\n",
        "    if isinstance(value, type(tf.constant(0))):\n",
        "        value = value.numpy() # BytesList won't unpack a string from an EagerTensor.\n",
        "    return tf.train.Feature(bytes_list=tf.train.BytesList(value=[value]))\n",
        "\n",
        "def _float_feature(value):\n",
        "    \"\"\"Returns a float_list from a float / double.\"\"\"\n",
        "    return tf.train.Feature(float_list=tf.train.FloatList(value=[np.float32(value)]))\n",
        "\n",
        "def _int64_feature(value):\n",
        "    \"\"\"Returns an int64_list from a bool / enum / int / uint.\"\"\"\n",
        "    return tf.train.Feature(int64_list=tf.train.Int64List(value=[value]))\n",
        "\n",
        "def serialize_example(feats):\n",
        "    \"\"\"\n",
        "    Creates a tf.train.Example message ready to be written to a file.\n",
        "    \"\"\"\n",
        "    # Create a dictionary mapping the feature name to the tf.train.Example-compatible\n",
        "    # data type.\n",
        "    feature = {\n",
        "       (f__)[i]: _float_feature(feats[i]) for i in range(len(feats))\n",
        "    }\n",
        "    example_proto = tf.train.Example(features=tf.train.Features(feature=feature))\n",
        "    return example_proto.SerializeToString()\n",
        "\n",
        "\n",
        "def _parse_function1(proto):\n",
        "    # Define your feature description dictionary according to your TFRecord structure\n",
        "    feature_description = {\n",
        "          'features': tf.io.FixedLenFeature([556], tf.float32),\n",
        "          'targets': tf.io.FixedLenFeature([368], tf.float32),\n",
        "        # Add more features here\n",
        "    }\n",
        "    e =  tf.io.parse_single_example(proto, feature_description)\n",
        "\n",
        "    return e[\"features\"],e[\"targets\"]\n",
        "\n",
        "def _parse_function2(proto):\n",
        "    # Define your feature description dictionary according to your TFRecord structure\n",
        "    feature_description = {\n",
        "          'x': tf.io.FixedLenFeature([556], tf.float32),\n",
        "          'targets': tf.io.FixedLenFeature([368], tf.float32),\n",
        "        # Add more features here\n",
        "    }\n",
        "    e =  tf.io.parse_single_example(proto, feature_description)\n",
        "\n",
        "    return e[\"x\"],e[\"targets\"]"
      ],
      "metadata": {
        "id": "8EhHWiiGYX6a"
      },
      "execution_count": 20,
      "outputs": []
    },
    {
      "cell_type": "code",
      "source": [
        "dataset=tf.data.Dataset.range(1,6)\n",
        "dataset=dataset.interleave(lambda x:tf.data.Dataset.from_tensors(x).repeat(1),cycle_length=2,block_length=2)\n",
        "list(dataset.as_numpy_iterator())"
      ],
      "metadata": {
        "colab": {
          "base_uri": "https://localhost:8080/"
        },
        "id": "EJk0S3NOi62-",
        "outputId": "81cb25cb-249e-44e7-c0d8-57fdeab852ed"
      },
      "execution_count": 21,
      "outputs": [
        {
          "output_type": "execute_result",
          "data": {
            "text/plain": [
              "[1, 2, 3, 4, 5]"
            ]
          },
          "metadata": {},
          "execution_count": 21
        }
      ]
    },
    {
      "cell_type": "code",
      "source": [
        "len(train_files),len(valid_files)"
      ],
      "metadata": {
        "colab": {
          "base_uri": "https://localhost:8080/"
        },
        "id": "1gT7l1eX2J6W",
        "outputId": "576ea8dd-7be7-4b6b-fe75-7b620cf2a415"
      },
      "execution_count": 22,
      "outputs": [
        {
          "output_type": "execute_result",
          "data": {
            "text/plain": [
              "(347, 4)"
            ]
          },
          "metadata": {},
          "execution_count": 22
        }
      ]
    },
    {
      "cell_type": "code",
      "source": [
        "\n",
        "\n",
        "\n",
        "# Define options for the training dataset\n",
        "train_options = tf.data.Options()\n",
        "train_options.deterministic = True\n",
        "\n",
        "# Create the training dataset\n",
        "ds_train = (\n",
        "    tf.data.Dataset.from_tensor_slices(train_files)\n",
        "    .with_options(train_options)\n",
        "    .shuffle(100)\n",
        "    .interleave(\n",
        "        lambda file: tf.data.TFRecordDataset(file).map(_parse_function1, num_parallel_calls=tf.data.AUTOTUNE),\n",
        "        num_parallel_calls=tf.data.AUTOTUNE,\n",
        "        cycle_length=10,\n",
        "        block_length=1000,\n",
        "        deterministic=True\n",
        "    )\n",
        "    .shuffle(4 * BATCH_SIZE)\n",
        "    .batch(BATCH_SIZE)\n",
        "    .prefetch(tf.data.AUTOTUNE)\n",
        ")\n",
        "\n",
        "# Create the validation dataset\n",
        "ds_valid = (\n",
        "    tf.data.Dataset.from_tensor_slices(valid_files)\n",
        "    .interleave(\n",
        "        lambda file: tf.data.TFRecordDataset(file).map(_parse_function2, num_parallel_calls=tf.data.AUTOTUNE),\n",
        "        num_parallel_calls=tf.data.AUTOTUNE,\n",
        "        cycle_length=1,\n",
        "        block_length=1,\n",
        "        deterministic=True\n",
        "    )\n",
        "    .batch(BATCH_SIZE)\n",
        "    .prefetch(tf.data.AUTOTUNE)\n",
        ")\n",
        "\n",
        "# Print the first batch from the training dataset to verify\n",
        "for batch in ds_train.take(1):\n",
        "    print(batch)\n",
        "\n",
        "# Print the first batch from the validation dataset to verify\n",
        "for batch in ds_valid.take(1):\n",
        "    print(batch)"
      ],
      "metadata": {
        "id": "vjnBzJcP0rUv",
        "colab": {
          "base_uri": "https://localhost:8080/"
        },
        "outputId": "25448e2b-1f95-4f31-c52a-02f44cc6639d"
      },
      "execution_count": 23,
      "outputs": [
        {
          "output_type": "stream",
          "name": "stdout",
          "text": [
            "(<tf.Tensor: shape=(4096, 556), dtype=float32, numpy=\n",
            "array([[2.0811687e+02, 2.1611015e+02, 2.2615208e+02, ..., 4.9085838e-07,\n",
            "        4.9085838e-07, 4.9085838e-07],\n",
            "       [2.2637869e+02, 2.3843889e+02, 2.4965488e+02, ..., 4.9085838e-07,\n",
            "        4.9085838e-07, 4.9085838e-07],\n",
            "       [2.1448253e+02, 2.2208784e+02, 2.3537958e+02, ..., 4.9085838e-07,\n",
            "        4.9085838e-07, 4.9085838e-07],\n",
            "       ...,\n",
            "       [2.1224590e+02, 2.1635777e+02, 2.2763045e+02, ..., 4.9085838e-07,\n",
            "        4.9085838e-07, 4.9085838e-07],\n",
            "       [2.0935466e+02, 2.1541896e+02, 2.3077347e+02, ..., 4.9085838e-07,\n",
            "        4.9085838e-07, 4.9085838e-07],\n",
            "       [2.1548891e+02, 2.2517906e+02, 2.3520363e+02, ..., 4.9085838e-07,\n",
            "        4.9085838e-07, 4.9085838e-07]], dtype=float32)>, <tf.Tensor: shape=(4096, 368), dtype=float32, numpy=\n",
            "array([[ 4.1083156e-05,  4.8139209e-05,  6.5826993e-05, ...,\n",
            "         2.6859735e+02,  7.6250557e+01,  2.0539955e+01],\n",
            "       [ 2.4802850e-05,  1.1078765e-05,  1.2955485e-05, ...,\n",
            "         7.3666756e+01,  4.2576721e+01,  2.1743418e+01],\n",
            "       [-1.4670766e-05, -1.9596853e-05, -4.0040213e-05, ...,\n",
            "         0.0000000e+00,  1.2329020e-02,  6.5735285e-03],\n",
            "       ...,\n",
            "       [ 2.7930102e-05,  4.3961860e-05,  5.5396002e-05, ...,\n",
            "         8.0766876e+01,  3.1541233e+01,  8.9388256e+00],\n",
            "       [-9.4618599e-06, -7.8644816e-06, -2.7927337e-05, ...,\n",
            "         0.0000000e+00,  0.0000000e+00,  0.0000000e+00],\n",
            "       [-1.6328209e-05, -2.9085082e-05, -3.7445319e-05, ...,\n",
            "         0.0000000e+00,  0.0000000e+00,  0.0000000e+00]], dtype=float32)>)\n",
            "(<tf.Tensor: shape=(4096, 556), dtype=float32, numpy=\n",
            "array([[2.2752429e+02, 2.2923796e+02, 2.4231578e+02, ..., 4.9085838e-07,\n",
            "        4.9085838e-07, 4.9085838e-07],\n",
            "       [2.2499034e+02, 2.3146115e+02, 2.4208192e+02, ..., 4.9085838e-07,\n",
            "        4.9085838e-07, 4.9085838e-07],\n",
            "       [2.1964716e+02, 2.2185075e+02, 2.3490852e+02, ..., 4.9085838e-07,\n",
            "        4.9085838e-07, 4.9085838e-07],\n",
            "       ...,\n",
            "       [2.3425902e+02, 2.4564012e+02, 2.5047600e+02, ..., 4.9085838e-07,\n",
            "        4.9085838e-07, 4.9085838e-07],\n",
            "       [2.3592165e+02, 2.4827719e+02, 2.4803700e+02, ..., 4.9085838e-07,\n",
            "        4.9085838e-07, 4.9085838e-07],\n",
            "       [2.3533037e+02, 2.5270346e+02, 2.4995352e+02, ..., 4.9085838e-07,\n",
            "        4.9085838e-07, 4.9085838e-07]], dtype=float32)>, <tf.Tensor: shape=(4096, 368), dtype=float32, numpy=\n",
            "array([[ 1.00009211e-05,  3.29118593e-05,  2.93592675e-05, ...,\n",
            "         7.94816360e+01,  8.68750839e+01,  4.19287605e+01],\n",
            "       [ 2.07748089e-05,  2.72079888e-05,  3.46190245e-05, ...,\n",
            "         4.99006920e+01,  1.20374374e+02,  7.73199310e+01],\n",
            "       [ 2.43291615e-05,  4.53314497e-05,  4.85311466e-05, ...,\n",
            "         4.40524483e+01,  6.22903519e+01,  2.91235065e+01],\n",
            "       ...,\n",
            "       [ 5.65206665e-06, -1.24218022e-05,  1.48380223e-05, ...,\n",
            "         4.79847221e+01,  8.17391891e+01,  7.04377975e+01],\n",
            "       [-1.83417214e-05, -4.57944843e-05, -4.79056143e-06, ...,\n",
            "         1.25888634e+00,  1.29341784e+01,  8.35624218e+00],\n",
            "       [ 1.26813723e-06, -5.91376811e-05,  6.90972183e-06, ...,\n",
            "         2.23209858e+01,  4.53263016e+01,  3.25139999e+01]], dtype=float32)>)\n"
          ]
        }
      ]
    },
    {
      "cell_type": "code",
      "execution_count": 24,
      "metadata": {
        "id": "vvEorLUoBJD_"
      },
      "outputs": [],
      "source": [
        "#norm_x = keras.layers.Normalization()\n",
        "#norm_x.adapt(ds_train.map(lambda x, y: x) )\n"
      ]
    },
    {
      "cell_type": "code",
      "source": [
        "from google.colab import drive\n",
        "drive.mount('/content/drive')"
      ],
      "metadata": {
        "id": "odVrKONdpvjq",
        "colab": {
          "base_uri": "https://localhost:8080/"
        },
        "outputId": "d5c376c6-8469-45ed-e161-fdeab4f78830"
      },
      "execution_count": 25,
      "outputs": [
        {
          "output_type": "stream",
          "name": "stdout",
          "text": [
            "Drive already mounted at /content/drive; to attempt to forcibly remount, call drive.mount(\"/content/drive\", force_remount=True).\n"
          ]
        }
      ]
    },
    {
      "cell_type": "code",
      "source": [
        "if False:\n",
        "  with open(\"drive/MyDrive/norm_x_mean.npy\",\"wb\") as file:\n",
        "      np.save(file,norm_x.mean.numpy())\n",
        "\n",
        "  with open(\"drive/MyDrive/norm_x_variance.npy\",\"wb\") as file:\n",
        "      np.save(file,norm_x.variance.numpy())\n",
        "\n",
        "  with open(\"drive/MyDrive/norm_y_mean.npy\",\"wb\") as file:\n",
        "      np.save(file,norm_y.mean.numpy())\n",
        "\n",
        "  with open(\"drive/MyDrive/norm_y_variance.npy\",\"wb\") as file:\n",
        "      np.save(file,norm_y.variance.numpy())"
      ],
      "metadata": {
        "id": "6_vCQIMJNt88"
      },
      "execution_count": 26,
      "outputs": []
    },
    {
      "cell_type": "code",
      "source": [],
      "metadata": {
        "id": "kvdo2hTzN2oq"
      },
      "execution_count": 26,
      "outputs": []
    },
    {
      "cell_type": "code",
      "source": [
        "with open(\"drive/MyDrive/norm_x_mean.npy\",\"rb\") as file:\n",
        "   norm_x_mean= np.load(file)\n",
        "\n",
        "with open(\"drive/MyDrive/norm_x_variance.npy\",\"rb\") as file:\n",
        "   norm_x_variance= np.load(file)\n",
        "\n",
        "with open(\"drive/MyDrive/norm_y_mean.npy\",\"rb\") as file:\n",
        "    norm_y_mean= np.load(file)\n",
        "\n",
        "with open(\"drive/MyDrive/norm_y_variance.npy\",\"rb\") as file:\n",
        "     norm_y_variance= np.load(file)"
      ],
      "metadata": {
        "id": "Zs_N50itOLRX"
      },
      "execution_count": 27,
      "outputs": []
    },
    {
      "cell_type": "code",
      "source": [],
      "metadata": {
        "id": "5Y9RYhTPONdv"
      },
      "execution_count": 27,
      "outputs": []
    },
    {
      "cell_type": "code",
      "source": [],
      "metadata": {
        "collapsed": true,
        "id": "mgyIg2RBLUnj"
      },
      "execution_count": 27,
      "outputs": []
    },
    {
      "cell_type": "code",
      "execution_count": 28,
      "metadata": {
        "id": "j3Bq6J0JBJD_",
        "collapsed": true
      },
      "outputs": [],
      "source": [
        "\n",
        "\n",
        "mean_y =tf.constant(norm_y_mean)\n",
        "stdd_y = keras.ops.maximum(1e-10,tf.constant(norm_y_variance) ** 0.5)\n",
        "\n"
      ]
    },
    {
      "cell_type": "markdown",
      "metadata": {
        "id": "lvcRG9CdBJEA"
      },
      "source": [
        "### Model definition & Training"
      ]
    },
    {
      "cell_type": "code",
      "execution_count": 29,
      "metadata": {
        "id": "ENpFXPZNBJEA"
      },
      "outputs": [],
      "source": [
        "import jax.numpy as jnp\n",
        "import keras"
      ]
    },
    {
      "cell_type": "code",
      "execution_count": 30,
      "metadata": {
        "id": "yArQho5nQ8SJ"
      },
      "outputs": [],
      "source": [
        "@keras.saving.register_keras_serializable(package=\"MyMetrics\", name=\"ClippedR2Score\")\n",
        "class ClippedR2Score(keras.metrics.Metric):\n",
        "    def __init__(self, name='r2_score', **kwargs):\n",
        "        super().__init__(name=name, **kwargs)\n",
        "        self.base_metric = keras.metrics.R2Score(class_aggregation=None)\n",
        "\n",
        "    def update_state(self, y_true, y_pred, sample_weight=None):\n",
        "        self.base_metric.update_state(y_true, y_pred, sample_weight=None)\n",
        "\n",
        "    def result(self):\n",
        "        return keras.ops.mean(keras.ops.clip(self.base_metric.result(), 0.0, 1.0))\n",
        "\n",
        "    def reset_states(self):\n",
        "        self.base_metric.reset_states()"
      ]
    },
    {
      "cell_type": "code",
      "execution_count": 30,
      "metadata": {
        "id": "21gCF01LBJEB"
      },
      "outputs": [],
      "source": []
    },
    {
      "cell_type": "code",
      "execution_count": 31,
      "metadata": {
        "id": "3Ks3M_iwBJEB"
      },
      "outputs": [],
      "source": [
        "@keras.saving.register_keras_serializable()\n",
        "\n",
        "\n",
        "def r2_mult_keras(y_true, y_pred):\n",
        "\n",
        "    SS_res =  tf.reduce_sum((y_true - y_pred),axis=0)\n",
        "    SS_tot = tf.reduce_sum((y_true - tf.reduce_mean(y_true, axis=0 )),axis=0)\n",
        "    vals = 1 - SS_res/(SS_tot+0.00000000001)\n",
        "    vals_clipped = tf.where(vals < 0, tf.zeros_like(vals), vals)\n",
        "\n",
        "\n",
        "    return     tf.reduce_mean(vals_clipped )"
      ]
    },
    {
      "cell_type": "code",
      "source": [],
      "metadata": {
        "id": "G-uyBW6PIxeZ"
      },
      "execution_count": 31,
      "outputs": []
    },
    {
      "cell_type": "code",
      "source": [
        "(len(train_files) * 200_000 / BATCH_SIZE)"
      ],
      "metadata": {
        "id": "ka_ef-SgIyy_",
        "colab": {
          "base_uri": "https://localhost:8080/"
        },
        "outputId": "e55374e1-c95f-4b78-9cf8-1ea15968d95c"
      },
      "execution_count": 32,
      "outputs": [
        {
          "output_type": "execute_result",
          "data": {
            "text/plain": [
              "16943.359375"
            ]
          },
          "metadata": {},
          "execution_count": 32
        }
      ]
    },
    {
      "cell_type": "code",
      "execution_count": 33,
      "metadata": {
        "id": "k-20F8x4BJEB",
        "colab": {
          "base_uri": "https://localhost:8080/",
          "height": 430
        },
        "outputId": "e6e42c35-2447-4cf0-e289-e36444f4d510"
      },
      "outputs": [
        {
          "output_type": "display_data",
          "data": {
            "text/plain": [
              "<Figure size 640x480 with 1 Axes>"
            ],
            "image/png": "[encoded data removed]"
          },
          "metadata": {}
        }
      ],
      "source": [
        "epochs = 100  # 25  # 15  # 12\n",
        "learning_rate = 1e-4\n",
        "\n",
        "epochs_warmup = 2\n",
        "epochs_ending = 2\n",
        "steps_per_epoch =int(np.floor(len(train_files) * 200_000 / BATCH_SIZE))\n",
        "lr_scheduler = keras.optimizers.schedules.CosineDecay(\n",
        "    5e-5,\n",
        "    (epochs - epochs_warmup - epochs_ending) * steps_per_epoch,\n",
        "    warmup_target=learning_rate,\n",
        "    warmup_steps=steps_per_epoch * epochs_warmup,\n",
        "    alpha=0.1\n",
        ")\n",
        "\n",
        "plt.plot([lr_scheduler(it) for it in range(0, epochs * steps_per_epoch, steps_per_epoch)]);"
      ]
    },
    {
      "cell_type": "code",
      "source": [
        "steps_per_epoch"
      ],
      "metadata": {
        "id": "vX0ZqPfQITyA",
        "colab": {
          "base_uri": "https://localhost:8080/"
        },
        "outputId": "1f5932b4-1a54-4efb-c4e9-6cf4180d14ad"
      },
      "execution_count": 34,
      "outputs": [
        {
          "output_type": "execute_result",
          "data": {
            "text/plain": [
              "16943"
            ]
          },
          "metadata": {},
          "execution_count": 34
        }
      ]
    },
    {
      "cell_type": "code",
      "execution_count": 35,
      "metadata": {
        "id": "kMdXiELKYH0M",
        "colab": {
          "base_uri": "https://localhost:8080/",
          "height": 36
        },
        "outputId": "559a0752-f93e-4f0a-8a48-69ef8d41fc29"
      },
      "outputs": [
        {
          "output_type": "execute_result",
          "data": {
            "text/plain": [
              "'3.2.1'"
            ],
            "application/vnd.google.colaboratory.intrinsic+json": {
              "type": "string"
            }
          },
          "metadata": {},
          "execution_count": 35
        }
      ],
      "source": [
        "keras.__version__"
      ]
    },
    {
      "cell_type": "code",
      "execution_count": 36,
      "metadata": {
        "id": "3yoZeBziBJEB",
        "colab": {
          "base_uri": "https://localhost:8080/",
          "height": 1000
        },
        "outputId": "889ac82d-805b-479c-a7f1-0c96d9f49054"
      },
      "outputs": [
        {
          "output_type": "display_data",
          "data": {
            "text/plain": [
              "\u001b[1mModel: \"functional_3\"\u001b[0m\n"
            ],
            "text/html": [
              "<pre style=\"white-space:pre;overflow-x:auto;line-height:normal;font-family:Menlo,'DejaVu Sans Mono',consolas,'Courier New',monospace\"><span style=\"font-weight: bold\">Model: \"functional_3\"</span>\n",
              "</pre>\n"
            ]
          },
          "metadata": {}
        },
        {
          "output_type": "display_data",
          "data": {
            "text/plain": [
              "┏━━━━━━━━━━━━━━━━━━━━━━━━━━━┳━━━━━━━━━━━━━━━━━━━━━━━━┳━━━━━━━━━━━━━━━━┳━━━━━━━━━━━━━━━━━━━━━━━━┓\n",
              "┃\u001b[1m \u001b[0m\u001b[1mLayer (type)             \u001b[0m\u001b[1m \u001b[0m┃\u001b[1m \u001b[0m\u001b[1mOutput Shape          \u001b[0m\u001b[1m \u001b[0m┃\u001b[1m \u001b[0m\u001b[1m       Param #\u001b[0m\u001b[1m \u001b[0m┃\u001b[1m \u001b[0m\u001b[1mConnected to          \u001b[0m\u001b[1m \u001b[0m┃\n",
              "┡━━━━━━━━━━━━━━━━━━━━━━━━━━━╇━━━━━━━━━━━━━━━━━━━━━━━━╇━━━━━━━━━━━━━━━━╇━━━━━━━━━━━━━━━━━━━━━━━━┩\n",
              "│ input_layer (\u001b[38;5;33mInputLayer\u001b[0m)  │ (\u001b[38;5;45mNone\u001b[0m, \u001b[38;5;34m556\u001b[0m)            │              \u001b[38;5;34m0\u001b[0m │ -                      │\n",
              "├───────────────────────────┼────────────────────────┼────────────────┼────────────────────────┤\n",
              "│ normalization             │ (\u001b[38;5;45mNone\u001b[0m, \u001b[38;5;34m556\u001b[0m)            │              \u001b[38;5;34m0\u001b[0m │ input_layer[\u001b[38;5;34m0\u001b[0m][\u001b[38;5;34m0\u001b[0m]      │\n",
              "│ (\u001b[38;5;33mNormalization\u001b[0m)           │                        │                │                        │\n",
              "├───────────────────────────┼────────────────────────┼────────────────┼────────────────────────┤\n",
              "│ get_item (\u001b[38;5;33mGetItem\u001b[0m)        │ (\u001b[38;5;45mNone\u001b[0m, \u001b[38;5;34m360\u001b[0m)            │              \u001b[38;5;34m0\u001b[0m │ normalization[\u001b[38;5;34m0\u001b[0m][\u001b[38;5;34m0\u001b[0m]    │\n",
              "├───────────────────────────┼────────────────────────┼────────────────┼────────────────────────┤\n",
              "│ get_item_1 (\u001b[38;5;33mGetItem\u001b[0m)      │ (\u001b[38;5;45mNone\u001b[0m, \u001b[38;5;34m180\u001b[0m)            │              \u001b[38;5;34m0\u001b[0m │ normalization[\u001b[38;5;34m0\u001b[0m][\u001b[38;5;34m0\u001b[0m]    │\n",
              "├───────────────────────────┼────────────────────────┼────────────────┼────────────────────────┤\n",
              "│ get_item_2 (\u001b[38;5;33mGetItem\u001b[0m)      │ (\u001b[38;5;45mNone\u001b[0m, \u001b[38;5;34m16\u001b[0m)             │              \u001b[38;5;34m0\u001b[0m │ normalization[\u001b[38;5;34m0\u001b[0m][\u001b[38;5;34m0\u001b[0m]    │\n",
              "├───────────────────────────┼────────────────────────┼────────────────┼────────────────────────┤\n",
              "│ reshape (\u001b[38;5;33mReshape\u001b[0m)         │ (\u001b[38;5;45mNone\u001b[0m, \u001b[38;5;34m6\u001b[0m, \u001b[38;5;34m60\u001b[0m)          │              \u001b[38;5;34m0\u001b[0m │ get_item[\u001b[38;5;34m0\u001b[0m][\u001b[38;5;34m0\u001b[0m]         │\n",
              "├───────────────────────────┼────────────────────────┼────────────────┼────────────────────────┤\n",
              "│ reshape_1 (\u001b[38;5;33mReshape\u001b[0m)       │ (\u001b[38;5;45mNone\u001b[0m, \u001b[38;5;34m3\u001b[0m, \u001b[38;5;34m60\u001b[0m)          │              \u001b[38;5;34m0\u001b[0m │ get_item_1[\u001b[38;5;34m0\u001b[0m][\u001b[38;5;34m0\u001b[0m]       │\n",
              "├───────────────────────────┼────────────────────────┼────────────────┼────────────────────────┤\n",
              "│ reshape_2 (\u001b[38;5;33mReshape\u001b[0m)       │ (\u001b[38;5;45mNone\u001b[0m, \u001b[38;5;34m1\u001b[0m, \u001b[38;5;34m16\u001b[0m)          │              \u001b[38;5;34m0\u001b[0m │ get_item_2[\u001b[38;5;34m0\u001b[0m][\u001b[38;5;34m0\u001b[0m]       │\n",
              "├───────────────────────────┼────────────────────────┼────────────────┼────────────────────────┤\n",
              "│ transpose (\u001b[38;5;33mTranspose\u001b[0m)     │ (\u001b[38;5;45mNone\u001b[0m, \u001b[38;5;34m60\u001b[0m, \u001b[38;5;34m6\u001b[0m)          │              \u001b[38;5;34m0\u001b[0m │ reshape[\u001b[38;5;34m0\u001b[0m][\u001b[38;5;34m0\u001b[0m]          │\n",
              "├───────────────────────────┼────────────────────────┼────────────────┼────────────────────────┤\n",
              "│ transpose_1 (\u001b[38;5;33mTranspose\u001b[0m)   │ (\u001b[38;5;45mNone\u001b[0m, \u001b[38;5;34m60\u001b[0m, \u001b[38;5;34m3\u001b[0m)          │              \u001b[38;5;34m0\u001b[0m │ reshape_1[\u001b[38;5;34m0\u001b[0m][\u001b[38;5;34m0\u001b[0m]        │\n",
              "├───────────────────────────┼────────────────────────┼────────────────┼────────────────────────┤\n",
              "│ repeat (\u001b[38;5;33mRepeat\u001b[0m)           │ (\u001b[38;5;45mNone\u001b[0m, \u001b[38;5;34m60\u001b[0m, \u001b[38;5;34m16\u001b[0m)         │              \u001b[38;5;34m0\u001b[0m │ reshape_2[\u001b[38;5;34m0\u001b[0m][\u001b[38;5;34m0\u001b[0m]        │\n",
              "├───────────────────────────┼────────────────────────┼────────────────┼────────────────────────┤\n",
              "│ concatenate (\u001b[38;5;33mConcatenate\u001b[0m) │ (\u001b[38;5;45mNone\u001b[0m, \u001b[38;5;34m60\u001b[0m, \u001b[38;5;34m25\u001b[0m)         │              \u001b[38;5;34m0\u001b[0m │ transpose[\u001b[38;5;34m0\u001b[0m][\u001b[38;5;34m0\u001b[0m],       │\n",
              "│                           │                        │                │ transpose_1[\u001b[38;5;34m0\u001b[0m][\u001b[38;5;34m0\u001b[0m],     │\n",
              "│                           │                        │                │ repeat[\u001b[38;5;34m0\u001b[0m][\u001b[38;5;34m0\u001b[0m]           │\n",
              "├───────────────────────────┼────────────────────────┼────────────────┼────────────────────────┤\n",
              "│ conv1d (\u001b[38;5;33mConv1D\u001b[0m)           │ (\u001b[38;5;45mNone\u001b[0m, \u001b[38;5;34m60\u001b[0m, \u001b[38;5;34m128\u001b[0m)        │          \u001b[38;5;34m3,328\u001b[0m │ concatenate[\u001b[38;5;34m0\u001b[0m][\u001b[38;5;34m0\u001b[0m]      │\n",
              "├───────────────────────────┼────────────────────────┼────────────────┼────────────────────────┤\n",
              "│ sequential (\u001b[38;5;33mSequential\u001b[0m)   │ (\u001b[38;5;45mNone\u001b[0m, \u001b[38;5;34m60\u001b[0m, \u001b[38;5;34m128\u001b[0m)        │      \u001b[38;5;34m1,085,824\u001b[0m │ conv1d[\u001b[38;5;34m0\u001b[0m][\u001b[38;5;34m0\u001b[0m]           │\n",
              "├───────────────────────────┼────────────────────────┼────────────────┼────────────────────────┤\n",
              "│ add (\u001b[38;5;33mAdd\u001b[0m)                 │ (\u001b[38;5;45mNone\u001b[0m, \u001b[38;5;34m60\u001b[0m, \u001b[38;5;34m128\u001b[0m)        │              \u001b[38;5;34m0\u001b[0m │ conv1d[\u001b[38;5;34m0\u001b[0m][\u001b[38;5;34m0\u001b[0m],          │\n",
              "│                           │                        │                │ sequential[\u001b[38;5;34m0\u001b[0m][\u001b[38;5;34m0\u001b[0m]       │\n",
              "├───────────────────────────┼────────────────────────┼────────────────┼────────────────────────┤\n",
              "│ global_average_pooling1d  │ (\u001b[38;5;45mNone\u001b[0m, \u001b[38;5;34m1\u001b[0m, \u001b[38;5;34m128\u001b[0m)         │              \u001b[38;5;34m0\u001b[0m │ sequential[\u001b[38;5;34m0\u001b[0m][\u001b[38;5;34m0\u001b[0m]       │\n",
              "│ (\u001b[38;5;33mGlobalAveragePooling1D\u001b[0m)  │                        │                │                        │\n",
              "├───────────────────────────┼────────────────────────┼────────────────┼────────────────────────┤\n",
              "│ add_1 (\u001b[38;5;33mAdd\u001b[0m)               │ (\u001b[38;5;45mNone\u001b[0m, \u001b[38;5;34m60\u001b[0m, \u001b[38;5;34m128\u001b[0m)        │              \u001b[38;5;34m0\u001b[0m │ add[\u001b[38;5;34m0\u001b[0m][\u001b[38;5;34m0\u001b[0m],             │\n",
              "│                           │                        │                │ global_average_poolin… │\n",
              "├───────────────────────────┼────────────────────────┼────────────────┼────────────────────────┤\n",
              "│ batch_normalization_3     │ (\u001b[38;5;45mNone\u001b[0m, \u001b[38;5;34m60\u001b[0m, \u001b[38;5;34m128\u001b[0m)        │            \u001b[38;5;34m512\u001b[0m │ add_1[\u001b[38;5;34m0\u001b[0m][\u001b[38;5;34m0\u001b[0m]            │\n",
              "│ (\u001b[38;5;33mBatchNormalization\u001b[0m)      │                        │                │                        │\n",
              "├───────────────────────────┼────────────────────────┼────────────────┼────────────────────────┤\n",
              "│ sequential_1 (\u001b[38;5;33mSequential\u001b[0m) │ (\u001b[38;5;45mNone\u001b[0m, \u001b[38;5;34m60\u001b[0m, \u001b[38;5;34m128\u001b[0m)        │      \u001b[38;5;34m1,085,824\u001b[0m │ batch_normalization_3… │\n",
              "├───────────────────────────┼────────────────────────┼────────────────┼────────────────────────┤\n",
              "│ add_2 (\u001b[38;5;33mAdd\u001b[0m)               │ (\u001b[38;5;45mNone\u001b[0m, \u001b[38;5;34m60\u001b[0m, \u001b[38;5;34m128\u001b[0m)        │              \u001b[38;5;34m0\u001b[0m │ batch_normalization_3… │\n",
              "│                           │                        │                │ sequential_1[\u001b[38;5;34m0\u001b[0m][\u001b[38;5;34m0\u001b[0m]     │\n",
              "├───────────────────────────┼────────────────────────┼────────────────┼────────────────────────┤\n",
              "│ conv1d_7 (\u001b[38;5;33mConv1D\u001b[0m)         │ (\u001b[38;5;45mNone\u001b[0m, \u001b[38;5;34m60\u001b[0m, \u001b[38;5;34m14\u001b[0m)         │          \u001b[38;5;34m1,806\u001b[0m │ add_2[\u001b[38;5;34m0\u001b[0m][\u001b[38;5;34m0\u001b[0m]            │\n",
              "├───────────────────────────┼────────────────────────┼────────────────┼────────────────────────┤\n",
              "│ get_item_3 (\u001b[38;5;33mGetItem\u001b[0m)      │ (\u001b[38;5;45mNone\u001b[0m, \u001b[38;5;34m60\u001b[0m, \u001b[38;5;34m6\u001b[0m)          │              \u001b[38;5;34m0\u001b[0m │ conv1d_7[\u001b[38;5;34m0\u001b[0m][\u001b[38;5;34m0\u001b[0m]         │\n",
              "├───────────────────────────┼────────────────────────┼────────────────┼────────────────────────┤\n",
              "│ transpose_2 (\u001b[38;5;33mTranspose\u001b[0m)   │ (\u001b[38;5;45mNone\u001b[0m, \u001b[38;5;34m6\u001b[0m, \u001b[38;5;34m60\u001b[0m)          │              \u001b[38;5;34m0\u001b[0m │ get_item_3[\u001b[38;5;34m0\u001b[0m][\u001b[38;5;34m0\u001b[0m]       │\n",
              "├───────────────────────────┼────────────────────────┼────────────────┼────────────────────────┤\n",
              "│ get_item_4 (\u001b[38;5;33mGetItem\u001b[0m)      │ (\u001b[38;5;45mNone\u001b[0m, \u001b[38;5;34m60\u001b[0m, \u001b[38;5;34m8\u001b[0m)          │              \u001b[38;5;34m0\u001b[0m │ conv1d_7[\u001b[38;5;34m0\u001b[0m][\u001b[38;5;34m0\u001b[0m]         │\n",
              "├───────────────────────────┼────────────────────────┼────────────────┼────────────────────────┤\n",
              "│ flatten (\u001b[38;5;33mFlatten\u001b[0m)         │ (\u001b[38;5;45mNone\u001b[0m, \u001b[38;5;34m360\u001b[0m)            │              \u001b[38;5;34m0\u001b[0m │ transpose_2[\u001b[38;5;34m0\u001b[0m][\u001b[38;5;34m0\u001b[0m]      │\n",
              "├───────────────────────────┼────────────────────────┼────────────────┼────────────────────────┤\n",
              "│ mean (\u001b[38;5;33mMean\u001b[0m)               │ (\u001b[38;5;45mNone\u001b[0m, \u001b[38;5;34m8\u001b[0m)              │              \u001b[38;5;34m0\u001b[0m │ get_item_4[\u001b[38;5;34m0\u001b[0m][\u001b[38;5;34m0\u001b[0m]       │\n",
              "├───────────────────────────┼────────────────────────┼────────────────┼────────────────────────┤\n",
              "│ concatenate_1             │ (\u001b[38;5;45mNone\u001b[0m, \u001b[38;5;34m368\u001b[0m)            │              \u001b[38;5;34m0\u001b[0m │ flatten[\u001b[38;5;34m0\u001b[0m][\u001b[38;5;34m0\u001b[0m],         │\n",
              "│ (\u001b[38;5;33mConcatenate\u001b[0m)             │                        │                │ mean[\u001b[38;5;34m0\u001b[0m][\u001b[38;5;34m0\u001b[0m]             │\n",
              "└───────────────────────────┴────────────────────────┴────────────────┴────────────────────────┘\n"
            ],
            "text/html": [
              "<pre style=\"white-space:pre;overflow-x:auto;line-height:normal;font-family:Menlo,'DejaVu Sans Mono',consolas,'Courier New',monospace\">┏━━━━━━━━━━━━━━━━━━━━━━━━━━━┳━━━━━━━━━━━━━━━━━━━━━━━━┳━━━━━━━━━━━━━━━━┳━━━━━━━━━━━━━━━━━━━━━━━━┓\n",
              "┃<span style=\"font-weight: bold\"> Layer (type)              </span>┃<span style=\"font-weight: bold\"> Output Shape           </span>┃<span style=\"font-weight: bold\">        Param # </span>┃<span style=\"font-weight: bold\"> Connected to           </span>┃\n",
              "┡━━━━━━━━━━━━━━━━━━━━━━━━━━━╇━━━━━━━━━━━━━━━━━━━━━━━━╇━━━━━━━━━━━━━━━━╇━━━━━━━━━━━━━━━━━━━━━━━━┩\n",
              "│ input_layer (<span style=\"color: #0087ff; text-decoration-color: #0087ff\">InputLayer</span>)  │ (<span style=\"color: #00d7ff; text-decoration-color: #00d7ff\">None</span>, <span style=\"color: #00af00; text-decoration-color: #00af00\">556</span>)            │              <span style=\"color: #00af00; text-decoration-color: #00af00\">0</span> │ -                      │\n",
              "├───────────────────────────┼────────────────────────┼────────────────┼────────────────────────┤\n",
              "│ normalization             │ (<span style=\"color: #00d7ff; text-decoration-color: #00d7ff\">None</span>, <span style=\"color: #00af00; text-decoration-color: #00af00\">556</span>)            │              <span style=\"color: #00af00; text-decoration-color: #00af00\">0</span> │ input_layer[<span style=\"color: #00af00; text-decoration-color: #00af00\">0</span>][<span style=\"color: #00af00; text-decoration-color: #00af00\">0</span>]      │\n",
              "│ (<span style=\"color: #0087ff; text-decoration-color: #0087ff\">Normalization</span>)           │                        │                │                        │\n",
              "├───────────────────────────┼────────────────────────┼────────────────┼────────────────────────┤\n",
              "│ get_item (<span style=\"color: #0087ff; text-decoration-color: #0087ff\">GetItem</span>)        │ (<span style=\"color: #00d7ff; text-decoration-color: #00d7ff\">None</span>, <span style=\"color: #00af00; text-decoration-color: #00af00\">360</span>)            │              <span style=\"color: #00af00; text-decoration-color: #00af00\">0</span> │ normalization[<span style=\"color: #00af00; text-decoration-color: #00af00\">0</span>][<span style=\"color: #00af00; text-decoration-color: #00af00\">0</span>]    │\n",
              "├───────────────────────────┼────────────────────────┼────────────────┼────────────────────────┤\n",
              "│ get_item_1 (<span style=\"color: #0087ff; text-decoration-color: #0087ff\">GetItem</span>)      │ (<span style=\"color: #00d7ff; text-decoration-color: #00d7ff\">None</span>, <span style=\"color: #00af00; text-decoration-color: #00af00\">180</span>)            │              <span style=\"color: #00af00; text-decoration-color: #00af00\">0</span> │ normalization[<span style=\"color: #00af00; text-decoration-color: #00af00\">0</span>][<span style=\"color: #00af00; text-decoration-color: #00af00\">0</span>]    │\n",
              "├───────────────────────────┼────────────────────────┼────────────────┼────────────────────────┤\n",
              "│ get_item_2 (<span style=\"color: #0087ff; text-decoration-color: #0087ff\">GetItem</span>)      │ (<span style=\"color: #00d7ff; text-decoration-color: #00d7ff\">None</span>, <span style=\"color: #00af00; text-decoration-color: #00af00\">16</span>)             │              <span style=\"color: #00af00; text-decoration-color: #00af00\">0</span> │ normalization[<span style=\"color: #00af00; text-decoration-color: #00af00\">0</span>][<span style=\"color: #00af00; text-decoration-color: #00af00\">0</span>]    │\n",
              "├───────────────────────────┼────────────────────────┼────────────────┼────────────────────────┤\n",
              "│ reshape (<span style=\"color: #0087ff; text-decoration-color: #0087ff\">Reshape</span>)         │ (<span style=\"color: #00d7ff; text-decoration-color: #00d7ff\">None</span>, <span style=\"color: #00af00; text-decoration-color: #00af00\">6</span>, <span style=\"color: #00af00; text-decoration-color: #00af00\">60</span>)          │              <span style=\"color: #00af00; text-decoration-color: #00af00\">0</span> │ get_item[<span style=\"color: #00af00; text-decoration-color: #00af00\">0</span>][<span style=\"color: #00af00; text-decoration-color: #00af00\">0</span>]         │\n",
              "├───────────────────────────┼────────────────────────┼────────────────┼────────────────────────┤\n",
              "│ reshape_1 (<span style=\"color: #0087ff; text-decoration-color: #0087ff\">Reshape</span>)       │ (<span style=\"color: #00d7ff; text-decoration-color: #00d7ff\">None</span>, <span style=\"color: #00af00; text-decoration-color: #00af00\">3</span>, <span style=\"color: #00af00; text-decoration-color: #00af00\">60</span>)          │              <span style=\"color: #00af00; text-decoration-color: #00af00\">0</span> │ get_item_1[<span style=\"color: #00af00; text-decoration-color: #00af00\">0</span>][<span style=\"color: #00af00; text-decoration-color: #00af00\">0</span>]       │\n",
              "├───────────────────────────┼────────────────────────┼────────────────┼────────────────────────┤\n",
              "│ reshape_2 (<span style=\"color: #0087ff; text-decoration-color: #0087ff\">Reshape</span>)       │ (<span style=\"color: #00d7ff; text-decoration-color: #00d7ff\">None</span>, <span style=\"color: #00af00; text-decoration-color: #00af00\">1</span>, <span style=\"color: #00af00; text-decoration-color: #00af00\">16</span>)          │              <span style=\"color: #00af00; text-decoration-color: #00af00\">0</span> │ get_item_2[<span style=\"color: #00af00; text-decoration-color: #00af00\">0</span>][<span style=\"color: #00af00; text-decoration-color: #00af00\">0</span>]       │\n",
              "├───────────────────────────┼────────────────────────┼────────────────┼────────────────────────┤\n",
              "│ transpose (<span style=\"color: #0087ff; text-decoration-color: #0087ff\">Transpose</span>)     │ (<span style=\"color: #00d7ff; text-decoration-color: #00d7ff\">None</span>, <span style=\"color: #00af00; text-decoration-color: #00af00\">60</span>, <span style=\"color: #00af00; text-decoration-color: #00af00\">6</span>)          │              <span style=\"color: #00af00; text-decoration-color: #00af00\">0</span> │ reshape[<span style=\"color: #00af00; text-decoration-color: #00af00\">0</span>][<span style=\"color: #00af00; text-decoration-color: #00af00\">0</span>]          │\n",
              "├───────────────────────────┼────────────────────────┼────────────────┼────────────────────────┤\n",
              "│ transpose_1 (<span style=\"color: #0087ff; text-decoration-color: #0087ff\">Transpose</span>)   │ (<span style=\"color: #00d7ff; text-decoration-color: #00d7ff\">None</span>, <span style=\"color: #00af00; text-decoration-color: #00af00\">60</span>, <span style=\"color: #00af00; text-decoration-color: #00af00\">3</span>)          │              <span style=\"color: #00af00; text-decoration-color: #00af00\">0</span> │ reshape_1[<span style=\"color: #00af00; text-decoration-color: #00af00\">0</span>][<span style=\"color: #00af00; text-decoration-color: #00af00\">0</span>]        │\n",
              "├───────────────────────────┼────────────────────────┼────────────────┼────────────────────────┤\n",
              "│ repeat (<span style=\"color: #0087ff; text-decoration-color: #0087ff\">Repeat</span>)           │ (<span style=\"color: #00d7ff; text-decoration-color: #00d7ff\">None</span>, <span style=\"color: #00af00; text-decoration-color: #00af00\">60</span>, <span style=\"color: #00af00; text-decoration-color: #00af00\">16</span>)         │              <span style=\"color: #00af00; text-decoration-color: #00af00\">0</span> │ reshape_2[<span style=\"color: #00af00; text-decoration-color: #00af00\">0</span>][<span style=\"color: #00af00; text-decoration-color: #00af00\">0</span>]        │\n",
              "├───────────────────────────┼────────────────────────┼────────────────┼────────────────────────┤\n",
              "│ concatenate (<span style=\"color: #0087ff; text-decoration-color: #0087ff\">Concatenate</span>) │ (<span style=\"color: #00d7ff; text-decoration-color: #00d7ff\">None</span>, <span style=\"color: #00af00; text-decoration-color: #00af00\">60</span>, <span style=\"color: #00af00; text-decoration-color: #00af00\">25</span>)         │              <span style=\"color: #00af00; text-decoration-color: #00af00\">0</span> │ transpose[<span style=\"color: #00af00; text-decoration-color: #00af00\">0</span>][<span style=\"color: #00af00; text-decoration-color: #00af00\">0</span>],       │\n",
              "│                           │                        │                │ transpose_1[<span style=\"color: #00af00; text-decoration-color: #00af00\">0</span>][<span style=\"color: #00af00; text-decoration-color: #00af00\">0</span>],     │\n",
              "│                           │                        │                │ repeat[<span style=\"color: #00af00; text-decoration-color: #00af00\">0</span>][<span style=\"color: #00af00; text-decoration-color: #00af00\">0</span>]           │\n",
              "├───────────────────────────┼────────────────────────┼────────────────┼────────────────────────┤\n",
              "│ conv1d (<span style=\"color: #0087ff; text-decoration-color: #0087ff\">Conv1D</span>)           │ (<span style=\"color: #00d7ff; text-decoration-color: #00d7ff\">None</span>, <span style=\"color: #00af00; text-decoration-color: #00af00\">60</span>, <span style=\"color: #00af00; text-decoration-color: #00af00\">128</span>)        │          <span style=\"color: #00af00; text-decoration-color: #00af00\">3,328</span> │ concatenate[<span style=\"color: #00af00; text-decoration-color: #00af00\">0</span>][<span style=\"color: #00af00; text-decoration-color: #00af00\">0</span>]      │\n",
              "├───────────────────────────┼────────────────────────┼────────────────┼────────────────────────┤\n",
              "│ sequential (<span style=\"color: #0087ff; text-decoration-color: #0087ff\">Sequential</span>)   │ (<span style=\"color: #00d7ff; text-decoration-color: #00d7ff\">None</span>, <span style=\"color: #00af00; text-decoration-color: #00af00\">60</span>, <span style=\"color: #00af00; text-decoration-color: #00af00\">128</span>)        │      <span style=\"color: #00af00; text-decoration-color: #00af00\">1,085,824</span> │ conv1d[<span style=\"color: #00af00; text-decoration-color: #00af00\">0</span>][<span style=\"color: #00af00; text-decoration-color: #00af00\">0</span>]           │\n",
              "├───────────────────────────┼────────────────────────┼────────────────┼────────────────────────┤\n",
              "│ add (<span style=\"color: #0087ff; text-decoration-color: #0087ff\">Add</span>)                 │ (<span style=\"color: #00d7ff; text-decoration-color: #00d7ff\">None</span>, <span style=\"color: #00af00; text-decoration-color: #00af00\">60</span>, <span style=\"color: #00af00; text-decoration-color: #00af00\">128</span>)        │              <span style=\"color: #00af00; text-decoration-color: #00af00\">0</span> │ conv1d[<span style=\"color: #00af00; text-decoration-color: #00af00\">0</span>][<span style=\"color: #00af00; text-decoration-color: #00af00\">0</span>],          │\n",
              "│                           │                        │                │ sequential[<span style=\"color: #00af00; text-decoration-color: #00af00\">0</span>][<span style=\"color: #00af00; text-decoration-color: #00af00\">0</span>]       │\n",
              "├───────────────────────────┼────────────────────────┼────────────────┼────────────────────────┤\n",
              "│ global_average_pooling1d  │ (<span style=\"color: #00d7ff; text-decoration-color: #00d7ff\">None</span>, <span style=\"color: #00af00; text-decoration-color: #00af00\">1</span>, <span style=\"color: #00af00; text-decoration-color: #00af00\">128</span>)         │              <span style=\"color: #00af00; text-decoration-color: #00af00\">0</span> │ sequential[<span style=\"color: #00af00; text-decoration-color: #00af00\">0</span>][<span style=\"color: #00af00; text-decoration-color: #00af00\">0</span>]       │\n",
              "│ (<span style=\"color: #0087ff; text-decoration-color: #0087ff\">GlobalAveragePooling1D</span>)  │                        │                │                        │\n",
              "├───────────────────────────┼────────────────────────┼────────────────┼────────────────────────┤\n",
              "│ add_1 (<span style=\"color: #0087ff; text-decoration-color: #0087ff\">Add</span>)               │ (<span style=\"color: #00d7ff; text-decoration-color: #00d7ff\">None</span>, <span style=\"color: #00af00; text-decoration-color: #00af00\">60</span>, <span style=\"color: #00af00; text-decoration-color: #00af00\">128</span>)        │              <span style=\"color: #00af00; text-decoration-color: #00af00\">0</span> │ add[<span style=\"color: #00af00; text-decoration-color: #00af00\">0</span>][<span style=\"color: #00af00; text-decoration-color: #00af00\">0</span>],             │\n",
              "│                           │                        │                │ global_average_poolin… │\n",
              "├───────────────────────────┼────────────────────────┼────────────────┼────────────────────────┤\n",
              "│ batch_normalization_3     │ (<span style=\"color: #00d7ff; text-decoration-color: #00d7ff\">None</span>, <span style=\"color: #00af00; text-decoration-color: #00af00\">60</span>, <span style=\"color: #00af00; text-decoration-color: #00af00\">128</span>)        │            <span style=\"color: #00af00; text-decoration-color: #00af00\">512</span> │ add_1[<span style=\"color: #00af00; text-decoration-color: #00af00\">0</span>][<span style=\"color: #00af00; text-decoration-color: #00af00\">0</span>]            │\n",
              "│ (<span style=\"color: #0087ff; text-decoration-color: #0087ff\">BatchNormalization</span>)      │                        │                │                        │\n",
              "├───────────────────────────┼────────────────────────┼────────────────┼────────────────────────┤\n",
              "│ sequential_1 (<span style=\"color: #0087ff; text-decoration-color: #0087ff\">Sequential</span>) │ (<span style=\"color: #00d7ff; text-decoration-color: #00d7ff\">None</span>, <span style=\"color: #00af00; text-decoration-color: #00af00\">60</span>, <span style=\"color: #00af00; text-decoration-color: #00af00\">128</span>)        │      <span style=\"color: #00af00; text-decoration-color: #00af00\">1,085,824</span> │ batch_normalization_3… │\n",
              "├───────────────────────────┼────────────────────────┼────────────────┼────────────────────────┤\n",
              "│ add_2 (<span style=\"color: #0087ff; text-decoration-color: #0087ff\">Add</span>)               │ (<span style=\"color: #00d7ff; text-decoration-color: #00d7ff\">None</span>, <span style=\"color: #00af00; text-decoration-color: #00af00\">60</span>, <span style=\"color: #00af00; text-decoration-color: #00af00\">128</span>)        │              <span style=\"color: #00af00; text-decoration-color: #00af00\">0</span> │ batch_normalization_3… │\n",
              "│                           │                        │                │ sequential_1[<span style=\"color: #00af00; text-decoration-color: #00af00\">0</span>][<span style=\"color: #00af00; text-decoration-color: #00af00\">0</span>]     │\n",
              "├───────────────────────────┼────────────────────────┼────────────────┼────────────────────────┤\n",
              "│ conv1d_7 (<span style=\"color: #0087ff; text-decoration-color: #0087ff\">Conv1D</span>)         │ (<span style=\"color: #00d7ff; text-decoration-color: #00d7ff\">None</span>, <span style=\"color: #00af00; text-decoration-color: #00af00\">60</span>, <span style=\"color: #00af00; text-decoration-color: #00af00\">14</span>)         │          <span style=\"color: #00af00; text-decoration-color: #00af00\">1,806</span> │ add_2[<span style=\"color: #00af00; text-decoration-color: #00af00\">0</span>][<span style=\"color: #00af00; text-decoration-color: #00af00\">0</span>]            │\n",
              "├───────────────────────────┼────────────────────────┼────────────────┼────────────────────────┤\n",
              "│ get_item_3 (<span style=\"color: #0087ff; text-decoration-color: #0087ff\">GetItem</span>)      │ (<span style=\"color: #00d7ff; text-decoration-color: #00d7ff\">None</span>, <span style=\"color: #00af00; text-decoration-color: #00af00\">60</span>, <span style=\"color: #00af00; text-decoration-color: #00af00\">6</span>)          │              <span style=\"color: #00af00; text-decoration-color: #00af00\">0</span> │ conv1d_7[<span style=\"color: #00af00; text-decoration-color: #00af00\">0</span>][<span style=\"color: #00af00; text-decoration-color: #00af00\">0</span>]         │\n",
              "├───────────────────────────┼────────────────────────┼────────────────┼────────────────────────┤\n",
              "│ transpose_2 (<span style=\"color: #0087ff; text-decoration-color: #0087ff\">Transpose</span>)   │ (<span style=\"color: #00d7ff; text-decoration-color: #00d7ff\">None</span>, <span style=\"color: #00af00; text-decoration-color: #00af00\">6</span>, <span style=\"color: #00af00; text-decoration-color: #00af00\">60</span>)          │              <span style=\"color: #00af00; text-decoration-color: #00af00\">0</span> │ get_item_3[<span style=\"color: #00af00; text-decoration-color: #00af00\">0</span>][<span style=\"color: #00af00; text-decoration-color: #00af00\">0</span>]       │\n",
              "├───────────────────────────┼────────────────────────┼────────────────┼────────────────────────┤\n",
              "│ get_item_4 (<span style=\"color: #0087ff; text-decoration-color: #0087ff\">GetItem</span>)      │ (<span style=\"color: #00d7ff; text-decoration-color: #00d7ff\">None</span>, <span style=\"color: #00af00; text-decoration-color: #00af00\">60</span>, <span style=\"color: #00af00; text-decoration-color: #00af00\">8</span>)          │              <span style=\"color: #00af00; text-decoration-color: #00af00\">0</span> │ conv1d_7[<span style=\"color: #00af00; text-decoration-color: #00af00\">0</span>][<span style=\"color: #00af00; text-decoration-color: #00af00\">0</span>]         │\n",
              "├───────────────────────────┼────────────────────────┼────────────────┼────────────────────────┤\n",
              "│ flatten (<span style=\"color: #0087ff; text-decoration-color: #0087ff\">Flatten</span>)         │ (<span style=\"color: #00d7ff; text-decoration-color: #00d7ff\">None</span>, <span style=\"color: #00af00; text-decoration-color: #00af00\">360</span>)            │              <span style=\"color: #00af00; text-decoration-color: #00af00\">0</span> │ transpose_2[<span style=\"color: #00af00; text-decoration-color: #00af00\">0</span>][<span style=\"color: #00af00; text-decoration-color: #00af00\">0</span>]      │\n",
              "├───────────────────────────┼────────────────────────┼────────────────┼────────────────────────┤\n",
              "│ mean (<span style=\"color: #0087ff; text-decoration-color: #0087ff\">Mean</span>)               │ (<span style=\"color: #00d7ff; text-decoration-color: #00d7ff\">None</span>, <span style=\"color: #00af00; text-decoration-color: #00af00\">8</span>)              │              <span style=\"color: #00af00; text-decoration-color: #00af00\">0</span> │ get_item_4[<span style=\"color: #00af00; text-decoration-color: #00af00\">0</span>][<span style=\"color: #00af00; text-decoration-color: #00af00\">0</span>]       │\n",
              "├───────────────────────────┼────────────────────────┼────────────────┼────────────────────────┤\n",
              "│ concatenate_1             │ (<span style=\"color: #00d7ff; text-decoration-color: #00d7ff\">None</span>, <span style=\"color: #00af00; text-decoration-color: #00af00\">368</span>)            │              <span style=\"color: #00af00; text-decoration-color: #00af00\">0</span> │ flatten[<span style=\"color: #00af00; text-decoration-color: #00af00\">0</span>][<span style=\"color: #00af00; text-decoration-color: #00af00\">0</span>],         │\n",
              "│ (<span style=\"color: #0087ff; text-decoration-color: #0087ff\">Concatenate</span>)             │                        │                │ mean[<span style=\"color: #00af00; text-decoration-color: #00af00\">0</span>][<span style=\"color: #00af00; text-decoration-color: #00af00\">0</span>]             │\n",
              "└───────────────────────────┴────────────────────────┴────────────────┴────────────────────────┘\n",
              "</pre>\n"
            ]
          },
          "metadata": {}
        },
        {
          "output_type": "display_data",
          "data": {
            "text/plain": [
              "\u001b[1m Total params: \u001b[0m\u001b[38;5;34m2,177,294\u001b[0m (8.31 MB)\n"
            ],
            "text/html": [
              "<pre style=\"white-space:pre;overflow-x:auto;line-height:normal;font-family:Menlo,'DejaVu Sans Mono',consolas,'Courier New',monospace\"><span style=\"font-weight: bold\"> Total params: </span><span style=\"color: #00af00; text-decoration-color: #00af00\">2,177,294</span> (8.31 MB)\n",
              "</pre>\n"
            ]
          },
          "metadata": {}
        },
        {
          "output_type": "display_data",
          "data": {
            "text/plain": [
              "\u001b[1m Trainable params: \u001b[0m\u001b[38;5;34m2,173,454\u001b[0m (8.29 MB)\n"
            ],
            "text/html": [
              "<pre style=\"white-space:pre;overflow-x:auto;line-height:normal;font-family:Menlo,'DejaVu Sans Mono',consolas,'Courier New',monospace\"><span style=\"font-weight: bold\"> Trainable params: </span><span style=\"color: #00af00; text-decoration-color: #00af00\">2,173,454</span> (8.29 MB)\n",
              "</pre>\n"
            ]
          },
          "metadata": {}
        },
        {
          "output_type": "display_data",
          "data": {
            "text/plain": [
              "\u001b[1m Non-trainable params: \u001b[0m\u001b[38;5;34m3,840\u001b[0m (15.00 KB)\n"
            ],
            "text/html": [
              "<pre style=\"white-space:pre;overflow-x:auto;line-height:normal;font-family:Menlo,'DejaVu Sans Mono',consolas,'Courier New',monospace\"><span style=\"font-weight: bold\"> Non-trainable params: </span><span style=\"color: #00af00; text-decoration-color: #00af00\">3,840</span> (15.00 KB)\n",
              "</pre>\n"
            ]
          },
          "metadata": {}
        }
      ],
      "source": [
        "keras.utils.clear_session()\n",
        "\n",
        "\n",
        "def x_to_seq(x):\n",
        "    x_seq0 = keras.ops.transpose(keras.ops.reshape(x[:, 0:60 * 6], (-1, 6, 60)), (0, 2, 1))\n",
        "    x_seq1 = keras.ops.transpose(keras.ops.reshape(x[:, 60 * 6 + 16:60 * 9 + 16], (-1, 3, 60)), (0, 2, 1))\n",
        "    x_flat = keras.ops.reshape(x[:, 60 * 6:60 * 6 + 16], (-1, 1, 16))\n",
        "    x_flat = keras.ops.repeat(x_flat, 60, axis=1)\n",
        "    return keras.ops.concatenate([x_seq0, x_seq1, x_flat], axis=-1)\n",
        "\n",
        "\n",
        "def build_cnn(activation='relu'):\n",
        "    return keras.Sequential([\n",
        "        keras.layers.Conv1D(512, 3, padding='same', activation=activation),\n",
        "        keras.layers.BatchNormalization(),\n",
        "        keras.layers.Conv1D(256, 5, padding='same', activation=activation),\n",
        "        keras.layers.BatchNormalization(),\n",
        "        keras.layers.Conv1D(128, 7, padding='same', activation=activation),\n",
        "        keras.layers.BatchNormalization(),\n",
        "    ])\n",
        "\n",
        "\n",
        "X_input = x = keras.layers.Input(ds_train.element_spec[0].shape[1:])\n",
        "x = keras.layers.Normalization(mean=tf.constant( norm_x_mean), variance=tf.constant( norm_x_variance))(x)\n",
        "x = x_to_seq(x)\n",
        "\n",
        "\n",
        "e = e0 = keras.layers.Conv1D(128, 1, padding='same')(x)\n",
        "e = build_cnn()(e)\n",
        "# add global average to allow some comunication between all levels even in a small CNN\n",
        "e = e0 + e + keras.layers.GlobalAveragePooling1D(keepdims=True)(e)\n",
        "e = keras.layers.BatchNormalization()(e)\n",
        "e = e + build_cnn()(e)\n",
        "\n",
        "\n",
        "p_all = keras.layers.Conv1D(14, 1, padding='same')(e)\n",
        "\n",
        "p_seq = p_all[:, :, :6]\n",
        "p_seq = keras.ops.transpose(p_seq, (0, 2, 1))\n",
        "p_seq = keras.layers.Flatten()(p_seq)\n",
        "assert p_seq.shape[-1] == 360\n",
        "\n",
        "p_flat = p_all[:, :, 6:6 + 8]\n",
        "p_flat = keras.ops.mean(p_flat, axis=1)\n",
        "assert p_flat.shape[-1] == 8\n",
        "\n",
        "P = keras.ops.concatenate([p_seq, p_flat], axis=1)\n",
        "\n",
        "# build & compile\n",
        "model = keras.Model(X_input, P)\n",
        "model.compile(\n",
        "    loss='mse',\n",
        "    optimizer=keras.optimizers.Adam(lr_scheduler),\n",
        "    metrics=[ClippedR2Score()]\n",
        ")\n",
        "model.build(tuple(ds_train.element_spec[0].shape))\n",
        "model.summary()"
      ]
    },
    {
      "cell_type": "code",
      "execution_count": 37,
      "metadata": {
        "id": "evjjJXJ3Y_hZ",
        "colab": {
          "base_uri": "https://localhost:8080/",
          "height": 36
        },
        "outputId": "368fcdf7-3234-410e-c019-23a49f5abc80"
      },
      "outputs": [
        {
          "output_type": "execute_result",
          "data": {
            "text/plain": [
              "'3.10.12 (main, Nov 20 2023, 15:14:05) [GCC 11.4.0]'"
            ],
            "application/vnd.google.colaboratory.intrinsic+json": {
              "type": "string"
            }
          },
          "metadata": {},
          "execution_count": 37
        }
      ],
      "source": [
        "import sys\n",
        "sys.version"
      ]
    },
    {
      "cell_type": "code",
      "source": [
        "model = keras.models.load_model(\"drive/MyDrive/large_dataset_v7.keras\")"
      ],
      "metadata": {
        "id": "yj2Z0KCzIe__"
      },
      "execution_count": 38,
      "outputs": []
    },
    {
      "cell_type": "markdown",
      "source": [],
      "metadata": {
        "id": "vEfgjRnvZeIt"
      }
    },
    {
      "cell_type": "code",
      "execution_count": null,
      "metadata": {
        "id": "KF5BZk_LBJEB",
        "colab": {
          "base_uri": "https://localhost:8080/"
        },
        "outputId": "98767647-fbd6-4d53-c531-4e9896cf1d91"
      },
      "outputs": [
        {
          "output_type": "stream",
          "name": "stdout",
          "text": [
            "Epoch 1/100\n",
            "  16949/Unknown \u001b[1m5904s\u001b[0m 347ms/step - loss: 0.2399 - r2_score: 0.5361"
          ]
        },
        {
          "output_type": "stream",
          "name": "stderr",
          "text": [
            "/usr/lib/python3.10/contextlib.py:153: UserWarning: Your input ran out of data; interrupting training. Make sure that your dataset or generator can generate at least `steps_per_epoch * epochs` batches. You may need to use the `.repeat()` function when building your dataset.\n",
            "  self.gen.throw(typ, value, traceback)\n"
          ]
        },
        {
          "output_type": "stream",
          "name": "stdout",
          "text": [
            "\b\b\b\b\b\b\b\b\b\b\b\b\b\b\b\b\b\b\b\b\b\b\b\b\b\b\b\b\b\b\b\b\b\b\b\b\b\b\b\b\b\b\b\b\b\b\b\b\b\b\b\b\b\b\b\b\b\b\b\b\b\b\b\b\b\b\r\u001b[1m16949/16949\u001b[0m \u001b[32m━━━━━━━━━━━━━━━━━━━━\u001b[0m\u001b[37m\u001b[0m \u001b[1m5917s\u001b[0m 348ms/step - loss: 0.2399 - r2_score: 0.5361 - val_loss: 0.2341 - val_r2_score: 0.5288\n",
            "Epoch 2/100\n",
            "\u001b[1m16949/16949\u001b[0m \u001b[32m━━━━━━━━━━━━━━━━━━━━\u001b[0m\u001b[37m\u001b[0m \u001b[1m6068s\u001b[0m 357ms/step - loss: 0.2405 - r2_score: 0.5371 - val_loss: 0.2329 - val_r2_score: 0.5300\n",
            "Epoch 3/100\n",
            "\u001b[1m16949/16949\u001b[0m \u001b[32m━━━━━━━━━━━━━━━━━━━━\u001b[0m\u001b[37m\u001b[0m \u001b[1m7149s\u001b[0m 420ms/step - loss: 0.2377 - r2_score: 0.5375 - val_loss: 0.2319 - val_r2_score: 0.5310\n",
            "Epoch 4/100\n",
            "\u001b[1m16949/16949\u001b[0m \u001b[32m━━━━━━━━━━━━━━━━━━━━\u001b[0m\u001b[37m\u001b[0m \u001b[1m6257s\u001b[0m 369ms/step - loss: 0.2375 - r2_score: 0.5387 - val_loss: 0.2321 - val_r2_score: 0.5300\n",
            "Epoch 5/100\n",
            "\u001b[1m16949/16949\u001b[0m \u001b[32m━━━━━━━━━━━━━━━━━━━━\u001b[0m\u001b[37m\u001b[0m \u001b[1m5977s\u001b[0m 351ms/step - loss: 0.2387 - r2_score: 0.5379 - val_loss: 0.2323 - val_r2_score: 0.5307\n",
            "Epoch 6/100\n",
            "\u001b[1m16949/16949\u001b[0m \u001b[32m━━━━━━━━━━━━━━━━━━━━\u001b[0m\u001b[37m\u001b[0m \u001b[1m6400s\u001b[0m 377ms/step - loss: 0.2394 - r2_score: 0.5385 - val_loss: 0.2319 - val_r2_score: 0.5314\n",
            "Epoch 7/100\n",
            "\u001b[1m16949/16949\u001b[0m \u001b[32m━━━━━━━━━━━━━━━━━━━━\u001b[0m\u001b[37m\u001b[0m \u001b[1m6358s\u001b[0m 374ms/step - loss: 0.2360 - r2_score: 0.5395 - val_loss: 0.2294 - val_r2_score: 0.5338\n",
            "Epoch 8/100\n",
            "\u001b[1m16949/16949\u001b[0m \u001b[32m━━━━━━━━━━━━━━━━━━━━\u001b[0m\u001b[37m\u001b[0m \u001b[1m6775s\u001b[0m 394ms/step - loss: 0.2351 - r2_score: 0.5395 - val_loss: 0.2287 - val_r2_score: 0.5348\n",
            "Epoch 9/100\n",
            "\u001b[1m16949/16949\u001b[0m \u001b[32m━━━━━━━━━━━━━━━━━━━━\u001b[0m\u001b[37m\u001b[0m \u001b[1m0s\u001b[0m 367ms/step - loss: 0.2365 - r2_score: 0.5399"
          ]
        }
      ],
      "source": [
        "ds_train_target_normalized = ds_train.map(lambda x, y: (x, (y - mean_y) / stdd_y))\n",
        "ds_valid_target_normalized = ds_valid.map(lambda x, y: (x, (y - mean_y) / stdd_y))\n",
        "\n",
        "history = model.fit(\n",
        "    ds_train_target_normalized,\n",
        "    validation_data=ds_valid_target_normalized,\n",
        "    epochs=epochs,\n",
        "    verbose=1,\n",
        "    callbacks=[\n",
        "        keras.callbacks.ModelCheckpoint(filepath='model.keras')\n",
        "    ]\n",
        ")"
      ]
    },
    {
      "cell_type": "code",
      "execution_count": null,
      "metadata": {
        "id": "RLlZY1YlmLkC"
      },
      "outputs": [],
      "source": [
        "tf.__version__"
      ]
    },
    {
      "cell_type": "code",
      "execution_count": null,
      "metadata": {
        "id": "2Iq0HFYpBJEB"
      },
      "outputs": [],
      "source": [
        "plt.plot(history.history['loss'], color='tab:blue')\n",
        "plt.plot(history.history['val_loss'], color='tab:red')\n",
        "plt.yscale('log');"
      ]
    },
    {
      "cell_type": "code",
      "execution_count": null,
      "metadata": {
        "id": "oJl6Y0iVBJEB"
      },
      "outputs": [],
      "source": []
    },
    {
      "cell_type": "code",
      "execution_count": null,
      "metadata": {
        "id": "3NCUqaQQBJEB"
      },
      "outputs": [],
      "source": [
        "y_valid = np.concatenate([yb for _, yb in ds_valid])\n",
        "p_valid = model.predict(ds_valid, batch_size=BATCH_SIZE) * stdd_y + mean_y"
      ]
    },
    {
      "cell_type": "code",
      "execution_count": null,
      "metadata": {
        "id": "6vi_dOTLBJEC"
      },
      "outputs": [],
      "source": [
        "scores_valid = np.array([metrics.r2_score(y_valid[:, i], p_valid[:, i]) for i in range(len(TARGETS))])\n",
        "plt.plot(scores_valid.clip(-1, 1))"
      ]
    },
    {
      "cell_type": "code",
      "execution_count": null,
      "metadata": {
        "id": "IqB25iGQBJEC"
      },
      "outputs": [],
      "source": [
        "import numpy as np"
      ]
    },
    {
      "cell_type": "code",
      "execution_count": null,
      "metadata": {
        "id": "Hw6enE83BJEC"
      },
      "outputs": [],
      "source": [
        "with open(f\"scores.npy\",\"wb\") as file:\n",
        "    np.save(file,scores_valid)"
      ]
    },
    {
      "cell_type": "code",
      "execution_count": null,
      "metadata": {
        "id": "0PW7GuaNBJEC"
      },
      "outputs": [],
      "source": [
        "mask = scores_valid <= 1e-3\n",
        "f\"Number of under-performing targets: {sum(mask)}\""
      ]
    },
    {
      "cell_type": "code",
      "execution_count": null,
      "metadata": {
        "id": "ZxiXSB6WBJEC"
      },
      "outputs": [],
      "source": [
        "f\"Clipped score: {scores_valid.clip(0, 1).mean()}\""
      ]
    },
    {
      "cell_type": "code",
      "execution_count": null,
      "metadata": {
        "id": "xRVxVabfBJEC"
      },
      "outputs": [],
      "source": [
        "del y_valid, p_valid\n",
        "gc.collect();"
      ]
    },
    {
      "cell_type": "markdown",
      "metadata": {
        "id": "OCdpl6g8BJEC"
      },
      "source": [
        "# Submission"
      ]
    },
    {
      "cell_type": "code",
      "execution_count": null,
      "metadata": {
        "id": "qgSNW8G_BJEC"
      },
      "outputs": [],
      "source": [
        "sample = pl.read_csv(\"/kaggle/input/leap-atmospheric-physics-ai-climsim/sample_submission.csv\")"
      ]
    },
    {
      "cell_type": "code",
      "execution_count": null,
      "metadata": {
        "id": "0MtB8ub0BJEC"
      },
      "outputs": [],
      "source": [
        "df_test = (\n",
        "    pl.scan_csv(\"/kaggle/input/leap-atmospheric-physics-ai-climsim/test.csv\")\n",
        "    .select(pl.exclude(\"sample_id\"))\n",
        "    .cast(pl.Float32)\n",
        "    .collect()\n",
        ")"
      ]
    },
    {
      "cell_type": "code",
      "execution_count": null,
      "metadata": {
        "id": "k1VD2unyBJED"
      },
      "outputs": [],
      "source": [
        "p_test = model.predict(df_test.to_numpy(), batch_size=4 * BATCH_SIZE) * stdd_y + mean_y\n",
        "p_test = np.array(p_test)\n",
        "p_test[:, mask] = mean_y[:, mask]"
      ]
    },
    {
      "cell_type": "code",
      "execution_count": null,
      "metadata": {
        "id": "Eh3zXEiDBJED"
      },
      "outputs": [],
      "source": [
        "# correction of ptend_q0002 targets (from 12 to 29)\n",
        "df_p_test = pd.DataFrame(p_test, columns=TARGETS)\n",
        "\n",
        "for idx in range(12, 30):\n",
        "    df_p_test[f\"ptend_q0002_{idx}\"] = -df_test[f\"state_q0002_{idx}\"].to_numpy() / 1200\n",
        "\n",
        "p_test = df_p_test.values"
      ]
    },
    {
      "cell_type": "code",
      "execution_count": null,
      "metadata": {
        "id": "jDUrGP_eBJED"
      },
      "outputs": [],
      "source": [
        "submission = sample.to_pandas()\n",
        "submission[TARGETS] = submission[TARGETS] * p_test\n",
        "pl.from_pandas(submission[[\"sample_id\"] + TARGETS]).write_csv(\"submission.csv\")"
      ]
    }
  ],
  "metadata": {
    "colab": {
      "machine_shape": "hm",
      "provenance": [],
      "gpuType": "L4"
    },
    "kaggle": {
      "accelerator": "none",
      "dataSources": [
        {
          "databundleVersionId": 8015876,
          "sourceId": 56537,
          "sourceType": "competition"
        },
        {
          "datasetId": 5004471,
          "sourceId": 8409068,
          "sourceType": "datasetVersion"
        }
      ],
      "dockerImageVersionId": 30699,
      "isGpuEnabled": false,
      "isInternetEnabled": true,
      "language": "python",
      "sourceType": "notebook"
    },
    "kernelspec": {
      "display_name": "Python 3",
      "name": "python3"
    },
    "language_info": {
      "codemirror_mode": {
        "name": "ipython",
        "version": 3
      },
      "file_extension": ".py",
      "mimetype": "text/x-python",
      "name": "python",
      "nbconvert_exporter": "python",
      "pygments_lexer": "ipython3",
      "version": "3.10.13"
    },
    "accelerator": "GPU"
  },
  "nbformat": 4,
  "nbformat_minor": 0
}