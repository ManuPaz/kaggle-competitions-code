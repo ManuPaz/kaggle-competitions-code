{
  "cells": [
    {
      "cell_type": "code",
      "execution_count": 1,
      "metadata": {
        "colab": {
          "base_uri": "https://localhost:8080/"
        },
        "id": "YQdw_R3LHgSf",
        "outputId": "61a38d80-d4fc-4f24-88d2-cb6809ea78a2"
      },
      "outputs": [
        {
          "output_type": "stream",
          "name": "stdout",
          "text": [
            "Collecting keras==3.2.1\n",
            "  Downloading keras-3.2.1-py3-none-any.whl (1.1 MB)\n",
            "\u001b[?25l     \u001b[90m━━━━━━━━━━━━━━━━━━━━━━━━━━━━━━━━━━━━━━━━\u001b[0m \u001b[32m0.0/1.1 MB\u001b[0m \u001b[31m?\u001b[0m eta \u001b[36m-:--:--\u001b[0m\r\u001b[2K     \u001b[91m━━━━━━━━━━\u001b[0m\u001b[91m╸\u001b[0m\u001b[90m━━━━━━━━━━━━━━━━━━━━━━━━━━━━━\u001b[0m \u001b[32m0.3/1.1 MB\u001b[0m \u001b[31m8.4 MB/s\u001b[0m eta \u001b[36m0:00:01\u001b[0m\r\u001b[2K     \u001b[90m━━━━━━━━━━━━━━━━━━━━━━━━━━━━━━━━━━━━━━━━\u001b[0m \u001b[32m1.1/1.1 MB\u001b[0m \u001b[31m18.3 MB/s\u001b[0m eta \u001b[36m0:00:00\u001b[0m\n",
            "\u001b[?25hRequirement already satisfied: absl-py in /usr/local/lib/python3.10/dist-packages (from keras==3.2.1) (1.4.0)\n",
            "Requirement already satisfied: numpy in /usr/local/lib/python3.10/dist-packages (from keras==3.2.1) (1.25.2)\n",
            "Requirement already satisfied: rich in /usr/local/lib/python3.10/dist-packages (from keras==3.2.1) (13.7.1)\n",
            "Collecting namex (from keras==3.2.1)\n",
            "  Downloading namex-0.0.8-py3-none-any.whl (5.8 kB)\n",
            "Requirement already satisfied: h5py in /usr/local/lib/python3.10/dist-packages (from keras==3.2.1) (3.9.0)\n",
            "Collecting optree (from keras==3.2.1)\n",
            "  Downloading optree-0.11.0-cp310-cp310-manylinux_2_17_x86_64.manylinux2014_x86_64.whl (311 kB)\n",
            "\u001b[2K     \u001b[90m━━━━━━━━━━━━━━━━━━━━━━━━━━━━━━━━━━━━━━━━\u001b[0m \u001b[32m311.2/311.2 kB\u001b[0m \u001b[31m27.2 MB/s\u001b[0m eta \u001b[36m0:00:00\u001b[0m\n",
            "\u001b[?25hRequirement already satisfied: ml-dtypes in /usr/local/lib/python3.10/dist-packages (from keras==3.2.1) (0.2.0)\n",
            "Requirement already satisfied: typing-extensions>=4.0.0 in /usr/local/lib/python3.10/dist-packages (from optree->keras==3.2.1) (4.12.2)\n",
            "Requirement already satisfied: markdown-it-py>=2.2.0 in /usr/local/lib/python3.10/dist-packages (from rich->keras==3.2.1) (3.0.0)\n",
            "Requirement already satisfied: pygments<3.0.0,>=2.13.0 in /usr/local/lib/python3.10/dist-packages (from rich->keras==3.2.1) (2.16.1)\n",
            "Requirement already satisfied: mdurl~=0.1 in /usr/local/lib/python3.10/dist-packages (from markdown-it-py>=2.2.0->rich->keras==3.2.1) (0.1.2)\n",
            "Installing collected packages: namex, optree, keras\n",
            "  Attempting uninstall: keras\n",
            "    Found existing installation: keras 2.15.0\n",
            "    Uninstalling keras-2.15.0:\n",
            "      Successfully uninstalled keras-2.15.0\n",
            "\u001b[31mERROR: pip's dependency resolver does not currently take into account all the packages that are installed. This behaviour is the source of the following dependency conflicts.\n",
            "tensorflow 2.15.0 requires keras<2.16,>=2.15.0, but you have keras 3.2.1 which is incompatible.\u001b[0m\u001b[31m\n",
            "\u001b[0mSuccessfully installed keras-3.2.1 namex-0.0.8 optree-0.11.0\n"
          ]
        }
      ],
      "source": [
        "!pip install keras==3.2.1\n"
      ]
    },
    {
      "cell_type": "code",
      "execution_count": 2,
      "metadata": {
        "colab": {
          "base_uri": "https://localhost:8080/",
          "height": 35
        },
        "id": "9simieHGa7SD",
        "outputId": "563cede4-2c84-4936-97c9-73e207f6b19b"
      },
      "outputs": [
        {
          "output_type": "execute_result",
          "data": {
            "text/plain": [
              "'3.2.1'"
            ],
            "application/vnd.google.colaboratory.intrinsic+json": {
              "type": "string"
            }
          },
          "metadata": {},
          "execution_count": 2
        }
      ],
      "source": [
        "import keras\n",
        "keras.__version__"
      ]
    },
    {
      "cell_type": "code",
      "execution_count": 3,
      "metadata": {
        "colab": {
          "base_uri": "https://localhost:8080/"
        },
        "id": "acQ96Q3taTnS",
        "outputId": "42f0ffc1-95e2-485f-98a4-d737ca7ee767"
      },
      "outputs": [
        {
          "output_type": "stream",
          "name": "stdout",
          "text": [
            "2.15.0\n",
            "0.4.26\n"
          ]
        }
      ],
      "source": [
        "import os\n",
        "os.environ[\"KERAS_BACKEND\"] = \"jax\"\n",
        "\n",
        "import gc\n",
        "import numpy as np\n",
        "import pandas as pd\n",
        "import polars as pl\n",
        "import matplotlib.pyplot as plt\n",
        "\n",
        "import tensorflow as tf\n",
        "import jax\n",
        "import keras\n",
        "\n",
        "from sklearn import metrics\n",
        "\n",
        "from tqdm.notebook import tqdm\n",
        "\n",
        "print(tf.__version__)\n",
        "print(jax.__version__)"
      ]
    },
    {
      "cell_type": "code",
      "execution_count": 4,
      "metadata": {
        "colab": {
          "base_uri": "https://localhost:8080/"
        },
        "id": "Fv8fU_nsC1Cw",
        "outputId": "e04322c5-44f5-421e-cf37-f5173c2bf1ab"
      },
      "outputs": [
        {
          "output_type": "stream",
          "name": "stdout",
          "text": [
            "Mounted at /content/drive\n",
            "Requirement already satisfied: kaggle in /usr/local/lib/python3.10/dist-packages (1.6.14)\n",
            "Requirement already satisfied: six>=1.10 in /usr/local/lib/python3.10/dist-packages (from kaggle) (1.16.0)\n",
            "Requirement already satisfied: certifi>=2023.7.22 in /usr/local/lib/python3.10/dist-packages (from kaggle) (2024.6.2)\n",
            "Requirement already satisfied: python-dateutil in /usr/local/lib/python3.10/dist-packages (from kaggle) (2.8.2)\n",
            "Requirement already satisfied: requests in /usr/local/lib/python3.10/dist-packages (from kaggle) (2.31.0)\n",
            "Requirement already satisfied: tqdm in /usr/local/lib/python3.10/dist-packages (from kaggle) (4.66.4)\n",
            "Requirement already satisfied: python-slugify in /usr/local/lib/python3.10/dist-packages (from kaggle) (8.0.4)\n",
            "Requirement already satisfied: urllib3 in /usr/local/lib/python3.10/dist-packages (from kaggle) (2.0.7)\n",
            "Requirement already satisfied: bleach in /usr/local/lib/python3.10/dist-packages (from kaggle) (6.1.0)\n",
            "Requirement already satisfied: webencodings in /usr/local/lib/python3.10/dist-packages (from bleach->kaggle) (0.5.1)\n",
            "Requirement already satisfied: text-unidecode>=1.3 in /usr/local/lib/python3.10/dist-packages (from python-slugify->kaggle) (1.3)\n",
            "Requirement already satisfied: charset-normalizer<4,>=2 in /usr/local/lib/python3.10/dist-packages (from requests->kaggle) (3.3.2)\n",
            "Requirement already satisfied: idna<4,>=2.5 in /usr/local/lib/python3.10/dist-packages (from requests->kaggle) (3.7)\n"
          ]
        }
      ],
      "source": [
        "import os\n",
        "\n",
        "from google.colab import drive\n",
        "\n",
        "INIT=True\n",
        "PATH=\"/content\"\n",
        "\n",
        "if INIT:\n",
        "  drive.mount('/content/drive')\n",
        "  ! pip install kaggle\n",
        "\n",
        "  !mkdir ~/.kaggle\n",
        "\n",
        "\n",
        "  ! cp kaggle.json ~/.kaggle/\n",
        "  ! chmod 600 ~/.kaggle/kaggle.json"
      ]
    },
    {
      "cell_type": "code",
      "execution_count": 5,
      "metadata": {
        "id": "aIGXitQ8DDFv",
        "colab": {
          "base_uri": "https://localhost:8080/"
        },
        "outputId": "49ebfef6-5d40-438c-b293-423516438cad"
      },
      "outputs": [
        {
          "output_type": "stream",
          "name": "stdout",
          "text": [
            "Downloading leap-atmospheric-physics-ai-climsim.zip to /content\n",
            "100% 72.5G/72.5G [1:01:01<00:00, 15.1MB/s]\n",
            "100% 72.5G/72.5G [1:01:01<00:00, 21.3MB/s]\n"
          ]
        }
      ],
      "source": [
        "! kaggle competitions download -c leap-atmospheric-physics-ai-climsim"
      ]
    },
    {
      "cell_type": "code",
      "execution_count": 6,
      "metadata": {
        "colab": {
          "base_uri": "https://localhost:8080/"
        },
        "id": "bP-bxVE_DJfv",
        "outputId": "131ec20c-eb95-4e01-adc1-27d513f61553"
      },
      "outputs": [
        {
          "output_type": "stream",
          "name": "stdout",
          "text": [
            "Dataset URL: https://www.kaggle.com/datasets/abiolatti/leap-train-tfrecords\n",
            "License(s): unknown\n",
            "Downloading leap-train-tfrecords.zip to /content\n",
            "100% 26.7G/26.7G [25:17<00:00, 20.4MB/s]\n",
            "100% 26.7G/26.7G [25:17<00:00, 18.9MB/s]\n",
            "Archive:  leap-train-tfrecords.zip\n",
            "  inflating: leap-train-tfrecords/train_000.tfrec  \n",
            "  inflating: leap-train-tfrecords/train_001.tfrec  \n",
            "  inflating: leap-train-tfrecords/train_002.tfrec  \n",
            "  inflating: leap-train-tfrecords/train_003.tfrec  \n",
            "  inflating: leap-train-tfrecords/train_004.tfrec  \n",
            "  inflating: leap-train-tfrecords/train_005.tfrec  \n",
            "  inflating: leap-train-tfrecords/train_006.tfrec  \n",
            "  inflating: leap-train-tfrecords/train_007.tfrec  \n",
            "  inflating: leap-train-tfrecords/train_008.tfrec  \n",
            "  inflating: leap-train-tfrecords/train_009.tfrec  \n",
            "  inflating: leap-train-tfrecords/train_010.tfrec  \n",
            "  inflating: leap-train-tfrecords/train_011.tfrec  \n",
            "  inflating: leap-train-tfrecords/train_012.tfrec  \n",
            "  inflating: leap-train-tfrecords/train_013.tfrec  \n",
            "  inflating: leap-train-tfrecords/train_014.tfrec  \n",
            "  inflating: leap-train-tfrecords/train_015.tfrec  \n",
            "  inflating: leap-train-tfrecords/train_016.tfrec  \n",
            "  inflating: leap-train-tfrecords/train_017.tfrec  \n",
            "  inflating: leap-train-tfrecords/train_018.tfrec  \n",
            "  inflating: leap-train-tfrecords/train_019.tfrec  \n",
            "  inflating: leap-train-tfrecords/train_020.tfrec  \n",
            "  inflating: leap-train-tfrecords/train_021.tfrec  \n",
            "  inflating: leap-train-tfrecords/train_022.tfrec  \n",
            "  inflating: leap-train-tfrecords/train_023.tfrec  \n",
            "  inflating: leap-train-tfrecords/train_024.tfrec  \n",
            "  inflating: leap-train-tfrecords/train_025.tfrec  \n",
            "  inflating: leap-train-tfrecords/train_026.tfrec  \n",
            "  inflating: leap-train-tfrecords/train_027.tfrec  \n",
            "  inflating: leap-train-tfrecords/train_028.tfrec  \n",
            "  inflating: leap-train-tfrecords/train_029.tfrec  \n",
            "  inflating: leap-train-tfrecords/train_030.tfrec  \n",
            "  inflating: leap-train-tfrecords/train_031.tfrec  \n",
            "  inflating: leap-train-tfrecords/train_032.tfrec  \n",
            "  inflating: leap-train-tfrecords/train_033.tfrec  \n",
            "  inflating: leap-train-tfrecords/train_034.tfrec  \n",
            "  inflating: leap-train-tfrecords/train_035.tfrec  \n",
            "  inflating: leap-train-tfrecords/train_036.tfrec  \n",
            "  inflating: leap-train-tfrecords/train_037.tfrec  \n",
            "  inflating: leap-train-tfrecords/train_038.tfrec  \n",
            "  inflating: leap-train-tfrecords/train_039.tfrec  \n",
            "  inflating: leap-train-tfrecords/train_040.tfrec  \n",
            "  inflating: leap-train-tfrecords/train_041.tfrec  \n",
            "  inflating: leap-train-tfrecords/train_042.tfrec  \n",
            "  inflating: leap-train-tfrecords/train_043.tfrec  \n",
            "  inflating: leap-train-tfrecords/train_044.tfrec  \n",
            "  inflating: leap-train-tfrecords/train_045.tfrec  \n",
            "  inflating: leap-train-tfrecords/train_046.tfrec  \n",
            "  inflating: leap-train-tfrecords/train_047.tfrec  \n",
            "  inflating: leap-train-tfrecords/train_048.tfrec  \n",
            "  inflating: leap-train-tfrecords/train_049.tfrec  \n",
            "  inflating: leap-train-tfrecords/train_050.tfrec  \n",
            "  inflating: leap-train-tfrecords/train_051.tfrec  \n",
            "  inflating: leap-train-tfrecords/train_052.tfrec  \n",
            "  inflating: leap-train-tfrecords/train_053.tfrec  \n",
            "  inflating: leap-train-tfrecords/train_054.tfrec  \n",
            "  inflating: leap-train-tfrecords/train_055.tfrec  \n",
            "  inflating: leap-train-tfrecords/train_056.tfrec  \n",
            "  inflating: leap-train-tfrecords/train_057.tfrec  \n",
            "  inflating: leap-train-tfrecords/train_058.tfrec  \n",
            "  inflating: leap-train-tfrecords/train_059.tfrec  \n",
            "  inflating: leap-train-tfrecords/train_060.tfrec  \n",
            "  inflating: leap-train-tfrecords/train_061.tfrec  \n",
            "  inflating: leap-train-tfrecords/train_062.tfrec  \n",
            "  inflating: leap-train-tfrecords/train_063.tfrec  \n",
            "  inflating: leap-train-tfrecords/train_064.tfrec  \n",
            "  inflating: leap-train-tfrecords/train_065.tfrec  \n",
            "  inflating: leap-train-tfrecords/train_066.tfrec  \n",
            "  inflating: leap-train-tfrecords/train_067.tfrec  \n",
            "  inflating: leap-train-tfrecords/train_068.tfrec  \n",
            "  inflating: leap-train-tfrecords/train_069.tfrec  \n",
            "  inflating: leap-train-tfrecords/train_070.tfrec  \n",
            "  inflating: leap-train-tfrecords/train_071.tfrec  \n",
            "  inflating: leap-train-tfrecords/train_072.tfrec  \n",
            "  inflating: leap-train-tfrecords/train_073.tfrec  \n",
            "  inflating: leap-train-tfrecords/train_074.tfrec  \n",
            "  inflating: leap-train-tfrecords/train_075.tfrec  \n",
            "  inflating: leap-train-tfrecords/train_076.tfrec  \n",
            "  inflating: leap-train-tfrecords/train_077.tfrec  \n",
            "  inflating: leap-train-tfrecords/train_078.tfrec  \n",
            "  inflating: leap-train-tfrecords/train_079.tfrec  \n",
            "  inflating: leap-train-tfrecords/train_080.tfrec  \n",
            "  inflating: leap-train-tfrecords/train_081.tfrec  \n",
            "  inflating: leap-train-tfrecords/train_082.tfrec  \n",
            "  inflating: leap-train-tfrecords/train_083.tfrec  \n",
            "  inflating: leap-train-tfrecords/train_084.tfrec  \n",
            "  inflating: leap-train-tfrecords/train_085.tfrec  \n",
            "  inflating: leap-train-tfrecords/train_086.tfrec  \n",
            "  inflating: leap-train-tfrecords/train_087.tfrec  \n",
            "  inflating: leap-train-tfrecords/train_088.tfrec  \n",
            "  inflating: leap-train-tfrecords/train_089.tfrec  \n",
            "  inflating: leap-train-tfrecords/train_090.tfrec  \n",
            "  inflating: leap-train-tfrecords/train_091.tfrec  \n",
            "  inflating: leap-train-tfrecords/train_092.tfrec  \n",
            "  inflating: leap-train-tfrecords/train_093.tfrec  \n",
            "  inflating: leap-train-tfrecords/train_094.tfrec  \n",
            "  inflating: leap-train-tfrecords/train_095.tfrec  \n",
            "  inflating: leap-train-tfrecords/train_096.tfrec  \n",
            "  inflating: leap-train-tfrecords/train_097.tfrec  \n",
            "  inflating: leap-train-tfrecords/train_098.tfrec  \n",
            "  inflating: leap-train-tfrecords/train_099.tfrec  \n",
            "  inflating: leap-train-tfrecords/train_100.tfrec  \n"
          ]
        }
      ],
      "source": [
        "! kaggle datasets download -d abiolatti/leap-train-tfrecords\n",
        "! unzip -o  leap-train-tfrecords.zip -d    leap-train-tfrecords"
      ]
    },
    {
      "cell_type": "code",
      "execution_count": 7,
      "metadata": {
        "id": "rIuLXqFyBJD-"
      },
      "outputs": [],
      "source": [
        "SEED = 42\n",
        "keras.utils.set_random_seed(SEED)\n",
        "tf.random.set_seed(SEED)\n",
        "tf.config.experimental.enable_op_determinism()"
      ]
    },
    {
      "cell_type": "code",
      "execution_count": 8,
      "metadata": {
        "id": "W0aCIYMfBJD-"
      },
      "outputs": [],
      "source": [
        "\n",
        "DATA_TFREC = \"leap-train-tfrecords\""
      ]
    },
    {
      "cell_type": "code",
      "execution_count": 9,
      "metadata": {
        "id": "q3--mfj3BJD_"
      },
      "outputs": [],
      "source": [
        "\n",
        "TARGETS = ['ptend_t_0',\n",
        " 'ptend_t_1',\n",
        " 'ptend_t_2',\n",
        " 'ptend_t_3',\n",
        " 'ptend_t_4',\n",
        " 'ptend_t_5',\n",
        " 'ptend_t_6',\n",
        " 'ptend_t_7',\n",
        " 'ptend_t_8',\n",
        " 'ptend_t_9',\n",
        " 'ptend_t_10',\n",
        " 'ptend_t_11',\n",
        " 'ptend_t_12',\n",
        " 'ptend_t_13',\n",
        " 'ptend_t_14',\n",
        " 'ptend_t_15',\n",
        " 'ptend_t_16',\n",
        " 'ptend_t_17',\n",
        " 'ptend_t_18',\n",
        " 'ptend_t_19',\n",
        " 'ptend_t_20',\n",
        " 'ptend_t_21',\n",
        " 'ptend_t_22',\n",
        " 'ptend_t_23',\n",
        " 'ptend_t_24',\n",
        " 'ptend_t_25',\n",
        " 'ptend_t_26',\n",
        " 'ptend_t_27',\n",
        " 'ptend_t_28',\n",
        " 'ptend_t_29',\n",
        " 'ptend_t_30',\n",
        " 'ptend_t_31',\n",
        " 'ptend_t_32',\n",
        " 'ptend_t_33',\n",
        " 'ptend_t_34',\n",
        " 'ptend_t_35',\n",
        " 'ptend_t_36',\n",
        " 'ptend_t_37',\n",
        " 'ptend_t_38',\n",
        " 'ptend_t_39',\n",
        " 'ptend_t_40',\n",
        " 'ptend_t_41',\n",
        " 'ptend_t_42',\n",
        " 'ptend_t_43',\n",
        " 'ptend_t_44',\n",
        " 'ptend_t_45',\n",
        " 'ptend_t_46',\n",
        " 'ptend_t_47',\n",
        " 'ptend_t_48',\n",
        " 'ptend_t_49',\n",
        " 'ptend_t_50',\n",
        " 'ptend_t_51',\n",
        " 'ptend_t_52',\n",
        " 'ptend_t_53',\n",
        " 'ptend_t_54',\n",
        " 'ptend_t_55',\n",
        " 'ptend_t_56',\n",
        " 'ptend_t_57',\n",
        " 'ptend_t_58',\n",
        " 'ptend_t_59',\n",
        " 'ptend_q0001_0',\n",
        " 'ptend_q0001_1',\n",
        " 'ptend_q0001_2',\n",
        " 'ptend_q0001_3',\n",
        " 'ptend_q0001_4',\n",
        " 'ptend_q0001_5',\n",
        " 'ptend_q0001_6',\n",
        " 'ptend_q0001_7',\n",
        " 'ptend_q0001_8',\n",
        " 'ptend_q0001_9',\n",
        " 'ptend_q0001_10',\n",
        " 'ptend_q0001_11',\n",
        " 'ptend_q0001_12',\n",
        " 'ptend_q0001_13',\n",
        " 'ptend_q0001_14',\n",
        " 'ptend_q0001_15',\n",
        " 'ptend_q0001_16',\n",
        " 'ptend_q0001_17',\n",
        " 'ptend_q0001_18',\n",
        " 'ptend_q0001_19',\n",
        " 'ptend_q0001_20',\n",
        " 'ptend_q0001_21',\n",
        " 'ptend_q0001_22',\n",
        " 'ptend_q0001_23',\n",
        " 'ptend_q0001_24',\n",
        " 'ptend_q0001_25',\n",
        " 'ptend_q0001_26',\n",
        " 'ptend_q0001_27',\n",
        " 'ptend_q0001_28',\n",
        " 'ptend_q0001_29',\n",
        " 'ptend_q0001_30',\n",
        " 'ptend_q0001_31',\n",
        " 'ptend_q0001_32',\n",
        " 'ptend_q0001_33',\n",
        " 'ptend_q0001_34',\n",
        " 'ptend_q0001_35',\n",
        " 'ptend_q0001_36',\n",
        " 'ptend_q0001_37',\n",
        " 'ptend_q0001_38',\n",
        " 'ptend_q0001_39',\n",
        " 'ptend_q0001_40',\n",
        " 'ptend_q0001_41',\n",
        " 'ptend_q0001_42',\n",
        " 'ptend_q0001_43',\n",
        " 'ptend_q0001_44',\n",
        " 'ptend_q0001_45',\n",
        " 'ptend_q0001_46',\n",
        " 'ptend_q0001_47',\n",
        " 'ptend_q0001_48',\n",
        " 'ptend_q0001_49',\n",
        " 'ptend_q0001_50',\n",
        " 'ptend_q0001_51',\n",
        " 'ptend_q0001_52',\n",
        " 'ptend_q0001_53',\n",
        " 'ptend_q0001_54',\n",
        " 'ptend_q0001_55',\n",
        " 'ptend_q0001_56',\n",
        " 'ptend_q0001_57',\n",
        " 'ptend_q0001_58',\n",
        " 'ptend_q0001_59',\n",
        " 'ptend_q0002_0',\n",
        " 'ptend_q0002_1',\n",
        " 'ptend_q0002_2',\n",
        " 'ptend_q0002_3',\n",
        " 'ptend_q0002_4',\n",
        " 'ptend_q0002_5',\n",
        " 'ptend_q0002_6',\n",
        " 'ptend_q0002_7',\n",
        " 'ptend_q0002_8',\n",
        " 'ptend_q0002_9',\n",
        " 'ptend_q0002_10',\n",
        " 'ptend_q0002_11',\n",
        " 'ptend_q0002_12',\n",
        " 'ptend_q0002_13',\n",
        " 'ptend_q0002_14',\n",
        " 'ptend_q0002_15',\n",
        " 'ptend_q0002_16',\n",
        " 'ptend_q0002_17',\n",
        " 'ptend_q0002_18',\n",
        " 'ptend_q0002_19',\n",
        " 'ptend_q0002_20',\n",
        " 'ptend_q0002_21',\n",
        " 'ptend_q0002_22',\n",
        " 'ptend_q0002_23',\n",
        " 'ptend_q0002_24',\n",
        " 'ptend_q0002_25',\n",
        " 'ptend_q0002_26',\n",
        " 'ptend_q0002_27',\n",
        " 'ptend_q0002_28',\n",
        " 'ptend_q0002_29',\n",
        " 'ptend_q0002_30',\n",
        " 'ptend_q0002_31',\n",
        " 'ptend_q0002_32',\n",
        " 'ptend_q0002_33',\n",
        " 'ptend_q0002_34',\n",
        " 'ptend_q0002_35',\n",
        " 'ptend_q0002_36',\n",
        " 'ptend_q0002_37',\n",
        " 'ptend_q0002_38',\n",
        " 'ptend_q0002_39',\n",
        " 'ptend_q0002_40',\n",
        " 'ptend_q0002_41',\n",
        " 'ptend_q0002_42',\n",
        " 'ptend_q0002_43',\n",
        " 'ptend_q0002_44',\n",
        " 'ptend_q0002_45',\n",
        " 'ptend_q0002_46',\n",
        " 'ptend_q0002_47',\n",
        " 'ptend_q0002_48',\n",
        " 'ptend_q0002_49',\n",
        " 'ptend_q0002_50',\n",
        " 'ptend_q0002_51',\n",
        " 'ptend_q0002_52',\n",
        " 'ptend_q0002_53',\n",
        " 'ptend_q0002_54',\n",
        " 'ptend_q0002_55',\n",
        " 'ptend_q0002_56',\n",
        " 'ptend_q0002_57',\n",
        " 'ptend_q0002_58',\n",
        " 'ptend_q0002_59',\n",
        " 'ptend_q0003_0',\n",
        " 'ptend_q0003_1',\n",
        " 'ptend_q0003_2',\n",
        " 'ptend_q0003_3',\n",
        " 'ptend_q0003_4',\n",
        " 'ptend_q0003_5',\n",
        " 'ptend_q0003_6',\n",
        " 'ptend_q0003_7',\n",
        " 'ptend_q0003_8',\n",
        " 'ptend_q0003_9',\n",
        " 'ptend_q0003_10',\n",
        " 'ptend_q0003_11',\n",
        " 'ptend_q0003_12',\n",
        " 'ptend_q0003_13',\n",
        " 'ptend_q0003_14',\n",
        " 'ptend_q0003_15',\n",
        " 'ptend_q0003_16',\n",
        " 'ptend_q0003_17',\n",
        " 'ptend_q0003_18',\n",
        " 'ptend_q0003_19',\n",
        " 'ptend_q0003_20',\n",
        " 'ptend_q0003_21',\n",
        " 'ptend_q0003_22',\n",
        " 'ptend_q0003_23',\n",
        " 'ptend_q0003_24',\n",
        " 'ptend_q0003_25',\n",
        " 'ptend_q0003_26',\n",
        " 'ptend_q0003_27',\n",
        " 'ptend_q0003_28',\n",
        " 'ptend_q0003_29',\n",
        " 'ptend_q0003_30',\n",
        " 'ptend_q0003_31',\n",
        " 'ptend_q0003_32',\n",
        " 'ptend_q0003_33',\n",
        " 'ptend_q0003_34',\n",
        " 'ptend_q0003_35',\n",
        " 'ptend_q0003_36',\n",
        " 'ptend_q0003_37',\n",
        " 'ptend_q0003_38',\n",
        " 'ptend_q0003_39',\n",
        " 'ptend_q0003_40',\n",
        " 'ptend_q0003_41',\n",
        " 'ptend_q0003_42',\n",
        " 'ptend_q0003_43',\n",
        " 'ptend_q0003_44',\n",
        " 'ptend_q0003_45',\n",
        " 'ptend_q0003_46',\n",
        " 'ptend_q0003_47',\n",
        " 'ptend_q0003_48',\n",
        " 'ptend_q0003_49',\n",
        " 'ptend_q0003_50',\n",
        " 'ptend_q0003_51',\n",
        " 'ptend_q0003_52',\n",
        " 'ptend_q0003_53',\n",
        " 'ptend_q0003_54',\n",
        " 'ptend_q0003_55',\n",
        " 'ptend_q0003_56',\n",
        " 'ptend_q0003_57',\n",
        " 'ptend_q0003_58',\n",
        " 'ptend_q0003_59',\n",
        " 'ptend_u_0',\n",
        " 'ptend_u_1',\n",
        " 'ptend_u_2',\n",
        " 'ptend_u_3',\n",
        " 'ptend_u_4',\n",
        " 'ptend_u_5',\n",
        " 'ptend_u_6',\n",
        " 'ptend_u_7',\n",
        " 'ptend_u_8',\n",
        " 'ptend_u_9',\n",
        " 'ptend_u_10',\n",
        " 'ptend_u_11',\n",
        " 'ptend_u_12',\n",
        " 'ptend_u_13',\n",
        " 'ptend_u_14',\n",
        " 'ptend_u_15',\n",
        " 'ptend_u_16',\n",
        " 'ptend_u_17',\n",
        " 'ptend_u_18',\n",
        " 'ptend_u_19',\n",
        " 'ptend_u_20',\n",
        " 'ptend_u_21',\n",
        " 'ptend_u_22',\n",
        " 'ptend_u_23',\n",
        " 'ptend_u_24',\n",
        " 'ptend_u_25',\n",
        " 'ptend_u_26',\n",
        " 'ptend_u_27',\n",
        " 'ptend_u_28',\n",
        " 'ptend_u_29',\n",
        " 'ptend_u_30',\n",
        " 'ptend_u_31',\n",
        " 'ptend_u_32',\n",
        " 'ptend_u_33',\n",
        " 'ptend_u_34',\n",
        " 'ptend_u_35',\n",
        " 'ptend_u_36',\n",
        " 'ptend_u_37',\n",
        " 'ptend_u_38',\n",
        " 'ptend_u_39',\n",
        " 'ptend_u_40',\n",
        " 'ptend_u_41',\n",
        " 'ptend_u_42',\n",
        " 'ptend_u_43',\n",
        " 'ptend_u_44',\n",
        " 'ptend_u_45',\n",
        " 'ptend_u_46',\n",
        " 'ptend_u_47',\n",
        " 'ptend_u_48',\n",
        " 'ptend_u_49',\n",
        " 'ptend_u_50',\n",
        " 'ptend_u_51',\n",
        " 'ptend_u_52',\n",
        " 'ptend_u_53',\n",
        " 'ptend_u_54',\n",
        " 'ptend_u_55',\n",
        " 'ptend_u_56',\n",
        " 'ptend_u_57',\n",
        " 'ptend_u_58',\n",
        " 'ptend_u_59',\n",
        " 'ptend_v_0',\n",
        " 'ptend_v_1',\n",
        " 'ptend_v_2',\n",
        " 'ptend_v_3',\n",
        " 'ptend_v_4',\n",
        " 'ptend_v_5',\n",
        " 'ptend_v_6',\n",
        " 'ptend_v_7',\n",
        " 'ptend_v_8',\n",
        " 'ptend_v_9',\n",
        " 'ptend_v_10',\n",
        " 'ptend_v_11',\n",
        " 'ptend_v_12',\n",
        " 'ptend_v_13',\n",
        " 'ptend_v_14',\n",
        " 'ptend_v_15',\n",
        " 'ptend_v_16',\n",
        " 'ptend_v_17',\n",
        " 'ptend_v_18',\n",
        " 'ptend_v_19',\n",
        " 'ptend_v_20',\n",
        " 'ptend_v_21',\n",
        " 'ptend_v_22',\n",
        " 'ptend_v_23',\n",
        " 'ptend_v_24',\n",
        " 'ptend_v_25',\n",
        " 'ptend_v_26',\n",
        " 'ptend_v_27',\n",
        " 'ptend_v_28',\n",
        " 'ptend_v_29',\n",
        " 'ptend_v_30',\n",
        " 'ptend_v_31',\n",
        " 'ptend_v_32',\n",
        " 'ptend_v_33',\n",
        " 'ptend_v_34',\n",
        " 'ptend_v_35',\n",
        " 'ptend_v_36',\n",
        " 'ptend_v_37',\n",
        " 'ptend_v_38',\n",
        " 'ptend_v_39',\n",
        " 'ptend_v_40',\n",
        " 'ptend_v_41',\n",
        " 'ptend_v_42',\n",
        " 'ptend_v_43',\n",
        " 'ptend_v_44',\n",
        " 'ptend_v_45',\n",
        " 'ptend_v_46',\n",
        " 'ptend_v_47',\n",
        " 'ptend_v_48',\n",
        " 'ptend_v_49',\n",
        " 'ptend_v_50',\n",
        " 'ptend_v_51',\n",
        " 'ptend_v_52',\n",
        " 'ptend_v_53',\n",
        " 'ptend_v_54',\n",
        " 'ptend_v_55',\n",
        " 'ptend_v_56',\n",
        " 'ptend_v_57',\n",
        " 'ptend_v_58',\n",
        " 'ptend_v_59',\n",
        " 'cam_out_NETSW',\n",
        " 'cam_out_FLWDS',\n",
        " 'cam_out_PRECSC',\n",
        " 'cam_out_PRECC',\n",
        " 'cam_out_SOLS',\n",
        " 'cam_out_SOLL',\n",
        " 'cam_out_SOLSD',\n",
        " 'cam_out_SOLLD']"
      ]
    },
    {
      "cell_type": "code",
      "execution_count": 10,
      "metadata": {
        "colab": {
          "base_uri": "https://localhost:8080/"
        },
        "id": "u1DhfsrSmAYc",
        "outputId": "62707cc5-2323-400c-f412-118ac60b8400"
      },
      "outputs": [
        {
          "output_type": "execute_result",
          "data": {
            "text/plain": [
              "tf.float32"
            ]
          },
          "metadata": {},
          "execution_count": 10
        }
      ],
      "source": [
        "tf.float32"
      ]
    },
    {
      "cell_type": "code",
      "execution_count": 11,
      "metadata": {
        "id": "cBryzm6fBJD_"
      },
      "outputs": [],
      "source": [
        "def _parse_function(example_proto):\n",
        "    feature_description = {\n",
        "        'x': tf.io.FixedLenFeature([556],    dtype=tf.float32),\n",
        "        'targets': tf.io.FixedLenFeature([368],    dtype=tf.float32)\n",
        "    }\n",
        "    e = tf.io.parse_single_example(example_proto, feature_description)\n",
        "    return e['x'], e['targets']"
      ]
    },
    {
      "cell_type": "code",
      "execution_count": 12,
      "metadata": {
        "id": "wX7dr7xEBJD_"
      },
      "outputs": [],
      "source": [
        "train_files = [os.path.join(DATA_TFREC, \"train_%.3d.tfrec\" % i) for i in range(75)]\n",
        "valid_files = [os.path.join(DATA_TFREC, \"train_%.3d.tfrec\" % i) for i in range(75, 101)]"
      ]
    },
    {
      "cell_type": "code",
      "execution_count": 13,
      "metadata": {
        "id": "rz-Kf9q6BJD_"
      },
      "outputs": [],
      "source": [
        "BATCH_SIZE = 4096\n",
        "\n",
        "train_options = tf.data.Options()\n",
        "train_options.deterministic = True\n",
        "\n",
        "ds_train = (\n",
        "    tf.data.Dataset.from_tensor_slices(train_files)\n",
        "    .with_options(train_options)\n",
        "    .shuffle(100)\n",
        "    .interleave(\n",
        "        lambda file: tf.data.TFRecordDataset(file).map(_parse_function, num_parallel_calls=tf.data.AUTOTUNE),\n",
        "        num_parallel_calls=tf.data.AUTOTUNE,\n",
        "        cycle_length=10,\n",
        "        block_length=1000,\n",
        "        deterministic=True\n",
        "    )\n",
        "    .shuffle(4 * BATCH_SIZE)\n",
        "    .batch(BATCH_SIZE)\n",
        "    .prefetch(tf.data.AUTOTUNE)\n",
        ")\n",
        "\n",
        "ds_valid = (\n",
        "    tf.data.TFRecordDataset(valid_files)\n",
        "    .map(_parse_function)\n",
        "    .batch(BATCH_SIZE)\n",
        "    .prefetch(tf.data.AUTOTUNE)\n",
        ")"
      ]
    },
    {
      "cell_type": "code",
      "execution_count": 14,
      "metadata": {
        "id": "vvEorLUoBJD_"
      },
      "outputs": [],
      "source": [
        "norm_x = keras.layers.Normalization()\n",
        "norm_x.adapt(ds_train.map(lambda x, y: x))\n",
        "\n"
      ]
    },
    {
      "cell_type": "code",
      "execution_count": 15,
      "metadata": {
        "id": "j3Bq6J0JBJD_"
      },
      "outputs": [],
      "source": [
        "norm_y = keras.layers.Normalization()\n",
        "norm_y.adapt(ds_train.map(lambda x, y: y))\n",
        "\n",
        "mean_y = norm_y.mean\n",
        "stdd_y = keras.ops.maximum(1e-10, norm_y.variance ** 0.5)\n",
        "\n",
        "\n"
      ]
    },
    {
      "cell_type": "markdown",
      "metadata": {
        "id": "lvcRG9CdBJEA"
      },
      "source": [
        "### Model definition & Training"
      ]
    },
    {
      "cell_type": "code",
      "execution_count": 16,
      "metadata": {
        "id": "ENpFXPZNBJEA"
      },
      "outputs": [],
      "source": [
        "import jax.numpy as jnp\n",
        "import keras"
      ]
    },
    {
      "cell_type": "code",
      "execution_count": 17,
      "metadata": {
        "id": "AcFT5FULBJEB",
        "colab": {
          "base_uri": "https://localhost:8080/",
          "height": 157
        },
        "outputId": "e3010543-ace4-485b-d523-e05d6141f401"
      },
      "outputs": [
        {
          "output_type": "execute_result",
          "data": {
            "text/plain": [
              "'@keras.saving.register_keras_serializable(package=\"MyMetrics\", name=\"ClippedR2Score\")\\nclass ClippedR2Score(keras.metrics.Metric):\\n    def __init__(self, name=\\'r2_score\\', **kwargs):\\n        super().__init__(name=name, **kwargs)\\n        self.base_metric = keras.metrics.R2Score(class_aggregation=None)\\n\\n    def update_state(self, y_true, y_pred, sample_weight=None):\\n        self.base_metric.update_state(y_true, y_pred, sample_weight=None)\\n\\n    def result(self):\\n\\n        vals_clipped = keras.ops.clip(self.base_metric.result(), 0.0, 1.0)\\n\\n    # Drop NaNs by replacing them with zeros\\n        #vals_clipped = tf.where(vals_clipped < 0,tf.zeros_like(vals_clipped), vals_clipped)\\n\\n    # Calculate the mean of the clipped values\\n        return tf.reduce_mean(vals_clipped)\\n\\n\\n    def reset_states(self):\\n        self.base_metric.reset_states()'"
            ],
            "application/vnd.google.colaboratory.intrinsic+json": {
              "type": "string"
            }
          },
          "metadata": {},
          "execution_count": 17
        }
      ],
      "source": [
        "\"\"\"@keras.saving.register_keras_serializable(package=\"MyMetrics\", name=\"ClippedR2Score\")\n",
        "class ClippedR2Score(keras.metrics.Metric):\n",
        "    def __init__(self, name='r2_score', **kwargs):\n",
        "        super().__init__(name=name, **kwargs)\n",
        "        self.base_metric = keras.metrics.R2Score(class_aggregation=None)\n",
        "\n",
        "    def update_state(self, y_true, y_pred, sample_weight=None):\n",
        "        self.base_metric.update_state(y_true, y_pred, sample_weight=None)\n",
        "\n",
        "    def result(self):\n",
        "\n",
        "        vals_clipped = keras.ops.clip(self.base_metric.result(), 0.0, 1.0)\n",
        "\n",
        "    # Drop NaNs by replacing them with zeros\n",
        "        #vals_clipped = tf.where(vals_clipped < 0,tf.zeros_like(vals_clipped), vals_clipped)\n",
        "\n",
        "    # Calculate the mean of the clipped values\n",
        "        return tf.reduce_mean(vals_clipped)\n",
        "\n",
        "\n",
        "    def reset_states(self):\n",
        "        self.base_metric.reset_states()\"\"\""
      ]
    },
    {
      "cell_type": "code",
      "execution_count": 18,
      "metadata": {
        "id": "yArQho5nQ8SJ"
      },
      "outputs": [],
      "source": [
        "@keras.saving.register_keras_serializable(package=\"MyMetrics\", name=\"ClippedR2Score\")\n",
        "class ClippedR2Score(keras.metrics.Metric):\n",
        "    def __init__(self, name='r2_score', **kwargs):\n",
        "        super().__init__(name=name, **kwargs)\n",
        "        self.base_metric = keras.metrics.R2Score(class_aggregation=None)\n",
        "\n",
        "    def update_state(self, y_true, y_pred, sample_weight=None):\n",
        "        self.base_metric.update_state(y_true, y_pred, sample_weight=None)\n",
        "\n",
        "    def result(self):\n",
        "        return keras.ops.mean(keras.ops.clip(self.base_metric.result(), 0.0, 1.0))\n",
        "\n",
        "    def reset_states(self):\n",
        "        self.base_metric.reset_states()"
      ]
    },
    {
      "cell_type": "code",
      "execution_count": 18,
      "metadata": {
        "id": "21gCF01LBJEB"
      },
      "outputs": [],
      "source": []
    },
    {
      "cell_type": "code",
      "execution_count": 19,
      "metadata": {
        "id": "3Ks3M_iwBJEB"
      },
      "outputs": [],
      "source": [
        "@keras.saving.register_keras_serializable()\n",
        "\n",
        "\n",
        "def r2_mult_keras(y_true, y_pred):\n",
        "\n",
        "    SS_res =  tf.reduce_sum((y_true - y_pred),axis=0)\n",
        "    SS_tot = tf.reduce_sum((y_true - tf.reduce_mean(y_true, axis=0 )),axis=0)\n",
        "    vals = 1 - SS_res/(SS_tot+0.00000000001)\n",
        "    vals_clipped = tf.where(vals < 0, tf.zeros_like(vals), vals)\n",
        "\n",
        "\n",
        "    return     tf.reduce_mean(vals_clipped )"
      ]
    },
    {
      "cell_type": "code",
      "execution_count": 20,
      "metadata": {
        "id": "k-20F8x4BJEB",
        "colab": {
          "base_uri": "https://localhost:8080/",
          "height": 430
        },
        "outputId": "65e22ba2-baee-411d-d56f-16f1f56f3033"
      },
      "outputs": [
        {
          "output_type": "display_data",
          "data": {
            "text/plain": [
              "<Figure size 640x480 with 1 Axes>"
            ],
            "image/png": "[encoded data removed]"
          },
          "metadata": {}
        }
      ],
      "source": [
        "epochs = 100  # 25  # 15  # 12\n",
        "learning_rate = 1e-3\n",
        "\n",
        "epochs_warmup = 1\n",
        "epochs_ending = 2\n",
        "steps_per_epoch = int(np.ceil(len(train_files) * 100_000 / BATCH_SIZE))\n",
        "\n",
        "lr_scheduler = keras.optimizers.schedules.CosineDecay(\n",
        "    1e-4,\n",
        "    (epochs - epochs_warmup - epochs_ending) * steps_per_epoch,\n",
        "    warmup_target=learning_rate,\n",
        "    warmup_steps=steps_per_epoch * epochs_warmup,\n",
        "    alpha=0.1\n",
        ")\n",
        "\n",
        "plt.plot([lr_scheduler(it) for it in range(0, epochs * steps_per_epoch, steps_per_epoch)]);"
      ]
    },
    {
      "cell_type": "code",
      "execution_count": 21,
      "metadata": {
        "id": "kMdXiELKYH0M",
        "colab": {
          "base_uri": "https://localhost:8080/",
          "height": 35
        },
        "outputId": "fe536720-b75d-49ef-87c0-b560ebc4c989"
      },
      "outputs": [
        {
          "output_type": "execute_result",
          "data": {
            "text/plain": [
              "'3.2.1'"
            ],
            "application/vnd.google.colaboratory.intrinsic+json": {
              "type": "string"
            }
          },
          "metadata": {},
          "execution_count": 21
        }
      ],
      "source": [
        "keras.__version__"
      ]
    },
    {
      "cell_type": "code",
      "execution_count": 22,
      "metadata": {
        "colab": {
          "base_uri": "https://localhost:8080/",
          "height": 1000
        },
        "id": "3yoZeBziBJEB",
        "outputId": "f2d2c719-ab65-4a97-b5a7-116c433b66e5"
      },
      "outputs": [
        {
          "output_type": "display_data",
          "data": {
            "text/plain": [
              "\u001b[1mModel: \"functional_3\"\u001b[0m\n"
            ],
            "text/html": [
              "<pre style=\"white-space:pre;overflow-x:auto;line-height:normal;font-family:Menlo,'DejaVu Sans Mono',consolas,'Courier New',monospace\"><span style=\"font-weight: bold\">Model: \"functional_3\"</span>\n",
              "</pre>\n"
            ]
          },
          "metadata": {}
        },
        {
          "output_type": "display_data",
          "data": {
            "text/plain": [
              "┏━━━━━━━━━━━━━━━━━━━━━━━━━━━┳━━━━━━━━━━━━━━━━━━━━━━━━┳━━━━━━━━━━━━━━━━┳━━━━━━━━━━━━━━━━━━━━━━━━┓\n",
              "┃\u001b[1m \u001b[0m\u001b[1mLayer (type)             \u001b[0m\u001b[1m \u001b[0m┃\u001b[1m \u001b[0m\u001b[1mOutput Shape          \u001b[0m\u001b[1m \u001b[0m┃\u001b[1m \u001b[0m\u001b[1m       Param #\u001b[0m\u001b[1m \u001b[0m┃\u001b[1m \u001b[0m\u001b[1mConnected to          \u001b[0m\u001b[1m \u001b[0m┃\n",
              "┡━━━━━━━━━━━━━━━━━━━━━━━━━━━╇━━━━━━━━━━━━━━━━━━━━━━━━╇━━━━━━━━━━━━━━━━╇━━━━━━━━━━━━━━━━━━━━━━━━┩\n",
              "│ input_layer (\u001b[38;5;33mInputLayer\u001b[0m)  │ (\u001b[38;5;45mNone\u001b[0m, \u001b[38;5;34m556\u001b[0m)            │              \u001b[38;5;34m0\u001b[0m │ -                      │\n",
              "├───────────────────────────┼────────────────────────┼────────────────┼────────────────────────┤\n",
              "│ normalization             │ (\u001b[38;5;45mNone\u001b[0m, \u001b[38;5;34m556\u001b[0m)            │              \u001b[38;5;34m0\u001b[0m │ input_layer[\u001b[38;5;34m0\u001b[0m][\u001b[38;5;34m0\u001b[0m]      │\n",
              "│ (\u001b[38;5;33mNormalization\u001b[0m)           │                        │                │                        │\n",
              "├───────────────────────────┼────────────────────────┼────────────────┼────────────────────────┤\n",
              "│ get_item (\u001b[38;5;33mGetItem\u001b[0m)        │ (\u001b[38;5;45mNone\u001b[0m, \u001b[38;5;34m360\u001b[0m)            │              \u001b[38;5;34m0\u001b[0m │ normalization[\u001b[38;5;34m0\u001b[0m][\u001b[38;5;34m0\u001b[0m]    │\n",
              "├───────────────────────────┼────────────────────────┼────────────────┼────────────────────────┤\n",
              "│ get_item_1 (\u001b[38;5;33mGetItem\u001b[0m)      │ (\u001b[38;5;45mNone\u001b[0m, \u001b[38;5;34m180\u001b[0m)            │              \u001b[38;5;34m0\u001b[0m │ normalization[\u001b[38;5;34m0\u001b[0m][\u001b[38;5;34m0\u001b[0m]    │\n",
              "├───────────────────────────┼────────────────────────┼────────────────┼────────────────────────┤\n",
              "│ get_item_2 (\u001b[38;5;33mGetItem\u001b[0m)      │ (\u001b[38;5;45mNone\u001b[0m, \u001b[38;5;34m16\u001b[0m)             │              \u001b[38;5;34m0\u001b[0m │ normalization[\u001b[38;5;34m0\u001b[0m][\u001b[38;5;34m0\u001b[0m]    │\n",
              "├───────────────────────────┼────────────────────────┼────────────────┼────────────────────────┤\n",
              "│ reshape (\u001b[38;5;33mReshape\u001b[0m)         │ (\u001b[38;5;45mNone\u001b[0m, \u001b[38;5;34m6\u001b[0m, \u001b[38;5;34m60\u001b[0m)          │              \u001b[38;5;34m0\u001b[0m │ get_item[\u001b[38;5;34m0\u001b[0m][\u001b[38;5;34m0\u001b[0m]         │\n",
              "├───────────────────────────┼────────────────────────┼────────────────┼────────────────────────┤\n",
              "│ reshape_1 (\u001b[38;5;33mReshape\u001b[0m)       │ (\u001b[38;5;45mNone\u001b[0m, \u001b[38;5;34m3\u001b[0m, \u001b[38;5;34m60\u001b[0m)          │              \u001b[38;5;34m0\u001b[0m │ get_item_1[\u001b[38;5;34m0\u001b[0m][\u001b[38;5;34m0\u001b[0m]       │\n",
              "├───────────────────────────┼────────────────────────┼────────────────┼────────────────────────┤\n",
              "│ reshape_2 (\u001b[38;5;33mReshape\u001b[0m)       │ (\u001b[38;5;45mNone\u001b[0m, \u001b[38;5;34m1\u001b[0m, \u001b[38;5;34m16\u001b[0m)          │              \u001b[38;5;34m0\u001b[0m │ get_item_2[\u001b[38;5;34m0\u001b[0m][\u001b[38;5;34m0\u001b[0m]       │\n",
              "├───────────────────────────┼────────────────────────┼────────────────┼────────────────────────┤\n",
              "│ transpose (\u001b[38;5;33mTranspose\u001b[0m)     │ (\u001b[38;5;45mNone\u001b[0m, \u001b[38;5;34m60\u001b[0m, \u001b[38;5;34m6\u001b[0m)          │              \u001b[38;5;34m0\u001b[0m │ reshape[\u001b[38;5;34m0\u001b[0m][\u001b[38;5;34m0\u001b[0m]          │\n",
              "├───────────────────────────┼────────────────────────┼────────────────┼────────────────────────┤\n",
              "│ transpose_1 (\u001b[38;5;33mTranspose\u001b[0m)   │ (\u001b[38;5;45mNone\u001b[0m, \u001b[38;5;34m60\u001b[0m, \u001b[38;5;34m3\u001b[0m)          │              \u001b[38;5;34m0\u001b[0m │ reshape_1[\u001b[38;5;34m0\u001b[0m][\u001b[38;5;34m0\u001b[0m]        │\n",
              "├───────────────────────────┼────────────────────────┼────────────────┼────────────────────────┤\n",
              "│ repeat (\u001b[38;5;33mRepeat\u001b[0m)           │ (\u001b[38;5;45mNone\u001b[0m, \u001b[38;5;34m60\u001b[0m, \u001b[38;5;34m16\u001b[0m)         │              \u001b[38;5;34m0\u001b[0m │ reshape_2[\u001b[38;5;34m0\u001b[0m][\u001b[38;5;34m0\u001b[0m]        │\n",
              "├───────────────────────────┼────────────────────────┼────────────────┼────────────────────────┤\n",
              "│ concatenate (\u001b[38;5;33mConcatenate\u001b[0m) │ (\u001b[38;5;45mNone\u001b[0m, \u001b[38;5;34m60\u001b[0m, \u001b[38;5;34m25\u001b[0m)         │              \u001b[38;5;34m0\u001b[0m │ transpose[\u001b[38;5;34m0\u001b[0m][\u001b[38;5;34m0\u001b[0m],       │\n",
              "│                           │                        │                │ transpose_1[\u001b[38;5;34m0\u001b[0m][\u001b[38;5;34m0\u001b[0m],     │\n",
              "│                           │                        │                │ repeat[\u001b[38;5;34m0\u001b[0m][\u001b[38;5;34m0\u001b[0m]           │\n",
              "├───────────────────────────┼────────────────────────┼────────────────┼────────────────────────┤\n",
              "│ conv1d (\u001b[38;5;33mConv1D\u001b[0m)           │ (\u001b[38;5;45mNone\u001b[0m, \u001b[38;5;34m60\u001b[0m, \u001b[38;5;34m128\u001b[0m)        │          \u001b[38;5;34m3,328\u001b[0m │ concatenate[\u001b[38;5;34m0\u001b[0m][\u001b[38;5;34m0\u001b[0m]      │\n",
              "├───────────────────────────┼────────────────────────┼────────────────┼────────────────────────┤\n",
              "│ sequential (\u001b[38;5;33mSequential\u001b[0m)   │ (\u001b[38;5;45mNone\u001b[0m, \u001b[38;5;34m60\u001b[0m, \u001b[38;5;34m128\u001b[0m)        │      \u001b[38;5;34m4,302,208\u001b[0m │ conv1d[\u001b[38;5;34m0\u001b[0m][\u001b[38;5;34m0\u001b[0m]           │\n",
              "├───────────────────────────┼────────────────────────┼────────────────┼────────────────────────┤\n",
              "│ add (\u001b[38;5;33mAdd\u001b[0m)                 │ (\u001b[38;5;45mNone\u001b[0m, \u001b[38;5;34m60\u001b[0m, \u001b[38;5;34m128\u001b[0m)        │              \u001b[38;5;34m0\u001b[0m │ conv1d[\u001b[38;5;34m0\u001b[0m][\u001b[38;5;34m0\u001b[0m],          │\n",
              "│                           │                        │                │ sequential[\u001b[38;5;34m0\u001b[0m][\u001b[38;5;34m0\u001b[0m]       │\n",
              "├───────────────────────────┼────────────────────────┼────────────────┼────────────────────────┤\n",
              "│ global_average_pooling1d  │ (\u001b[38;5;45mNone\u001b[0m, \u001b[38;5;34m1\u001b[0m, \u001b[38;5;34m128\u001b[0m)         │              \u001b[38;5;34m0\u001b[0m │ sequential[\u001b[38;5;34m0\u001b[0m][\u001b[38;5;34m0\u001b[0m]       │\n",
              "│ (\u001b[38;5;33mGlobalAveragePooling1D\u001b[0m)  │                        │                │                        │\n",
              "├───────────────────────────┼────────────────────────┼────────────────┼────────────────────────┤\n",
              "│ add_1 (\u001b[38;5;33mAdd\u001b[0m)               │ (\u001b[38;5;45mNone\u001b[0m, \u001b[38;5;34m60\u001b[0m, \u001b[38;5;34m128\u001b[0m)        │              \u001b[38;5;34m0\u001b[0m │ add[\u001b[38;5;34m0\u001b[0m][\u001b[38;5;34m0\u001b[0m],             │\n",
              "│                           │                        │                │ global_average_poolin… │\n",
              "├───────────────────────────┼────────────────────────┼────────────────┼────────────────────────┤\n",
              "│ batch_normalization_4     │ (\u001b[38;5;45mNone\u001b[0m, \u001b[38;5;34m60\u001b[0m, \u001b[38;5;34m128\u001b[0m)        │            \u001b[38;5;34m512\u001b[0m │ add_1[\u001b[38;5;34m0\u001b[0m][\u001b[38;5;34m0\u001b[0m]            │\n",
              "│ (\u001b[38;5;33mBatchNormalization\u001b[0m)      │                        │                │                        │\n",
              "├───────────────────────────┼────────────────────────┼────────────────┼────────────────────────┤\n",
              "│ sequential_1 (\u001b[38;5;33mSequential\u001b[0m) │ (\u001b[38;5;45mNone\u001b[0m, \u001b[38;5;34m60\u001b[0m, \u001b[38;5;34m128\u001b[0m)        │      \u001b[38;5;34m4,302,208\u001b[0m │ batch_normalization_4… │\n",
              "├───────────────────────────┼────────────────────────┼────────────────┼────────────────────────┤\n",
              "│ add_2 (\u001b[38;5;33mAdd\u001b[0m)               │ (\u001b[38;5;45mNone\u001b[0m, \u001b[38;5;34m60\u001b[0m, \u001b[38;5;34m128\u001b[0m)        │              \u001b[38;5;34m0\u001b[0m │ batch_normalization_4… │\n",
              "│                           │                        │                │ sequential_1[\u001b[38;5;34m0\u001b[0m][\u001b[38;5;34m0\u001b[0m]     │\n",
              "├───────────────────────────┼────────────────────────┼────────────────┼────────────────────────┤\n",
              "│ conv1d_9 (\u001b[38;5;33mConv1D\u001b[0m)         │ (\u001b[38;5;45mNone\u001b[0m, \u001b[38;5;34m60\u001b[0m, \u001b[38;5;34m14\u001b[0m)         │          \u001b[38;5;34m1,806\u001b[0m │ add_2[\u001b[38;5;34m0\u001b[0m][\u001b[38;5;34m0\u001b[0m]            │\n",
              "├───────────────────────────┼────────────────────────┼────────────────┼────────────────────────┤\n",
              "│ get_item_3 (\u001b[38;5;33mGetItem\u001b[0m)      │ (\u001b[38;5;45mNone\u001b[0m, \u001b[38;5;34m60\u001b[0m, \u001b[38;5;34m6\u001b[0m)          │              \u001b[38;5;34m0\u001b[0m │ conv1d_9[\u001b[38;5;34m0\u001b[0m][\u001b[38;5;34m0\u001b[0m]         │\n",
              "├───────────────────────────┼────────────────────────┼────────────────┼────────────────────────┤\n",
              "│ transpose_2 (\u001b[38;5;33mTranspose\u001b[0m)   │ (\u001b[38;5;45mNone\u001b[0m, \u001b[38;5;34m6\u001b[0m, \u001b[38;5;34m60\u001b[0m)          │              \u001b[38;5;34m0\u001b[0m │ get_item_3[\u001b[38;5;34m0\u001b[0m][\u001b[38;5;34m0\u001b[0m]       │\n",
              "├───────────────────────────┼────────────────────────┼────────────────┼────────────────────────┤\n",
              "│ get_item_4 (\u001b[38;5;33mGetItem\u001b[0m)      │ (\u001b[38;5;45mNone\u001b[0m, \u001b[38;5;34m60\u001b[0m, \u001b[38;5;34m8\u001b[0m)          │              \u001b[38;5;34m0\u001b[0m │ conv1d_9[\u001b[38;5;34m0\u001b[0m][\u001b[38;5;34m0\u001b[0m]         │\n",
              "├───────────────────────────┼────────────────────────┼────────────────┼────────────────────────┤\n",
              "│ flatten (\u001b[38;5;33mFlatten\u001b[0m)         │ (\u001b[38;5;45mNone\u001b[0m, \u001b[38;5;34m360\u001b[0m)            │              \u001b[38;5;34m0\u001b[0m │ transpose_2[\u001b[38;5;34m0\u001b[0m][\u001b[38;5;34m0\u001b[0m]      │\n",
              "├───────────────────────────┼────────────────────────┼────────────────┼────────────────────────┤\n",
              "│ mean (\u001b[38;5;33mMean\u001b[0m)               │ (\u001b[38;5;45mNone\u001b[0m, \u001b[38;5;34m8\u001b[0m)              │              \u001b[38;5;34m0\u001b[0m │ get_item_4[\u001b[38;5;34m0\u001b[0m][\u001b[38;5;34m0\u001b[0m]       │\n",
              "├───────────────────────────┼────────────────────────┼────────────────┼────────────────────────┤\n",
              "│ concatenate_1             │ (\u001b[38;5;45mNone\u001b[0m, \u001b[38;5;34m368\u001b[0m)            │              \u001b[38;5;34m0\u001b[0m │ flatten[\u001b[38;5;34m0\u001b[0m][\u001b[38;5;34m0\u001b[0m],         │\n",
              "│ (\u001b[38;5;33mConcatenate\u001b[0m)             │                        │                │ mean[\u001b[38;5;34m0\u001b[0m][\u001b[38;5;34m0\u001b[0m]             │\n",
              "└───────────────────────────┴────────────────────────┴────────────────┴────────────────────────┘\n"
            ],
            "text/html": [
              "<pre style=\"white-space:pre;overflow-x:auto;line-height:normal;font-family:Menlo,'DejaVu Sans Mono',consolas,'Courier New',monospace\">┏━━━━━━━━━━━━━━━━━━━━━━━━━━━┳━━━━━━━━━━━━━━━━━━━━━━━━┳━━━━━━━━━━━━━━━━┳━━━━━━━━━━━━━━━━━━━━━━━━┓\n",
              "┃<span style=\"font-weight: bold\"> Layer (type)              </span>┃<span style=\"font-weight: bold\"> Output Shape           </span>┃<span style=\"font-weight: bold\">        Param # </span>┃<span style=\"font-weight: bold\"> Connected to           </span>┃\n",
              "┡━━━━━━━━━━━━━━━━━━━━━━━━━━━╇━━━━━━━━━━━━━━━━━━━━━━━━╇━━━━━━━━━━━━━━━━╇━━━━━━━━━━━━━━━━━━━━━━━━┩\n",
              "│ input_layer (<span style=\"color: #0087ff; text-decoration-color: #0087ff\">InputLayer</span>)  │ (<span style=\"color: #00d7ff; text-decoration-color: #00d7ff\">None</span>, <span style=\"color: #00af00; text-decoration-color: #00af00\">556</span>)            │              <span style=\"color: #00af00; text-decoration-color: #00af00\">0</span> │ -                      │\n",
              "├───────────────────────────┼────────────────────────┼────────────────┼────────────────────────┤\n",
              "│ normalization             │ (<span style=\"color: #00d7ff; text-decoration-color: #00d7ff\">None</span>, <span style=\"color: #00af00; text-decoration-color: #00af00\">556</span>)            │              <span style=\"color: #00af00; text-decoration-color: #00af00\">0</span> │ input_layer[<span style=\"color: #00af00; text-decoration-color: #00af00\">0</span>][<span style=\"color: #00af00; text-decoration-color: #00af00\">0</span>]      │\n",
              "│ (<span style=\"color: #0087ff; text-decoration-color: #0087ff\">Normalization</span>)           │                        │                │                        │\n",
              "├───────────────────────────┼────────────────────────┼────────────────┼────────────────────────┤\n",
              "│ get_item (<span style=\"color: #0087ff; text-decoration-color: #0087ff\">GetItem</span>)        │ (<span style=\"color: #00d7ff; text-decoration-color: #00d7ff\">None</span>, <span style=\"color: #00af00; text-decoration-color: #00af00\">360</span>)            │              <span style=\"color: #00af00; text-decoration-color: #00af00\">0</span> │ normalization[<span style=\"color: #00af00; text-decoration-color: #00af00\">0</span>][<span style=\"color: #00af00; text-decoration-color: #00af00\">0</span>]    │\n",
              "├───────────────────────────┼────────────────────────┼────────────────┼────────────────────────┤\n",
              "│ get_item_1 (<span style=\"color: #0087ff; text-decoration-color: #0087ff\">GetItem</span>)      │ (<span style=\"color: #00d7ff; text-decoration-color: #00d7ff\">None</span>, <span style=\"color: #00af00; text-decoration-color: #00af00\">180</span>)            │              <span style=\"color: #00af00; text-decoration-color: #00af00\">0</span> │ normalization[<span style=\"color: #00af00; text-decoration-color: #00af00\">0</span>][<span style=\"color: #00af00; text-decoration-color: #00af00\">0</span>]    │\n",
              "├───────────────────────────┼────────────────────────┼────────────────┼────────────────────────┤\n",
              "│ get_item_2 (<span style=\"color: #0087ff; text-decoration-color: #0087ff\">GetItem</span>)      │ (<span style=\"color: #00d7ff; text-decoration-color: #00d7ff\">None</span>, <span style=\"color: #00af00; text-decoration-color: #00af00\">16</span>)             │              <span style=\"color: #00af00; text-decoration-color: #00af00\">0</span> │ normalization[<span style=\"color: #00af00; text-decoration-color: #00af00\">0</span>][<span style=\"color: #00af00; text-decoration-color: #00af00\">0</span>]    │\n",
              "├───────────────────────────┼────────────────────────┼────────────────┼────────────────────────┤\n",
              "│ reshape (<span style=\"color: #0087ff; text-decoration-color: #0087ff\">Reshape</span>)         │ (<span style=\"color: #00d7ff; text-decoration-color: #00d7ff\">None</span>, <span style=\"color: #00af00; text-decoration-color: #00af00\">6</span>, <span style=\"color: #00af00; text-decoration-color: #00af00\">60</span>)          │              <span style=\"color: #00af00; text-decoration-color: #00af00\">0</span> │ get_item[<span style=\"color: #00af00; text-decoration-color: #00af00\">0</span>][<span style=\"color: #00af00; text-decoration-color: #00af00\">0</span>]         │\n",
              "├───────────────────────────┼────────────────────────┼────────────────┼────────────────────────┤\n",
              "│ reshape_1 (<span style=\"color: #0087ff; text-decoration-color: #0087ff\">Reshape</span>)       │ (<span style=\"color: #00d7ff; text-decoration-color: #00d7ff\">None</span>, <span style=\"color: #00af00; text-decoration-color: #00af00\">3</span>, <span style=\"color: #00af00; text-decoration-color: #00af00\">60</span>)          │              <span style=\"color: #00af00; text-decoration-color: #00af00\">0</span> │ get_item_1[<span style=\"color: #00af00; text-decoration-color: #00af00\">0</span>][<span style=\"color: #00af00; text-decoration-color: #00af00\">0</span>]       │\n",
              "├───────────────────────────┼────────────────────────┼────────────────┼────────────────────────┤\n",
              "│ reshape_2 (<span style=\"color: #0087ff; text-decoration-color: #0087ff\">Reshape</span>)       │ (<span style=\"color: #00d7ff; text-decoration-color: #00d7ff\">None</span>, <span style=\"color: #00af00; text-decoration-color: #00af00\">1</span>, <span style=\"color: #00af00; text-decoration-color: #00af00\">16</span>)          │              <span style=\"color: #00af00; text-decoration-color: #00af00\">0</span> │ get_item_2[<span style=\"color: #00af00; text-decoration-color: #00af00\">0</span>][<span style=\"color: #00af00; text-decoration-color: #00af00\">0</span>]       │\n",
              "├───────────────────────────┼────────────────────────┼────────────────┼────────────────────────┤\n",
              "│ transpose (<span style=\"color: #0087ff; text-decoration-color: #0087ff\">Transpose</span>)     │ (<span style=\"color: #00d7ff; text-decoration-color: #00d7ff\">None</span>, <span style=\"color: #00af00; text-decoration-color: #00af00\">60</span>, <span style=\"color: #00af00; text-decoration-color: #00af00\">6</span>)          │              <span style=\"color: #00af00; text-decoration-color: #00af00\">0</span> │ reshape[<span style=\"color: #00af00; text-decoration-color: #00af00\">0</span>][<span style=\"color: #00af00; text-decoration-color: #00af00\">0</span>]          │\n",
              "├───────────────────────────┼────────────────────────┼────────────────┼────────────────────────┤\n",
              "│ transpose_1 (<span style=\"color: #0087ff; text-decoration-color: #0087ff\">Transpose</span>)   │ (<span style=\"color: #00d7ff; text-decoration-color: #00d7ff\">None</span>, <span style=\"color: #00af00; text-decoration-color: #00af00\">60</span>, <span style=\"color: #00af00; text-decoration-color: #00af00\">3</span>)          │              <span style=\"color: #00af00; text-decoration-color: #00af00\">0</span> │ reshape_1[<span style=\"color: #00af00; text-decoration-color: #00af00\">0</span>][<span style=\"color: #00af00; text-decoration-color: #00af00\">0</span>]        │\n",
              "├───────────────────────────┼────────────────────────┼────────────────┼────────────────────────┤\n",
              "│ repeat (<span style=\"color: #0087ff; text-decoration-color: #0087ff\">Repeat</span>)           │ (<span style=\"color: #00d7ff; text-decoration-color: #00d7ff\">None</span>, <span style=\"color: #00af00; text-decoration-color: #00af00\">60</span>, <span style=\"color: #00af00; text-decoration-color: #00af00\">16</span>)         │              <span style=\"color: #00af00; text-decoration-color: #00af00\">0</span> │ reshape_2[<span style=\"color: #00af00; text-decoration-color: #00af00\">0</span>][<span style=\"color: #00af00; text-decoration-color: #00af00\">0</span>]        │\n",
              "├───────────────────────────┼────────────────────────┼────────────────┼────────────────────────┤\n",
              "│ concatenate (<span style=\"color: #0087ff; text-decoration-color: #0087ff\">Concatenate</span>) │ (<span style=\"color: #00d7ff; text-decoration-color: #00d7ff\">None</span>, <span style=\"color: #00af00; text-decoration-color: #00af00\">60</span>, <span style=\"color: #00af00; text-decoration-color: #00af00\">25</span>)         │              <span style=\"color: #00af00; text-decoration-color: #00af00\">0</span> │ transpose[<span style=\"color: #00af00; text-decoration-color: #00af00\">0</span>][<span style=\"color: #00af00; text-decoration-color: #00af00\">0</span>],       │\n",
              "│                           │                        │                │ transpose_1[<span style=\"color: #00af00; text-decoration-color: #00af00\">0</span>][<span style=\"color: #00af00; text-decoration-color: #00af00\">0</span>],     │\n",
              "│                           │                        │                │ repeat[<span style=\"color: #00af00; text-decoration-color: #00af00\">0</span>][<span style=\"color: #00af00; text-decoration-color: #00af00\">0</span>]           │\n",
              "├───────────────────────────┼────────────────────────┼────────────────┼────────────────────────┤\n",
              "│ conv1d (<span style=\"color: #0087ff; text-decoration-color: #0087ff\">Conv1D</span>)           │ (<span style=\"color: #00d7ff; text-decoration-color: #00d7ff\">None</span>, <span style=\"color: #00af00; text-decoration-color: #00af00\">60</span>, <span style=\"color: #00af00; text-decoration-color: #00af00\">128</span>)        │          <span style=\"color: #00af00; text-decoration-color: #00af00\">3,328</span> │ concatenate[<span style=\"color: #00af00; text-decoration-color: #00af00\">0</span>][<span style=\"color: #00af00; text-decoration-color: #00af00\">0</span>]      │\n",
              "├───────────────────────────┼────────────────────────┼────────────────┼────────────────────────┤\n",
              "│ sequential (<span style=\"color: #0087ff; text-decoration-color: #0087ff\">Sequential</span>)   │ (<span style=\"color: #00d7ff; text-decoration-color: #00d7ff\">None</span>, <span style=\"color: #00af00; text-decoration-color: #00af00\">60</span>, <span style=\"color: #00af00; text-decoration-color: #00af00\">128</span>)        │      <span style=\"color: #00af00; text-decoration-color: #00af00\">4,302,208</span> │ conv1d[<span style=\"color: #00af00; text-decoration-color: #00af00\">0</span>][<span style=\"color: #00af00; text-decoration-color: #00af00\">0</span>]           │\n",
              "├───────────────────────────┼────────────────────────┼────────────────┼────────────────────────┤\n",
              "│ add (<span style=\"color: #0087ff; text-decoration-color: #0087ff\">Add</span>)                 │ (<span style=\"color: #00d7ff; text-decoration-color: #00d7ff\">None</span>, <span style=\"color: #00af00; text-decoration-color: #00af00\">60</span>, <span style=\"color: #00af00; text-decoration-color: #00af00\">128</span>)        │              <span style=\"color: #00af00; text-decoration-color: #00af00\">0</span> │ conv1d[<span style=\"color: #00af00; text-decoration-color: #00af00\">0</span>][<span style=\"color: #00af00; text-decoration-color: #00af00\">0</span>],          │\n",
              "│                           │                        │                │ sequential[<span style=\"color: #00af00; text-decoration-color: #00af00\">0</span>][<span style=\"color: #00af00; text-decoration-color: #00af00\">0</span>]       │\n",
              "├───────────────────────────┼────────────────────────┼────────────────┼────────────────────────┤\n",
              "│ global_average_pooling1d  │ (<span style=\"color: #00d7ff; text-decoration-color: #00d7ff\">None</span>, <span style=\"color: #00af00; text-decoration-color: #00af00\">1</span>, <span style=\"color: #00af00; text-decoration-color: #00af00\">128</span>)         │              <span style=\"color: #00af00; text-decoration-color: #00af00\">0</span> │ sequential[<span style=\"color: #00af00; text-decoration-color: #00af00\">0</span>][<span style=\"color: #00af00; text-decoration-color: #00af00\">0</span>]       │\n",
              "│ (<span style=\"color: #0087ff; text-decoration-color: #0087ff\">GlobalAveragePooling1D</span>)  │                        │                │                        │\n",
              "├───────────────────────────┼────────────────────────┼────────────────┼────────────────────────┤\n",
              "│ add_1 (<span style=\"color: #0087ff; text-decoration-color: #0087ff\">Add</span>)               │ (<span style=\"color: #00d7ff; text-decoration-color: #00d7ff\">None</span>, <span style=\"color: #00af00; text-decoration-color: #00af00\">60</span>, <span style=\"color: #00af00; text-decoration-color: #00af00\">128</span>)        │              <span style=\"color: #00af00; text-decoration-color: #00af00\">0</span> │ add[<span style=\"color: #00af00; text-decoration-color: #00af00\">0</span>][<span style=\"color: #00af00; text-decoration-color: #00af00\">0</span>],             │\n",
              "│                           │                        │                │ global_average_poolin… │\n",
              "├───────────────────────────┼────────────────────────┼────────────────┼────────────────────────┤\n",
              "│ batch_normalization_4     │ (<span style=\"color: #00d7ff; text-decoration-color: #00d7ff\">None</span>, <span style=\"color: #00af00; text-decoration-color: #00af00\">60</span>, <span style=\"color: #00af00; text-decoration-color: #00af00\">128</span>)        │            <span style=\"color: #00af00; text-decoration-color: #00af00\">512</span> │ add_1[<span style=\"color: #00af00; text-decoration-color: #00af00\">0</span>][<span style=\"color: #00af00; text-decoration-color: #00af00\">0</span>]            │\n",
              "│ (<span style=\"color: #0087ff; text-decoration-color: #0087ff\">BatchNormalization</span>)      │                        │                │                        │\n",
              "├───────────────────────────┼────────────────────────┼────────────────┼────────────────────────┤\n",
              "│ sequential_1 (<span style=\"color: #0087ff; text-decoration-color: #0087ff\">Sequential</span>) │ (<span style=\"color: #00d7ff; text-decoration-color: #00d7ff\">None</span>, <span style=\"color: #00af00; text-decoration-color: #00af00\">60</span>, <span style=\"color: #00af00; text-decoration-color: #00af00\">128</span>)        │      <span style=\"color: #00af00; text-decoration-color: #00af00\">4,302,208</span> │ batch_normalization_4… │\n",
              "├───────────────────────────┼────────────────────────┼────────────────┼────────────────────────┤\n",
              "│ add_2 (<span style=\"color: #0087ff; text-decoration-color: #0087ff\">Add</span>)               │ (<span style=\"color: #00d7ff; text-decoration-color: #00d7ff\">None</span>, <span style=\"color: #00af00; text-decoration-color: #00af00\">60</span>, <span style=\"color: #00af00; text-decoration-color: #00af00\">128</span>)        │              <span style=\"color: #00af00; text-decoration-color: #00af00\">0</span> │ batch_normalization_4… │\n",
              "│                           │                        │                │ sequential_1[<span style=\"color: #00af00; text-decoration-color: #00af00\">0</span>][<span style=\"color: #00af00; text-decoration-color: #00af00\">0</span>]     │\n",
              "├───────────────────────────┼────────────────────────┼────────────────┼────────────────────────┤\n",
              "│ conv1d_9 (<span style=\"color: #0087ff; text-decoration-color: #0087ff\">Conv1D</span>)         │ (<span style=\"color: #00d7ff; text-decoration-color: #00d7ff\">None</span>, <span style=\"color: #00af00; text-decoration-color: #00af00\">60</span>, <span style=\"color: #00af00; text-decoration-color: #00af00\">14</span>)         │          <span style=\"color: #00af00; text-decoration-color: #00af00\">1,806</span> │ add_2[<span style=\"color: #00af00; text-decoration-color: #00af00\">0</span>][<span style=\"color: #00af00; text-decoration-color: #00af00\">0</span>]            │\n",
              "├───────────────────────────┼────────────────────────┼────────────────┼────────────────────────┤\n",
              "│ get_item_3 (<span style=\"color: #0087ff; text-decoration-color: #0087ff\">GetItem</span>)      │ (<span style=\"color: #00d7ff; text-decoration-color: #00d7ff\">None</span>, <span style=\"color: #00af00; text-decoration-color: #00af00\">60</span>, <span style=\"color: #00af00; text-decoration-color: #00af00\">6</span>)          │              <span style=\"color: #00af00; text-decoration-color: #00af00\">0</span> │ conv1d_9[<span style=\"color: #00af00; text-decoration-color: #00af00\">0</span>][<span style=\"color: #00af00; text-decoration-color: #00af00\">0</span>]         │\n",
              "├───────────────────────────┼────────────────────────┼────────────────┼────────────────────────┤\n",
              "│ transpose_2 (<span style=\"color: #0087ff; text-decoration-color: #0087ff\">Transpose</span>)   │ (<span style=\"color: #00d7ff; text-decoration-color: #00d7ff\">None</span>, <span style=\"color: #00af00; text-decoration-color: #00af00\">6</span>, <span style=\"color: #00af00; text-decoration-color: #00af00\">60</span>)          │              <span style=\"color: #00af00; text-decoration-color: #00af00\">0</span> │ get_item_3[<span style=\"color: #00af00; text-decoration-color: #00af00\">0</span>][<span style=\"color: #00af00; text-decoration-color: #00af00\">0</span>]       │\n",
              "├───────────────────────────┼────────────────────────┼────────────────┼────────────────────────┤\n",
              "│ get_item_4 (<span style=\"color: #0087ff; text-decoration-color: #0087ff\">GetItem</span>)      │ (<span style=\"color: #00d7ff; text-decoration-color: #00d7ff\">None</span>, <span style=\"color: #00af00; text-decoration-color: #00af00\">60</span>, <span style=\"color: #00af00; text-decoration-color: #00af00\">8</span>)          │              <span style=\"color: #00af00; text-decoration-color: #00af00\">0</span> │ conv1d_9[<span style=\"color: #00af00; text-decoration-color: #00af00\">0</span>][<span style=\"color: #00af00; text-decoration-color: #00af00\">0</span>]         │\n",
              "├───────────────────────────┼────────────────────────┼────────────────┼────────────────────────┤\n",
              "│ flatten (<span style=\"color: #0087ff; text-decoration-color: #0087ff\">Flatten</span>)         │ (<span style=\"color: #00d7ff; text-decoration-color: #00d7ff\">None</span>, <span style=\"color: #00af00; text-decoration-color: #00af00\">360</span>)            │              <span style=\"color: #00af00; text-decoration-color: #00af00\">0</span> │ transpose_2[<span style=\"color: #00af00; text-decoration-color: #00af00\">0</span>][<span style=\"color: #00af00; text-decoration-color: #00af00\">0</span>]      │\n",
              "├───────────────────────────┼────────────────────────┼────────────────┼────────────────────────┤\n",
              "│ mean (<span style=\"color: #0087ff; text-decoration-color: #0087ff\">Mean</span>)               │ (<span style=\"color: #00d7ff; text-decoration-color: #00d7ff\">None</span>, <span style=\"color: #00af00; text-decoration-color: #00af00\">8</span>)              │              <span style=\"color: #00af00; text-decoration-color: #00af00\">0</span> │ get_item_4[<span style=\"color: #00af00; text-decoration-color: #00af00\">0</span>][<span style=\"color: #00af00; text-decoration-color: #00af00\">0</span>]       │\n",
              "├───────────────────────────┼────────────────────────┼────────────────┼────────────────────────┤\n",
              "│ concatenate_1             │ (<span style=\"color: #00d7ff; text-decoration-color: #00d7ff\">None</span>, <span style=\"color: #00af00; text-decoration-color: #00af00\">368</span>)            │              <span style=\"color: #00af00; text-decoration-color: #00af00\">0</span> │ flatten[<span style=\"color: #00af00; text-decoration-color: #00af00\">0</span>][<span style=\"color: #00af00; text-decoration-color: #00af00\">0</span>],         │\n",
              "│ (<span style=\"color: #0087ff; text-decoration-color: #0087ff\">Concatenate</span>)             │                        │                │ mean[<span style=\"color: #00af00; text-decoration-color: #00af00\">0</span>][<span style=\"color: #00af00; text-decoration-color: #00af00\">0</span>]             │\n",
              "└───────────────────────────┴────────────────────────┴────────────────┴────────────────────────┘\n",
              "</pre>\n"
            ]
          },
          "metadata": {}
        },
        {
          "output_type": "display_data",
          "data": {
            "text/plain": [
              "\u001b[1m Total params: \u001b[0m\u001b[38;5;34m8,610,062\u001b[0m (32.84 MB)\n"
            ],
            "text/html": [
              "<pre style=\"white-space:pre;overflow-x:auto;line-height:normal;font-family:Menlo,'DejaVu Sans Mono',consolas,'Courier New',monospace\"><span style=\"font-weight: bold\"> Total params: </span><span style=\"color: #00af00; text-decoration-color: #00af00\">8,610,062</span> (32.84 MB)\n",
              "</pre>\n"
            ]
          },
          "metadata": {}
        },
        {
          "output_type": "display_data",
          "data": {
            "text/plain": [
              "\u001b[1m Trainable params: \u001b[0m\u001b[38;5;34m8,602,126\u001b[0m (32.81 MB)\n"
            ],
            "text/html": [
              "<pre style=\"white-space:pre;overflow-x:auto;line-height:normal;font-family:Menlo,'DejaVu Sans Mono',consolas,'Courier New',monospace\"><span style=\"font-weight: bold\"> Trainable params: </span><span style=\"color: #00af00; text-decoration-color: #00af00\">8,602,126</span> (32.81 MB)\n",
              "</pre>\n"
            ]
          },
          "metadata": {}
        },
        {
          "output_type": "display_data",
          "data": {
            "text/plain": [
              "\u001b[1m Non-trainable params: \u001b[0m\u001b[38;5;34m7,936\u001b[0m (31.00 KB)\n"
            ],
            "text/html": [
              "<pre style=\"white-space:pre;overflow-x:auto;line-height:normal;font-family:Menlo,'DejaVu Sans Mono',consolas,'Courier New',monospace\"><span style=\"font-weight: bold\"> Non-trainable params: </span><span style=\"color: #00af00; text-decoration-color: #00af00\">7,936</span> (31.00 KB)\n",
              "</pre>\n"
            ]
          },
          "metadata": {}
        }
      ],
      "source": [
        "keras.utils.clear_session()\n",
        "\n",
        "import keras\n",
        "def x_to_seq(x):\n",
        "    x_seq0 = keras.ops.transpose(keras.ops.reshape(x[:, 0:60 * 6], (-1, 6, 60)), (0, 2, 1))\n",
        "    x_seq1 = keras.ops.transpose(keras.ops.reshape(x[:, 60 * 6 + 16:60 * 9 + 16], (-1, 3, 60)), (0, 2, 1))\n",
        "    x_flat = keras.ops.reshape(x[:, 60 * 6:60 * 6 + 16], (-1, 1, 16))\n",
        "    x_flat = keras.ops.repeat(x_flat, 60, axis=1)\n",
        "    return keras.ops.concatenate([x_seq0, x_seq1, x_flat], axis=-1)\n",
        "\n",
        "\n",
        "def build_cnn(activation='relu'):\n",
        "    return keras.Sequential([\n",
        "        keras.layers.Conv1D(1024, 3, padding='same', activation=activation),\n",
        "        keras.layers.BatchNormalization(),\n",
        "        keras.layers.Conv1D(512, 5, padding='same', activation=activation),\n",
        "        keras.layers.BatchNormalization(),\n",
        "        keras.layers.Conv1D(256, 7, padding='same', activation=activation),\n",
        "        keras.layers.BatchNormalization(),\n",
        "        keras.layers.Conv1D(128, 11, padding='same', activation=activation),\n",
        "        keras.layers.BatchNormalization(),\n",
        "    ])\n",
        "\n",
        "\n",
        "X_input = x = keras.layers.Input(ds_train.element_spec[0].shape[1:])\n",
        "x = keras.layers.Normalization(mean=norm_x.mean, variance=norm_x.variance)(x)\n",
        "x = x_to_seq(x)\n",
        "\n",
        "\n",
        "e = e0 = keras.layers.Conv1D(128, 1, padding='same')(x)\n",
        "e = build_cnn()(e)\n",
        "# add global average to allow some comunication between all levels even in a small CNN\n",
        "e = e0 + e + keras.layers.GlobalAveragePooling1D(keepdims=True)(e)\n",
        "e = keras.layers.BatchNormalization()(e)\n",
        "e = e + build_cnn()(e)\n",
        "\n",
        "\n",
        "p_all = keras.layers.Conv1D(14, 1, padding='same')(e)\n",
        "\n",
        "p_seq = p_all[:, :, :6]\n",
        "p_seq = keras.ops.transpose(p_seq, (0, 2, 1))\n",
        "p_seq = keras.layers.Flatten()(p_seq)\n",
        "assert p_seq.shape[-1] == 360\n",
        "\n",
        "p_flat = p_all[:, :, 6:6 + 8]\n",
        "p_flat = keras.ops.mean(p_flat, axis=1)\n",
        "assert p_flat.shape[-1] == 8\n",
        "\n",
        "P = keras.ops.concatenate([p_seq, p_flat], axis=1)\n",
        "\n",
        "# build & compile\n",
        "model = keras.Model(X_input, P)\n",
        "model.compile(\n",
        "    loss='mse',\n",
        "    optimizer=keras.optimizers.Adam(lr_scheduler),\n",
        "    metrics=[ClippedR2Score()]\n",
        ")\n",
        "model.build(tuple(ds_train.element_spec[0].shape))\n",
        "model.summary()"
      ]
    },
    {
      "cell_type": "code",
      "execution_count": 23,
      "metadata": {
        "id": "evjjJXJ3Y_hZ",
        "colab": {
          "base_uri": "https://localhost:8080/",
          "height": 35
        },
        "outputId": "4a9e7e93-6a09-450a-bd5f-47d2fd090170"
      },
      "outputs": [
        {
          "output_type": "execute_result",
          "data": {
            "text/plain": [
              "'3.10.12 (main, Nov 20 2023, 15:14:05) [GCC 11.4.0]'"
            ],
            "application/vnd.google.colaboratory.intrinsic+json": {
              "type": "string"
            }
          },
          "metadata": {},
          "execution_count": 23
        }
      ],
      "source": [
        "import sys\n",
        "sys.version"
      ]
    },
    {
      "cell_type": "code",
      "execution_count": null,
      "metadata": {
        "colab": {
          "base_uri": "https://localhost:8080/"
        },
        "id": "KF5BZk_LBJEB",
        "outputId": "d5a1a597-4c7d-44bf-85c0-67cc66962867"
      },
      "outputs": [
        {
          "output_type": "stream",
          "name": "stdout",
          "text": [
            "Epoch 1/100\n",
            "   1832/Unknown \u001b[1m1829s\u001b[0m 989ms/step - loss: 0.5756 - r2_score: 0.2316"
          ]
        },
        {
          "output_type": "stream",
          "name": "stderr",
          "text": [
            "/usr/lib/python3.10/contextlib.py:153: UserWarning: Your input ran out of data; interrupting training. Make sure that your dataset or generator can generate at least `steps_per_epoch * epochs` batches. You may need to use the `.repeat()` function when building your dataset.\n",
            "  self.gen.throw(typ, value, traceback)\n"
          ]
        },
        {
          "output_type": "stream",
          "name": "stdout",
          "text": [
            "\b\b\b\b\b\b\b\b\b\b\b\b\b\b\b\b\b\b\b\b\b\b\b\b\b\b\b\b\b\b\b\b\b\b\b\b\b\b\b\b\b\b\b\b\b\b\b\b\b\b\b\b\b\b\b\b\b\b\b\b\b\b\b\b\b\b\r\u001b[1m1832/1832\u001b[0m \u001b[32m━━━━━━━━━━━━━━━━━━━━\u001b[0m\u001b[37m\u001b[0m \u001b[1m2008s\u001b[0m 1s/step - loss: 0.5755 - r2_score: 0.2317 - val_loss: 0.4012 - val_r2_score: 0.3712\n",
            "Epoch 2/100\n",
            "\u001b[1m1832/1832\u001b[0m \u001b[32m━━━━━━━━━━━━━━━━━━━━\u001b[0m\u001b[37m\u001b[0m \u001b[1m1976s\u001b[0m 1s/step - loss: 0.3504 - r2_score: 0.4175 - val_loss: 0.3530 - val_r2_score: 0.4187\n",
            "Epoch 3/100\n",
            "\u001b[1m1832/1832\u001b[0m \u001b[32m━━━━━━━━━━━━━━━━━━━━\u001b[0m\u001b[37m\u001b[0m \u001b[1m1964s\u001b[0m 1s/step - loss: 0.3276 - r2_score: 0.4446 - val_loss: 0.3256 - val_r2_score: 0.4462\n",
            "Epoch 4/100\n",
            "\u001b[1m1832/1832\u001b[0m \u001b[32m━━━━━━━━━━━━━━━━━━━━\u001b[0m\u001b[37m\u001b[0m \u001b[1m1954s\u001b[0m 1s/step - loss: 0.3079 - r2_score: 0.4640 - val_loss: 0.3057 - val_r2_score: 0.4671\n",
            "Epoch 5/100\n",
            "\u001b[1m1832/1832\u001b[0m \u001b[32m━━━━━━━━━━━━━━━━━━━━\u001b[0m\u001b[37m\u001b[0m \u001b[1m1948s\u001b[0m 1s/step - loss: 0.2909 - r2_score: 0.4788 - val_loss: 0.3059 - val_r2_score: 0.4679\n",
            "Epoch 6/100\n",
            "\u001b[1m1832/1832\u001b[0m \u001b[32m━━━━━━━━━━━━━━━━━━━━\u001b[0m\u001b[37m\u001b[0m \u001b[1m1942s\u001b[0m 1s/step - loss: 0.2834 - r2_score: 0.4873 - val_loss: 0.3004 - val_r2_score: 0.4727\n",
            "Epoch 7/100\n",
            "\u001b[1m1832/1832\u001b[0m \u001b[32m━━━━━━━━━━━━━━━━━━━━\u001b[0m\u001b[37m\u001b[0m \u001b[1m1938s\u001b[0m 1s/step - loss: 0.2781 - r2_score: 0.4948 - val_loss: 0.2946 - val_r2_score: 0.4790\n",
            "Epoch 8/100\n",
            "\u001b[1m1832/1832\u001b[0m \u001b[32m━━━━━━━━━━━━━━━━━━━━\u001b[0m\u001b[37m\u001b[0m \u001b[1m1934s\u001b[0m 1s/step - loss: 0.2731 - r2_score: 0.5009 - val_loss: 0.2875 - val_r2_score: 0.4867\n",
            "Epoch 9/100\n",
            "\u001b[1m1832/1832\u001b[0m \u001b[32m━━━━━━━━━━━━━━━━━━━━\u001b[0m\u001b[37m\u001b[0m \u001b[1m1932s\u001b[0m 1s/step - loss: 0.2708 - r2_score: 0.5023 - val_loss: 0.3005 - val_r2_score: 0.4745\n",
            "Epoch 10/100\n",
            "\u001b[1m1832/1832\u001b[0m \u001b[32m━━━━━━━━━━━━━━━━━━━━\u001b[0m\u001b[37m\u001b[0m \u001b[1m1931s\u001b[0m 1s/step - loss: 0.2639 - r2_score: 0.5114 - val_loss: 0.2866 - val_r2_score: 0.4874\n",
            "Epoch 11/100\n",
            "\u001b[1m1832/1832\u001b[0m \u001b[32m━━━━━━━━━━━━━━━━━━━━\u001b[0m\u001b[37m\u001b[0m \u001b[1m1930s\u001b[0m 1s/step - loss: 0.2562 - r2_score: 0.5152 - val_loss: 0.2796 - val_r2_score: 0.4939\n",
            "Epoch 12/100\n",
            "\u001b[1m1832/1832\u001b[0m \u001b[32m━━━━━━━━━━━━━━━━━━━━\u001b[0m\u001b[37m\u001b[0m \u001b[1m1932s\u001b[0m 1s/step - loss: 0.2498 - r2_score: 0.5210 - val_loss: 0.2694 - val_r2_score: 0.5042\n",
            "Epoch 13/100\n",
            "\u001b[1m1832/1832\u001b[0m \u001b[32m━━━━━━━━━━━━━━━━━━━━\u001b[0m\u001b[37m\u001b[0m \u001b[1m1931s\u001b[0m 1s/step - loss: 0.2495 - r2_score: 0.5224 - val_loss: 0.2746 - val_r2_score: 0.4994\n",
            "Epoch 14/100\n",
            "\u001b[1m1832/1832\u001b[0m \u001b[32m━━━━━━━━━━━━━━━━━━━━\u001b[0m\u001b[37m\u001b[0m \u001b[1m1931s\u001b[0m 1s/step - loss: 0.2503 - r2_score: 0.5268 - val_loss: 0.2813 - val_r2_score: 0.4938\n",
            "Epoch 15/100\n",
            "\u001b[1m1832/1832\u001b[0m \u001b[32m━━━━━━━━━━━━━━━━━━━━\u001b[0m\u001b[37m\u001b[0m \u001b[1m1930s\u001b[0m 1s/step - loss: 0.2395 - r2_score: 0.5298 - val_loss: 0.2709 - val_r2_score: 0.5033\n",
            "Epoch 16/100\n",
            "\u001b[1m1832/1832\u001b[0m \u001b[32m━━━━━━━━━━━━━━━━━━━━\u001b[0m\u001b[37m\u001b[0m \u001b[1m1930s\u001b[0m 1s/step - loss: 0.2475 - r2_score: 0.5302 - val_loss: 0.2665 - val_r2_score: 0.5088\n",
            "Epoch 17/100\n",
            "\u001b[1m1832/1832\u001b[0m \u001b[32m━━━━━━━━━━━━━━━━━━━━\u001b[0m\u001b[37m\u001b[0m \u001b[1m1930s\u001b[0m 1s/step - loss: 0.2399 - r2_score: 0.5331 - val_loss: 0.2640 - val_r2_score: 0.5121\n",
            "Epoch 18/100\n",
            "\u001b[1m1832/1832\u001b[0m \u001b[32m━━━━━━━━━━━━━━━━━━━━\u001b[0m\u001b[37m\u001b[0m \u001b[1m1930s\u001b[0m 1s/step - loss: 0.2335 - r2_score: 0.5393 - val_loss: 0.2749 - val_r2_score: 0.4986\n",
            "Epoch 19/100\n",
            "\u001b[1m1386/1832\u001b[0m \u001b[32m━━━━━━━━━━━━━━━\u001b[0m\u001b[37m━━━━━\u001b[0m \u001b[1m7:07\u001b[0m 959ms/step - loss: 0.2365 - r2_score: 0.5390"
          ]
        }
      ],
      "source": [
        "ds_train_target_normalized = ds_train.map(lambda x, y: (x, (y - mean_y) / stdd_y))\n",
        "ds_valid_target_normalized = ds_valid.map(lambda x, y: (x, (y - mean_y) / stdd_y))\n",
        "FIT =True\n",
        "if FIT:\n",
        "  history = model.fit(\n",
        "      ds_train_target_normalized,\n",
        "      validation_data=ds_valid_target_normalized,\n",
        "      epochs=epochs,\n",
        "      verbose=1,\n",
        "      callbacks=[\n",
        "          keras.callbacks.ModelCheckpoint(filepath='model.keras')\n",
        "      ]\n",
        "  )\n",
        "else:\n",
        "    model = keras.models.load_model('/content/drive/MyDrive/leap/keras_models/seq_to_seq.keras')"
      ]
    },
    {
      "cell_type": "code",
      "execution_count": null,
      "metadata": {
        "id": "RLlZY1YlmLkC"
      },
      "outputs": [],
      "source": [
        "tf.__version__"
      ]
    },
    {
      "cell_type": "code",
      "execution_count": null,
      "metadata": {
        "id": "3NCUqaQQBJEB"
      },
      "outputs": [],
      "source": [
        "y_valid = np.concatenate([yb for _, yb in ds_valid])\n",
        "p_valid = model.predict(ds_valid, batch_size=BATCH_SIZE) * stdd_y + mean_y"
      ]
    },
    {
      "cell_type": "code",
      "execution_count": null,
      "metadata": {
        "id": "6vi_dOTLBJEC"
      },
      "outputs": [],
      "source": [
        "scores_valid = np.array([metrics.r2_score(y_valid[:, i], p_valid[:, i]) for i in range(len(TARGETS))])\n",
        "plt.plot(scores_valid.clip(-1, 1))"
      ]
    },
    {
      "cell_type": "code",
      "execution_count": null,
      "metadata": {
        "id": "IqB25iGQBJEC"
      },
      "outputs": [],
      "source": [
        "import numpy as np"
      ]
    },
    {
      "cell_type": "code",
      "execution_count": null,
      "metadata": {
        "id": "Hw6enE83BJEC"
      },
      "outputs": [],
      "source": [
        "with open(f\"scores.npy\",\"wb\") as file:\n",
        "    np.save(file,scores_valid)"
      ]
    },
    {
      "cell_type": "code",
      "execution_count": null,
      "metadata": {
        "id": "0PW7GuaNBJEC"
      },
      "outputs": [],
      "source": [
        "mask = scores_valid <= 1e-3\n",
        "f\"Number of under-performing targets: {sum(mask)}\""
      ]
    },
    {
      "cell_type": "code",
      "execution_count": null,
      "metadata": {
        "id": "ZxiXSB6WBJEC"
      },
      "outputs": [],
      "source": [
        "f\"Clipped score: {scores_valid.clip(0, 1).mean()}\""
      ]
    },
    {
      "cell_type": "code",
      "execution_count": null,
      "metadata": {
        "id": "xRVxVabfBJEC"
      },
      "outputs": [],
      "source": [
        "del y_valid, p_valid\n",
        "gc.collect();"
      ]
    }
  ],
  "metadata": {
    "accelerator": "GPU",
    "colab": {
      "gpuType": "L4",
      "provenance": [],
      "machine_shape": "hm"
    },
    "kaggle": {
      "accelerator": "none",
      "dataSources": [
        {
          "databundleVersionId": 8015876,
          "sourceId": 56537,
          "sourceType": "competition"
        },
        {
          "datasetId": 5004471,
          "sourceId": 8409068,
          "sourceType": "datasetVersion"
        }
      ],
      "dockerImageVersionId": 30699,
      "isGpuEnabled": false,
      "isInternetEnabled": true,
      "language": "python",
      "sourceType": "notebook"
    },
    "kernelspec": {
      "display_name": "Python 3",
      "name": "python3"
    },
    "language_info": {
      "codemirror_mode": {
        "name": "ipython",
        "version": 3
      },
      "file_extension": ".py",
      "mimetype": "text/x-python",
      "name": "python",
      "nbconvert_exporter": "python",
      "pygments_lexer": "ipython3",
      "version": "3.10.13"
    }
  },
  "nbformat": 4,
  "nbformat_minor": 0
}