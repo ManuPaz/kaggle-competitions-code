{
  "cells": [
    {
      "cell_type": "markdown",
      "metadata": {
        "id": "RSHDBbKmAogM"
      },
      "source": [
        "# NN BASELINE"
      ]
    },
    {
      "cell_type": "markdown",
      "metadata": {
        "id": "Af8aKBoXAogR"
      },
      "source": [
        "### In this notebook, the input is reshaped into 2D matrices, and a network with multi-attention and bidirectional LSTM is used."
      ]
    },
    {
      "cell_type": "markdown",
      "metadata": {
        "id": "90uAUa9lAogR"
      },
      "source": [
        "The way to use this notebooks is this:\n",
        "- Set train and predict to True and run the notebook.\n",
        "- Look at the  output and add the model to a dataset.\n",
        "- Add the dataset to the notebook.\n",
        "- To validate or submit predictions to comepetition:\n",
        "    - To validate: Set train to False, predict to True and load the model from your dataset.\n",
        "    - To submit: The same as to validate but using the ONLY_TEST option (if not,  also local cv  validation is done so train data is loaded and you get memory error when submiting to competition)."
      ]
    },
    {
      "cell_type": "code",
      "execution_count": 1,
      "metadata": {
        "id": "LN4rPyB7AvhP"
      },
      "outputs": [],
      "source": [
        "import os\n",
        "\n",
        "from google.colab import drive"
      ]
    },
    {
      "cell_type": "code",
      "execution_count": 2,
      "metadata": {
        "id": "zV-DafMbA1Wr"
      },
      "outputs": [],
      "source": [
        "INIT=True\n",
        "PATH=\"/content\""
      ]
    },
    {
      "cell_type": "code",
      "execution_count": 3,
      "metadata": {
        "colab": {
          "base_uri": "https://localhost:8080/"
        },
        "id": "FqyHajzaAy3t",
        "outputId": "75b09bef-42a7-4bb7-d9c0-51527451b05d"
      },
      "outputs": [
        {
          "output_type": "stream",
          "name": "stdout",
          "text": [
            "Mounted at /content/drive\n",
            "Requirement already satisfied: kaggle in /usr/local/lib/python3.10/dist-packages (1.5.16)\n",
            "Requirement already satisfied: six>=1.10 in /usr/local/lib/python3.10/dist-packages (from kaggle) (1.16.0)\n",
            "Requirement already satisfied: certifi in /usr/local/lib/python3.10/dist-packages (from kaggle) (2023.7.22)\n",
            "Requirement already satisfied: python-dateutil in /usr/local/lib/python3.10/dist-packages (from kaggle) (2.8.2)\n",
            "Requirement already satisfied: requests in /usr/local/lib/python3.10/dist-packages (from kaggle) (2.31.0)\n",
            "Requirement already satisfied: tqdm in /usr/local/lib/python3.10/dist-packages (from kaggle) (4.66.1)\n",
            "Requirement already satisfied: python-slugify in /usr/local/lib/python3.10/dist-packages (from kaggle) (8.0.1)\n",
            "Requirement already satisfied: urllib3 in /usr/local/lib/python3.10/dist-packages (from kaggle) (2.0.7)\n",
            "Requirement already satisfied: bleach in /usr/local/lib/python3.10/dist-packages (from kaggle) (6.1.0)\n",
            "Requirement already satisfied: webencodings in /usr/local/lib/python3.10/dist-packages (from bleach->kaggle) (0.5.1)\n",
            "Requirement already satisfied: text-unidecode>=1.3 in /usr/local/lib/python3.10/dist-packages (from python-slugify->kaggle) (1.3)\n",
            "Requirement already satisfied: charset-normalizer<4,>=2 in /usr/local/lib/python3.10/dist-packages (from requests->kaggle) (3.3.2)\n",
            "Requirement already satisfied: idna<4,>=2.5 in /usr/local/lib/python3.10/dist-packages (from requests->kaggle) (3.4)\n",
            "Downloading child-mind-institute-detect-sleep-states.zip to /content\n",
            "100% 810M/811M [00:29<00:00, 32.9MB/s]\n",
            "100% 811M/811M [00:29<00:00, 29.2MB/s]\n",
            "Archive:  child-mind-institute-detect-sleep-states.zip\n",
            "  inflating: child-mind-institute-detect-sleep-states/sample_submission.csv  \n",
            "  inflating: child-mind-institute-detect-sleep-states/test_series.parquet  \n",
            "  inflating: child-mind-institute-detect-sleep-states/train_events.csv  \n",
            "  inflating: child-mind-institute-detect-sleep-states/train_series.parquet  \n",
            "Downloading zzz-data-train.zip to /content\n",
            "100% 4.44G/4.44G [03:31<00:00, 26.4MB/s]\n",
            "100% 4.44G/4.44G [03:31<00:00, 22.5MB/s]\n",
            "Archive:  zzz-data-train.zip\n",
            "  inflating: zzz-data-train/data_critic_reg/features.pkl  \n",
            "  inflating: zzz-data-train/data_critic_reg/steps.pkl  \n",
            "  inflating: zzz-data-train/data_critic_reg/targets.pkl  \n",
            "  inflating: zzz-data-train/data_critic_reg_01/features.pkl  \n",
            "  inflating: zzz-data-train/data_critic_reg_01/steps.pkl  \n",
            "  inflating: zzz-data-train/data_critic_reg_01/targets.pkl  \n",
            "  inflating: zzz-data-train/data_critic_reg_10am/features.pkl  \n",
            "  inflating: zzz-data-train/data_critic_reg_10am/steps.pkl  \n",
            "  inflating: zzz-data-train/data_critic_reg_10am/targets.pkl  \n",
            "  inflating: zzz-data-train/data_critic_reg__sigma025/features.pkl  \n",
            "  inflating: zzz-data-train/data_critic_reg__sigma025/steps.pkl  \n",
            "  inflating: zzz-data-train/data_critic_reg__sigma025/targets.pkl  \n",
            "  inflating: zzz-data-train/data_critic_reg__sigma075/features.pkl  \n",
            "  inflating: zzz-data-train/data_critic_reg__sigma075/steps.pkl  \n",
            "  inflating: zzz-data-train/data_critic_reg__sigma075/targets.pkl  \n",
            "  inflating: zzz-data-train/data_critic_reg_block34/features.pkl  \n",
            "  inflating: zzz-data-train/data_critic_reg_block34/steps.pkl  \n",
            "  inflating: zzz-data-train/data_critic_reg_block34/targets.pkl  \n",
            "  inflating: zzz-data-train/data_train.parquet  \n",
            "  inflating: zzz-data-train/dict_ids.pkl  \n",
            "  inflating: zzz-data-train/fold_ids.pkl  \n",
            "  inflating: zzz-data-train/ids.npy  \n",
            "  inflating: zzz-data-train/train_data.pkl  \n",
            "  inflating: zzz-data-train/validate_ids.pkl  \n",
            "Downloading zzz-data-train4.zip to /content\n",
            "100% 2.07G/2.07G [02:08<00:00, 21.3MB/s]\n",
            "100% 2.07G/2.07G [02:08<00:00, 17.3MB/s]\n",
            "Archive:  zzz-data-train4.zip\n",
            "  inflating: zzz-data-train4/data_critic_reg_15_lognormal_100/features.pkl  \n",
            "  inflating: zzz-data-train4/data_critic_reg_15_lognormal_100/steps.pkl  \n",
            "  inflating: zzz-data-train4/data_critic_reg_15_lognormal_100/targets.pkl  \n",
            "  inflating: zzz-data-train4/data_critic_reg_15_normal_20_max1/features.pkl  \n",
            "  inflating: zzz-data-train4/data_critic_reg_15_normal_20_max1/steps.pkl  \n",
            "  inflating: zzz-data-train4/data_critic_reg_15_normal_20_max1/targets.pkl  \n",
            "  inflating: zzz-data-train4/data_critic_reg_15_normal_20_max1_path1/features.pkl  \n",
            "  inflating: zzz-data-train4/data_critic_reg_15_normal_20_max1_path1/steps.pkl  \n",
            "  inflating: zzz-data-train4/data_critic_reg_15_normal_20_max1_path1/targets.pkl  \n",
            "  inflating: zzz-data-train4/data_critic_reg_15_normal_720_max1/features.pkl  \n",
            "  inflating: zzz-data-train4/data_critic_reg_15_normal_720_max1/steps.pkl  \n",
            "  inflating: zzz-data-train4/data_critic_reg_15_normal_720_max1/targets.pkl  \n",
            "Downloading zzzs-lightweight-training-dataset-target.zip to /content\n",
            " 99% 183M/185M [00:09<00:00, 21.7MB/s]\n",
            "100% 185M/185M [00:09<00:00, 20.8MB/s]\n",
            "Archive:  zzzs-lightweight-training-dataset-target.zip\n",
            "  inflating: zzzs-lightweight-training-dataset-target/Zzzs_train.parquet  \n",
            "  inflating: zzzs-lightweight-training-dataset-target/Zzzs_train_multi.parquet  \n",
            "Downloading code-zzz.zip to /content\n",
            "  0% 0.00/4.85k [00:00<?, ?B/s]\n",
            "100% 4.85k/4.85k [00:00<00:00, 11.4MB/s]\n",
            "Archive:  code-zzz.zip\n",
            "  inflating: code-zzz/evaluation.py  \n"
          ]
        }
      ],
      "source": [
        "if INIT:\n",
        "  drive.mount('/content/drive')\n",
        "  ! pip install kaggle\n",
        "\n",
        "  !mkdir ~/.kaggle\n",
        "\n",
        "\n",
        "  ! cp kaggle.json ~/.kaggle/\n",
        "  ! chmod 600 ~/.kaggle/kaggle.json\n",
        "\n",
        "  ! kaggle competitions download child-mind-institute-detect-sleep-states\n",
        "  ! unzip -o child-mind-institute-detect-sleep-states.zip -d   child-mind-institute-detect-sleep-states\n",
        "\n",
        "  ! kaggle datasets download -d mpp1998/zzz-data-train\n",
        "  ! unzip -o  zzz-data-train.zip -d    zzz-data-train\n",
        "\n",
        "  ! kaggle datasets download -d mpp1998/zzz-data-train4\n",
        "  ! unzip -o  zzz-data-train4.zip -d    zzz-data-train4\n",
        "\n",
        "  ! kaggle datasets download -d carlmcbrideellis/zzzs-lightweight-training-dataset-target\n",
        "  ! unzip -o  zzzs-lightweight-training-dataset-target.zip -d    zzzs-lightweight-training-dataset-target\n",
        "\n",
        "  ! kaggle datasets download -d mpp1998/code-zzz\n",
        "  ! unzip -o  code-zzz.zip -d    code-zzz"
      ]
    },
    {
      "cell_type": "code",
      "source": [
        "  ! kaggle datasets download -d mpp1998/zzz-data-train5\n",
        "  ! unzip -o  zzz-data-train5.zip -d    zzz-data-train5"
      ],
      "metadata": {
        "colab": {
          "base_uri": "https://localhost:8080/"
        },
        "id": "-Y4aOxKTcjHR",
        "outputId": "78d3c7cb-dba5-4d3b-c6ce-13ba6b21a5d2"
      },
      "execution_count": 4,
      "outputs": [
        {
          "output_type": "stream",
          "name": "stdout",
          "text": [
            "Downloading zzz-data-train5.zip to /content\n",
            "100% 1.01G/1.01G [00:59<00:00, 16.9MB/s]\n",
            "100% 1.01G/1.01G [00:59<00:00, 18.2MB/s]\n",
            "Archive:  zzz-data-train5.zip\n",
            "  inflating: zzz-data-train5/data_critic_normal01_100/features.pkl  \n",
            "  inflating: zzz-data-train5/data_critic_normal01_100/steps.pkl  \n",
            "  inflating: zzz-data-train5/data_critic_normal01_100/targets.pkl  \n",
            "  inflating: zzz-data-train5/data_critic_normal01_20/features.pkl  \n",
            "  inflating: zzz-data-train5/data_critic_normal01_20/steps.pkl  \n",
            "  inflating: zzz-data-train5/data_critic_normal01_20/targets.pkl  \n"
          ]
        }
      ]
    },
    {
      "cell_type": "code",
      "execution_count": 5,
      "metadata": {
        "id": "Yyf-Gw_zAogS"
      },
      "outputs": [],
      "source": [
        "#Copy metrics code from: https://www.kaggle.com/code/metric/event-detection-ap/notebook\n",
        "!cp /content/code-zzz/evaluation.py ."
      ]
    },
    {
      "cell_type": "code",
      "execution_count": 6,
      "metadata": {
        "colab": {
          "base_uri": "https://localhost:8080/"
        },
        "id": "6F1fCkzvAogT",
        "outputId": "5ed49998-fa2f-4a43-f0e9-005dbbdcf51c"
      },
      "outputs": [
        {
          "output_type": "stream",
          "name": "stderr",
          "text": [
            "WARNING:tensorflow:From <ipython-input-6-a55511b9ba9d>:17: is_gpu_available (from tensorflow.python.framework.test_util) is deprecated and will be removed in a future version.\n",
            "Instructions for updating:\n",
            "Use `tf.config.list_physical_devices('GPU')` instead.\n"
          ]
        },
        {
          "output_type": "stream",
          "name": "stdout",
          "text": [
            "2.14.0\n",
            "[PhysicalDevice(name='/physical_device:GPU:0', device_type='GPU')]\n",
            "TensorFlow está utilizando una GPU.\n",
            "GPU utilizada: /device:GPU:0\n"
          ]
        }
      ],
      "source": [
        "import glob\n",
        "from sklearn.metrics import confusion_matrix, accuracy_score, precision_score, recall_score, f1_score\n",
        "import pandas as pd\n",
        "import tensorflow as tf\n",
        "from tqdm import tqdm\n",
        "import pickle as pkl\n",
        "import numpy as np\n",
        "import logging\n",
        "import polars as pl\n",
        "logger=logging.getLogger()\n",
        "import sys\n",
        "from tqdm import tqdm\n",
        "logger.setLevel(logging.INFO)\n",
        "from tqdm import tqdm\n",
        "print(tf.__version__)\n",
        "print(tf.config.list_physical_devices('GPU'))\n",
        "if tf.test.is_gpu_available():\n",
        "    print(\"TensorFlow está utilizando una GPU.\")\n",
        "    print(\"GPU utilizada:\", tf.test.gpu_device_name())\n",
        "else:\n",
        "    print(\"TensorFlow no está utilizando una GPU.\")\n",
        "\n",
        "import matplotlib.pyplot as plt\n",
        "import warnings\n",
        "import joblib\n",
        "import gc\n",
        "import pickle as pkl\n",
        "from itertools import groupby"
      ]
    },
    {
      "cell_type": "code",
      "execution_count": 7,
      "metadata": {
        "id": "cJ1uqDbdAogT"
      },
      "outputs": [],
      "source": [
        "from evaluation import score"
      ]
    },
    {
      "cell_type": "markdown",
      "metadata": {
        "id": "WgfZjVjwAogT"
      },
      "source": [
        "## MODEL TARGET"
      ]
    },
    {
      "cell_type": "markdown",
      "metadata": {
        "id": "Wqjzmlt7AogT"
      },
      "source": [
        "It is used as the target whether the subject is sleeping or not (1 if they are and 0 if not). There are series with events that have 'step=null'. In these series, there are chunks of data where it is unknown where the previous or next event is. These data points are labeled as 'nan', and will be used only as features since the loss function uses a mask to compute the loss only on data points that do not have a 'nan' target.\n",
        "\n",
        "Based on this target \"sleep\", events are constructed for evaluation and final submission using the 'get_event' function, which is being used in other notebooks.\n",
        "\n",
        "\n",
        "\n",
        "\n",
        "\n"
      ]
    },
    {
      "cell_type": "code",
      "execution_count": 8,
      "metadata": {
        "id": "Skz0vh5_AogT"
      },
      "outputs": [],
      "source": [
        "TARGET=\"sleep\"\n",
        "TEST_IDS = [109,144,106,217,234]"
      ]
    },
    {
      "cell_type": "code",
      "execution_count": 9,
      "metadata": {
        "id": "-NxjoEaXtj6p"
      },
      "outputs": [],
      "source": [
        "SIGMA=720"
      ]
    },
    {
      "cell_type": "markdown",
      "metadata": {
        "id": "11W438iZAogU"
      },
      "source": [
        "## PARAMS"
      ]
    },
    {
      "cell_type": "code",
      "execution_count": 10,
      "metadata": {
        "id": "yC1spq9oAogU"
      },
      "outputs": [],
      "source": [
        "LEARNING_RATE = 0.0005\n",
        "STEPS_PER_EPOCH = 500\n",
        "NUM_EPOCHS=14\n",
        "WARMUP_STEPS = 300\n",
        "GPU_BATCH_SIZE=32\n",
        "\n",
        "OPTMIZER_BETA1=0.9\n",
        "OPTMIZER_BETA2=0.98\n",
        "OPTMIZER_EPSILON=1e-9\n",
        "\n",
        "ONLY_TEST = False\n",
        "\n",
        "## 5 folds in the fold_ids.pkl file (random folds of the 277 train series_ids, this way each full series is only in one fold). In this version only fold1 is used for training the model.\n",
        "FOLD=1\n",
        "SAMPLE_NORMALIZE=True\n",
        "\n",
        "DROP_INITIAL_DATE=True\n",
        "\n",
        "train=True\n",
        "predict=True\n",
        "\n",
        "numeric_features= [\"anglez\", \"enmo\"]\n",
        "\n",
        "CFG = {\n",
        "   \"num_epochs\":NUM_EPOCHS,\n",
        "   \"steps_per_epoch\":STEPS_PER_EPOCH,\n",
        "   \"patch_size\":10,\n",
        "   \"block_size\":17280,\n",
        "   \"stride\": 17280,\n",
        "   'model_dim': 160,\n",
        "   'time_mixing_dim':1440,\n",
        "   'feature_mixing_dim':160,\n",
        "   'model_num_heads': 6,\n",
        "   'model_num_encoder_layers': 5,\n",
        "   'model_num_lstm_layers': 5,\n",
        "   'model_first_dropout': 0.5,\n",
        "   'model_second_dropout':0.5,\n",
        "   'model_encoder_dropout': 0.1,\n",
        "   'model_mha_dropout': 0.0,\n",
        "}\n",
        "DIM=CFG['patch_size']*2 +2 # 2 numeric features * patch size + 2 more features (sine and cosine of day time)"
      ]
    },
    {
      "cell_type": "markdown",
      "metadata": {
        "id": "ZU6n5hD0AogV"
      },
      "source": [
        "##  GET AND BUILD DATA"
      ]
    },
    {
      "cell_type": "markdown",
      "metadata": {
        "id": "StaNPDdrAogV"
      },
      "source": [
        "The training data is constructed in another notebook exactly the same way as is test data here:"
      ]
    },
    {
      "cell_type": "code",
      "execution_count": 11,
      "metadata": {
        "colab": {
          "base_uri": "https://localhost:8080/"
        },
        "id": "QoKdzKg8AogW",
        "outputId": "1c5f2b75-5bd1-460b-d9d4-a38c6a3cce61"
      },
      "outputs": [
        {
          "output_type": "stream",
          "name": "stdout",
          "text": [
            "CPU times: user 37 s, sys: 13.6 s, total: 50.5 s\n",
            "Wall time: 37.4 s\n"
          ]
        }
      ],
      "source": [
        "%%time\n",
        "if not ONLY_TEST:\n",
        "    events=pd.read_csv(f\"{PATH}/child-mind-institute-detect-sleep-states/train_events.csv\")\n",
        "    events_check=pd.read_csv(f\"{PATH}/child-mind-institute-detect-sleep-states/train_events.csv\").dropna(subset=\"timestamp\")\n",
        "    data = pd.read_parquet(f\"{PATH}/zzz-data-train/data_train.parquet\",columns=[\"series_id\",\"step\",\"anglez\",\"enmo\",\"minute\",\"sine\",\"cosine\",\"sleep\",\"timestamp\"])\n",
        "\n"
      ]
    },
    {
      "cell_type": "code",
      "execution_count": 12,
      "metadata": {
        "id": "LkSepmfKADvb"
      },
      "outputs": [],
      "source": [
        "data[\"timestamp\"]=pd.to_datetime(data[\"timestamp\"])"
      ]
    },
    {
      "cell_type": "code",
      "execution_count": 13,
      "metadata": {
        "id": "tM6kgPxbtU-M"
      },
      "outputs": [],
      "source": [
        "## train ids are mapped to int values so we need a dict to map back in the final part to comparare with the events dataset\n",
        "dict_ids=pkl.load(open(f\"{PATH}/zzz-data-train/dict_ids.pkl\",\"rb\"))"
      ]
    },
    {
      "cell_type": "code",
      "execution_count": 14,
      "metadata": {
        "id": "o0Ef3a5ZrR8u"
      },
      "outputs": [],
      "source": [
        "targets,_,ids = joblib.load(\"/content/zzz-data-train/train_data.pkl\")"
      ]
    },
    {
      "cell_type": "code",
      "execution_count": 15,
      "metadata": {
        "id": "agu6x8t-sTOs"
      },
      "outputs": [],
      "source": [
        "targets={dict_ids[ids[i]]:targets[i] for i in range(len(targets))}"
      ]
    },
    {
      "cell_type": "code",
      "execution_count": 16,
      "metadata": {
        "id": "Ct7OD79_AogW"
      },
      "outputs": [],
      "source": [
        "ids_=np.load( f\"{PATH}/zzz-data-train/ids.npy\", allow_pickle=True).reshape(-1)"
      ]
    },
    {
      "cell_type": "code",
      "execution_count": 17,
      "metadata": {
        "id": "DcIKbttuAogW"
      },
      "outputs": [],
      "source": [
        "fold_ids=pkl.load(open(f\"{PATH}/zzz-data-train/fold_ids.pkl\",\"rb\"))"
      ]
    },
    {
      "cell_type": "code",
      "execution_count": 18,
      "metadata": {
        "id": "ushlg9wNAogW"
      },
      "outputs": [],
      "source": [
        "\n",
        "ids_=list(dict_ids.values())"
      ]
    },
    {
      "cell_type": "code",
      "execution_count": 19,
      "metadata": {
        "id": "KQn0-ih7AogW"
      },
      "outputs": [],
      "source": [
        "def sample_normalize(sample):\n",
        "    mean = tf.math.reduce_mean(sample,axis=0)\n",
        "    std = tf.math.reduce_std(sample,axis=0)\n",
        "    sample = tf.math.divide_no_nan(sample-mean, std)\n",
        "\n",
        "    return sample.numpy()"
      ]
    },
    {
      "cell_type": "code",
      "execution_count": 20,
      "metadata": {
        "id": "bt0G7IBq2Fkz"
      },
      "outputs": [],
      "source": [
        "from pandas.core.arrays.timedeltas import timedelta\n",
        "def drop_initial_date(df__):\n",
        "\n",
        "            #df__=df__.drop_duplicates(subset=\"timestamp\")\n",
        "            #display(df__.loc[(df__.timestamp.diff()==timedelta(seconds=0))])\n",
        "            df__=df__.loc[~(df__.timestamp.diff()==timedelta(seconds=0))]\n",
        "            inital_time=df__.iloc[0].timestamp\n",
        "            #print(inital_time)\n",
        "            intial_padding = (inital_time.hour*60+inital_time.minute - 60*12)*12\n",
        "            if intial_padding >0:\n",
        "              df_ini=pd.DataFrame(np.zeros((intial_padding,9)),columns=df__.columns)\n",
        "              #print(len(df_ini))\n",
        "              df_ini[\"sleep\"]=np.nan\n",
        "              return pd.concat([df_ini,df__])\n",
        "            else:\n",
        "\n",
        "\n",
        "              return df__.iloc[-intial_padding:]\n"
      ]
    },
    {
      "cell_type": "code",
      "execution_count": 21,
      "metadata": {
        "id": "GTWF6dyVXqSg"
      },
      "outputs": [],
      "source": [
        "def truncate_days(df_,id_):\n",
        "  with warnings.catch_warnings():\n",
        "    warnings.simplefilter(\"ignore\")\n",
        "    swaped_dict={value:key for key , value in dict_ids.items()}\n",
        "    events_=events_check.loc[events_check.series_id==swaped_dict[id_]]\n",
        "    events_[\"timestamp\"] =pd.to_datetime(events_[\"timestamp\"].str[:19] )\n",
        "    prev_lenght=len(df_)\n",
        "    df_=df_.loc[df_.timestamp.dt.date<= events_.timestamp.dt.date.max()]\n",
        "    return df_"
      ]
    },
    {
      "cell_type": "code",
      "execution_count": 22,
      "metadata": {
        "id": "-mGiWXH1ASoJ"
      },
      "outputs": [],
      "source": [
        "targets_events=targets"
      ]
    },
    {
      "cell_type": "code",
      "execution_count": 23,
      "metadata": {
        "id": "8lV51mAFD25b"
      },
      "outputs": [],
      "source": [
        "import matplotlib.pyplot as plt\n",
        "from tensorflow.python.distribute.distribute_lib import def_function\n",
        "from math import sqrt,exp,pi"
      ]
    },
    {
      "cell_type": "code",
      "execution_count": 24,
      "metadata": {
        "id": "vrwlfhDv9xNJ"
      },
      "outputs": [],
      "source": [
        "def gauss(n=SIGMA,sigma=SIGMA*0.15):\n",
        "    # guassian distribution function\n",
        "    r = range(-int(n/2),int(n/2)+1)\n",
        "    return [1 / (sigma * sqrt(2*pi)) * exp(-float(x)**2/(2*sigma**2)) for x in r]"
      ]
    },
    {
      "cell_type": "code",
      "execution_count": 25,
      "metadata": {
        "id": "VnZd5KODD_Yn"
      },
      "outputs": [],
      "source": [
        "series_=gauss(n=SIGMA,sigma=SIGMA*0.15)"
      ]
    },
    {
      "cell_type": "code",
      "execution_count": 26,
      "metadata": {
        "colab": {
          "base_uri": "https://localhost:8080/",
          "height": 447
        },
        "id": "ZoDkX8YrDzRe",
        "outputId": "bcad210b-46d1-41aa-d61d-935af4ebcde7"
      },
      "outputs": [
        {
          "output_type": "execute_result",
          "data": {
            "text/plain": [
              "<matplotlib.collections.PathCollection at 0x7dbe27fb4ac0>"
            ]
          },
          "metadata": {},
          "execution_count": 26
        },
        {
          "output_type": "display_data",
          "data": {
            "text/plain": [
              "<Figure size 640x480 with 1 Axes>"
            ],
            "image/png": "[encoded data removed]"
          },
          "metadata": {}
        }
      ],
      "source": [
        "plt.scatter(range(len(series_)),series_)"
      ]
    },
    {
      "cell_type": "code",
      "execution_count": 27,
      "metadata": {
        "id": "UjsdNTdcAogW"
      },
      "outputs": [],
      "source": [
        "\n",
        "# Here the data is transformed into samples with shape (CFG[ \"block_size\"]/CFG[\"patch_size\"],CFG[\"patch_size\"]*num_numeric_features +2). So each sample of the neural network will be 2D with this 2 dimensions.\n",
        "# Series with lenght  not multiple of CFG[ \"block_size\"] are padded.\n",
        "\n",
        "def read_data(data,ids_):\n",
        "    with warnings.catch_warnings():\n",
        "        warnings.filterwarnings(\"ignore\", category=RuntimeWarning)\n",
        "        features={}\n",
        "        targets={}\n",
        "        descrp={}\n",
        "        steps_={}\n",
        "        for id_ in tqdm(ids_):\n",
        "            features[id_]=[]\n",
        "            targets[id_]=[]\n",
        "            steps_[id_]=[]\n",
        "            df_=data.loc[data.series_id==id_]\n",
        "            df_=truncate_days(df_,id_)\n",
        "            if len(df_)>0:\n",
        "              if DROP_INITIAL_DATE:\n",
        "                df_=drop_initial_date(df_)\n",
        "              #display(df_)\n",
        "              df__=df_.reset_index()\n",
        "              steps = range(0,len(df_),CFG[\"stride\"])\n",
        "              steps= [step for step in steps if step<len(df_)]\n",
        "              descrp[id_]={\"steps\":len(steps),\"length_df\":len(df_)}\n",
        "              for step in steps:\n",
        "                  sample_=df_.iloc[step:step+CFG[\"block_size\"],:]\n",
        "                  feats=sample_.loc[:,numeric_features].values\n",
        "                  if SAMPLE_NORMALIZE:\n",
        "                      feats=sample_normalize(feats)\n",
        "                  sine_=sample_[\"sine\"].values.reshape(-1,1)\n",
        "                  cosine_=sample_[\"cosine\"].values.reshape(-1,1)\n",
        "                  target_=np.zeros((len(sample_.loc[:,TARGET].values),2))\n",
        "                  target_points=targets_events[id_]\n",
        "\n",
        "                  for s_,e_ in target_points:\n",
        "                      s= df__.loc[df__.step==s_].index[0]\n",
        "                      e= df__.loc[df__.step==e_].index[0]\n",
        "                      #print(s_,e_,s,e)\n",
        "                      if s>=step and s<step+CFG[\"block_size\"]:\n",
        "                        s=s-step\n",
        "                        st1,st2 = max(0,s-SIGMA//2),min(len(  target_),s+SIGMA//2+1)\n",
        "\n",
        "                        print(f\"Added onset {s} in step {step}, affecting interval {st1}:{st2}\")\n",
        "                        target_[st1:st2,0] = gauss()[st1-(s-SIGMA//2):SIGMA+1-((s+SIGMA//2+1)-st2)]\n",
        "                      if e>=step and e<step+CFG[\"block_size\"]:\n",
        "                        e=e-step\n",
        "                        ed1,ed2 = max(0,e-SIGMA//2),min(len(  target_),e+SIGMA//2+1)\n",
        "                        print(f\"Added wakeup {e} in step {step}, affecting interval {ed1}:{ed2}\")\n",
        "                        target_[ed1:ed2,1] = gauss()[ed1-(e-SIGMA//2):SIGMA+1-((e+SIGMA//2+1)-ed2)]\n",
        "\n",
        "                      gc.collect()\n",
        "                      if e>step+CFG[\"block_size\"]:\n",
        "                        print(f\"Finished {id_}, step {step+CFG['block_size']}\")\n",
        "                        break\n",
        "                  target_= target_.reshape(-1,2)\n",
        "                  if len(feats)<CFG[\"block_size\"]:\n",
        "                        padding = CFG[\"block_size\"] - len(feats)\n",
        "                        padding_values = np.zeros((padding, feats.shape[1]))\n",
        "                        padding_sine = np.zeros((padding, sine_.shape[1]))\n",
        "                        padding_cosine = np.zeros((padding, cosine_.shape[1]))\n",
        "                        padding_target = np.empty((padding, 2)) *np.nan\n",
        "                        feats = np.vstack([feats, padding_values])\n",
        "                        sine_ = np.vstack([sine_, padding_sine])\n",
        "                        cosine_ = np.vstack([cosine_, padding_cosine])\n",
        "                        target_ = np.vstack([target_, padding_target])\n",
        "                  feats=feats.reshape(-1,CFG[\"patch_size\"]*2).astype(np.float32)\n",
        "                  sine_=sine_.reshape(-1,CFG[\"patch_size\"],1).mean(axis=1).reshape(-1,1)\n",
        "                  cosine_=cosine_.reshape(-1,CFG[\"patch_size\"],1).mean(axis=1).reshape(-1,1)\n",
        "                  targets_=np.nanmean(target_.reshape(-1,CFG[\"patch_size\"],2),axis=1).astype(np.float16)\n",
        "\n",
        "                  #print(targets_.shape,targets_.max(axis=0),print(targets_[:5]))\n",
        "                  if max(targets_.max(axis=0))!=0:\n",
        "                      print(f\"MAX IS {max(targets_.max(axis=0))}\")\n",
        "                      features[id_].append(np.concatenate((feats,sine_,cosine_),axis=1))\n",
        "                      #features[id_].append(feats)\n",
        "\n",
        "                      targets[id_].append(  targets_)\n",
        "                      steps_[id_].append(step)\n",
        "                  else:\n",
        "                    print(\"MAX IS 0\")\n",
        "\n",
        "                  del sample_\n",
        "\n",
        "              del df_\n",
        "              gc.collect()\n",
        "\n",
        "        return    features,  targets, descrp,  steps_\n",
        "\n",
        "\n",
        "def read_data_test(data,ids_):\n",
        "\n",
        "    with warnings.catch_warnings():\n",
        "        warnings.filterwarnings(\"ignore\", category=RuntimeWarning)\n",
        "        features={}\n",
        "        descrp={}\n",
        "        steps_={}\n",
        "        for id_ in tqdm(ids_):\n",
        "            features[id_]=[]\n",
        "            steps_[id_]=[]\n",
        "            df_=data.loc[data.series_id==id_]\n",
        "            if DROP_INITIAL_DATE and train==False:\n",
        "              df_=drop_initial_date(df_)\n",
        "            steps = range(0,len(df_),CFG[\"stride\"])\n",
        "            steps= [step for step in steps if step<len(df_)]\n",
        "            descrp[id_]={\"steps\":len(steps),\"length_df\":len(df_)}\n",
        "            for step in steps:\n",
        "                sample_=df_.iloc[step:step+CFG[\"block_size\"],:]\n",
        "                feats=sample_.loc[:,numeric_features].values\n",
        "                if SAMPLE_NORMALIZE:\n",
        "                    feats=sample_normalize(feats)\n",
        "                sine_=sample_[\"sine\"].values.reshape(-1,1)\n",
        "                cosine_=sample_[\"cosine\"].values.reshape(-1,1)\n",
        "                if len(feats)<CFG[\"block_size\"]:\n",
        "                      padding = CFG[\"block_size\"] - len(feats)\n",
        "                      padding_values = np.zeros((padding, feats.shape[1]))\n",
        "                      padding_sine = np.zeros((padding, sine_.shape[1]))\n",
        "                      padding_cosine = np.zeros((padding, cosine_.shape[1]))\n",
        "                      feats = np.vstack([feats, padding_values])\n",
        "                      sine_ = np.vstack([sine_, padding_sine])\n",
        "                      cosine_ = np.vstack([cosine_, padding_cosine])\n",
        "                feats=feats.reshape(-1,CFG[\"patch_size\"]*2).astype(np.float32)\n",
        "                sine_=sine_.reshape(-1,CFG[\"patch_size\"],1).mean(axis=1).reshape(-1,1)\n",
        "                cosine_=cosine_.reshape(-1,CFG[\"patch_size\"],1).mean(axis=1).reshape(-1,1)\n",
        "\n",
        "                features[id_].append(np.concatenate((feats,sine_,cosine_),axis=1))\n",
        "                #features[id_].append(feats)\n",
        "\n",
        "                steps_[id_].append(step)\n",
        "\n",
        "                del sample_\n",
        "\n",
        "            del df_\n",
        "            gc.collect()\n",
        "\n",
        "        return    features,   descrp,  steps_"
      ]
    },
    {
      "cell_type": "code",
      "execution_count": 28,
      "metadata": {
        "colab": {
          "base_uri": "https://localhost:8080/"
        },
        "id": "1Ahk8ljOp2Zy",
        "outputId": "4c843007-65f7-4656-da21-c7c4d834c460"
      },
      "outputs": [
        {
          "output_type": "stream",
          "name": "stdout",
          "text": [
            "CPU times: user 29.2 ms, sys: 737 ms, total: 766 ms\n",
            "Wall time: 764 ms\n"
          ]
        }
      ],
      "source": [
        "%%time\n",
        "BUILD_DATA=False\n",
        "if BUILD_DATA:\n",
        "  if not ONLY_TEST:\n",
        "      features,  targets, descrp,  steps_ = read_data(data,ids_)\n",
        "      pkl.dump(features,open(\"features.pkl\",\"wb\"))\n",
        "      pkl.dump(targets,open(\"targets.pkl\",\"wb\"))\n",
        "      pkl.dump(steps_,open(\"steps.pkl\",\"wb\"))\n",
        "\n",
        "  !zip drive/MyDrive/data_critic_reg features.pkl targets.pkl steps.pkl\n",
        "else:\n",
        "  features=pkl.load(open(\"/content/zzz-data-train5/data_critic_normal01_100/features.pkl\",\"rb\"))\n",
        "  targets=pkl.load(open(\"/content/zzz-data-train5/data_critic_normal01_100/targets.pkl\",\"rb\"))\n",
        "  steps_=pkl.load(open(\"/content/zzz-data-train5/data_critic_normal01_100/steps.pkl\",\"rb\"))"
      ]
    },
    {
      "cell_type": "code",
      "source": [
        "features[0][0].shape"
      ],
      "metadata": {
        "colab": {
          "base_uri": "https://localhost:8080/"
        },
        "id": "c1t_QubH0tD_",
        "outputId": "f705709d-a47a-45a0-bb4f-3d2280b4a8b4"
      },
      "execution_count": 29,
      "outputs": [
        {
          "output_type": "execute_result",
          "data": {
            "text/plain": [
              "(1728, 22)"
            ]
          },
          "metadata": {},
          "execution_count": 29
        }
      ]
    },
    {
      "cell_type": "code",
      "execution_count": 30,
      "metadata": {
        "colab": {
          "base_uri": "https://localhost:8080/"
        },
        "id": "9RmCXmP5LuiG",
        "outputId": "a56c4128-218e-4d16-85ef-cae447c35138"
      },
      "outputs": [
        {
          "output_type": "execute_result",
          "data": {
            "text/plain": [
              "628"
            ]
          },
          "metadata": {},
          "execution_count": 30
        }
      ],
      "source": [
        "id_=0\n",
        "max_index=targets[id_][0][:,0].argmax()\n",
        "max_index"
      ]
    },
    {
      "cell_type": "code",
      "execution_count": 31,
      "metadata": {
        "colab": {
          "base_uri": "https://localhost:8080/"
        },
        "id": "NhB2QNzHMd0S",
        "outputId": "2d3bbb07-65aa-4797-f939-b33bb83e29bc"
      },
      "outputs": [
        {
          "output_type": "execute_result",
          "data": {
            "text/plain": [
              "5748"
            ]
          },
          "metadata": {},
          "execution_count": 31
        }
      ],
      "source": [
        "targets_events[id_][0][0]\n"
      ]
    },
    {
      "cell_type": "code",
      "execution_count": 32,
      "metadata": {
        "id": "nvgUo6kYLw3g"
      },
      "outputs": [],
      "source": [
        "df__=data.loc[data.series_id==id_]\n",
        "df__=drop_initial_date(df__)"
      ]
    },
    {
      "cell_type": "code",
      "execution_count": 33,
      "metadata": {
        "colab": {
          "base_uri": "https://localhost:8080/",
          "height": 363
        },
        "id": "U8KuCLTVL4H3",
        "outputId": "1ecbe8e2-082b-4058-908e-ae9ded9bc1a5"
      },
      "outputs": [
        {
          "output_type": "execute_result",
          "data": {
            "text/plain": [
              "          series_id    step     anglez    enmo  minute      sine    cosine  \\\n",
              "70518361        0.0  5740.0 -53.495499  0.0716  1243.0 -0.757565  0.652760   \n",
              "70518362        0.0  5741.0 -65.601799  0.0609  1243.0 -0.757565  0.652760   \n",
              "70518363        0.0  5742.0 -56.889900  0.0592  1243.0 -0.757565  0.652760   \n",
              "70518364        0.0  5743.0 -10.045200  0.0583  1243.0 -0.757565  0.652760   \n",
              "70518365        0.0  5744.0  11.183500  0.0095  1243.0 -0.757565  0.652760   \n",
              "70518366        0.0  5745.0  10.241600  0.0035  1243.0 -0.757565  0.652760   \n",
              "70518367        0.0  5746.0  10.207000  0.0032  1243.0 -0.757565  0.652760   \n",
              "70518368        0.0  5747.0   8.890400  0.0087  1243.0 -0.757565  0.652760   \n",
              "70518369        0.0  5748.0  -7.085400  0.1142  1244.0 -0.754710  0.656059   \n",
              "70518370        0.0  5749.0 -40.930599  0.0295  1244.0 -0.754710  0.656059   \n",
              "\n",
              "          sleep            timestamp  \n",
              "70518361    0.0  2018-04-04 20:43:20  \n",
              "70518362    0.0  2018-04-04 20:43:25  \n",
              "70518363    0.0  2018-04-04 20:43:30  \n",
              "70518364    0.0  2018-04-04 20:43:35  \n",
              "70518365    0.0  2018-04-04 20:43:40  \n",
              "70518366    0.0  2018-04-04 20:43:45  \n",
              "70518367    0.0  2018-04-04 20:43:50  \n",
              "70518368    0.0  2018-04-04 20:43:55  \n",
              "70518369    1.0  2018-04-04 20:44:00  \n",
              "70518370    1.0  2018-04-04 20:44:05  "
            ],
            "text/html": [
              "\n",
              "  <div id=\"df-d22b5109-ee0b-4a7b-a123-e0809cb5c160\" class=\"colab-df-container\">\n",
              "    <div>\n",
              "<style scoped>\n",
              "    .dataframe tbody tr th:only-of-type {\n",
              "        vertical-align: middle;\n",
              "    }\n",
              "\n",
              "    .dataframe tbody tr th {\n",
              "        vertical-align: top;\n",
              "    }\n",
              "\n",
              "    .dataframe thead th {\n",
              "        text-align: right;\n",
              "    }\n",
              "</style>\n",
              "<table border=\"1\" class=\"dataframe\">\n",
              "  <thead>\n",
              "    <tr style=\"text-align: right;\">\n",
              "      <th></th>\n",
              "      <th>series_id</th>\n",
              "      <th>step</th>\n",
              "      <th>anglez</th>\n",
              "      <th>enmo</th>\n",
              "      <th>minute</th>\n",
              "      <th>sine</th>\n",
              "      <th>cosine</th>\n",
              "      <th>sleep</th>\n",
              "      <th>timestamp</th>\n",
              "    </tr>\n",
              "  </thead>\n",
              "  <tbody>\n",
              "    <tr>\n",
              "      <th>70518361</th>\n",
              "      <td>0.0</td>\n",
              "      <td>5740.0</td>\n",
              "      <td>-53.495499</td>\n",
              "      <td>0.0716</td>\n",
              "      <td>1243.0</td>\n",
              "      <td>-0.757565</td>\n",
              "      <td>0.652760</td>\n",
              "      <td>0.0</td>\n",
              "      <td>2018-04-04 20:43:20</td>\n",
              "    </tr>\n",
              "    <tr>\n",
              "      <th>70518362</th>\n",
              "      <td>0.0</td>\n",
              "      <td>5741.0</td>\n",
              "      <td>-65.601799</td>\n",
              "      <td>0.0609</td>\n",
              "      <td>1243.0</td>\n",
              "      <td>-0.757565</td>\n",
              "      <td>0.652760</td>\n",
              "      <td>0.0</td>\n",
              "      <td>2018-04-04 20:43:25</td>\n",
              "    </tr>\n",
              "    <tr>\n",
              "      <th>70518363</th>\n",
              "      <td>0.0</td>\n",
              "      <td>5742.0</td>\n",
              "      <td>-56.889900</td>\n",
              "      <td>0.0592</td>\n",
              "      <td>1243.0</td>\n",
              "      <td>-0.757565</td>\n",
              "      <td>0.652760</td>\n",
              "      <td>0.0</td>\n",
              "      <td>2018-04-04 20:43:30</td>\n",
              "    </tr>\n",
              "    <tr>\n",
              "      <th>70518364</th>\n",
              "      <td>0.0</td>\n",
              "      <td>5743.0</td>\n",
              "      <td>-10.045200</td>\n",
              "      <td>0.0583</td>\n",
              "      <td>1243.0</td>\n",
              "      <td>-0.757565</td>\n",
              "      <td>0.652760</td>\n",
              "      <td>0.0</td>\n",
              "      <td>2018-04-04 20:43:35</td>\n",
              "    </tr>\n",
              "    <tr>\n",
              "      <th>70518365</th>\n",
              "      <td>0.0</td>\n",
              "      <td>5744.0</td>\n",
              "      <td>11.183500</td>\n",
              "      <td>0.0095</td>\n",
              "      <td>1243.0</td>\n",
              "      <td>-0.757565</td>\n",
              "      <td>0.652760</td>\n",
              "      <td>0.0</td>\n",
              "      <td>2018-04-04 20:43:40</td>\n",
              "    </tr>\n",
              "    <tr>\n",
              "      <th>70518366</th>\n",
              "      <td>0.0</td>\n",
              "      <td>5745.0</td>\n",
              "      <td>10.241600</td>\n",
              "      <td>0.0035</td>\n",
              "      <td>1243.0</td>\n",
              "      <td>-0.757565</td>\n",
              "      <td>0.652760</td>\n",
              "      <td>0.0</td>\n",
              "      <td>2018-04-04 20:43:45</td>\n",
              "    </tr>\n",
              "    <tr>\n",
              "      <th>70518367</th>\n",
              "      <td>0.0</td>\n",
              "      <td>5746.0</td>\n",
              "      <td>10.207000</td>\n",
              "      <td>0.0032</td>\n",
              "      <td>1243.0</td>\n",
              "      <td>-0.757565</td>\n",
              "      <td>0.652760</td>\n",
              "      <td>0.0</td>\n",
              "      <td>2018-04-04 20:43:50</td>\n",
              "    </tr>\n",
              "    <tr>\n",
              "      <th>70518368</th>\n",
              "      <td>0.0</td>\n",
              "      <td>5747.0</td>\n",
              "      <td>8.890400</td>\n",
              "      <td>0.0087</td>\n",
              "      <td>1243.0</td>\n",
              "      <td>-0.757565</td>\n",
              "      <td>0.652760</td>\n",
              "      <td>0.0</td>\n",
              "      <td>2018-04-04 20:43:55</td>\n",
              "    </tr>\n",
              "    <tr>\n",
              "      <th>70518369</th>\n",
              "      <td>0.0</td>\n",
              "      <td>5748.0</td>\n",
              "      <td>-7.085400</td>\n",
              "      <td>0.1142</td>\n",
              "      <td>1244.0</td>\n",
              "      <td>-0.754710</td>\n",
              "      <td>0.656059</td>\n",
              "      <td>1.0</td>\n",
              "      <td>2018-04-04 20:44:00</td>\n",
              "    </tr>\n",
              "    <tr>\n",
              "      <th>70518370</th>\n",
              "      <td>0.0</td>\n",
              "      <td>5749.0</td>\n",
              "      <td>-40.930599</td>\n",
              "      <td>0.0295</td>\n",
              "      <td>1244.0</td>\n",
              "      <td>-0.754710</td>\n",
              "      <td>0.656059</td>\n",
              "      <td>1.0</td>\n",
              "      <td>2018-04-04 20:44:05</td>\n",
              "    </tr>\n",
              "  </tbody>\n",
              "</table>\n",
              "</div>\n",
              "    <div class=\"colab-df-buttons\">\n",
              "\n",
              "  <div class=\"colab-df-container\">\n",
              "    <button class=\"colab-df-convert\" onclick=\"convertToInteractive('df-d22b5109-ee0b-4a7b-a123-e0809cb5c160')\"\n",
              "            title=\"Convert this dataframe to an interactive table.\"\n",
              "            style=\"display:none;\">\n",
              "\n",
              "  <svg xmlns=\"http://www.w3.org/2000/svg\" height=\"24px\" viewBox=\"0 -960 960 960\">\n",
              "    <path d=\"M120-120v-720h720v720H120Zm60-500h600v-160H180v160Zm220 220h160v-160H400v160Zm0 220h160v-160H400v160ZM180-400h160v-160H180v160Zm440 0h160v-160H620v160ZM180-180h160v-160H180v160Zm440 0h160v-160H620v160Z\"/>\n",
              "  </svg>\n",
              "    </button>\n",
              "\n",
              "  <style>\n",
              "    .colab-df-container {\n",
              "      display:flex;\n",
              "      gap: 12px;\n",
              "    }\n",
              "\n",
              "    .colab-df-convert {\n",
              "      background-color: #E8F0FE;\n",
              "      border: none;\n",
              "      border-radius: 50%;\n",
              "      cursor: pointer;\n",
              "      display: none;\n",
              "      fill: #1967D2;\n",
              "      height: 32px;\n",
              "      padding: 0 0 0 0;\n",
              "      width: 32px;\n",
              "    }\n",
              "\n",
              "    .colab-df-convert:hover {\n",
              "      background-color: #E2EBFA;\n",
              "      box-shadow: 0px 1px 2px rgba(60, 64, 67, 0.3), 0px 1px 3px 1px rgba(60, 64, 67, 0.15);\n",
              "      fill: #174EA6;\n",
              "    }\n",
              "\n",
              "    .colab-df-buttons div {\n",
              "      margin-bottom: 4px;\n",
              "    }\n",
              "\n",
              "    [theme=dark] .colab-df-convert {\n",
              "      background-color: #3B4455;\n",
              "      fill: #D2E3FC;\n",
              "    }\n",
              "\n",
              "    [theme=dark] .colab-df-convert:hover {\n",
              "      background-color: #434B5C;\n",
              "      box-shadow: 0px 1px 3px 1px rgba(0, 0, 0, 0.15);\n",
              "      filter: drop-shadow(0px 1px 2px rgba(0, 0, 0, 0.3));\n",
              "      fill: #FFFFFF;\n",
              "    }\n",
              "  </style>\n",
              "\n",
              "    <script>\n",
              "      const buttonEl =\n",
              "        document.querySelector('#df-d22b5109-ee0b-4a7b-a123-e0809cb5c160 button.colab-df-convert');\n",
              "      buttonEl.style.display =\n",
              "        google.colab.kernel.accessAllowed ? 'block' : 'none';\n",
              "\n",
              "      async function convertToInteractive(key) {\n",
              "        const element = document.querySelector('#df-d22b5109-ee0b-4a7b-a123-e0809cb5c160');\n",
              "        const dataTable =\n",
              "          await google.colab.kernel.invokeFunction('convertToInteractive',\n",
              "                                                    [key], {});\n",
              "        if (!dataTable) return;\n",
              "\n",
              "        const docLinkHtml = 'Like what you see? Visit the ' +\n",
              "          '<a target=\"_blank\" href=https://colab.research.google.com/notebooks/data_table.ipynb>data table notebook</a>'\n",
              "          + ' to learn more about interactive tables.';\n",
              "        element.innerHTML = '';\n",
              "        dataTable['output_type'] = 'display_data';\n",
              "        await google.colab.output.renderOutput(dataTable, element);\n",
              "        const docLink = document.createElement('div');\n",
              "        docLink.innerHTML = docLinkHtml;\n",
              "        element.appendChild(docLink);\n",
              "      }\n",
              "    </script>\n",
              "  </div>\n",
              "\n",
              "\n",
              "<div id=\"df-16c00f95-8d7b-4c8b-b29a-30bd2f4f7b87\">\n",
              "  <button class=\"colab-df-quickchart\" onclick=\"quickchart('df-16c00f95-8d7b-4c8b-b29a-30bd2f4f7b87')\"\n",
              "            title=\"Suggest charts\"\n",
              "            style=\"display:none;\">\n",
              "\n",
              "<svg xmlns=\"http://www.w3.org/2000/svg\" height=\"24px\"viewBox=\"0 0 24 24\"\n",
              "     width=\"24px\">\n",
              "    <g>\n",
              "        <path d=\"M19 3H5c-1.1 0-2 .9-2 2v14c0 1.1.9 2 2 2h14c1.1 0 2-.9 2-2V5c0-1.1-.9-2-2-2zM9 17H7v-7h2v7zm4 0h-2V7h2v10zm4 0h-2v-4h2v4z\"/>\n",
              "    </g>\n",
              "</svg>\n",
              "  </button>\n",
              "\n",
              "<style>\n",
              "  .colab-df-quickchart {\n",
              "      --bg-color: #E8F0FE;\n",
              "      --fill-color: #1967D2;\n",
              "      --hover-bg-color: #E2EBFA;\n",
              "      --hover-fill-color: #174EA6;\n",
              "      --disabled-fill-color: #AAA;\n",
              "      --disabled-bg-color: #DDD;\n",
              "  }\n",
              "\n",
              "  [theme=dark] .colab-df-quickchart {\n",
              "      --bg-color: #3B4455;\n",
              "      --fill-color: #D2E3FC;\n",
              "      --hover-bg-color: #434B5C;\n",
              "      --hover-fill-color: #FFFFFF;\n",
              "      --disabled-bg-color: #3B4455;\n",
              "      --disabled-fill-color: #666;\n",
              "  }\n",
              "\n",
              "  .colab-df-quickchart {\n",
              "    background-color: var(--bg-color);\n",
              "    border: none;\n",
              "    border-radius: 50%;\n",
              "    cursor: pointer;\n",
              "    display: none;\n",
              "    fill: var(--fill-color);\n",
              "    height: 32px;\n",
              "    padding: 0;\n",
              "    width: 32px;\n",
              "  }\n",
              "\n",
              "  .colab-df-quickchart:hover {\n",
              "    background-color: var(--hover-bg-color);\n",
              "    box-shadow: 0 1px 2px rgba(60, 64, 67, 0.3), 0 1px 3px 1px rgba(60, 64, 67, 0.15);\n",
              "    fill: var(--button-hover-fill-color);\n",
              "  }\n",
              "\n",
              "  .colab-df-quickchart-complete:disabled,\n",
              "  .colab-df-quickchart-complete:disabled:hover {\n",
              "    background-color: var(--disabled-bg-color);\n",
              "    fill: var(--disabled-fill-color);\n",
              "    box-shadow: none;\n",
              "  }\n",
              "\n",
              "  .colab-df-spinner {\n",
              "    border: 2px solid var(--fill-color);\n",
              "    border-color: transparent;\n",
              "    border-bottom-color: var(--fill-color);\n",
              "    animation:\n",
              "      spin 1s steps(1) infinite;\n",
              "  }\n",
              "\n",
              "  @keyframes spin {\n",
              "    0% {\n",
              "      border-color: transparent;\n",
              "      border-bottom-color: var(--fill-color);\n",
              "      border-left-color: var(--fill-color);\n",
              "    }\n",
              "    20% {\n",
              "      border-color: transparent;\n",
              "      border-left-color: var(--fill-color);\n",
              "      border-top-color: var(--fill-color);\n",
              "    }\n",
              "    30% {\n",
              "      border-color: transparent;\n",
              "      border-left-color: var(--fill-color);\n",
              "      border-top-color: var(--fill-color);\n",
              "      border-right-color: var(--fill-color);\n",
              "    }\n",
              "    40% {\n",
              "      border-color: transparent;\n",
              "      border-right-color: var(--fill-color);\n",
              "      border-top-color: var(--fill-color);\n",
              "    }\n",
              "    60% {\n",
              "      border-color: transparent;\n",
              "      border-right-color: var(--fill-color);\n",
              "    }\n",
              "    80% {\n",
              "      border-color: transparent;\n",
              "      border-right-color: var(--fill-color);\n",
              "      border-bottom-color: var(--fill-color);\n",
              "    }\n",
              "    90% {\n",
              "      border-color: transparent;\n",
              "      border-bottom-color: var(--fill-color);\n",
              "    }\n",
              "  }\n",
              "</style>\n",
              "\n",
              "  <script>\n",
              "    async function quickchart(key) {\n",
              "      const quickchartButtonEl =\n",
              "        document.querySelector('#' + key + ' button');\n",
              "      quickchartButtonEl.disabled = true;  // To prevent multiple clicks.\n",
              "      quickchartButtonEl.classList.add('colab-df-spinner');\n",
              "      try {\n",
              "        const charts = await google.colab.kernel.invokeFunction(\n",
              "            'suggestCharts', [key], {});\n",
              "      } catch (error) {\n",
              "        console.error('Error during call to suggestCharts:', error);\n",
              "      }\n",
              "      quickchartButtonEl.classList.remove('colab-df-spinner');\n",
              "      quickchartButtonEl.classList.add('colab-df-quickchart-complete');\n",
              "    }\n",
              "    (() => {\n",
              "      let quickchartButtonEl =\n",
              "        document.querySelector('#df-16c00f95-8d7b-4c8b-b29a-30bd2f4f7b87 button');\n",
              "      quickchartButtonEl.style.display =\n",
              "        google.colab.kernel.accessAllowed ? 'block' : 'none';\n",
              "    })();\n",
              "  </script>\n",
              "</div>\n",
              "    </div>\n",
              "  </div>\n"
            ]
          },
          "metadata": {},
          "execution_count": 33
        }
      ],
      "source": [
        "df__.iloc[max_index*CFG[\"patch_size\"]:max_index*CFG[\"patch_size\"]+10]"
      ]
    },
    {
      "cell_type": "code",
      "execution_count": 34,
      "metadata": {
        "colab": {
          "base_uri": "https://localhost:8080/"
        },
        "id": "dMt-zp50AogW",
        "outputId": "85581dc4-85c6-41ed-f22f-ed3c50a7d6d5"
      },
      "outputs": [
        {
          "output_type": "execute_result",
          "data": {
            "text/plain": [
              "(17280, 17280)"
            ]
          },
          "metadata": {},
          "execution_count": 34
        }
      ],
      "source": [
        "CFG[\"stride\"],CFG[\"block_size\"]"
      ]
    },
    {
      "cell_type": "code",
      "execution_count": 34,
      "metadata": {
        "id": "McPBjMVNAogX"
      },
      "outputs": [],
      "source": []
    },
    {
      "cell_type": "code",
      "execution_count": 35,
      "metadata": {
        "id": "HRiUA6icAogX"
      },
      "outputs": [],
      "source": [
        "ce = tf.keras.losses.BinaryCrossentropy(reduction='none')\n",
        "\n",
        "def loss_function(real, output, name='loss_function'):\n",
        "\n",
        "    # a mask is applied to not compute nan target\n",
        "    mask = tf.math.logical_not(tf.math.is_nan(real))\n",
        "\n",
        "\n",
        "\n",
        "    y_true = tf.boolean_mask(real, mask)\n",
        "    y_pred = tf.boolean_mask(output, mask)\n",
        "    tf.debugging.check_numerics(y_true, message=\"NaNs in 'real'\")\n",
        "    tf.debugging.check_numerics(y_pred, message=\"NaNs in 'output'\")\n",
        "    loss = ce(tf.expand_dims(y_true,axis=-1),tf.expand_dims(y_pred,axis=-1))\n",
        "    tf.debugging.check_numerics(loss, message=\"NaNs in 'loss'\")\n",
        "\n",
        "    return tf.reduce_mean(loss)\n",
        "\n",
        "\n",
        "\n"
      ]
    },
    {
      "cell_type": "code",
      "execution_count": 36,
      "metadata": {
        "id": "e0XlWjwOAogX"
      },
      "outputs": [],
      "source": [
        "import tensorflow as tf\n",
        "import logging\n",
        "logging.basicConfig(level=logging.INFO)\n",
        "class CustomSchedule(tf.keras.optimizers.schedules.LearningRateSchedule):\n",
        "    def __init__(self, initial_lr, warmup_steps):\n",
        "        super(CustomSchedule, self).__init__()\n",
        "        self.initial_lr = tf.Variable(initial_lr, trainable=False, dtype=tf.float32)\n",
        "        self.decrease_factor = tf.constant(0.95, dtype=tf.float32)  # Reducir un 5% cada epoch\n",
        "\n",
        "    def decrease_learning_rate(self):\n",
        "        if self.initial_lr >=0.000001:\n",
        "          self.initial_lr.assign(self.initial_lr * self.decrease_factor)\n",
        "\n",
        "    def __call__(self, step):\n",
        "\n",
        "        return self.initial_lr\n",
        "\n",
        "class ReduceLROnThreshold(tf.keras.callbacks.Callback):\n",
        "    def __init__(self, scheduler, threshold=0.055):\n",
        "        super(ReduceLROnThreshold, self).__init__()\n",
        "        self.scheduler = scheduler\n",
        "        self.threshold = threshold\n",
        "        self.triggered = False\n",
        "\n",
        "    def on_epoch_end(self, epoch, logs=None):\n",
        "        logs = logs or {}\n",
        "        loss = logs.get('val_loss')\n",
        "        print(self.scheduler.initial_lr)\n",
        "        if not self.triggered and loss is not None and loss <= self.threshold:\n",
        "            self.triggered = True\n",
        "        if self.triggered:\n",
        "            self.scheduler.decrease_learning_rate()\n",
        "\n",
        "\n",
        "\n"
      ]
    },
    {
      "cell_type": "code",
      "execution_count": 37,
      "metadata": {
        "id": "C2cqOpl3AogX"
      },
      "outputs": [],
      "source": [
        "\n",
        "\n",
        "class Encoder(tf.keras.Model):\n",
        "    def __init__(self):\n",
        "        super().__init__()\n",
        "\n",
        "        self.first_linear = tf.keras.layers.Dense(CFG['time_mixing_dim'])\n",
        "        self.second_linear = tf.keras.layers.Dense(CFG['feature_mixing_dim'])\n",
        "\n",
        "        self.add = tf.keras.layers.Add()\n",
        "\n",
        "        self.first_dropout = tf.keras.layers.Dropout(CFG['model_first_dropout'])\n",
        "\n",
        "        self.second_dropout = tf.keras.layers.Dropout(CFG['model_second_dropout'])\n",
        "\n",
        "\n",
        "\n",
        "\n",
        "\n",
        "    def call(self, x, training=None):\n",
        "\n",
        "\n",
        "\n",
        "\n",
        "        features_mixing = self.second_linear(x )\n",
        "\n",
        "        features_mixing  = tf.keras.layers.ReLU(  )(features_mixing)\n",
        "\n",
        "        features_mixing   = self.second_dropout( features_mixing )\n",
        "\n",
        "        x=self.add ([x,features_mixing ])\n",
        "        return x\n",
        "\n",
        "class Model(tf.keras.Model):\n",
        "    def __init__(self):\n",
        "        super().__init__()\n",
        "\n",
        "        self.encoders = [Encoder() for i in range( CFG['model_num_encoder_layers'])]\n",
        "\n",
        "        self.lstm_layers = [tf.keras.layers.Bidirectional(tf.keras.layers.LSTM(CFG['model_dim'], return_sequences=True)) for _ in range(CFG['model_num_lstm_layers'])]\n",
        "\n",
        "        self.first_linear = tf.keras.layers.Dense(CFG['feature_mixing_dim'])\n",
        "        self.first_dropout = tf.keras.layers.Dropout(0.1)\n",
        "        self.last_linear = tf.keras.layers.Dense(2)\n",
        "\n",
        "    def call(self, x):\n",
        "\n",
        "\n",
        "        x=self.first_linear(x)\n",
        "        x=self.first_dropout(x)\n",
        "        for i in range(CFG['model_num_encoder_layers']): x = self.encoders[i](x)\n",
        "\n",
        "        for i in range(CFG['model_num_lstm_layers']):x= self.lstm_layers[i](x)\n",
        "        x = self.last_linear(x)\n",
        "        x = tf.nn.sigmoid(x)\n",
        "        return x\n"
      ]
    },
    {
      "cell_type": "code",
      "execution_count": 38,
      "metadata": {
        "id": "62BFGfSn_BzY"
      },
      "outputs": [],
      "source": [
        "class MetricsCallback(tf.keras.callbacks.Callback):\n",
        "  def __init__(self, model=None, verbose=0,FOLD=-1):\n",
        "    if not model is None: self.model = model\n",
        "    self.max_score_all=0\n",
        "    self.max_score_test=0\n",
        "    self.fold=FOLD\n",
        "    print(self.fold)\n",
        "\n",
        "  def prediction(self):\n",
        "        preds__=model.predict(val_dataset )\n",
        "        preds__=preds__[:LEN_VAL]\n",
        "        preds_dict=build_preds_dict(   val_ids,preds__,data,steps_,val_inds,n_data=LEN_VAL)\n",
        "\n",
        "\n",
        "\n",
        "        events_=get_real_event(   val_ids)\n",
        "\n",
        "\n",
        "        score_all=get_scores(val_ids,{key:value for key,value in preds_dict.items() if key in val_ids}, events_,smoothing_lengths=[120])\n",
        "\n",
        "\n",
        "        events_=get_real_event(    TEST_IDS)\n",
        "\n",
        "\n",
        "        score_test=get_scores(TEST_IDS,{key:value for key,value in preds_dict.items() if key in TEST_IDS}, events_,smoothing_lengths=[120])\n",
        "\n",
        "\n",
        "\n",
        "        return score_all,score_test\n",
        "\n",
        "\n",
        "  def on_epoch_end(self, epoch, logs=None):\n",
        "\n",
        "    score_all,score_test=self.prediction()\n",
        "    if score_all>=  self.max_score_all:\n",
        "\n",
        "      print(f\"Saving score all: epoch {epoch} because {score_all}>{self.max_score_all}\")\n",
        "      self.model.save_weights(f\"model_weights_{epoch}_fold{self.fold}_all\")\n",
        "      self.max_score_all=score_all\n",
        "    if score_test>=  self.max_score_test:\n",
        "\n",
        "      print(f\"Saving just test: epoch {epoch} because {score_test}>{self.max_score_test}\")\n",
        "      self.model.save_weights(f\"model_weights_{epoch}_fold{self.fold}_test\")\n",
        "      self.max_score_test=score_test\n",
        "\n",
        "\n",
        "checkpoint_callback = tf.keras.callbacks.ModelCheckpoint(\n",
        "    \"my_model_weights_checkpoint\",  # Filepath to save the checkpoint\n",
        "    save_best_only=True,  # Save only the best model (optional)\n",
        "    save_weights_only=True,  # Save only the model weights, not the entire model (optional)\n",
        "    monitor=\"val_loss\",  # Metric to monitor (e.g., validation loss)\n",
        "    mode=\"min\",  # \"min\" or \"max\" depending on the metric being monitored\n",
        "    verbose=1  # Verbosity level (optional)\n",
        ")"
      ]
    },
    {
      "cell_type": "code",
      "execution_count": 39,
      "metadata": {
        "id": "rMs4qwJL4Qhi"
      },
      "outputs": [],
      "source": [
        "def metrics(real,preds__):\n",
        "    f__=loss_function(real,preds__)\n",
        "    umbral=0.5\n",
        "    preds_b=(preds__>umbral).astype(int)\n",
        "    real__=real.reshape(-1)\n",
        "    preds_b__=preds_b.reshape(-1)\n",
        "    cm = confusion_matrix(real__[~np.isnan(real__)], preds_b__[~np.isnan(real__)])\n",
        "    score,accuracy = f1_score(real__[~np.isnan(real__)], preds_b__[~np.isnan(real__)]), accuracy_score(real__[~np.isnan(real__)], preds_b__[~np.isnan(real__)])\n",
        "    print(f\"Loss: {f__}, cm: {cm}, f1-score: {score}, accuracy: {accuracy}\")\n",
        "def get_real_event(val_ids):\n",
        "    events=pd.read_csv(f\"{PATH}/child-mind-institute-detect-sleep-states/train_events.csv\")\n",
        "    events[\"series_id\"]=events[\"series_id\"].transform(lambda x:dict_ids[x])\n",
        "    events=events.loc[events.series_id.isin(val_ids)]\n",
        "    return events\n",
        "\n",
        "def build_preds_dict(val_ids,preds__,data,steps_,val_inds,n_data):\n",
        "    preds_dict={}\n",
        "    for i, id_ in enumerate(val_ids):\n",
        "        preds_dict[id_]=[]\n",
        "        df_=data.loc[data.series_id==id_]\n",
        "        df_=truncate_days(df_,id_)\n",
        "        if len(df_)>0:\n",
        "          if DROP_INITIAL_DATE:\n",
        "                        df_=drop_initial_date( df_)\n",
        "\n",
        "          l=0\n",
        "\n",
        "\n",
        "\n",
        "          step_=0\n",
        "          for l,k in enumerate(val_inds[:n_data]):\n",
        "\n",
        "              if k[\"i\"]==i:\n",
        "                  while step_ not in steps_[id_]:\n",
        "                      preds_dict[id_].append(np.empty((int(CFG[\"block_size\"]/CFG[\"patch_size\"]),2))*np.nan)\n",
        "                      step_+=CFG[\"block_size\"]\n",
        "                  if len(preds__)>l:\n",
        "                      preds_dict[id_].append(preds__[l])\n",
        "\n",
        "\n",
        "\n",
        "                  step_+=CFG[\"block_size\"]\n",
        "\n",
        "          if len(preds_dict[id_])>0:\n",
        "              preds_dict[id_]=np.stack(preds_dict[id_])\n",
        "\n",
        "              preds_dict[id_]= preds_dict[id_].reshape( preds_dict[id_].shape[1]*preds_dict[id_].shape[0], preds_dict[id_].shape[2])\n",
        "\n",
        "    return preds_dict\n",
        "\n",
        "def get_event(df,col=\"pred\"):\n",
        "        lstCV = zip(df.series_id, df[col])\n",
        "        lstPOI = []\n",
        "        for (c, v), g in groupby(lstCV, lambda cv:\n",
        "                                (cv[0], cv[1]!=0 and not pd.isnull(cv[1]))):\n",
        "            llg = sum(1 for item in g)\n",
        "            if v is False:\n",
        "                lstPOI.extend([0]*llg)\n",
        "            else:\n",
        "                lstPOI.extend(['onset']+(llg-2)*[0]+['wakeup'] if llg > 1 else [0])\n",
        "        return lstPOI\n",
        "\n",
        "def get_scores(val_ids,preds_dict,events,smoothing_lengths=[120]):\n",
        "    with warnings.catch_warnings():\n",
        "        warnings.simplefilter(\"ignore\")\n",
        "        scores_=[]\n",
        "\n",
        "        for smoothing_length in smoothing_lengths:\n",
        "            events_detected={}\n",
        "            solution=[]\n",
        "\n",
        "\n",
        "            for id_ in val_ids:\n",
        "                if len(preds_dict[id_])>0:\n",
        "                    events_=events.loc[events.series_id==id_].dropna(subset=\"timestamp\")\n",
        "                    solution.append(events_)\n",
        "\n",
        "            solution=pd.concat(solution) .reset_index(drop=True)\n",
        "            submision=get_preds_df( val_ids,preds_dict,data,smoothing_length=smoothing_length  )\n",
        "            tolerances= {\"onset\":[12, 36, 60, 90, 120, 150, 180, 240, 300, 360],\"wakeup\":[12, 36, 60, 90, 120, 150, 180, 240, 300, 360]}\n",
        "            score_=score(solution,submision,tolerances,    series_id_column_name=\"series_id\",time_column_name=\"step\",event_column_name=\"event\", score_column_name=\"score\" )\n",
        "            print(smoothing_length, score_)\n",
        "            scores_.append(score_)\n",
        "        return np.mean(scores_)\n",
        "\n",
        "\n",
        "def get_events(data_,idx,pred,min_interval=30) :\n",
        "\n",
        "\n",
        "\n",
        "  test_ds=data_\n",
        "\n",
        "\n",
        "\n",
        "\n",
        "  days = len(pred)/(17280/12)\n",
        "\n",
        "  submission=pd.DataFrame(columns=[\"step\",\t\"event\",\t\"series_id\",\t\"score\"])\n",
        "  candidates_onset = np.argsort(-pred[:,0])\n",
        "  candidates_wakeup =  np.argsort(-pred[:,1])\n",
        "  n_add=max(1,round(days))\n",
        "\n",
        "  added_onset=[]\n",
        "  added_wakeup=[]\n",
        "  disponibles=list(candidates_onset.copy())\n",
        "  while len(added_onset)<n_add and len(disponibles)>0:\n",
        "      actual = disponibles.pop(0)\n",
        "      added_onset.append(actual)\n",
        "      disponibles = [x for x in disponibles if abs(x - actual) >= min_interval]\n",
        "\n",
        "  disponibles=list(candidates_wakeup.copy())\n",
        "  while len( added_wakeup)<n_add and len(disponibles)>0:\n",
        "      actual = disponibles.pop(0)\n",
        "      added_wakeup.append(actual)\n",
        "      disponibles = [x for x in disponibles if abs(x - actual) >= min_interval]\n",
        "  added_onset=np.array(  added_onset)\n",
        "  added_wakeup=np.array(    added_wakeup)\n",
        "  onset = test_ds[['step']].iloc[np.clip(added_onset*CFG[\"patch_size\"],0,len( test_ds)-1)].astype(np.int32)\n",
        "  onset['event'] = 'onset'\n",
        "  onset['series_id'] =  idx\n",
        "  onset['score']= pred[added_onset,0]\n",
        "  wakeup = test_ds[['step']].iloc[np.clip(added_wakeup*CFG[\"patch_size\"],0,len( test_ds)-1)].astype(np.int32)\n",
        "  wakeup['event'] = 'wakeup'\n",
        "  wakeup['series_id'] = idx\n",
        "  wakeup['score']= pred[added_wakeup,1]\n",
        "  submission = pd.concat([submission,onset,wakeup],axis=0)\n",
        "\n",
        "  return submission\n",
        "def get_preds_df( val_ids,preds_dict,data,smoothing_length=480 ):\n",
        "    submision=[]\n",
        "    for id_ in tqdm(val_ids):\n",
        "                if len(preds_dict[id_])>0:\n",
        "\n",
        "                    preds=preds_dict[id_]\n",
        "\n",
        "                    df_=data.loc[data.series_id==id_]\n",
        "                    df_=truncate_days(df_,id_)\n",
        "                    data_=df_\n",
        "                    if DROP_INITIAL_DATE  and not  len(data)==450:\n",
        "                      data_=drop_initial_date(data_)\n",
        "\n",
        "\n",
        "\n",
        "\n",
        "                    submision.append(get_events(data_,id_,preds))\n",
        "    submision= pd.concat(submision)\n",
        "    submision[\"step\"]=submision[\"step\"].astype(np.float32)\n",
        "    return submision"
      ]
    },
    {
      "cell_type": "code",
      "execution_count": 40,
      "metadata": {
        "id": "8QL5Ze4BI16f",
        "colab": {
          "base_uri": "https://localhost:8080/"
        },
        "outputId": "11f46353-64b1-4385-a36d-060d1ccab531"
      },
      "outputs": [
        {
          "output_type": "execute_result",
          "data": {
            "text/plain": [
              "({'num_epochs': 14,\n",
              "  'steps_per_epoch': 500,\n",
              "  'patch_size': 10,\n",
              "  'block_size': 17280,\n",
              "  'stride': 17280,\n",
              "  'model_dim': 160,\n",
              "  'time_mixing_dim': 1440,\n",
              "  'feature_mixing_dim': 160,\n",
              "  'model_num_heads': 6,\n",
              "  'model_num_encoder_layers': 5,\n",
              "  'model_num_lstm_layers': 5,\n",
              "  'model_first_dropout': 0.5,\n",
              "  'model_second_dropout': 0.5,\n",
              "  'model_encoder_dropout': 0.1,\n",
              "  'model_mha_dropout': 0.0},\n",
              " 0.0005,\n",
              " 32)"
            ]
          },
          "metadata": {},
          "execution_count": 40
        }
      ],
      "source": [
        "CFG, LEARNING_RATE,GPU_BATCH_SIZE"
      ]
    },
    {
      "cell_type": "code",
      "execution_count": 41,
      "metadata": {
        "id": "_DdBdcg8AogY"
      },
      "outputs": [],
      "source": [
        "\n",
        "\n",
        "file = f'{PATH}/zzzs-lightweight-training-dataset-target/Zzzs_train_multi.parquet'\n",
        "series_id  = pd.read_parquet(file, columns=['series_id'])\n",
        "series_id = series_id.series_id.unique()\n",
        "swaped_dict={val:key for key,val in dict_ids.items()}\n"
      ]
    },
    {
      "cell_type": "code",
      "execution_count": 42,
      "metadata": {
        "id": "SLIr9Gu3AogY"
      },
      "outputs": [],
      "source": [
        "def get_inds(train_ids,val_ids):\n",
        "    arr=np.array(list(features.keys()))\n",
        "    np.random.shuffle(arr)\n",
        "    arr=[e for e in arr if e  in train_ids]\n",
        "    i=0\n",
        "    inds=[]\n",
        "    while len(inds)<1_000_000:\n",
        "        if len(features[arr[i]])>0:\n",
        "            j=np.random.choice(range(len(features[arr[i]])))\n",
        "            inds.append({\"i\":i,\"j\":j})\n",
        "\n",
        "        i=i+1\n",
        "        i=i%len(arr)\n",
        "\n",
        "    val_inds=[]\n",
        "    for i,e in enumerate(val_ids):\n",
        "        for j in range(len(features[e])):\n",
        "            val_inds.append({\"i\":i,\"j\":j})\n",
        "\n",
        "\n",
        "\n",
        "    return inds,val_inds,arr\n"
      ]
    },
    {
      "cell_type": "code",
      "execution_count": 43,
      "metadata": {
        "id": "2he6kh7dAogY"
      },
      "outputs": [],
      "source": [
        "def read_indices(row):\n",
        "    def get_row(i,j):\n",
        "            return features[arr[i]][j],targets[arr[i]][j]\n",
        "    series_input, series_target = tf.py_function(get_row, [row['i'], row['j']],[tf.float32, tf.float32])\n",
        "    series_input.set_shape(shape=(CFG['block_size'] // CFG['patch_size'], DIM))\n",
        "    series_target.set_shape(shape=(CFG['block_size'] // CFG['patch_size'], 2))\n",
        "    return    series_input,series_target\n",
        "\n",
        "def read_val_indices(row):\n",
        "    def get_row(i,j):\n",
        "            return features[val_ids[i]][j],targets[val_ids[i]][j]\n",
        "    series_input, series_target = tf.py_function(get_row, [row['i'], row['j']],[tf.float32, tf.float32])\n",
        "    series_input.set_shape(shape=(CFG['block_size'] // CFG['patch_size'], DIM))\n",
        "    series_target.set_shape(shape=(CFG['block_size'] // CFG['patch_size'], 2))\n",
        "    return    series_input,series_target\n",
        "\n"
      ]
    },
    {
      "cell_type": "code",
      "execution_count": 44,
      "metadata": {
        "id": "xU2MX2Ko_ySq"
      },
      "outputs": [],
      "source": [
        "id_=0\n",
        "j=0\n",
        "targets[id_][j].shape\n",
        "df_=data.loc[data.series_id==id_]\n",
        "df_=truncate_days(df_,id_)\n",
        "df_=drop_initial_date( df_)"
      ]
    },
    {
      "cell_type": "code",
      "execution_count": 45,
      "metadata": {
        "colab": {
          "base_uri": "https://localhost:8080/",
          "height": 363
        },
        "id": "NMquHldrNVLv",
        "outputId": "665226d3-396a-42e0-b17e-b27c5e350601"
      },
      "outputs": [
        {
          "output_type": "execute_result",
          "data": {
            "text/plain": [
              "          series_id    step     anglez    enmo  minute      sine    cosine  \\\n",
              "70518361        0.0  5740.0 -53.495499  0.0716  1243.0 -0.757565  0.652760   \n",
              "70518362        0.0  5741.0 -65.601799  0.0609  1243.0 -0.757565  0.652760   \n",
              "70518363        0.0  5742.0 -56.889900  0.0592  1243.0 -0.757565  0.652760   \n",
              "70518364        0.0  5743.0 -10.045200  0.0583  1243.0 -0.757565  0.652760   \n",
              "70518365        0.0  5744.0  11.183500  0.0095  1243.0 -0.757565  0.652760   \n",
              "70518366        0.0  5745.0  10.241600  0.0035  1243.0 -0.757565  0.652760   \n",
              "70518367        0.0  5746.0  10.207000  0.0032  1243.0 -0.757565  0.652760   \n",
              "70518368        0.0  5747.0   8.890400  0.0087  1243.0 -0.757565  0.652760   \n",
              "70518369        0.0  5748.0  -7.085400  0.1142  1244.0 -0.754710  0.656059   \n",
              "70518370        0.0  5749.0 -40.930599  0.0295  1244.0 -0.754710  0.656059   \n",
              "\n",
              "          sleep            timestamp  \n",
              "70518361    0.0  2018-04-04 20:43:20  \n",
              "70518362    0.0  2018-04-04 20:43:25  \n",
              "70518363    0.0  2018-04-04 20:43:30  \n",
              "70518364    0.0  2018-04-04 20:43:35  \n",
              "70518365    0.0  2018-04-04 20:43:40  \n",
              "70518366    0.0  2018-04-04 20:43:45  \n",
              "70518367    0.0  2018-04-04 20:43:50  \n",
              "70518368    0.0  2018-04-04 20:43:55  \n",
              "70518369    1.0  2018-04-04 20:44:00  \n",
              "70518370    1.0  2018-04-04 20:44:05  "
            ],
            "text/html": [
              "\n",
              "  <div id=\"df-b1749ed3-7d60-4f2b-a5de-c54998e9f86e\" class=\"colab-df-container\">\n",
              "    <div>\n",
              "<style scoped>\n",
              "    .dataframe tbody tr th:only-of-type {\n",
              "        vertical-align: middle;\n",
              "    }\n",
              "\n",
              "    .dataframe tbody tr th {\n",
              "        vertical-align: top;\n",
              "    }\n",
              "\n",
              "    .dataframe thead th {\n",
              "        text-align: right;\n",
              "    }\n",
              "</style>\n",
              "<table border=\"1\" class=\"dataframe\">\n",
              "  <thead>\n",
              "    <tr style=\"text-align: right;\">\n",
              "      <th></th>\n",
              "      <th>series_id</th>\n",
              "      <th>step</th>\n",
              "      <th>anglez</th>\n",
              "      <th>enmo</th>\n",
              "      <th>minute</th>\n",
              "      <th>sine</th>\n",
              "      <th>cosine</th>\n",
              "      <th>sleep</th>\n",
              "      <th>timestamp</th>\n",
              "    </tr>\n",
              "  </thead>\n",
              "  <tbody>\n",
              "    <tr>\n",
              "      <th>70518361</th>\n",
              "      <td>0.0</td>\n",
              "      <td>5740.0</td>\n",
              "      <td>-53.495499</td>\n",
              "      <td>0.0716</td>\n",
              "      <td>1243.0</td>\n",
              "      <td>-0.757565</td>\n",
              "      <td>0.652760</td>\n",
              "      <td>0.0</td>\n",
              "      <td>2018-04-04 20:43:20</td>\n",
              "    </tr>\n",
              "    <tr>\n",
              "      <th>70518362</th>\n",
              "      <td>0.0</td>\n",
              "      <td>5741.0</td>\n",
              "      <td>-65.601799</td>\n",
              "      <td>0.0609</td>\n",
              "      <td>1243.0</td>\n",
              "      <td>-0.757565</td>\n",
              "      <td>0.652760</td>\n",
              "      <td>0.0</td>\n",
              "      <td>2018-04-04 20:43:25</td>\n",
              "    </tr>\n",
              "    <tr>\n",
              "      <th>70518363</th>\n",
              "      <td>0.0</td>\n",
              "      <td>5742.0</td>\n",
              "      <td>-56.889900</td>\n",
              "      <td>0.0592</td>\n",
              "      <td>1243.0</td>\n",
              "      <td>-0.757565</td>\n",
              "      <td>0.652760</td>\n",
              "      <td>0.0</td>\n",
              "      <td>2018-04-04 20:43:30</td>\n",
              "    </tr>\n",
              "    <tr>\n",
              "      <th>70518364</th>\n",
              "      <td>0.0</td>\n",
              "      <td>5743.0</td>\n",
              "      <td>-10.045200</td>\n",
              "      <td>0.0583</td>\n",
              "      <td>1243.0</td>\n",
              "      <td>-0.757565</td>\n",
              "      <td>0.652760</td>\n",
              "      <td>0.0</td>\n",
              "      <td>2018-04-04 20:43:35</td>\n",
              "    </tr>\n",
              "    <tr>\n",
              "      <th>70518365</th>\n",
              "      <td>0.0</td>\n",
              "      <td>5744.0</td>\n",
              "      <td>11.183500</td>\n",
              "      <td>0.0095</td>\n",
              "      <td>1243.0</td>\n",
              "      <td>-0.757565</td>\n",
              "      <td>0.652760</td>\n",
              "      <td>0.0</td>\n",
              "      <td>2018-04-04 20:43:40</td>\n",
              "    </tr>\n",
              "    <tr>\n",
              "      <th>70518366</th>\n",
              "      <td>0.0</td>\n",
              "      <td>5745.0</td>\n",
              "      <td>10.241600</td>\n",
              "      <td>0.0035</td>\n",
              "      <td>1243.0</td>\n",
              "      <td>-0.757565</td>\n",
              "      <td>0.652760</td>\n",
              "      <td>0.0</td>\n",
              "      <td>2018-04-04 20:43:45</td>\n",
              "    </tr>\n",
              "    <tr>\n",
              "      <th>70518367</th>\n",
              "      <td>0.0</td>\n",
              "      <td>5746.0</td>\n",
              "      <td>10.207000</td>\n",
              "      <td>0.0032</td>\n",
              "      <td>1243.0</td>\n",
              "      <td>-0.757565</td>\n",
              "      <td>0.652760</td>\n",
              "      <td>0.0</td>\n",
              "      <td>2018-04-04 20:43:50</td>\n",
              "    </tr>\n",
              "    <tr>\n",
              "      <th>70518368</th>\n",
              "      <td>0.0</td>\n",
              "      <td>5747.0</td>\n",
              "      <td>8.890400</td>\n",
              "      <td>0.0087</td>\n",
              "      <td>1243.0</td>\n",
              "      <td>-0.757565</td>\n",
              "      <td>0.652760</td>\n",
              "      <td>0.0</td>\n",
              "      <td>2018-04-04 20:43:55</td>\n",
              "    </tr>\n",
              "    <tr>\n",
              "      <th>70518369</th>\n",
              "      <td>0.0</td>\n",
              "      <td>5748.0</td>\n",
              "      <td>-7.085400</td>\n",
              "      <td>0.1142</td>\n",
              "      <td>1244.0</td>\n",
              "      <td>-0.754710</td>\n",
              "      <td>0.656059</td>\n",
              "      <td>1.0</td>\n",
              "      <td>2018-04-04 20:44:00</td>\n",
              "    </tr>\n",
              "    <tr>\n",
              "      <th>70518370</th>\n",
              "      <td>0.0</td>\n",
              "      <td>5749.0</td>\n",
              "      <td>-40.930599</td>\n",
              "      <td>0.0295</td>\n",
              "      <td>1244.0</td>\n",
              "      <td>-0.754710</td>\n",
              "      <td>0.656059</td>\n",
              "      <td>1.0</td>\n",
              "      <td>2018-04-04 20:44:05</td>\n",
              "    </tr>\n",
              "  </tbody>\n",
              "</table>\n",
              "</div>\n",
              "    <div class=\"colab-df-buttons\">\n",
              "\n",
              "  <div class=\"colab-df-container\">\n",
              "    <button class=\"colab-df-convert\" onclick=\"convertToInteractive('df-b1749ed3-7d60-4f2b-a5de-c54998e9f86e')\"\n",
              "            title=\"Convert this dataframe to an interactive table.\"\n",
              "            style=\"display:none;\">\n",
              "\n",
              "  <svg xmlns=\"http://www.w3.org/2000/svg\" height=\"24px\" viewBox=\"0 -960 960 960\">\n",
              "    <path d=\"M120-120v-720h720v720H120Zm60-500h600v-160H180v160Zm220 220h160v-160H400v160Zm0 220h160v-160H400v160ZM180-400h160v-160H180v160Zm440 0h160v-160H620v160ZM180-180h160v-160H180v160Zm440 0h160v-160H620v160Z\"/>\n",
              "  </svg>\n",
              "    </button>\n",
              "\n",
              "  <style>\n",
              "    .colab-df-container {\n",
              "      display:flex;\n",
              "      gap: 12px;\n",
              "    }\n",
              "\n",
              "    .colab-df-convert {\n",
              "      background-color: #E8F0FE;\n",
              "      border: none;\n",
              "      border-radius: 50%;\n",
              "      cursor: pointer;\n",
              "      display: none;\n",
              "      fill: #1967D2;\n",
              "      height: 32px;\n",
              "      padding: 0 0 0 0;\n",
              "      width: 32px;\n",
              "    }\n",
              "\n",
              "    .colab-df-convert:hover {\n",
              "      background-color: #E2EBFA;\n",
              "      box-shadow: 0px 1px 2px rgba(60, 64, 67, 0.3), 0px 1px 3px 1px rgba(60, 64, 67, 0.15);\n",
              "      fill: #174EA6;\n",
              "    }\n",
              "\n",
              "    .colab-df-buttons div {\n",
              "      margin-bottom: 4px;\n",
              "    }\n",
              "\n",
              "    [theme=dark] .colab-df-convert {\n",
              "      background-color: #3B4455;\n",
              "      fill: #D2E3FC;\n",
              "    }\n",
              "\n",
              "    [theme=dark] .colab-df-convert:hover {\n",
              "      background-color: #434B5C;\n",
              "      box-shadow: 0px 1px 3px 1px rgba(0, 0, 0, 0.15);\n",
              "      filter: drop-shadow(0px 1px 2px rgba(0, 0, 0, 0.3));\n",
              "      fill: #FFFFFF;\n",
              "    }\n",
              "  </style>\n",
              "\n",
              "    <script>\n",
              "      const buttonEl =\n",
              "        document.querySelector('#df-b1749ed3-7d60-4f2b-a5de-c54998e9f86e button.colab-df-convert');\n",
              "      buttonEl.style.display =\n",
              "        google.colab.kernel.accessAllowed ? 'block' : 'none';\n",
              "\n",
              "      async function convertToInteractive(key) {\n",
              "        const element = document.querySelector('#df-b1749ed3-7d60-4f2b-a5de-c54998e9f86e');\n",
              "        const dataTable =\n",
              "          await google.colab.kernel.invokeFunction('convertToInteractive',\n",
              "                                                    [key], {});\n",
              "        if (!dataTable) return;\n",
              "\n",
              "        const docLinkHtml = 'Like what you see? Visit the ' +\n",
              "          '<a target=\"_blank\" href=https://colab.research.google.com/notebooks/data_table.ipynb>data table notebook</a>'\n",
              "          + ' to learn more about interactive tables.';\n",
              "        element.innerHTML = '';\n",
              "        dataTable['output_type'] = 'display_data';\n",
              "        await google.colab.output.renderOutput(dataTable, element);\n",
              "        const docLink = document.createElement('div');\n",
              "        docLink.innerHTML = docLinkHtml;\n",
              "        element.appendChild(docLink);\n",
              "      }\n",
              "    </script>\n",
              "  </div>\n",
              "\n",
              "\n",
              "<div id=\"df-101cc372-cb72-40ad-b036-8e7922e85060\">\n",
              "  <button class=\"colab-df-quickchart\" onclick=\"quickchart('df-101cc372-cb72-40ad-b036-8e7922e85060')\"\n",
              "            title=\"Suggest charts\"\n",
              "            style=\"display:none;\">\n",
              "\n",
              "<svg xmlns=\"http://www.w3.org/2000/svg\" height=\"24px\"viewBox=\"0 0 24 24\"\n",
              "     width=\"24px\">\n",
              "    <g>\n",
              "        <path d=\"M19 3H5c-1.1 0-2 .9-2 2v14c0 1.1.9 2 2 2h14c1.1 0 2-.9 2-2V5c0-1.1-.9-2-2-2zM9 17H7v-7h2v7zm4 0h-2V7h2v10zm4 0h-2v-4h2v4z\"/>\n",
              "    </g>\n",
              "</svg>\n",
              "  </button>\n",
              "\n",
              "<style>\n",
              "  .colab-df-quickchart {\n",
              "      --bg-color: #E8F0FE;\n",
              "      --fill-color: #1967D2;\n",
              "      --hover-bg-color: #E2EBFA;\n",
              "      --hover-fill-color: #174EA6;\n",
              "      --disabled-fill-color: #AAA;\n",
              "      --disabled-bg-color: #DDD;\n",
              "  }\n",
              "\n",
              "  [theme=dark] .colab-df-quickchart {\n",
              "      --bg-color: #3B4455;\n",
              "      --fill-color: #D2E3FC;\n",
              "      --hover-bg-color: #434B5C;\n",
              "      --hover-fill-color: #FFFFFF;\n",
              "      --disabled-bg-color: #3B4455;\n",
              "      --disabled-fill-color: #666;\n",
              "  }\n",
              "\n",
              "  .colab-df-quickchart {\n",
              "    background-color: var(--bg-color);\n",
              "    border: none;\n",
              "    border-radius: 50%;\n",
              "    cursor: pointer;\n",
              "    display: none;\n",
              "    fill: var(--fill-color);\n",
              "    height: 32px;\n",
              "    padding: 0;\n",
              "    width: 32px;\n",
              "  }\n",
              "\n",
              "  .colab-df-quickchart:hover {\n",
              "    background-color: var(--hover-bg-color);\n",
              "    box-shadow: 0 1px 2px rgba(60, 64, 67, 0.3), 0 1px 3px 1px rgba(60, 64, 67, 0.15);\n",
              "    fill: var(--button-hover-fill-color);\n",
              "  }\n",
              "\n",
              "  .colab-df-quickchart-complete:disabled,\n",
              "  .colab-df-quickchart-complete:disabled:hover {\n",
              "    background-color: var(--disabled-bg-color);\n",
              "    fill: var(--disabled-fill-color);\n",
              "    box-shadow: none;\n",
              "  }\n",
              "\n",
              "  .colab-df-spinner {\n",
              "    border: 2px solid var(--fill-color);\n",
              "    border-color: transparent;\n",
              "    border-bottom-color: var(--fill-color);\n",
              "    animation:\n",
              "      spin 1s steps(1) infinite;\n",
              "  }\n",
              "\n",
              "  @keyframes spin {\n",
              "    0% {\n",
              "      border-color: transparent;\n",
              "      border-bottom-color: var(--fill-color);\n",
              "      border-left-color: var(--fill-color);\n",
              "    }\n",
              "    20% {\n",
              "      border-color: transparent;\n",
              "      border-left-color: var(--fill-color);\n",
              "      border-top-color: var(--fill-color);\n",
              "    }\n",
              "    30% {\n",
              "      border-color: transparent;\n",
              "      border-left-color: var(--fill-color);\n",
              "      border-top-color: var(--fill-color);\n",
              "      border-right-color: var(--fill-color);\n",
              "    }\n",
              "    40% {\n",
              "      border-color: transparent;\n",
              "      border-right-color: var(--fill-color);\n",
              "      border-top-color: var(--fill-color);\n",
              "    }\n",
              "    60% {\n",
              "      border-color: transparent;\n",
              "      border-right-color: var(--fill-color);\n",
              "    }\n",
              "    80% {\n",
              "      border-color: transparent;\n",
              "      border-right-color: var(--fill-color);\n",
              "      border-bottom-color: var(--fill-color);\n",
              "    }\n",
              "    90% {\n",
              "      border-color: transparent;\n",
              "      border-bottom-color: var(--fill-color);\n",
              "    }\n",
              "  }\n",
              "</style>\n",
              "\n",
              "  <script>\n",
              "    async function quickchart(key) {\n",
              "      const quickchartButtonEl =\n",
              "        document.querySelector('#' + key + ' button');\n",
              "      quickchartButtonEl.disabled = true;  // To prevent multiple clicks.\n",
              "      quickchartButtonEl.classList.add('colab-df-spinner');\n",
              "      try {\n",
              "        const charts = await google.colab.kernel.invokeFunction(\n",
              "            'suggestCharts', [key], {});\n",
              "      } catch (error) {\n",
              "        console.error('Error during call to suggestCharts:', error);\n",
              "      }\n",
              "      quickchartButtonEl.classList.remove('colab-df-spinner');\n",
              "      quickchartButtonEl.classList.add('colab-df-quickchart-complete');\n",
              "    }\n",
              "    (() => {\n",
              "      let quickchartButtonEl =\n",
              "        document.querySelector('#df-101cc372-cb72-40ad-b036-8e7922e85060 button');\n",
              "      quickchartButtonEl.style.display =\n",
              "        google.colab.kernel.accessAllowed ? 'block' : 'none';\n",
              "    })();\n",
              "  </script>\n",
              "</div>\n",
              "    </div>\n",
              "  </div>\n"
            ]
          },
          "metadata": {},
          "execution_count": 45
        }
      ],
      "source": [
        "df_.iloc[targets[id_][j][:,0].argmax()*10:targets[id_][j][:,0].argmax()*10+10]"
      ]
    },
    {
      "cell_type": "code",
      "execution_count": 46,
      "metadata": {
        "colab": {
          "base_uri": "https://localhost:8080/"
        },
        "id": "A8PUvYPvMOgY",
        "outputId": "f3340a84-5f3d-44a0-e26e-b8216f4e3a47"
      },
      "outputs": [
        {
          "output_type": "execute_result",
          "data": {
            "text/plain": [
              "(628, (1728, 2))"
            ]
          },
          "metadata": {},
          "execution_count": 46
        }
      ],
      "source": [
        "targets[id_][j][:,0].argmax(),targets[id_][j].shape"
      ]
    },
    {
      "cell_type": "code",
      "source": [
        "difs=[]\n",
        "for i in range(100):\n",
        "  for j in range(len(features[i])):\n",
        "    out=model.predict(tf.expand_dims(features[i][j],axis=0))\n",
        "    #plt.figure()\n",
        "    #plt.plot(tf.reshape(    targets[i][0], (CFG['block_size'] //2,2, 2))[:,:,0])\n",
        "    #plt.plot(out[0,:,0])\n",
        "    #print(targets[i][0][:,0].argmax()-out[0,:,0].argmax()*2)\n",
        "    #plt.show()\n",
        "    difs.append(abs(targets[i][j][:,1].argmax()-out[0,:,1].argmax()))"
      ],
      "metadata": {
        "id": "30EPCHMVrEqz"
      },
      "execution_count": null,
      "outputs": []
    },
    {
      "cell_type": "code",
      "source": [
        "np.quantile(difs,0.75)"
      ],
      "metadata": {
        "id": "NZWV-F1htkgP"
      },
      "execution_count": null,
      "outputs": []
    },
    {
      "cell_type": "code",
      "execution_count": 48,
      "metadata": {
        "colab": {
          "base_uri": "https://localhost:8080/"
        },
        "id": "VulQnoX5-9Nq",
        "outputId": "466060ec-959c-4e67-ae0e-e9d203a1e50a"
      },
      "outputs": [
        {
          "metadata": {
            "tags": null
          },
          "name": "stdout",
          "output_type": "stream",
          "text": [
            "217\n",
            "60\n",
            "1000000 1115\n",
            "Remainder validation 5\n",
            "0\n",
            "Epoch 1/10\n",
            "35/35 [==============================] - 13s 277ms/step\n"
          ]
        },
        {
          "metadata": {
            "tags": null
          },
          "name": "stderr",
          "output_type": "stream",
          "text": [
            "100%|██████████| 60/60 [01:03<00:00,  1.06s/it]\n"
          ]
        },
        {
          "metadata": {
            "tags": null
          },
          "name": "stdout",
          "output_type": "stream",
          "text": [
            "120 0.00037031858935473094\n"
          ]
        },
        {
          "metadata": {
            "tags": null
          },
          "name": "stderr",
          "output_type": "stream",
          "text": [
            "100%|██████████| 5/5 [00:07<00:00,  1.42s/it]\n"
          ]
        },
        {
          "metadata": {
            "tags": null
          },
          "name": "stdout",
          "output_type": "stream",
          "text": [
            "120 0.0012311241469529005\n",
            "Saving score all: epoch 0 because 0.00037031858935473094>0\n",
            "Saving just test: epoch 0 because 0.0012311241469529005>0\n",
            "500/500 [==============================] - 531s 1s/step - loss: 0.0037 - val_loss: 0.0014\n",
            "Epoch 2/10\n",
            "35/35 [==============================] - 10s 279ms/step\n"
          ]
        },
        {
          "metadata": {
            "tags": null
          },
          "name": "stderr",
          "output_type": "stream",
          "text": [
            "100%|██████████| 60/60 [01:02<00:00,  1.04s/it]\n"
          ]
        },
        {
          "metadata": {
            "tags": null
          },
          "name": "stdout",
          "output_type": "stream",
          "text": [
            "120 0.6977789077288163\n"
          ]
        },
        {
          "metadata": {
            "tags": null
          },
          "name": "stderr",
          "output_type": "stream",
          "text": [
            "100%|██████████| 5/5 [00:07<00:00,  1.51s/it]\n"
          ]
        },
        {
          "metadata": {
            "tags": null
          },
          "name": "stdout",
          "output_type": "stream",
          "text": [
            "120 0.5613102891716073\n",
            "Saving score all: epoch 1 because 0.6977789077288163>0.00037031858935473094\n",
            "Saving just test: epoch 1 because 0.5613102891716073>0.0012311241469529005\n",
            "500/500 [==============================] - 502s 1s/step - loss: 0.0011 - val_loss: 8.0753e-04\n",
            "Epoch 3/10\n",
            "35/35 [==============================] - 10s 279ms/step\n"
          ]
        },
        {
          "metadata": {
            "tags": null
          },
          "name": "stderr",
          "output_type": "stream",
          "text": [
            "100%|██████████| 60/60 [01:01<00:00,  1.03s/it]\n"
          ]
        },
        {
          "metadata": {
            "tags": null
          },
          "name": "stdout",
          "output_type": "stream",
          "text": [
            "120 0.7357455976825782\n"
          ]
        },
        {
          "metadata": {
            "tags": null
          },
          "name": "stderr",
          "output_type": "stream",
          "text": [
            "100%|██████████| 5/5 [00:07<00:00,  1.55s/it]\n"
          ]
        },
        {
          "metadata": {
            "tags": null
          },
          "name": "stdout",
          "output_type": "stream",
          "text": [
            "120 0.5878825237878162\n",
            "Saving score all: epoch 2 because 0.7357455976825782>0.6977789077288163\n",
            "Saving just test: epoch 2 because 0.5878825237878162>0.5613102891716073\n",
            "500/500 [==============================] - 501s 1s/step - loss: 7.6770e-04 - val_loss: 7.6265e-04\n",
            "Epoch 4/10\n",
            "35/35 [==============================] - 10s 279ms/step\n"
          ]
        },
        {
          "metadata": {
            "tags": null
          },
          "name": "stderr",
          "output_type": "stream",
          "text": [
            "100%|██████████| 60/60 [01:02<00:00,  1.04s/it]\n"
          ]
        },
        {
          "metadata": {
            "tags": null
          },
          "name": "stdout",
          "output_type": "stream",
          "text": [
            "120 0.7521284976195537\n"
          ]
        },
        {
          "metadata": {
            "tags": null
          },
          "name": "stderr",
          "output_type": "stream",
          "text": [
            "100%|██████████| 5/5 [00:07<00:00,  1.45s/it]\n"
          ]
        },
        {
          "output_type": "stream",
          "name": "stdout",
          "text": [
            "120 0.6055238619663698\n",
            "Saving score all: epoch 3 because 0.7521284976195537>0.7357455976825782\n",
            "Saving just test: epoch 3 because 0.6055238619663698>0.5878825237878162\n",
            "500/500 [==============================] - 501s 1s/step - loss: 7.4390e-04 - val_loss: 7.6008e-04\n",
            "Epoch 5/10\n",
            "35/35 [==============================] - 10s 279ms/step\n"
          ]
        },
        {
          "output_type": "stream",
          "name": "stderr",
          "text": [
            "100%|██████████| 60/60 [01:02<00:00,  1.04s/it]\n"
          ]
        },
        {
          "output_type": "stream",
          "name": "stdout",
          "text": [
            "120 0.7742344371911005\n"
          ]
        },
        {
          "output_type": "stream",
          "name": "stderr",
          "text": [
            "100%|██████████| 5/5 [00:07<00:00,  1.45s/it]\n"
          ]
        },
        {
          "output_type": "stream",
          "name": "stdout",
          "text": [
            "120 0.6141540626682491\n",
            "Saving score all: epoch 4 because 0.7742344371911005>0.7521284976195537\n",
            "Saving just test: epoch 4 because 0.6141540626682491>0.6055238619663698\n",
            "500/500 [==============================] - 501s 1s/step - loss: 7.3265e-04 - val_loss: 7.5342e-04\n",
            "Epoch 6/10\n",
            "35/35 [==============================] - 10s 279ms/step\n"
          ]
        },
        {
          "output_type": "stream",
          "name": "stderr",
          "text": [
            "100%|██████████| 60/60 [01:01<00:00,  1.03s/it]\n"
          ]
        },
        {
          "output_type": "stream",
          "name": "stdout",
          "text": [
            "120 0.7693901930523832\n"
          ]
        },
        {
          "output_type": "stream",
          "name": "stderr",
          "text": [
            "100%|██████████| 5/5 [00:07<00:00,  1.44s/it]\n"
          ]
        },
        {
          "output_type": "stream",
          "name": "stdout",
          "text": [
            "120 0.6143443300160298\n",
            "Saving just test: epoch 5 because 0.6143443300160298>0.6141540626682491\n",
            "\b\b\b\b\b\b\b\b\b\b\b\b\b\b\b\b\b\b\b\b\b\b\b\b\b\b\b\b\b\b\b\b\b\b\b\b\b\b\b\b\b\b\b\b\b\b\b\b\b\b\b\b\b\b\b\b\b\b\b\b\b\b\b\b\b\b\b\b\b\r500/500 [==============================] - 500s 1s/step - loss: 7.2170e-04 - val_loss: 7.5992e-04\n",
            "Epoch 7/10\n",
            "35/35 [==============================] - 10s 279ms/step\n"
          ]
        },
        {
          "output_type": "stream",
          "name": "stderr",
          "text": [
            "100%|██████████| 60/60 [01:01<00:00,  1.03s/it]\n"
          ]
        },
        {
          "output_type": "stream",
          "name": "stdout",
          "text": [
            "120 0.7681555981227979\n"
          ]
        },
        {
          "output_type": "stream",
          "name": "stderr",
          "text": [
            "100%|██████████| 5/5 [00:07<00:00,  1.42s/it]\n"
          ]
        },
        {
          "output_type": "stream",
          "name": "stdout",
          "text": [
            "120 0.6157072650448426\n",
            "Saving just test: epoch 6 because 0.6157072650448426>0.6143443300160298\n",
            "\b\b\b\b\b\b\b\b\b\b\b\b\b\b\b\b\b\b\b\b\b\b\b\b\b\b\b\b\b\b\b\b\b\b\b\b\b\b\b\b\b\b\b\b\b\b\b\b\b\b\b\b\b\b\b\b\b\b\b\b\b\b\b\b\b\b\b\b\b\r500/500 [==============================] - 501s 1s/step - loss: 7.1197e-04 - val_loss: 7.6132e-04\n",
            "Epoch 8/10\n",
            "35/35 [==============================] - 10s 279ms/step\n"
          ]
        },
        {
          "output_type": "stream",
          "name": "stderr",
          "text": [
            "100%|██████████| 60/60 [01:02<00:00,  1.04s/it]\n"
          ]
        },
        {
          "output_type": "stream",
          "name": "stdout",
          "text": [
            "120 0.7568958736381743\n"
          ]
        },
        {
          "output_type": "stream",
          "name": "stderr",
          "text": [
            "100%|██████████| 5/5 [00:07<00:00,  1.45s/it]\n"
          ]
        },
        {
          "output_type": "stream",
          "name": "stdout",
          "text": [
            "120 0.5902062013474145\n",
            "\b\b\b\b\b\b\b\b\b\b\b\b\b\b\b\b\b\b\b\b\b\b\b\b\b\b\b\b\b\b\b\b\b\b\b\b\b\b\b\b\b\b\b\b\b\b\b\b\b\b\b\b\b\b\b\b\b\b\b\b\b\b\b\b\b\b\b\b\b\r500/500 [==============================] - 501s 1s/step - loss: 6.9689e-04 - val_loss: 7.6287e-04\n",
            "Epoch 9/10\n",
            "35/35 [==============================] - 10s 279ms/step\n"
          ]
        },
        {
          "output_type": "stream",
          "name": "stderr",
          "text": [
            "100%|██████████| 60/60 [01:01<00:00,  1.02s/it]\n"
          ]
        },
        {
          "output_type": "stream",
          "name": "stdout",
          "text": [
            "120 0.7584840044397766\n"
          ]
        },
        {
          "output_type": "stream",
          "name": "stderr",
          "text": [
            "100%|██████████| 5/5 [00:07<00:00,  1.41s/it]\n"
          ]
        },
        {
          "output_type": "stream",
          "name": "stdout",
          "text": [
            "120 0.5907276750129364\n",
            "\b\b\b\b\b\b\b\b\b\b\b\b\b\b\b\b\b\b\b\b\b\b\b\b\b\b\b\b\b\b\b\b\b\b\b\b\b\b\b\b\b\b\b\b\b\b\b\b\b\b\b\b\b\b\b\b\b\b\b\b\b\b\b\b\b\b\b\b\b\r500/500 [==============================] - 500s 1s/step - loss: 6.8023e-04 - val_loss: 7.7652e-04\n",
            "Epoch 10/10\n",
            "35/35 [==============================] - 10s 279ms/step\n"
          ]
        },
        {
          "output_type": "stream",
          "name": "stderr",
          "text": [
            "100%|██████████| 60/60 [01:01<00:00,  1.03s/it]\n"
          ]
        },
        {
          "output_type": "stream",
          "name": "stdout",
          "text": [
            "120 0.7183614125100899\n"
          ]
        },
        {
          "output_type": "stream",
          "name": "stderr",
          "text": [
            "100%|██████████| 5/5 [00:07<00:00,  1.53s/it]\n"
          ]
        },
        {
          "output_type": "stream",
          "name": "stdout",
          "text": [
            "120 0.5474934768643799\n",
            "\b\b\b\b\b\b\b\b\b\b\b\b\b\b\b\b\b\b\b\b\b\b\b\b\b\b\b\b\b\b\b\b\b\b\b\b\b\b\b\b\b\b\b\b\b\b\b\b\b\b\b\b\b\b\b\b\b\b\b\b\b\b\b\b\b\b\b\b\b\r500/500 [==============================] - 500s 1s/step - loss: 6.9441e-04 - val_loss: 7.9055e-04\n",
            "217\n",
            "60\n",
            "1000000 1027\n",
            "Remainder validation 29\n",
            "1\n",
            "Epoch 1/10\n",
            "33/33 [==============================] - 12s 277ms/step\n"
          ]
        },
        {
          "output_type": "stream",
          "name": "stderr",
          "text": [
            "100%|██████████| 60/60 [01:07<00:00,  1.13s/it]\n"
          ]
        },
        {
          "output_type": "stream",
          "name": "stdout",
          "text": [
            "120 0.00012641589497737452\n"
          ]
        },
        {
          "output_type": "stream",
          "name": "stderr",
          "text": [
            "100%|██████████| 5/5 [00:07<00:00,  1.43s/it]\n"
          ]
        },
        {
          "output_type": "stream",
          "name": "stdout",
          "text": [
            "120 0.0028739679885584277\n",
            "Saving score all: epoch 0 because 0.00012641589497737452>0\n",
            "Saving just test: epoch 0 because 0.0028739679885584277>0\n",
            "500/500 [==============================] - 533s 1s/step - loss: 0.0039 - val_loss: 0.0014\n",
            "Epoch 2/10\n",
            "33/33 [==============================] - 9s 278ms/step\n"
          ]
        },
        {
          "output_type": "stream",
          "name": "stderr",
          "text": [
            "100%|██████████| 60/60 [01:07<00:00,  1.13s/it]\n"
          ]
        },
        {
          "output_type": "stream",
          "name": "stdout",
          "text": [
            "120 0.6853669297876844\n"
          ]
        },
        {
          "output_type": "stream",
          "name": "stderr",
          "text": [
            "100%|██████████| 5/5 [00:08<00:00,  1.61s/it]\n"
          ]
        },
        {
          "output_type": "stream",
          "name": "stdout",
          "text": [
            "120 0.5802017993061805\n",
            "Saving score all: epoch 1 because 0.6853669297876844>0.00012641589497737452\n",
            "Saving just test: epoch 1 because 0.5802017993061805>0.0028739679885584277\n",
            "500/500 [==============================] - 513s 1s/step - loss: 0.0010 - val_loss: 7.8464e-04\n",
            "Epoch 3/10\n",
            "33/33 [==============================] - 9s 279ms/step\n"
          ]
        },
        {
          "output_type": "stream",
          "name": "stderr",
          "text": [
            "100%|██████████| 60/60 [01:08<00:00,  1.13s/it]\n"
          ]
        },
        {
          "output_type": "stream",
          "name": "stdout",
          "text": [
            "120 0.7199748933142442\n"
          ]
        },
        {
          "output_type": "stream",
          "name": "stderr",
          "text": [
            "100%|██████████| 5/5 [00:07<00:00,  1.54s/it]\n"
          ]
        },
        {
          "output_type": "stream",
          "name": "stdout",
          "text": [
            "120 0.5676997220351746\n",
            "Saving score all: epoch 2 because 0.7199748933142442>0.6853669297876844\n",
            "\b\b\b\b\b\b\b\b\b\b\b\b\b\b\b\b\b\b\b\b\b\b\b\b\b\b\b\b\b\b\b\b\b\b\b\b\b\b\b\b\b\b\b\b\b\b\b\b\b\b\b\b\b\b\b\b\b\b\b\b\b\b\b\b\b\b\b\b\b\r500/500 [==============================] - 511s 1s/step - loss: 7.6388e-04 - val_loss: 7.5832e-04\n",
            "Epoch 4/10\n",
            "33/33 [==============================] - 9s 279ms/step\n"
          ]
        },
        {
          "output_type": "stream",
          "name": "stderr",
          "text": [
            "100%|██████████| 60/60 [01:07<00:00,  1.13s/it]\n"
          ]
        },
        {
          "output_type": "stream",
          "name": "stdout",
          "text": [
            "120 0.7309710743026114\n"
          ]
        },
        {
          "output_type": "stream",
          "name": "stderr",
          "text": [
            "100%|██████████| 5/5 [00:07<00:00,  1.46s/it]\n"
          ]
        },
        {
          "output_type": "stream",
          "name": "stdout",
          "text": [
            "120 0.6074946597222582\n",
            "Saving score all: epoch 3 because 0.7309710743026114>0.7199748933142442\n",
            "Saving just test: epoch 3 because 0.6074946597222582>0.5802017993061805\n",
            "500/500 [==============================] - 511s 1s/step - loss: 7.4560e-04 - val_loss: 7.4045e-04\n",
            "Epoch 5/10\n",
            "33/33 [==============================] - 9s 279ms/step\n"
          ]
        },
        {
          "output_type": "stream",
          "name": "stderr",
          "text": [
            "100%|██████████| 60/60 [01:07<00:00,  1.13s/it]\n"
          ]
        },
        {
          "output_type": "stream",
          "name": "stdout",
          "text": [
            "120 0.7472562385198966\n"
          ]
        },
        {
          "output_type": "stream",
          "name": "stderr",
          "text": [
            "100%|██████████| 5/5 [00:07<00:00,  1.56s/it]\n"
          ]
        },
        {
          "output_type": "stream",
          "name": "stdout",
          "text": [
            "120 0.6237493708039474\n",
            "Saving score all: epoch 4 because 0.7472562385198966>0.7309710743026114\n",
            "Saving just test: epoch 4 because 0.6237493708039474>0.6074946597222582\n",
            "500/500 [==============================] - 512s 1s/step - loss: 7.3547e-04 - val_loss: 7.3543e-04\n",
            "Epoch 6/10\n",
            "33/33 [==============================] - 9s 280ms/step\n"
          ]
        },
        {
          "output_type": "stream",
          "name": "stderr",
          "text": [
            "100%|██████████| 60/60 [01:07<00:00,  1.13s/it]\n"
          ]
        },
        {
          "output_type": "stream",
          "name": "stdout",
          "text": [
            "120 0.7451782240799952\n"
          ]
        },
        {
          "output_type": "stream",
          "name": "stderr",
          "text": [
            "100%|██████████| 5/5 [00:07<00:00,  1.53s/it]\n"
          ]
        },
        {
          "output_type": "stream",
          "name": "stdout",
          "text": [
            "120 0.6237034240359841\n",
            "\b\b\b\b\b\b\b\b\b\b\b\b\b\b\b\b\b\b\b\b\b\b\b\b\b\b\b\b\b\b\b\b\b\b\b\b\b\b\b\b\b\b\b\b\b\b\b\b\b\b\b\b\b\b\b\b\b\b\b\b\b\b\b\b\b\b\b\b\b\r500/500 [==============================] - 511s 1s/step - loss: 7.2536e-04 - val_loss: 7.4147e-04\n",
            "Epoch 7/10\n",
            "33/33 [==============================] - 9s 279ms/step\n"
          ]
        },
        {
          "output_type": "stream",
          "name": "stderr",
          "text": [
            "100%|██████████| 60/60 [01:07<00:00,  1.12s/it]\n"
          ]
        },
        {
          "output_type": "stream",
          "name": "stdout",
          "text": [
            "120 0.7419926225782043\n"
          ]
        },
        {
          "output_type": "stream",
          "name": "stderr",
          "text": [
            "100%|██████████| 5/5 [00:07<00:00,  1.56s/it]\n"
          ]
        },
        {
          "output_type": "stream",
          "name": "stdout",
          "text": [
            "120 0.6012426994703015\n",
            "\b\b\b\b\b\b\b\b\b\b\b\b\b\b\b\b\b\b\b\b\b\b\b\b\b\b\b\b\b\b\b\b\b\b\b\b\b\b\b\b\b\b\b\b\b\b\b\b\b\b\b\b\b\b\b\b\b\b\b\b\b\b\b\b\b\b\b\b\b\r500/500 [==============================] - 511s 1s/step - loss: 7.1781e-04 - val_loss: 7.3668e-04\n",
            "Epoch 8/10\n",
            "33/33 [==============================] - 9s 279ms/step\n"
          ]
        },
        {
          "output_type": "stream",
          "name": "stderr",
          "text": [
            "100%|██████████| 60/60 [01:07<00:00,  1.13s/it]\n"
          ]
        },
        {
          "output_type": "stream",
          "name": "stdout",
          "text": [
            "120 0.7524674678606227\n"
          ]
        },
        {
          "output_type": "stream",
          "name": "stderr",
          "text": [
            "100%|██████████| 5/5 [00:07<00:00,  1.40s/it]\n"
          ]
        },
        {
          "output_type": "stream",
          "name": "stdout",
          "text": [
            "120 0.600979526096955\n",
            "Saving score all: epoch 7 because 0.7524674678606227>0.7472562385198966\n",
            "\b\b\b\b\b\b\b\b\b\b\b\b\b\b\b\b\b\b\b\b\b\b\b\b\b\b\b\b\b\b\b\b\b\b\b\b\b\b\b\b\b\b\b\b\b\b\b\b\b\b\b\b\b\b\b\b\b\b\b\b\b\b\b\b\b\b\b\b\b\r500/500 [==============================] - 511s 1s/step - loss: 7.0361e-04 - val_loss: 7.4287e-04\n",
            "Epoch 9/10\n",
            "33/33 [==============================] - 9s 279ms/step\n"
          ]
        },
        {
          "output_type": "stream",
          "name": "stderr",
          "text": [
            "100%|██████████| 60/60 [01:09<00:00,  1.16s/it]\n"
          ]
        },
        {
          "output_type": "stream",
          "name": "stdout",
          "text": [
            "120 0.7452255068449611\n"
          ]
        },
        {
          "output_type": "stream",
          "name": "stderr",
          "text": [
            "100%|██████████| 5/5 [00:08<00:00,  1.60s/it]\n"
          ]
        },
        {
          "output_type": "stream",
          "name": "stdout",
          "text": [
            "120 0.5740664755507349\n",
            "\b\b\b\b\b\b\b\b\b\b\b\b\b\b\b\b\b\b\b\b\b\b\b\b\b\b\b\b\b\b\b\b\b\b\b\b\b\b\b\b\b\b\b\b\b\b\b\b\b\b\b\b\b\b\b\b\b\b\b\b\b\b\b\b\b\b\b\b\b\r500/500 [==============================] - 514s 1s/step - loss: 6.9468e-04 - val_loss: 7.5447e-04\n",
            "Epoch 10/10\n",
            "33/33 [==============================] - 9s 279ms/step\n"
          ]
        },
        {
          "output_type": "stream",
          "name": "stderr",
          "text": [
            "100%|██████████| 60/60 [01:07<00:00,  1.13s/it]\n"
          ]
        },
        {
          "output_type": "stream",
          "name": "stdout",
          "text": [
            "120 0.7291476610421104\n"
          ]
        },
        {
          "output_type": "stream",
          "name": "stderr",
          "text": [
            "100%|██████████| 5/5 [00:07<00:00,  1.58s/it]\n"
          ]
        },
        {
          "output_type": "stream",
          "name": "stdout",
          "text": [
            "120 0.5552714651872153\n",
            "\b\b\b\b\b\b\b\b\b\b\b\b\b\b\b\b\b\b\b\b\b\b\b\b\b\b\b\b\b\b\b\b\b\b\b\b\b\b\b\b\b\b\b\b\b\b\b\b\b\b\b\b\b\b\b\b\b\b\b\b\b\b\b\b\b\b\b\b\b\r500/500 [==============================] - 511s 1s/step - loss: 6.7795e-04 - val_loss: 7.6414e-04\n",
            "218\n",
            "59\n",
            "1000000 987\n",
            "Remainder validation 5\n",
            "2\n",
            "Epoch 1/10\n",
            "31/31 [==============================] - 12s 278ms/step\n"
          ]
        },
        {
          "output_type": "stream",
          "name": "stderr",
          "text": [
            "100%|██████████| 59/59 [01:01<00:00,  1.05s/it]\n"
          ]
        },
        {
          "output_type": "stream",
          "name": "stdout",
          "text": [
            "120 0.0002787714352003144\n"
          ]
        },
        {
          "output_type": "stream",
          "name": "stderr",
          "text": [
            "100%|██████████| 5/5 [00:07<00:00,  1.51s/it]\n"
          ]
        },
        {
          "output_type": "stream",
          "name": "stdout",
          "text": [
            "120 0.0009758321858894083\n",
            "Saving score all: epoch 0 because 0.0002787714352003144>0\n",
            "Saving just test: epoch 0 because 0.0009758321858894083>0\n",
            "500/500 [==============================] - 522s 1s/step - loss: 0.0036 - val_loss: 0.0014\n",
            "Epoch 2/10\n",
            "31/31 [==============================] - 9s 279ms/step\n"
          ]
        },
        {
          "output_type": "stream",
          "name": "stderr",
          "text": [
            "100%|██████████| 59/59 [01:01<00:00,  1.04s/it]\n"
          ]
        },
        {
          "output_type": "stream",
          "name": "stdout",
          "text": [
            "120 0.7185642194998478\n"
          ]
        },
        {
          "output_type": "stream",
          "name": "stderr",
          "text": [
            "100%|██████████| 5/5 [00:08<00:00,  1.63s/it]\n"
          ]
        },
        {
          "output_type": "stream",
          "name": "stdout",
          "text": [
            "120 0.5768881287323804\n",
            "Saving score all: epoch 1 because 0.7185642194998478>0.0002787714352003144\n",
            "Saving just test: epoch 1 because 0.5768881287323804>0.0009758321858894083\n",
            "500/500 [==============================] - 499s 998ms/step - loss: 9.7173e-04 - val_loss: 7.7185e-04\n",
            "Epoch 3/10\n",
            "31/31 [==============================] - 9s 279ms/step\n"
          ]
        },
        {
          "output_type": "stream",
          "name": "stderr",
          "text": [
            "100%|██████████| 59/59 [01:00<00:00,  1.02s/it]\n"
          ]
        },
        {
          "output_type": "stream",
          "name": "stdout",
          "text": [
            "120 0.7592192575227144\n"
          ]
        },
        {
          "output_type": "stream",
          "name": "stderr",
          "text": [
            "100%|██████████| 5/5 [00:08<00:00,  1.61s/it]\n"
          ]
        },
        {
          "output_type": "stream",
          "name": "stdout",
          "text": [
            "120 0.6039565586566351\n",
            "Saving score all: epoch 2 because 0.7592192575227144>0.7185642194998478\n",
            "Saving just test: epoch 2 because 0.6039565586566351>0.5768881287323804\n",
            "500/500 [==============================] - 498s 997ms/step - loss: 7.6884e-04 - val_loss: 7.4856e-04\n",
            "Epoch 4/10\n",
            "31/31 [==============================] - 9s 279ms/step\n"
          ]
        },
        {
          "output_type": "stream",
          "name": "stderr",
          "text": [
            "100%|██████████| 59/59 [01:00<00:00,  1.03s/it]\n"
          ]
        },
        {
          "output_type": "stream",
          "name": "stdout",
          "text": [
            "120 0.7650578717477241\n"
          ]
        },
        {
          "output_type": "stream",
          "name": "stderr",
          "text": [
            "100%|██████████| 5/5 [00:08<00:00,  1.64s/it]\n"
          ]
        },
        {
          "output_type": "stream",
          "name": "stdout",
          "text": [
            "120 0.6014640731749586\n",
            "Saving score all: epoch 3 because 0.7650578717477241>0.7592192575227144\n",
            "\b\b\b\b\b\b\b\b\b\b\b\b\b\b\b\b\b\b\b\b\b\b\b\b\b\b\b\b\b\b\b\b\b\b\b\b\b\b\b\b\b\b\b\b\b\b\b\b\b\b\b\b\b\b\b\b\b\b\b\b\b\b\b\b\b\b\b\b\b\r500/500 [==============================] - 498s 996ms/step - loss: 7.4575e-04 - val_loss: 7.4358e-04\n",
            "Epoch 5/10\n",
            "31/31 [==============================] - 9s 279ms/step\n"
          ]
        },
        {
          "output_type": "stream",
          "name": "stderr",
          "text": [
            "100%|██████████| 59/59 [01:01<00:00,  1.05s/it]\n"
          ]
        },
        {
          "output_type": "stream",
          "name": "stdout",
          "text": [
            "120 0.7769011651945702\n"
          ]
        },
        {
          "output_type": "stream",
          "name": "stderr",
          "text": [
            "100%|██████████| 5/5 [00:07<00:00,  1.50s/it]\n"
          ]
        },
        {
          "output_type": "stream",
          "name": "stdout",
          "text": [
            "120 0.617109379812389\n",
            "Saving score all: epoch 4 because 0.7769011651945702>0.7650578717477241\n",
            "Saving just test: epoch 4 because 0.617109379812389>0.6039565586566351\n",
            "500/500 [==============================] - 499s 998ms/step - loss: 7.3781e-04 - val_loss: 7.4143e-04\n",
            "Epoch 6/10\n",
            "31/31 [==============================] - 9s 280ms/step\n"
          ]
        },
        {
          "output_type": "stream",
          "name": "stderr",
          "text": [
            "100%|██████████| 59/59 [01:00<00:00,  1.03s/it]\n"
          ]
        },
        {
          "output_type": "stream",
          "name": "stdout",
          "text": [
            "120 0.77349775079375\n"
          ]
        },
        {
          "output_type": "stream",
          "name": "stderr",
          "text": [
            "100%|██████████| 5/5 [00:07<00:00,  1.48s/it]\n"
          ]
        },
        {
          "output_type": "stream",
          "name": "stdout",
          "text": [
            "120 0.6262416808992157\n",
            "Saving just test: epoch 5 because 0.6262416808992157>0.617109379812389\n",
            "\b\b\b\b\b\b\b\b\b\b\b\b\b\b\b\b\b\b\b\b\b\b\b\b\b\b\b\b\b\b\b\b\b\b\b\b\b\b\b\b\b\b\b\b\b\b\b\b\b\b\b\b\b\b\b\b\b\b\b\b\b\b\b\b\b\b\b\b\b\r500/500 [==============================] - 498s 997ms/step - loss: 7.2947e-04 - val_loss: 7.4085e-04\n",
            "Epoch 7/10\n",
            "31/31 [==============================] - 9s 280ms/step\n"
          ]
        },
        {
          "output_type": "stream",
          "name": "stderr",
          "text": [
            "100%|██████████| 59/59 [01:01<00:00,  1.04s/it]\n"
          ]
        },
        {
          "output_type": "stream",
          "name": "stdout",
          "text": [
            "120 0.7752238856555074\n"
          ]
        },
        {
          "output_type": "stream",
          "name": "stderr",
          "text": [
            "100%|██████████| 5/5 [00:07<00:00,  1.50s/it]\n"
          ]
        },
        {
          "output_type": "stream",
          "name": "stdout",
          "text": [
            "120 0.6321494366312448\n",
            "Saving just test: epoch 6 because 0.6321494366312448>0.6262416808992157\n",
            "\b\b\b\b\b\b\b\b\b\b\b\b\b\b\b\b\b\b\b\b\b\b\b\b\b\b\b\b\b\b\b\b\b\b\b\b\b\b\b\b\b\b\b\b\b\b\b\b\b\b\b\b\b\b\b\b\b\b\b\b\b\b\b\b\b\b\b\b\b\r500/500 [==============================] - 499s 998ms/step - loss: 7.2397e-04 - val_loss: 7.3904e-04\n",
            "Epoch 8/10\n",
            "31/31 [==============================] - 9s 279ms/step\n"
          ]
        },
        {
          "output_type": "stream",
          "name": "stderr",
          "text": [
            "100%|██████████| 59/59 [01:00<00:00,  1.02s/it]\n"
          ]
        },
        {
          "output_type": "stream",
          "name": "stdout",
          "text": [
            "120 0.7671622853787523\n"
          ]
        },
        {
          "output_type": "stream",
          "name": "stderr",
          "text": [
            "100%|██████████| 5/5 [00:08<00:00,  1.62s/it]\n"
          ]
        },
        {
          "output_type": "stream",
          "name": "stdout",
          "text": [
            "120 0.6270085168926967\n",
            "\b\b\b\b\b\b\b\b\b\b\b\b\b\b\b\b\b\b\b\b\b\b\b\b\b\b\b\b\b\b\b\b\b\b\b\b\b\b\b\b\b\b\b\b\b\b\b\b\b\b\b\b\b\b\b\b\b\b\b\b\b\b\b\b\b\b\b\b\b\r500/500 [==============================] - 498s 996ms/step - loss: 7.0917e-04 - val_loss: 7.4526e-04\n",
            "Epoch 9/10\n",
            "31/31 [==============================] - 9s 279ms/step\n"
          ]
        },
        {
          "output_type": "stream",
          "name": "stderr",
          "text": [
            "100%|██████████| 59/59 [00:59<00:00,  1.02s/it]\n"
          ]
        },
        {
          "output_type": "stream",
          "name": "stdout",
          "text": [
            "120 0.7520756258186918\n"
          ]
        },
        {
          "output_type": "stream",
          "name": "stderr",
          "text": [
            "100%|██████████| 5/5 [00:07<00:00,  1.50s/it]\n"
          ]
        },
        {
          "output_type": "stream",
          "name": "stdout",
          "text": [
            "120 0.5915282468386591\n",
            "\b\b\b\b\b\b\b\b\b\b\b\b\b\b\b\b\b\b\b\b\b\b\b\b\b\b\b\b\b\b\b\b\b\b\b\b\b\b\b\b\b\b\b\b\b\b\b\b\b\b\b\b\b\b\b\b\b\b\b\b\b\b\b\b\b\b\b\b\b\r500/500 [==============================] - 498s 996ms/step - loss: 6.9280e-04 - val_loss: 7.6664e-04\n",
            "Epoch 10/10\n",
            "31/31 [==============================] - 9s 279ms/step\n"
          ]
        },
        {
          "output_type": "stream",
          "name": "stderr",
          "text": [
            "100%|██████████| 59/59 [01:00<00:00,  1.03s/it]\n"
          ]
        },
        {
          "output_type": "stream",
          "name": "stdout",
          "text": [
            "120 0.7542805065506227\n"
          ]
        },
        {
          "output_type": "stream",
          "name": "stderr",
          "text": [
            "100%|██████████| 5/5 [00:08<00:00,  1.61s/it]\n"
          ]
        },
        {
          "output_type": "stream",
          "name": "stdout",
          "text": [
            "120 0.6008596829928767\n",
            "\b\b\b\b\b\b\b\b\b\b\b\b\b\b\b\b\b\b\b\b\b\b\b\b\b\b\b\b\b\b\b\b\b\b\b\b\b\b\b\b\b\b\b\b\b\b\b\b\b\b\b\b\b\b\b\b\b\b\b\b\b\b\b\b\b\b\b\b\b\r500/500 [==============================] - 499s 998ms/step - loss: 6.8017e-04 - val_loss: 7.7397e-04\n",
            "218\n",
            "59\n",
            "1000000 1255\n",
            "Remainder validation 25\n",
            "3\n",
            "Epoch 1/10\n",
            "40/40 [==============================] - 14s 278ms/step\n"
          ]
        },
        {
          "output_type": "stream",
          "name": "stderr",
          "text": [
            "100%|██████████| 59/59 [01:28<00:00,  1.49s/it]\n"
          ]
        },
        {
          "output_type": "stream",
          "name": "stdout",
          "text": [
            "120 0.0006875988286432486\n"
          ]
        },
        {
          "output_type": "stream",
          "name": "stderr",
          "text": [
            "100%|██████████| 5/5 [00:07<00:00,  1.57s/it]\n"
          ]
        },
        {
          "output_type": "stream",
          "name": "stdout",
          "text": [
            "120 0.0014593510029586169\n",
            "Saving score all: epoch 0 because 0.0006875988286432486>0\n",
            "Saving just test: epoch 0 because 0.0014593510029586169>0\n",
            "500/500 [==============================] - 577s 1s/step - loss: 0.0039 - val_loss: 0.0013\n",
            "Epoch 2/10\n",
            "40/40 [==============================] - 11s 278ms/step\n"
          ]
        },
        {
          "output_type": "stream",
          "name": "stderr",
          "text": [
            "100%|██████████| 59/59 [01:29<00:00,  1.52s/it]\n"
          ]
        },
        {
          "output_type": "stream",
          "name": "stdout",
          "text": [
            "120 0.7110048883530432\n"
          ]
        },
        {
          "output_type": "stream",
          "name": "stderr",
          "text": [
            "100%|██████████| 5/5 [00:07<00:00,  1.54s/it]\n"
          ]
        },
        {
          "output_type": "stream",
          "name": "stdout",
          "text": [
            "120 0.5779513913764674\n",
            "Saving score all: epoch 1 because 0.7110048883530432>0.0006875988286432486\n",
            "Saving just test: epoch 1 because 0.5779513913764674>0.0014593510029586169\n",
            "500/500 [==============================] - 555s 1s/step - loss: 9.2066e-04 - val_loss: 7.7236e-04\n",
            "Epoch 3/10\n",
            "40/40 [==============================] - 11s 279ms/step\n"
          ]
        },
        {
          "output_type": "stream",
          "name": "stderr",
          "text": [
            "100%|██████████| 59/59 [01:28<00:00,  1.50s/it]\n"
          ]
        },
        {
          "output_type": "stream",
          "name": "stdout",
          "text": [
            "120 0.7545746838210909\n"
          ]
        },
        {
          "output_type": "stream",
          "name": "stderr",
          "text": [
            "100%|██████████| 5/5 [00:07<00:00,  1.55s/it]\n"
          ]
        },
        {
          "output_type": "stream",
          "name": "stdout",
          "text": [
            "120 0.6230961441685512\n",
            "Saving score all: epoch 2 because 0.7545746838210909>0.7110048883530432\n",
            "Saving just test: epoch 2 because 0.6230961441685512>0.5779513913764674\n",
            "500/500 [==============================] - 555s 1s/step - loss: 7.5679e-04 - val_loss: 7.5365e-04\n",
            "Epoch 4/10\n",
            "40/40 [==============================] - 11s 278ms/step\n"
          ]
        },
        {
          "output_type": "stream",
          "name": "stderr",
          "text": [
            "100%|██████████| 59/59 [01:28<00:00,  1.51s/it]\n"
          ]
        },
        {
          "output_type": "stream",
          "name": "stdout",
          "text": [
            "120 0.7600592273309881\n"
          ]
        },
        {
          "output_type": "stream",
          "name": "stderr",
          "text": [
            "100%|██████████| 5/5 [00:07<00:00,  1.56s/it]\n"
          ]
        },
        {
          "output_type": "stream",
          "name": "stdout",
          "text": [
            "120 0.6178877011410384\n",
            "Saving score all: epoch 3 because 0.7600592273309881>0.7545746838210909\n",
            "\b\b\b\b\b\b\b\b\b\b\b\b\b\b\b\b\b\b\b\b\b\b\b\b\b\b\b\b\b\b\b\b\b\b\b\b\b\b\b\b\b\b\b\b\b\b\b\b\b\b\b\b\b\b\b\b\b\b\b\b\b\b\b\b\b\b\b\b\b\r500/500 [==============================] - 556s 1s/step - loss: 7.4051e-04 - val_loss: 7.4727e-04\n",
            "Epoch 5/10\n",
            "40/40 [==============================] - 11s 279ms/step\n"
          ]
        },
        {
          "output_type": "stream",
          "name": "stderr",
          "text": [
            "100%|██████████| 59/59 [01:29<00:00,  1.52s/it]\n"
          ]
        },
        {
          "output_type": "stream",
          "name": "stdout",
          "text": [
            "120 0.7548620466343307\n"
          ]
        },
        {
          "output_type": "stream",
          "name": "stderr",
          "text": [
            "100%|██████████| 5/5 [00:07<00:00,  1.56s/it]\n"
          ]
        },
        {
          "output_type": "stream",
          "name": "stdout",
          "text": [
            "120 0.6101563131266795\n",
            "\b\b\b\b\b\b\b\b\b\b\b\b\b\b\b\b\b\b\b\b\b\b\b\b\b\b\b\b\b\b\b\b\b\b\b\b\b\b\b\b\b\b\b\b\b\b\b\b\b\b\b\b\b\b\b\b\b\b\b\b\b\b\b\b\b\b\b\b\b\r500/500 [==============================] - 555s 1s/step - loss: 7.2467e-04 - val_loss: 7.4363e-04\n",
            "Epoch 6/10\n",
            "40/40 [==============================] - 11s 278ms/step\n"
          ]
        },
        {
          "output_type": "stream",
          "name": "stderr",
          "text": [
            "100%|██████████| 59/59 [01:29<00:00,  1.52s/it]\n"
          ]
        },
        {
          "output_type": "stream",
          "name": "stdout",
          "text": [
            "120 0.757397005079435\n"
          ]
        },
        {
          "output_type": "stream",
          "name": "stderr",
          "text": [
            "100%|██████████| 5/5 [00:07<00:00,  1.57s/it]\n"
          ]
        },
        {
          "output_type": "stream",
          "name": "stdout",
          "text": [
            "120 0.5924416939453145\n",
            "\b\b\b\b\b\b\b\b\b\b\b\b\b\b\b\b\b\b\b\b\b\b\b\b\b\b\b\b\b\b\b\b\b\b\b\b\b\b\b\b\b\b\b\b\b\b\b\b\b\b\b\b\b\b\b\b\b\b\b\b\b\b\b\b\b\b\b\b\b\r500/500 [==============================] - 555s 1s/step - loss: 7.1430e-04 - val_loss: 7.5195e-04\n",
            "Epoch 7/10\n",
            "40/40 [==============================] - 11s 279ms/step\n"
          ]
        },
        {
          "output_type": "stream",
          "name": "stderr",
          "text": [
            "100%|██████████| 59/59 [01:29<00:00,  1.52s/it]\n"
          ]
        },
        {
          "output_type": "stream",
          "name": "stdout",
          "text": [
            "120 0.7484589531232368\n"
          ]
        },
        {
          "output_type": "stream",
          "name": "stderr",
          "text": [
            "100%|██████████| 5/5 [00:08<00:00,  1.77s/it]\n"
          ]
        },
        {
          "output_type": "stream",
          "name": "stdout",
          "text": [
            "120 0.5724644909996106\n",
            "\b\b\b\b\b\b\b\b\b\b\b\b\b\b\b\b\b\b\b\b\b\b\b\b\b\b\b\b\b\b\b\b\b\b\b\b\b\b\b\b\b\b\b\b\b\b\b\b\b\b\b\b\b\b\b\b\b\b\b\b\b\b\b\b\b\b\b\b\b\r500/500 [==============================] - 558s 1s/step - loss: 7.0396e-04 - val_loss: 7.5618e-04\n",
            "Epoch 8/10\n",
            "40/40 [==============================] - 11s 279ms/step\n"
          ]
        },
        {
          "output_type": "stream",
          "name": "stderr",
          "text": [
            "100%|██████████| 59/59 [01:28<00:00,  1.50s/it]\n"
          ]
        },
        {
          "output_type": "stream",
          "name": "stdout",
          "text": [
            "120 0.7516502219466257\n"
          ]
        },
        {
          "output_type": "stream",
          "name": "stderr",
          "text": [
            "100%|██████████| 5/5 [00:07<00:00,  1.56s/it]\n"
          ]
        },
        {
          "output_type": "stream",
          "name": "stdout",
          "text": [
            "120 0.590736714119094\n",
            "\b\b\b\b\b\b\b\b\b\b\b\b\b\b\b\b\b\b\b\b\b\b\b\b\b\b\b\b\b\b\b\b\b\b\b\b\b\b\b\b\b\b\b\b\b\b\b\b\b\b\b\b\b\b\b\b\b\b\b\b\b\b\b\b\b\b\b\b\b\r500/500 [==============================] - 555s 1s/step - loss: 6.9050e-04 - val_loss: 7.6130e-04\n",
            "Epoch 9/10\n",
            "40/40 [==============================] - 11s 279ms/step\n"
          ]
        },
        {
          "output_type": "stream",
          "name": "stderr",
          "text": [
            "100%|██████████| 59/59 [01:28<00:00,  1.51s/it]\n"
          ]
        },
        {
          "output_type": "stream",
          "name": "stdout",
          "text": [
            "120 0.7383458830482206\n"
          ]
        },
        {
          "output_type": "stream",
          "name": "stderr",
          "text": [
            "100%|██████████| 5/5 [00:07<00:00,  1.56s/it]\n"
          ]
        },
        {
          "output_type": "stream",
          "name": "stdout",
          "text": [
            "120 0.5942131302061919\n",
            "\b\b\b\b\b\b\b\b\b\b\b\b\b\b\b\b\b\b\b\b\b\b\b\b\b\b\b\b\b\b\b\b\b\b\b\b\b\b\b\b\b\b\b\b\b\b\b\b\b\b\b\b\b\b\b\b\b\b\b\b\b\b\b\b\b\b\b\b\b\r500/500 [==============================] - 556s 1s/step - loss: 6.7419e-04 - val_loss: 7.7589e-04\n",
            "Epoch 10/10\n",
            "40/40 [==============================] - 11s 279ms/step\n"
          ]
        },
        {
          "output_type": "stream",
          "name": "stderr",
          "text": [
            "100%|██████████| 59/59 [01:28<00:00,  1.51s/it]\n"
          ]
        },
        {
          "output_type": "stream",
          "name": "stdout",
          "text": [
            "120 0.707330435922402\n"
          ]
        },
        {
          "output_type": "stream",
          "name": "stderr",
          "text": [
            "100%|██████████| 5/5 [00:07<00:00,  1.56s/it]\n"
          ]
        },
        {
          "output_type": "stream",
          "name": "stdout",
          "text": [
            "120 0.551914287155023\n",
            "\b\b\b\b\b\b\b\b\b\b\b\b\b\b\b\b\b\b\b\b\b\b\b\b\b\b\b\b\b\b\b\b\b\b\b\b\b\b\b\b\b\b\b\b\b\b\b\b\b\b\b\b\b\b\b\b\b\b\b\b\b\b\b\b\b\b\b\b\b\r500/500 [==============================] - 555s 1s/step - loss: 6.5827e-04 - val_loss: 8.0441e-04\n",
            "218\n",
            "59\n",
            "1000000 1108\n",
            "Remainder validation 12\n",
            "4\n",
            "Epoch 1/10\n",
            "35/35 [==============================] - 13s 278ms/step\n"
          ]
        },
        {
          "output_type": "stream",
          "name": "stderr",
          "text": [
            "100%|██████████| 59/59 [01:11<00:00,  1.22s/it]\n"
          ]
        },
        {
          "output_type": "stream",
          "name": "stdout",
          "text": [
            "120 0.0002760281537364981\n"
          ]
        },
        {
          "output_type": "stream",
          "name": "stderr",
          "text": [
            "100%|██████████| 5/5 [00:07<00:00,  1.58s/it]\n"
          ]
        },
        {
          "output_type": "stream",
          "name": "stdout",
          "text": [
            "120 0.001369799898339135\n",
            "Saving score all: epoch 0 because 0.0002760281537364981>0\n",
            "Saving just test: epoch 0 because 0.001369799898339135>0\n",
            "500/500 [==============================] - 543s 1s/step - loss: 0.0039 - val_loss: 0.0014\n",
            "Epoch 2/10\n",
            "35/35 [==============================] - 10s 278ms/step\n"
          ]
        },
        {
          "output_type": "stream",
          "name": "stderr",
          "text": [
            "100%|██████████| 59/59 [01:12<00:00,  1.22s/it]\n"
          ]
        },
        {
          "output_type": "stream",
          "name": "stdout",
          "text": [
            "120 0.6610708995379782\n"
          ]
        },
        {
          "output_type": "stream",
          "name": "stderr",
          "text": [
            "100%|██████████| 5/5 [00:07<00:00,  1.59s/it]\n"
          ]
        },
        {
          "output_type": "stream",
          "name": "stdout",
          "text": [
            "120 0.5581297991658783\n",
            "Saving score all: epoch 1 because 0.6610708995379782>0.0002760281537364981\n",
            "Saving just test: epoch 1 because 0.5581297991658783>0.001369799898339135\n",
            "500/500 [==============================] - 522s 1s/step - loss: 0.0010 - val_loss: 8.1246e-04\n",
            "Epoch 3/10\n",
            "35/35 [==============================] - 10s 278ms/step\n"
          ]
        },
        {
          "output_type": "stream",
          "name": "stderr",
          "text": [
            "100%|██████████| 59/59 [01:12<00:00,  1.22s/it]\n"
          ]
        },
        {
          "output_type": "stream",
          "name": "stdout",
          "text": [
            "120 0.7176812128097728\n"
          ]
        },
        {
          "output_type": "stream",
          "name": "stderr",
          "text": [
            "100%|██████████| 5/5 [00:07<00:00,  1.59s/it]\n"
          ]
        },
        {
          "output_type": "stream",
          "name": "stdout",
          "text": [
            "120 0.5907392185353538\n",
            "Saving score all: epoch 2 because 0.7176812128097728>0.6610708995379782\n",
            "Saving just test: epoch 2 because 0.5907392185353538>0.5581297991658783\n",
            "500/500 [==============================] - 521s 1s/step - loss: 7.5147e-04 - val_loss: 7.8316e-04\n",
            "Epoch 4/10\n",
            "35/35 [==============================] - 10s 279ms/step\n"
          ]
        },
        {
          "output_type": "stream",
          "name": "stderr",
          "text": [
            "100%|██████████| 59/59 [01:11<00:00,  1.22s/it]\n"
          ]
        },
        {
          "output_type": "stream",
          "name": "stdout",
          "text": [
            "120 0.7283078945949064\n"
          ]
        },
        {
          "output_type": "stream",
          "name": "stderr",
          "text": [
            "100%|██████████| 5/5 [00:07<00:00,  1.58s/it]\n"
          ]
        },
        {
          "output_type": "stream",
          "name": "stdout",
          "text": [
            "120 0.5863354407134865\n",
            "Saving score all: epoch 3 because 0.7283078945949064>0.7176812128097728\n",
            "\b\b\b\b\b\b\b\b\b\b\b\b\b\b\b\b\b\b\b\b\b\b\b\b\b\b\b\b\b\b\b\b\b\b\b\b\b\b\b\b\b\b\b\b\b\b\b\b\b\b\b\b\b\b\b\b\b\b\b\b\b\b\b\b\b\b\b\b\b\r500/500 [==============================] - 521s 1s/step - loss: 7.3577e-04 - val_loss: 7.8116e-04\n",
            "Epoch 5/10\n",
            "35/35 [==============================] - 10s 278ms/step\n"
          ]
        },
        {
          "output_type": "stream",
          "name": "stderr",
          "text": [
            "100%|██████████| 59/59 [01:12<00:00,  1.23s/it]\n"
          ]
        },
        {
          "output_type": "stream",
          "name": "stdout",
          "text": [
            "120 0.7275360764805479\n"
          ]
        },
        {
          "output_type": "stream",
          "name": "stderr",
          "text": [
            "100%|██████████| 5/5 [00:08<00:00,  1.61s/it]\n"
          ]
        },
        {
          "output_type": "stream",
          "name": "stdout",
          "text": [
            "120 0.5905499424305596\n",
            "\b\b\b\b\b\b\b\b\b\b\b\b\b\b\b\b\b\b\b\b\b\b\b\b\b\b\b\b\b\b\b\b\b\b\b\b\b\b\b\b\b\b\b\b\b\b\b\b\b\b\b\b\b\b\b\b\b\b\b\b\b\b\b\b\b\b\b\b\b\r500/500 [==============================] - 521s 1s/step - loss: 7.2520e-04 - val_loss: 7.8110e-04\n",
            "Epoch 6/10\n",
            "35/35 [==============================] - 10s 278ms/step\n"
          ]
        },
        {
          "output_type": "stream",
          "name": "stderr",
          "text": [
            "100%|██████████| 59/59 [01:11<00:00,  1.21s/it]\n"
          ]
        },
        {
          "output_type": "stream",
          "name": "stdout",
          "text": [
            "120 0.7377235984800592\n"
          ]
        },
        {
          "output_type": "stream",
          "name": "stderr",
          "text": [
            "100%|██████████| 5/5 [00:07<00:00,  1.57s/it]\n"
          ]
        },
        {
          "output_type": "stream",
          "name": "stdout",
          "text": [
            "120 0.5966495403157626\n",
            "Saving score all: epoch 5 because 0.7377235984800592>0.7283078945949064\n",
            "Saving just test: epoch 5 because 0.5966495403157626>0.5907392185353538\n",
            "500/500 [==============================] - 520s 1s/step - loss: 7.1533e-04 - val_loss: 7.7465e-04\n",
            "Epoch 7/10\n",
            "35/35 [==============================] - 10s 278ms/step\n"
          ]
        },
        {
          "output_type": "stream",
          "name": "stderr",
          "text": [
            "100%|██████████| 59/59 [01:11<00:00,  1.21s/it]\n"
          ]
        },
        {
          "output_type": "stream",
          "name": "stdout",
          "text": [
            "120 0.7364732285512869\n"
          ]
        },
        {
          "output_type": "stream",
          "name": "stderr",
          "text": [
            "100%|██████████| 5/5 [00:07<00:00,  1.58s/it]\n"
          ]
        },
        {
          "output_type": "stream",
          "name": "stdout",
          "text": [
            "120 0.6058699060549562\n",
            "Saving just test: epoch 6 because 0.6058699060549562>0.5966495403157626\n",
            "\b\b\b\b\b\b\b\b\b\b\b\b\b\b\b\b\b\b\b\b\b\b\b\b\b\b\b\b\b\b\b\b\b\b\b\b\b\b\b\b\b\b\b\b\b\b\b\b\b\b\b\b\b\b\b\b\b\b\b\b\b\b\b\b\b\b\b\b\b\r500/500 [==============================] - 520s 1s/step - loss: 7.0647e-04 - val_loss: 7.8409e-04\n",
            "Epoch 8/10\n",
            "35/35 [==============================] - 10s 279ms/step\n"
          ]
        },
        {
          "output_type": "stream",
          "name": "stderr",
          "text": [
            "100%|██████████| 59/59 [01:11<00:00,  1.22s/it]\n"
          ]
        },
        {
          "output_type": "stream",
          "name": "stdout",
          "text": [
            "120 0.7348343706595631\n"
          ]
        },
        {
          "output_type": "stream",
          "name": "stderr",
          "text": [
            "100%|██████████| 5/5 [00:08<00:00,  1.63s/it]\n"
          ]
        },
        {
          "output_type": "stream",
          "name": "stdout",
          "text": [
            "120 0.5933153890227434\n",
            "\b\b\b\b\b\b\b\b\b\b\b\b\b\b\b\b\b\b\b\b\b\b\b\b\b\b\b\b\b\b\b\b\b\b\b\b\b\b\b\b\b\b\b\b\b\b\b\b\b\b\b\b\b\b\b\b\b\b\b\b\b\b\b\b\b\b\b\b\b\r500/500 [==============================] - 520s 1s/step - loss: 6.9503e-04 - val_loss: 7.8576e-04\n",
            "Epoch 9/10\n",
            "35/35 [==============================] - 10s 279ms/step\n"
          ]
        },
        {
          "output_type": "stream",
          "name": "stderr",
          "text": [
            "100%|██████████| 59/59 [01:12<00:00,  1.22s/it]\n"
          ]
        },
        {
          "output_type": "stream",
          "name": "stdout",
          "text": [
            "120 0.7269408999341124\n"
          ]
        },
        {
          "output_type": "stream",
          "name": "stderr",
          "text": [
            "100%|██████████| 5/5 [00:08<00:00,  1.61s/it]\n"
          ]
        },
        {
          "output_type": "stream",
          "name": "stdout",
          "text": [
            "120 0.5747444486020321\n",
            "\b\b\b\b\b\b\b\b\b\b\b\b\b\b\b\b\b\b\b\b\b\b\b\b\b\b\b\b\b\b\b\b\b\b\b\b\b\b\b\b\b\b\b\b\b\b\b\b\b\b\b\b\b\b\b\b\b\b\b\b\b\b\b\b\b\b\b\b\b\r500/500 [==============================] - 521s 1s/step - loss: 6.8276e-04 - val_loss: 7.9421e-04\n",
            "Epoch 10/10\n",
            "35/35 [==============================] - 10s 279ms/step\n"
          ]
        },
        {
          "output_type": "stream",
          "name": "stderr",
          "text": [
            "100%|██████████| 59/59 [01:12<00:00,  1.24s/it]\n"
          ]
        },
        {
          "output_type": "stream",
          "name": "stdout",
          "text": [
            "120 0.7241533468350339\n"
          ]
        },
        {
          "output_type": "stream",
          "name": "stderr",
          "text": [
            "100%|██████████| 5/5 [00:08<00:00,  1.62s/it]\n"
          ]
        },
        {
          "output_type": "stream",
          "name": "stdout",
          "text": [
            "120 0.5851064613931638\n",
            "\b\b\b\b\b\b\b\b\b\b\b\b\b\b\b\b\b\b\b\b\b\b\b\b\b\b\b\b\b\b\b\b\b\b\b\b\b\b\b\b\b\b\b\b\b\b\b\b\b\b\b\b\b\b\b\b\b\b\b\b\b\b\b\b\b\b\b\b\b\r500/500 [==============================] - 523s 1s/step - loss: 6.6927e-04 - val_loss: 8.1836e-04\n"
          ]
        }
      ],
      "source": [
        "for FOLD in range(5):\n",
        "  # use just one fold for trainin. only this fold is used to train the final model to submit to competition, so improving here is a must.\n",
        "  train_ids=[e for e in fold_ids[FOLD][0] if e not in TEST_IDS]\n",
        "  val_ids=[e for e in fold_ids[FOLD][1] if e not in TEST_IDS]+TEST_IDS\n",
        "\n",
        "\n",
        "  print(len(train_ids)),print(len(val_ids))\n",
        "\n",
        "  inds,val_inds,arr= get_inds(train_ids,val_ids)\n",
        "  print(len(inds),len(val_inds))\n",
        "\n",
        "\n",
        "  LEN_VAL= len(val_inds)\n",
        "  REMAINDER_VAL=(GPU_BATCH_SIZE - len(val_inds)%GPU_BATCH_SIZE)%GPU_BATCH_SIZE\n",
        "  print(f\"Remainder validation {REMAINDER_VAL}\")\n",
        "\n",
        "  for i in range(REMAINDER_VAL):\n",
        "      val_inds.append(val_inds[-1])\n",
        "\n",
        "\n",
        "\n",
        "\n",
        "  dataset =tf.data.Dataset.from_tensor_slices(dict(pd.DataFrame(inds)))\n",
        "  dataset = dataset .map(read_indices).batch( GPU_BATCH_SIZE, drop_remainder=False)\n",
        "\n",
        "\n",
        "  val_dataset =tf.data.Dataset.from_tensor_slices(dict(pd.DataFrame(val_inds)))\n",
        "\n",
        "  val_dataset = val_dataset .map(read_val_indices).batch( GPU_BATCH_SIZE, drop_remainder=False)\n",
        "\n",
        "\n",
        "  ## same as val_dataset but with batch size 1 to prediction\n",
        "  val_dataset_backup=tf.data.Dataset.from_tensor_slices(dict(pd.DataFrame(val_inds[:LEN_VAL])))\n",
        "  val_dataset__=val_dataset_backup .map(read_val_indices).batch( 1, drop_remainder=False)\n",
        "\n",
        "  len(val_ids)\n",
        "\n",
        "\n",
        "\n",
        "\n",
        "\n",
        "  model=Model()\n",
        "  scheduler=CustomSchedule(LEARNING_RATE, WARMUP_STEPS)\n",
        "  optimizer=tf.keras.optimizers.Adam(learning_rate=scheduler, beta_1=OPTMIZER_BETA1, beta_2=OPTMIZER_BETA2, epsilon=OPTMIZER_EPSILON)\n",
        "  model.build(input_shape=(GPU_BATCH_SIZE, CFG['block_size'] // CFG['patch_size'],DIM ))\n",
        "\n",
        "  model.compile(optimizer=optimizer,loss=loss_function)\n",
        "  #model.  summary()\n",
        "\n",
        "  model.fit(dataset,epochs= 10,steps_per_epoch=CFG[\"steps_per_epoch\"],validation_data=val_dataset, callbacks=[MetricsCallback(FOLD=FOLD),])\n",
        "  model.save_weights(\"my_model_weights\")"
      ]
    },
    {
      "cell_type": "code",
      "execution_count": 50,
      "metadata": {
        "id": "7e_lxVQBwueS",
        "colab": {
          "base_uri": "https://localhost:8080/"
        },
        "outputId": "5a36ebae-6b07-46cf-9b51-08010c5182e7"
      },
      "outputs": [
        {
          "output_type": "stream",
          "name": "stdout",
          "text": [
            "model_weights_6_fold0_test.data-00000-of-00001\n",
            "  adding: model_weights_6_fold0_test.data-00000-of-00001 (deflated 6%)\n",
            "  adding: model_weights_6_fold0_test.index (deflated 75%)\n",
            "model_weights_4_fold0_all.data-00000-of-00001\n",
            "  adding: model_weights_4_fold0_all.data-00000-of-00001 (deflated 6%)\n",
            "  adding: model_weights_4_fold0_all.index (deflated 75%)\n",
            "model_weights_4_fold1_test.data-00000-of-00001\n",
            "  adding: model_weights_4_fold1_test.data-00000-of-00001 (deflated 6%)\n",
            "  adding: model_weights_4_fold1_test.index (deflated 75%)\n",
            "model_weights_7_fold1_all.data-00000-of-00001\n",
            "  adding: model_weights_7_fold1_all.data-00000-of-00001 (deflated 6%)\n",
            "  adding: model_weights_7_fold1_all.index (deflated 75%)\n",
            "model_weights_6_fold2_test.data-00000-of-00001\n",
            "  adding: model_weights_6_fold2_test.data-00000-of-00001 (deflated 6%)\n",
            "  adding: model_weights_6_fold2_test.index (deflated 75%)\n",
            "model_weights_4_fold2_all.data-00000-of-00001\n",
            "  adding: model_weights_4_fold2_all.data-00000-of-00001 (deflated 6%)\n",
            "  adding: model_weights_4_fold2_all.index (deflated 75%)\n",
            "model_weights_2_fold3_test.data-00000-of-00001\n",
            "  adding: model_weights_2_fold3_test.data-00000-of-00001 (deflated 6%)\n",
            "  adding: model_weights_2_fold3_test.index (deflated 75%)\n",
            "model_weights_3_fold3_all.data-00000-of-00001\n",
            "  adding: model_weights_3_fold3_all.data-00000-of-00001 (deflated 6%)\n",
            "  adding: model_weights_3_fold3_all.index (deflated 75%)\n",
            "model_weights_6_fold4_test.data-00000-of-00001\n",
            "  adding: model_weights_6_fold4_test.data-00000-of-00001 (deflated 6%)\n",
            "  adding: model_weights_6_fold4_test.index (deflated 75%)\n",
            "model_weights_5_fold4_all.data-00000-of-00001\n",
            "  adding: model_weights_5_fold4_all.data-00000-of-00001 (deflated 6%)\n",
            "  adding: model_weights_5_fold4_all.index (deflated 75%)\n"
          ]
        }
      ],
      "source": [
        "import glob\n",
        "files= glob.glob(\"model_weights_*da*\")\n",
        "files.sort()\n",
        "for fold in range(5):\n",
        "  files_fold=[]\n",
        "  for file in files:\n",
        "    if file.split(\"_\")[3]==\"fold\"+str(fold):\n",
        "      files_fold.append(file)\n",
        "\n",
        "\n",
        "  files_fold.sort()\n",
        "  file_=[e for e in files_fold if \"test\" in e][-1]\n",
        "  print(file_)\n",
        "  !zip drive/MyDrive/{file_.replace('data-00000-of-00001','')+\"_normal01_100\"} {file_} {file_.replace('data-00000-of-00001','index')}\n",
        "  file_=[e for e in files_fold if \"all\" in e][-1]\n",
        "  print(file_)\n",
        "  !zip drive/MyDrive/{file_.replace('data-00000-of-00001','')+\"_normal01_100\"} {file_} {file_.replace('data-00000-of-00001','index')}"
      ]
    }
  ],
  "metadata": {
    "accelerator": "GPU",
    "colab": {
      "gpuType": "T4",
      "machine_shape": "hm",
      "provenance": []
    },
    "kernelspec": {
      "display_name": "Python 3",
      "name": "python3"
    },
    "language_info": {
      "codemirror_mode": {
        "name": "ipython",
        "version": 3
      },
      "file_extension": ".py",
      "mimetype": "text/x-python",
      "name": "python",
      "nbconvert_exporter": "python",
      "pygments_lexer": "ipython3",
      "version": "3.6.4"
    }
  },
  "nbformat": 4,
  "nbformat_minor": 0
}