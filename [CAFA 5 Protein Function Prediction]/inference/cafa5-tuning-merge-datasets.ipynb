{
 "cells": [
  {
   "cell_type": "markdown",
   "id": "14f977b8",
   "metadata": {
    "papermill": {
     "duration": 0.007532,
     "end_time": "2023-08-21T14:26:33.795795",
     "exception": false,
     "start_time": "2023-08-21T14:26:33.788263",
     "status": "completed"
    },
    "tags": []
   },
   "source": [
    "# Combining datasets\n",
    "\n",
    "### Here we work towards a method to combine datasets and outputs predictions\n",
    "\n",
    "#### We will use: SPROF Predictions, ProFun (https://github.com/SamusRam/ProFun) Predictions and QuickGo Annotations"
   ]
  },
  {
   "cell_type": "code",
   "execution_count": 1,
   "id": "e37d1e1a",
   "metadata": {
    "execution": {
     "iopub.execute_input": "2023-08-21T14:26:33.811376Z",
     "iopub.status.busy": "2023-08-21T14:26:33.810759Z",
     "iopub.status.idle": "2023-08-21T14:26:39.556966Z",
     "shell.execute_reply": "2023-08-21T14:26:39.555568Z"
    },
    "papermill": {
     "duration": 5.758345,
     "end_time": "2023-08-21T14:26:39.560446",
     "exception": false,
     "start_time": "2023-08-21T14:26:33.802101",
     "status": "completed"
    },
    "tags": []
   },
   "outputs": [],
   "source": [
    "#Create a dictionary to assign each go term to the roots (CCO, MFO, BPO)\n",
    "\n",
    "import re\n",
    "import numpy as np # linear algebra\n",
    "import pandas as pd # data processing, CSV file I/O (e.g. pd.read_csv)\n",
    "import joblib\n",
    "import pickle\n",
    "import statistics\n",
    "from tqdm import tqdm\n",
    "from Bio import SeqIO\n",
    "import gc\n",
    "\n",
    "def extract_go_terms_and_branches(file_path):\n",
    "    with open(file_path, 'r') as file:\n",
    "        content = file.read()\n",
    "        # Match each stanza with [Term] in the OBO file\n",
    "        stanzas = re.findall(r'\\[Term\\][\\s\\S]*?(?=\\n\\[|$)', content)\n",
    "\n",
    "    go_terms_dict = {}\n",
    "    for stanza in stanzas:\n",
    "        # Extract the GO term ID\n",
    "        go_id = re.search(r'^id: (GO:\\d+)', stanza, re.MULTILINE)\n",
    "        if go_id:\n",
    "            go_id = go_id.group(1)\n",
    "\n",
    "        # Extract the namespace (branch)\n",
    "        namespace = re.search(r'^namespace: (\\w+)', stanza, re.MULTILINE)\n",
    "        if namespace:\n",
    "            namespace = namespace.group(1)\n",
    "\n",
    "        if go_id and namespace:\n",
    "            # Map the branch abbreviation to the corresponding BPO, CCO, or MFO\n",
    "            branch_abbr = {'biological_process': 'BPO', 'cellular_component': 'CCO', 'molecular_function': 'MFO'}\n",
    "            go_terms_dict[go_id] = branch_abbr[namespace]\n",
    "\n",
    "    return go_terms_dict\n",
    "\n",
    "file_path = '/kaggle/input/cafa-5-protein-function-prediction/Train/go-basic.obo'\n",
    "go_terms_dict = extract_go_terms_and_branches(file_path)"
   ]
  },
  {
   "cell_type": "code",
   "execution_count": 2,
   "id": "78a58116",
   "metadata": {
    "execution": {
     "iopub.execute_input": "2023-08-21T14:26:39.575445Z",
     "iopub.status.busy": "2023-08-21T14:26:39.575001Z",
     "iopub.status.idle": "2023-08-21T14:26:39.593401Z",
     "shell.execute_reply": "2023-08-21T14:26:39.592112Z"
    },
    "papermill": {
     "duration": 0.029203,
     "end_time": "2023-08-21T14:26:39.596334",
     "exception": false,
     "start_time": "2023-08-21T14:26:39.567131",
     "status": "completed"
    },
    "tags": []
   },
   "outputs": [],
   "source": [
    "class ProteinPredictions:\n",
    "    # Initialize an empty dictionary to store the predictions\n",
    "    def __init__(self):\n",
    "        self.predictions = {}\n",
    "        self.predictions_n={}\n",
    "\n",
    "    # Add a prediction to the storage, with optional bonus\n",
    "    # Arguments:\n",
    "    #   - protein: Identifier for the protein\n",
    "    #   - go_term: GO term that is being predicted\n",
    "    #   - score: Confidence score of the prediction\n",
    "    #   - branch: Branch of the Gene Ontology (e.g., 'CCO', 'MFO', 'BPO')\n",
    "    #   - bonus: Optional bonus to be added to the score\n",
    "    def add_prediction(self, protein, go_term, score, branch):\n",
    "        # If the protein is not already in the storage, initialize its structure\n",
    "        if protein not in self.predictions:\n",
    "            self.predictions[protein] = {'CCO': {}, 'MFO': {}, 'BPO': {}}  \n",
    "            self.predictions_n[protein] =  {'CCO': {}, 'MFO': {}, 'BPO': {}}  \n",
    "        # Convert the score to a float for comparison and calculation\n",
    "        score = float(score)\n",
    "        # If this GO term has already been predicted for this protein and branch,\n",
    "        # add the bonus to the score. Keep the highest score.\n",
    "        if go_term in self.predictions[protein][branch]:\n",
    "            n= self.predictions_n[protein][branch][go_term]\n",
    "            self.predictions[protein][branch][go_term]=score/(n+1)+       self.predictions[protein][branch][go_term]*n/(n+1)\n",
    "            self.predictions_n[protein][branch][go_term]+=1\n",
    "        # If this GO term has not been predicted yet, store it with the score\n",
    "        else:\n",
    "            self.predictions_n[protein][branch][go_term]=1\n",
    "            self.predictions[protein][branch][go_term] = score\n",
    "            \n",
    "            \n",
    "    def get_predictions(self, output_file='submission.tsv', top=90):\n",
    "        # Open the output file\n",
    "        with open(output_file, 'w') as f:\n",
    "            # Iterate through each protein and its branches\n",
    "            for protein, branches in self.predictions.items():\n",
    "                # For each branch, sort the GO terms by score in descending order and select the top ones\n",
    "                for branch, go_terms in branches.items():\n",
    "                    # Sort go_terms by score in descending order and take the top ones\n",
    "                    top_go_terms = sorted(go_terms.items(), key=lambda x: x[1], reverse=True)[:top]\n",
    "                    # Write each of the top predictions to the file\n",
    "                    for go_term, score in top_go_terms:\n",
    "                        f.write(f\"{protein}\\t{go_term}\\t{score:.3f}\\n\")\n",
    "   \n"
   ]
  },
  {
   "cell_type": "code",
   "execution_count": 3,
   "id": "ccb122fa",
   "metadata": {
    "execution": {
     "iopub.execute_input": "2023-08-21T14:26:39.610636Z",
     "iopub.status.busy": "2023-08-21T14:26:39.610169Z",
     "iopub.status.idle": "2023-08-21T14:26:39.616295Z",
     "shell.execute_reply": "2023-08-21T14:26:39.614639Z"
    },
    "papermill": {
     "duration": 0.016732,
     "end_time": "2023-08-21T14:26:39.619087",
     "exception": false,
     "start_time": "2023-08-21T14:26:39.602355",
     "status": "completed"
    },
    "tags": []
   },
   "outputs": [],
   "source": [
    "protein_predictions = ProteinPredictions()"
   ]
  },
  {
   "cell_type": "code",
   "execution_count": 4,
   "id": "5f87d4f4",
   "metadata": {
    "execution": {
     "iopub.execute_input": "2023-08-21T14:26:39.633169Z",
     "iopub.status.busy": "2023-08-21T14:26:39.632444Z",
     "iopub.status.idle": "2023-08-21T14:26:39.637781Z",
     "shell.execute_reply": "2023-08-21T14:26:39.636930Z"
    },
    "papermill": {
     "duration": 0.015436,
     "end_time": "2023-08-21T14:26:39.640397",
     "exception": false,
     "start_time": "2023-08-21T14:26:39.624961",
     "status": "completed"
    },
    "tags": []
   },
   "outputs": [],
   "source": [
    "no_add =set ()"
   ]
  },
  {
   "cell_type": "code",
   "execution_count": 5,
   "id": "d8c66544",
   "metadata": {
    "execution": {
     "iopub.execute_input": "2023-08-21T14:26:39.654506Z",
     "iopub.status.busy": "2023-08-21T14:26:39.653777Z",
     "iopub.status.idle": "2023-08-21T14:26:49.020406Z",
     "shell.execute_reply": "2023-08-21T14:26:49.018953Z"
    },
    "papermill": {
     "duration": 9.377546,
     "end_time": "2023-08-21T14:26:49.023845",
     "exception": false,
     "start_time": "2023-08-21T14:26:39.646299",
     "status": "completed"
    },
    "tags": []
   },
   "outputs": [
    {
     "name": "stderr",
     "output_type": "stream",
     "text": [
      "1602058it [00:09, 171405.73it/s]\n"
     ]
    }
   ],
   "source": [
    "for l in tqdm(open('/kaggle/input/submisions-last-try/my_quickgo_submission.tsv')):\n",
    "    item_list = l.split('\\t')\n",
    "    temp_id = item_list[0]\n",
    "    go=item_list[1]\n",
    "    score = float(item_list[2].strip())\n",
    "    if go in go_terms_dict:\n",
    "        \n",
    "        root = go_terms_dict[go]\n",
    "        no_add.add( (go,temp_id))\n",
    "        #branch = item_list[3].strip()\n",
    "        protein_predictions.add_prediction(temp_id, go, score, root)"
   ]
  },
  {
   "cell_type": "code",
   "execution_count": 6,
   "id": "44b145d6",
   "metadata": {
    "execution": {
     "iopub.execute_input": "2023-08-21T14:26:49.055063Z",
     "iopub.status.busy": "2023-08-21T14:26:49.054538Z",
     "iopub.status.idle": "2023-08-21T14:29:41.188826Z",
     "shell.execute_reply": "2023-08-21T14:29:41.187252Z"
    },
    "papermill": {
     "duration": 172.154473,
     "end_time": "2023-08-21T14:29:41.192999",
     "exception": false,
     "start_time": "2023-08-21T14:26:49.038526",
     "status": "completed"
    },
    "tags": []
   },
   "outputs": [
    {
     "name": "stderr",
     "output_type": "stream",
     "text": [
      "36765561it [02:52, 213607.81it/s]\n"
     ]
    }
   ],
   "source": [
    "for l in tqdm(open('/kaggle/input/submisions-last-try/preds_ens2_1000/submission.tsv')):\n",
    "    item_list = l.split('\\t')\n",
    "    temp_id = item_list[0]\n",
    "    go=item_list[1]\n",
    "    score = float(item_list[2].strip())\n",
    "    if go in go_terms_dict:\n",
    "        root = go_terms_dict[go]\n",
    "        if (go,temp_id) not in  no_add:\n",
    "            #branch = item_list[3].strip()\n",
    "            protein_predictions.add_prediction(temp_id, go, score, root)"
   ]
  },
  {
   "cell_type": "code",
   "execution_count": 7,
   "id": "772d2fec",
   "metadata": {
    "execution": {
     "iopub.execute_input": "2023-08-21T14:29:41.529550Z",
     "iopub.status.busy": "2023-08-21T14:29:41.528457Z",
     "iopub.status.idle": "2023-08-21T14:33:49.312338Z",
     "shell.execute_reply": "2023-08-21T14:33:49.310608Z"
    },
    "papermill": {
     "duration": 247.95611,
     "end_time": "2023-08-21T14:33:49.316073",
     "exception": false,
     "start_time": "2023-08-21T14:29:41.359963",
     "status": "completed"
    },
    "tags": []
   },
   "outputs": [
    {
     "name": "stderr",
     "output_type": "stream",
     "text": [
      "46652926it [04:07, 188295.84it/s]\n"
     ]
    }
   ],
   "source": [
    "for l in tqdm(open('/kaggle/input/submisions-last-try/preds_ens2_2500/submission.tsv')):\n",
    "    item_list = l.split('\\t')\n",
    "    temp_id = item_list[0]\n",
    "    go=item_list[1]\n",
    "    score = float(item_list[2].strip())\n",
    "    if go in go_terms_dict :\n",
    "        root = go_terms_dict[go]\n",
    "        if (go,temp_id) not in  no_add:\n",
    "            #branch = item_list[3].strip()\n",
    "            protein_predictions.add_prediction(temp_id, go, score, root)"
   ]
  },
  {
   "cell_type": "code",
   "execution_count": 8,
   "id": "272cafe5",
   "metadata": {
    "execution": {
     "iopub.execute_input": "2023-08-21T14:33:50.094425Z",
     "iopub.status.busy": "2023-08-21T14:33:50.093637Z",
     "iopub.status.idle": "2023-08-21T14:38:04.704688Z",
     "shell.execute_reply": "2023-08-21T14:38:04.702877Z"
    },
    "papermill": {
     "duration": 255.004844,
     "end_time": "2023-08-21T14:38:04.709087",
     "exception": false,
     "start_time": "2023-08-21T14:33:49.704243",
     "status": "completed"
    },
    "tags": []
   },
   "outputs": [
    {
     "name": "stderr",
     "output_type": "stream",
     "text": [
      "38303280it [04:14, 150449.73it/s]\n"
     ]
    }
   ],
   "source": [
    "for l in tqdm(open('/kaggle/input/submision-notruncate001/submission_count_no001. tsv')):\n",
    "    item_list = l.split('\\t')\n",
    "    temp_id = item_list[0]\n",
    "    go=item_list[1]\n",
    "    score = float(item_list[2].strip())\n",
    "    if go in go_terms_dict:\n",
    "        root = go_terms_dict[go]\n",
    "        if (go,temp_id) not in  no_add:\n",
    "            #branch = item_list[3].strip()\n",
    "            protein_predictions.add_prediction(temp_id, go, score, root)"
   ]
  },
  {
   "cell_type": "code",
   "execution_count": 9,
   "id": "27a51072",
   "metadata": {
    "execution": {
     "iopub.execute_input": "2023-08-21T14:38:06.011924Z",
     "iopub.status.busy": "2023-08-21T14:38:06.010759Z",
     "iopub.status.idle": "2023-08-21T14:43:17.926849Z",
     "shell.execute_reply": "2023-08-21T14:43:17.925108Z"
    },
    "papermill": {
     "duration": 312.615,
     "end_time": "2023-08-21T14:43:17.930831",
     "exception": false,
     "start_time": "2023-08-21T14:38:05.315831",
     "status": "completed"
    },
    "tags": []
   },
   "outputs": [
    {
     "name": "stderr",
     "output_type": "stream",
     "text": [
      "38303280it [05:11, 122808.76it/s]\n"
     ]
    }
   ],
   "source": [
    "for l in tqdm(open(\"/kaggle/input/submision-notruncate001/submission_importance_v2_no001. tsv\")):\n",
    "    item_list = l.split('\\t')\n",
    "    temp_id = item_list[0]\n",
    "    go=item_list[1]\n",
    "    score = float(item_list[2].strip())\n",
    "    if go in go_terms_dict:\n",
    "        root = go_terms_dict[go]\n",
    "        if (go,temp_id) not in  no_add:\n",
    "            #branch = item_list[3].strip()\n",
    "            protein_predictions.add_prediction(temp_id, go, score, root)"
   ]
  },
  {
   "cell_type": "code",
   "execution_count": 10,
   "id": "c94d5246",
   "metadata": {
    "execution": {
     "iopub.execute_input": "2023-08-21T14:43:19.904150Z",
     "iopub.status.busy": "2023-08-21T14:43:19.903622Z",
     "iopub.status.idle": "2023-08-21T14:47:19.618851Z",
     "shell.execute_reply": "2023-08-21T14:47:19.617794Z"
    },
    "papermill": {
     "duration": 240.769725,
     "end_time": "2023-08-21T14:47:19.622723",
     "exception": false,
     "start_time": "2023-08-21T14:43:18.852998",
     "status": "completed"
    },
    "tags": []
   },
   "outputs": [
    {
     "name": "stderr",
     "output_type": "stream",
     "text": [
      "40589174it [03:59, 169418.73it/s]\n"
     ]
    }
   ],
   "source": [
    "for l in tqdm(open(\"/kaggle/input/submisions-last-try/preds_t5_nomraloss_count/submission.tsv\")):\n",
    "    item_list = l.split('\\t')\n",
    "    temp_id = item_list[0]\n",
    "    go=item_list[1]\n",
    "    score = float(item_list[2].strip())\n",
    "    if go in go_terms_dict:\n",
    "        root = go_terms_dict[go]\n",
    "        if (go,temp_id) not in  no_add:\n",
    "            #branch = item_list[3].strip()\n",
    "            protein_predictions.add_prediction(temp_id, go, score, root)"
   ]
  },
  {
   "cell_type": "code",
   "execution_count": 11,
   "id": "c8631551",
   "metadata": {
    "execution": {
     "iopub.execute_input": "2023-08-21T14:47:21.908421Z",
     "iopub.status.busy": "2023-08-21T14:47:21.907866Z",
     "iopub.status.idle": "2023-08-21T14:51:11.402976Z",
     "shell.execute_reply": "2023-08-21T14:51:11.401478Z"
    },
    "papermill": {
     "duration": 230.588078,
     "end_time": "2023-08-21T14:51:11.406881",
     "exception": false,
     "start_time": "2023-08-21T14:47:20.818803",
     "status": "completed"
    },
    "tags": []
   },
   "outputs": [
    {
     "name": "stderr",
     "output_type": "stream",
     "text": [
      "40986374it [03:49, 178615.09it/s]\n"
     ]
    }
   ],
   "source": [
    "for l in tqdm(open(\"/kaggle/input/submisions-last-try/preds_t5_normaloss_importamce/submission.tsv\")):\n",
    "    item_list = l.split('\\t')\n",
    "    temp_id = item_list[0]\n",
    "    go=item_list[1]\n",
    "    score = float(item_list[2].strip())\n",
    "    if go in go_terms_dict:\n",
    "        root = go_terms_dict[go]\n",
    "        if (go,temp_id) not in  no_add:\n",
    "            #branch = item_list[3].strip()\n",
    "            protein_predictions.add_prediction(temp_id, go, score, root)"
   ]
  },
  {
   "cell_type": "code",
   "execution_count": 12,
   "id": "91256b7d",
   "metadata": {
    "execution": {
     "iopub.execute_input": "2023-08-21T14:51:14.135760Z",
     "iopub.status.busy": "2023-08-21T14:51:14.135276Z",
     "iopub.status.idle": "2023-08-21T14:56:14.937183Z",
     "shell.execute_reply": "2023-08-21T14:56:14.934766Z"
    },
    "papermill": {
     "duration": 302.168338,
     "end_time": "2023-08-21T14:56:14.940457",
     "exception": false,
     "start_time": "2023-08-21T14:51:12.772119",
     "status": "completed"
    },
    "tags": []
   },
   "outputs": [
    {
     "name": "stderr",
     "output_type": "stream",
     "text": [
      "52437240it [05:00, 174337.08it/s]\n"
     ]
    }
   ],
   "source": [
    "for l in tqdm(open(\"/kaggle/input/submisions-last-try/submision_allLabels.csv\")):\n",
    "    item_list = l.split('\\t')\n",
    "    temp_id = item_list[0]\n",
    "    go=item_list[1]\n",
    "    score = float(item_list[2].strip())\n",
    "    if go in go_terms_dict:\n",
    "        root = go_terms_dict[go]\n",
    "        if (go,temp_id) not in  no_add:\n",
    "        #branch = item_list[3].strip()\n",
    "            protein_predictions.add_prediction(temp_id, go, score, root)"
   ]
  },
  {
   "cell_type": "code",
   "execution_count": 13,
   "id": "a5b7a0a7",
   "metadata": {
    "execution": {
     "iopub.execute_input": "2023-08-21T14:56:18.187575Z",
     "iopub.status.busy": "2023-08-21T14:56:18.186123Z",
     "iopub.status.idle": "2023-08-21T14:57:33.377648Z",
     "shell.execute_reply": "2023-08-21T14:57:33.376228Z"
    },
    "papermill": {
     "duration": 76.752918,
     "end_time": "2023-08-21T14:57:33.381399",
     "exception": false,
     "start_time": "2023-08-21T14:56:16.628481",
     "status": "completed"
    },
    "tags": []
   },
   "outputs": [
    {
     "name": "stderr",
     "output_type": "stream",
     "text": [
      "11880399it [01:15, 158057.51it/s]\n"
     ]
    }
   ],
   "source": [
    "for l in tqdm(open(\"/kaggle/input/submisions-last-try/blasp_unique/submision.tsv\")):\n",
    "    item_list = l.split('\\t')\n",
    "    temp_id = item_list[0]\n",
    "    go=item_list[1]\n",
    "    score = float(item_list[2].strip())\n",
    "    if go in go_terms_dict:\n",
    "        root = go_terms_dict[go]\n",
    "        if (go,temp_id) not in  no_add:\n",
    "            #branch = item_list[3].strip()\n",
    "            protein_predictions.add_prediction(temp_id, go, score, root)"
   ]
  },
  {
   "cell_type": "code",
   "execution_count": 14,
   "id": "723d11b4",
   "metadata": {
    "execution": {
     "iopub.execute_input": "2023-08-21T14:57:36.725667Z",
     "iopub.status.busy": "2023-08-21T14:57:36.724957Z",
     "iopub.status.idle": "2023-08-21T14:57:59.585643Z",
     "shell.execute_reply": "2023-08-21T14:57:59.584275Z"
    },
    "papermill": {
     "duration": 24.583428,
     "end_time": "2023-08-21T14:57:59.588247",
     "exception": false,
     "start_time": "2023-08-21T14:57:35.004819",
     "status": "completed"
    },
    "tags": []
   },
   "outputs": [
    {
     "name": "stderr",
     "output_type": "stream",
     "text": [
      "4032720it [00:22, 176524.01it/s]\n"
     ]
    }
   ],
   "source": [
    "for l in tqdm(open(\"/kaggle/input/sprof-predictions/submission.tsv\")):\n",
    "    item_list = l.split('\\t')\n",
    "    temp_id = item_list[0]\n",
    "    go=item_list[1]\n",
    "    score = float(item_list[2].strip())\n",
    "    if go in go_terms_dict:\n",
    "        root = go_terms_dict[go]\n",
    "        if (go,temp_id) not in  no_add:\n",
    "            #branch = item_list[3].strip()\n",
    "            protein_predictions.add_prediction(temp_id, go, score, root)"
   ]
  },
  {
   "cell_type": "code",
   "execution_count": 15,
   "id": "18cca81f",
   "metadata": {
    "execution": {
     "iopub.execute_input": "2023-08-21T14:58:02.918315Z",
     "iopub.status.busy": "2023-08-21T14:58:02.917822Z",
     "iopub.status.idle": "2023-08-21T14:59:20.146955Z",
     "shell.execute_reply": "2023-08-21T14:59:20.145688Z"
    },
    "papermill": {
     "duration": 78.83285,
     "end_time": "2023-08-21T14:59:20.150368",
     "exception": false,
     "start_time": "2023-08-21T14:58:01.317518",
     "status": "completed"
    },
    "tags": []
   },
   "outputs": [],
   "source": [
    "protein_predictions.get_predictions()"
   ]
  },
  {
   "cell_type": "code",
   "execution_count": 16,
   "id": "2c628b55",
   "metadata": {
    "execution": {
     "iopub.execute_input": "2023-08-21T14:59:23.674761Z",
     "iopub.status.busy": "2023-08-21T14:59:23.673597Z",
     "iopub.status.idle": "2023-08-21T14:59:25.593073Z",
     "shell.execute_reply": "2023-08-21T14:59:25.591380Z"
    },
    "papermill": {
     "duration": 3.792954,
     "end_time": "2023-08-21T14:59:25.596966",
     "exception": false,
     "start_time": "2023-08-21T14:59:21.804012",
     "status": "completed"
    },
    "tags": []
   },
   "outputs": [
    {
     "name": "stdout",
     "output_type": "stream",
     "text": [
      "A2AIG8\tGO:0005575\t1.000\r\n",
      "A2AIG8\tGO:0110165\t0.554\r\n",
      "A2AIG8\tGO:0005622\t0.505\r\n",
      "A2AIG8\tGO:0005737\t0.471\r\n",
      "A2AIG8\tGO:0043226\t0.307\r\n",
      "A2AIG8\tGO:0043227\t0.302\r\n",
      "A2AIG8\tGO:0043229\t0.277\r\n",
      "A2AIG8\tGO:0043231\t0.274\r\n",
      "A2AIG8\tGO:0005829\t0.235\r\n",
      "A2AIG8\tGO:0005634\t0.104\r\n",
      "A2AIG8\tGO:0005739\t0.098\r\n",
      "A2AIG8\tGO:0016020\t0.073\r\n",
      "A2AIG8\tGO:0031974\t0.071\r\n",
      "A2AIG8\tGO:0070013\t0.068\r\n",
      "A2AIG8\tGO:0043233\t0.068\r\n",
      "A2AIG8\tGO:0012505\t0.061\r\n",
      "A2AIG8\tGO:0005654\t0.042\r\n",
      "A2AIG8\tGO:0031981\t0.042\r\n",
      "A2AIG8\tGO:0005576\t0.040\r\n",
      "A2AIG8\tGO:0005615\t0.040\r\n",
      "A2AIG8\tGO:0032991\t0.039\r\n",
      "A2AIG8\tGO:0031982\t0.038\r\n",
      "A2AIG8\tGO:0071944\t0.038\r\n",
      "A2AIG8\tGO:0005783\t0.035\r\n",
      "A2AIG8\tGO:0031090\t0.032\r\n",
      "A2AIG8\tGO:0005886\t0.031\r\n",
      "A2AIG8\tGO:0043232\t0.027\r\n",
      "A2AIG8\tGO:0065010\t0.023\r\n",
      "A2AIG8\tGO:0043230\t0.022\r\n",
      "A2AIG8\tGO:0043228\t0.022\r\n",
      "A2AIG8\tGO:0005635\t0.021\r\n",
      "A2AIG8\tGO:0070062\t0.019\r\n",
      "A2AIG8\tGO:1903561\t0.019\r\n",
      "A2AIG8\tGO:0031984\t0.019\r\n",
      "A2AIG8\tGO:0005759\t0.018\r\n",
      "A2AIG8\tGO:0031967\t0.018\r\n",
      "A2AIG8\tGO:0031975\t0.017\r\n",
      "A2AIG8\tGO:0042995\t0.016\r\n",
      "A2AIG8\tGO:0042579\t0.015\r\n",
      "A2AIG8\tGO:0098827\t0.015\r\n",
      "A2AIG8\tGO:0120025\t0.015\r\n",
      "A2AIG8\tGO:0043005\t0.015\r\n",
      "A2AIG8\tGO:0042175\t0.015\r\n",
      "A2AIG8\tGO:0005730\t0.014\r\n",
      "A2AIG8\tGO:0005794\t0.014\r\n",
      "A2AIG8\tGO:0031966\t0.014\r\n",
      "A2AIG8\tGO:0097708\t0.013\r\n",
      "A2AIG8\tGO:0005777\t0.013\r\n",
      "A2AIG8\tGO:0005811\t0.013\r\n",
      "A2AIG8\tGO:0044297\t0.013\r\n",
      "A2AIG8\tGO:0005789\t0.013\r\n",
      "A2AIG8\tGO:0005743\t0.013\r\n",
      "A2AIG8\tGO:0036477\t0.013\r\n",
      "A2AIG8\tGO:0005740\t0.012\r\n",
      "A2AIG8\tGO:0031410\t0.012\r\n",
      "A2AIG8\tGO:0043025\t0.011\r\n",
      "A2AIG8\tGO:0099503\t0.011\r\n",
      "A2AIG8\tGO:0031965\t0.011\r\n",
      "A2AIG8\tGO:0098588\t0.011\r\n",
      "A2AIG8\tGO:0005929\t0.010\r\n",
      "A2AIG8\tGO:0005694\t0.010\r\n",
      "A2AIG8\tGO:0030424\t0.010\r\n",
      "A2AIG8\tGO:1902494\t0.009\r\n",
      "A2AIG8\tGO:0030054\t0.009\r\n",
      "A2AIG8\tGO:1990904\t0.008\r\n",
      "A2AIG8\tGO:0048471\t0.007\r\n",
      "A2AIG8\tGO:0005788\t0.007\r\n",
      "A2AIG8\tGO:0009536\t0.007\r\n",
      "A2AIG8\tGO:0030141\t0.006\r\n",
      "A2AIG8\tGO:0031514\t0.005\r\n",
      "A2AIG8\tGO:0120114\t0.005\r\n",
      "A2AIG8\tGO:0099086\t0.005\r\n",
      "A2AIG8\tGO:0043204\t0.005\r\n",
      "A2AIG8\tGO:0016604\t0.005\r\n",
      "A2AIG8\tGO:0031907\t0.005\r\n",
      "A2AIG8\tGO:0009986\t0.005\r\n",
      "A2AIG8\tGO:0030312\t0.004\r\n",
      "A2AIG8\tGO:0032993\t0.004\r\n",
      "A2AIG8\tGO:0000785\t0.004\r\n",
      "A2AIG8\tGO:0034708\t0.004\r\n",
      "A2AIG8\tGO:0005764\t0.003\r\n",
      "A2AIG8\tGO:0019866\t0.003\r\n",
      "A2AIG8\tGO:0016607\t0.003\r\n",
      "A2AIG8\tGO:0140513\t0.003\r\n",
      "A2AIG8\tGO:0005773\t0.002\r\n",
      "A2AIG8\tGO:0000323\t0.002\r\n",
      "A2AIG8\tGO:0015630\t0.002\r\n",
      "A2AIG8\tGO:0097729\t0.002\r\n",
      "A2AIG8\tGO:0140535\t0.002\r\n",
      "A2AIG8\tGO:0032838\t0.002\r\n",
      "A2AIG8\tGO:0008483\t1.000\r\n",
      "A2AIG8\tGO:0030170\t1.000\r\n",
      "A2AIG8\tGO:0042802\t1.000\r\n",
      "A2AIG8\tGO:0003674\t0.829\r\n",
      "A2AIG8\tGO:0003824\t0.641\r\n",
      "A2AIG8\tGO:0005488\t0.490\r\n",
      "A2AIG8\tGO:0016847\t0.431\r\n",
      "A2AIG8\tGO:0005515\t0.425\r\n",
      "A2AIG8\tGO:0016846\t0.362\r\n",
      "A2AIG8\tGO:0016740\t0.307\r\n",
      "A2AIG8\tGO:0016829\t0.229\r\n",
      "A2AIG8\tGO:0016769\t0.221\r\n",
      "A2AIG8\tGO:0097159\t0.098\r\n",
      "A2AIG8\tGO:0019842\t0.087\r\n",
      "A2AIG8\tGO:1901363\t0.086\r\n",
      "A2AIG8\tGO:0036094\t0.077\r\n",
      "A2AIG8\tGO:0016787\t0.070\r\n",
      "A2AIG8\tGO:0043168\t0.067\r\n",
      "A2AIG8\tGO:0043167\t0.061\r\n",
      "A2AIG8\tGO:0070279\t0.061\r\n",
      "A2AIG8\tGO:0046983\t0.056\r\n",
      "A2AIG8\tGO:0042803\t0.054\r\n",
      "A2AIG8\tGO:0016594\t0.053\r\n",
      "A2AIG8\tGO:0004838\t0.048\r\n",
      "A2AIG8\tGO:0016810\t0.046\r\n",
      "A2AIG8\tGO:0016798\t0.042\r\n",
      "A2AIG8\tGO:0004553\t0.040\r\n",
      "A2AIG8\tGO:0016616\t0.040\r\n",
      "A2AIG8\tGO:0070547\t0.037\r\n",
      "A2AIG8\tGO:0016597\t0.032\r\n",
      "A2AIG8\tGO:0016614\t0.032\r\n",
      "A2AIG8\tGO:0016788\t0.032\r\n",
      "A2AIG8\tGO:0016741\t0.030\r\n",
      "A2AIG8\tGO:0140096\t0.030\r\n",
      "A2AIG8\tGO:0000166\t0.028\r\n",
      "A2AIG8\tGO:0031406\t0.026\r\n",
      "A2AIG8\tGO:0004121\t0.025\r\n",
      "A2AIG8\tGO:0016874\t0.025\r\n",
      "A2AIG8\tGO:0003676\t0.023\r\n",
      "A2AIG8\tGO:0043177\t0.023\r\n",
      "A2AIG8\tGO:0016782\t0.023\r\n",
      "A2AIG8\tGO:0070548\t0.022\r\n",
      "A2AIG8\tGO:0016491\t0.021\r\n",
      "A2AIG8\tGO:0030554\t0.021\r\n",
      "A2AIG8\tGO:0004645\t0.021\r\n",
      "A2AIG8\tGO:0008732\t0.021\r\n",
      "A2AIG8\tGO:0016758\t0.018\r\n",
      "A2AIG8\tGO:0043169\t0.018\r\n",
      "A2AIG8\tGO:0098772\t0.018\r\n",
      "A2AIG8\tGO:0017076\t0.018\r\n",
      "A2AIG8\tGO:0016746\t0.018\r\n",
      "A2AIG8\tGO:0016803\t0.017\r\n",
      "A2AIG8\tGO:0016830\t0.016\r\n",
      "A2AIG8\tGO:0038023\t0.015\r\n",
      "A2AIG8\tGO:0019899\t0.015\r\n",
      "A2AIG8\tGO:0016765\t0.015\r\n",
      "A2AIG8\tGO:0008289\t0.015\r\n",
      "A2AIG8\tGO:0030234\t0.015\r\n",
      "A2AIG8\tGO:0008793\t0.015\r\n",
      "A2AIG8\tGO:0060089\t0.015\r\n",
      "A2AIG8\tGO:0000287\t0.015\r\n",
      "A2AIG8\tGO:0016747\t0.014\r\n",
      "A2AIG8\tGO:0047804\t0.014\r\n",
      "A2AIG8\tGO:0016757\t0.014\r\n",
      "A2AIG8\tGO:0036137\t0.014\r\n",
      "A2AIG8\tGO:0004497\t0.013\r\n",
      "A2AIG8\tGO:0140657\t0.013\r\n",
      "A2AIG8\tGO:0097367\t0.013\r\n",
      "A2AIG8\tGO:0005215\t0.013\r\n",
      "A2AIG8\tGO:0016705\t0.013\r\n",
      "A2AIG8\tGO:1901265\t0.013\r\n",
      "A2AIG8\tGO:0046872\t0.012\r\n",
      "A2AIG8\tGO:0047635\t0.012\r\n",
      "A2AIG8\tGO:0003677\t0.012\r\n",
      "A2AIG8\tGO:0051213\t0.012\r\n",
      "A2AIG8\tGO:0005319\t0.012\r\n",
      "A2AIG8\tGO:0080146\t0.012\r\n",
      "A2AIG8\tGO:0008168\t0.011\r\n",
      "A2AIG8\tGO:0008757\t0.011\r\n",
      "A2AIG8\tGO:0016801\t0.011\r\n",
      "A2AIG8\tGO:0005102\t0.011\r\n",
      "A2AIG8\tGO:0140677\t0.011\r\n",
      "A2AIG8\tGO:0140678\t0.011\r\n",
      "A2AIG8\tGO:0140110\t0.011\r\n",
      "A2AIG8\tGO:0016783\t0.010\r\n",
      "A2AIG8\tGO:0032553\t0.010\r\n",
      "A2AIG8\tGO:0003723\t0.010\r\n",
      "A2AIG8\tGO:0016835\t0.010\r\n",
      "A2AIG8\tGO:0004021\t0.010\r\n",
      "A2AIG8\tGO:0061629\t0.010\r\n",
      "A2AIG8\tGO:0006520\t1.000\r\n",
      "A2AIG8\tGO:0009058\t1.000\r\n",
      "A2AIG8\tGO:0120251\t0.800\r\n",
      "A2AIG8\tGO:1900673\t0.800\r\n",
      "A2AIG8\tGO:0008150\t0.756\r\n",
      "A2AIG8\tGO:0009987\t0.603\r\n",
      "A2AIG8\tGO:0008152\t0.603\r\n",
      "A2AIG8\tGO:0071704\t0.588\r\n",
      "A2AIG8\tGO:0044237\t0.516\r\n",
      "A2AIG8\tGO:0120255\t0.435\r\n",
      "A2AIG8\tGO:0009692\t0.410\r\n",
      "A2AIG8\tGO:0043449\t0.408\r\n",
      "A2AIG8\tGO:0051301\t0.400\r\n",
      "A2AIG8\tGO:0010087\t0.400\r\n",
      "A2AIG8\tGO:0044238\t0.388\r\n",
      "A2AIG8\tGO:1901564\t0.378\r\n",
      "A2AIG8\tGO:0006807\t0.376\r\n",
      "A2AIG8\tGO:1901576\t0.369\r\n",
      "A2AIG8\tGO:0044249\t0.355\r\n",
      "A2AIG8\tGO:0044281\t0.352\r\n"
     ]
    }
   ],
   "source": [
    "!head -n 200 'submission.tsv'"
   ]
  },
  {
   "cell_type": "code",
   "execution_count": null,
   "id": "053ce921",
   "metadata": {
    "papermill": {
     "duration": 1.609418,
     "end_time": "2023-08-21T14:59:28.842522",
     "exception": false,
     "start_time": "2023-08-21T14:59:27.233104",
     "status": "completed"
    },
    "tags": []
   },
   "outputs": [],
   "source": []
  }
 ],
 "metadata": {
  "kernelspec": {
   "display_name": "Python 3",
   "language": "python",
   "name": "python3"
  },
  "language_info": {
   "codemirror_mode": {
    "name": "ipython",
    "version": 3
   },
   "file_extension": ".py",
   "mimetype": "text/x-python",
   "name": "python",
   "nbconvert_exporter": "python",
   "pygments_lexer": "ipython3",
   "version": "3.7.12"
  },
  "papermill": {
   "default_parameters": {},
   "duration": 1993.71666,
   "end_time": "2023-08-21T14:59:34.306483",
   "environment_variables": {},
   "exception": null,
   "input_path": "__notebook__.ipynb",
   "output_path": "__notebook__.ipynb",
   "parameters": {},
   "start_time": "2023-08-21T14:26:20.589823",
   "version": "2.4.0"
  }
 },
 "nbformat": 4,
 "nbformat_minor": 5
}
