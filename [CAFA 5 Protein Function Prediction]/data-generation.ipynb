{
 "cells": [
  {
   "attachments": {},
   "cell_type": "markdown",
   "metadata": {},
   "source": [
    "# CAFA 5 Competition : Protein Function Prediction"
   ]
  },
  {
   "cell_type": "code",
   "execution_count": 1,
   "metadata": {},
   "outputs": [
    {
     "name": "stdout",
     "output_type": "stream",
     "text": [
      "1.5.3\n",
      "WARNING:tensorflow:From C:\\Users\\manue\\AppData\\Local\\Temp\\ipykernel_16768\\3702257818.py:15: is_gpu_available (from tensorflow.python.framework.test_util) is deprecated and will be removed in a future version.\n",
      "Instructions for updating:\n",
      "Use `tf.config.list_physical_devices('GPU')` instead.\n",
      "TensorFlow is using GPU\n"
     ]
    }
   ],
   "source": [
    "import pandas as pd\n",
    "print(pd.__version__)\n",
    "import numpy as np\n",
    "\n",
    "# UTILITARIES\n",
    "import numpy as np\n",
    "from tqdm import tqdm\n",
    "import time\n",
    "import matplotlib.pyplot as plt\n",
    "plt.style.use('ggplot')\n",
    "import tensorflow as tf\n",
    "import os\n",
    "\n",
    "# Check if GPU is available and TensorFlow is using it\n",
    "if tf.test.is_gpu_available():\n",
    "    print('TensorFlow is using GPU')\n",
    "else:\n",
    "    print('TensorFlow is not using GPU')"
   ]
  },
  {
   "cell_type": "code",
   "execution_count": 2,
   "metadata": {
    "execution": {
     "iopub.execute_input": "2023-07-05T21:10:19.596900Z",
     "iopub.status.busy": "2023-07-05T21:10:19.596522Z",
     "iopub.status.idle": "2023-07-05T21:10:19.605969Z",
     "shell.execute_reply": "2023-07-05T21:10:19.604400Z",
     "shell.execute_reply.started": "2023-07-05T21:10:19.596872Z"
    },
    "trusted": true
   },
   "outputs": [
    {
     "data": {
      "text/plain": [
       "True"
      ]
     },
     "execution_count": 2,
     "metadata": {},
     "output_type": "execute_result"
    }
   ],
   "source": [
    "\n",
    "env_=\"local\"\n",
    "PATH = \"/kaggle/input/\"\n",
    "PATH=\"../data/\"\n",
    "if env_==\"COLAB_INIT\":\n",
    "  from google.colab import drive\n",
    "  drive.mount('/content/drive')\n",
    "  ! pip install kaggle\n",
    "  ! mkdir ~/.kaggle\n",
    "  os.getcwd()\n",
    "  ! pip install Bio\n",
    "\n",
    "\n",
    "MAIN_DIR = f\"{PATH}cafa-5-protein-function-prediction\"\n",
    "\n",
    "class config:\n",
    "    train_sequences_path = MAIN_DIR  + \"/Train/train_sequences.fasta\"\n",
    "    train_labels_path = MAIN_DIR + \"/Train/train_terms.tsv\"\n",
    "    test_sequences_path = MAIN_DIR + \"/Test (Targets)/testsuperset.fasta\"\n",
    "    \n",
    "    num_labels = 1500\n",
    "    n_epochs = 5\n",
    "    batch_size = 128\n",
    "    lr = 0.001\n",
    "\n",
    "    env = env_\n",
    "\n",
    "    \n",
    "TRAIN = True\n",
    "embeddings_source=\"T5\"\n",
    "\n",
    "PATH_DATAFRAMES=\"../data/data_train\"\n",
    "if env_==\"kaggle\":\n",
    "    PATH_DATAFRAMES=\"/kaggle/input/dataframes-train-cafa/data_train\"\n",
    "BUILD_DATAFRAMES= True\n",
    "if os.path.isfile( os.path.join(PATH_DATAFRAMES,f\"X_train_{embeddings_source}_{config.num_labels}.npy\")):\n",
    "    BUILD_DATAFRAMES = False\n",
    "BUILD_DATAFRAMES"
   ]
  },
  {
   "cell_type": "code",
   "execution_count": 3,
   "metadata": {
    "execution": {
     "iopub.execute_input": "2023-07-05T21:09:01.756024Z",
     "iopub.status.busy": "2023-07-05T21:09:01.755646Z",
     "iopub.status.idle": "2023-07-05T21:09:01.772992Z",
     "shell.execute_reply": "2023-07-05T21:09:01.771415Z",
     "shell.execute_reply.started": "2023-07-05T21:09:01.755989Z"
    },
    "trusted": true
   },
   "outputs": [],
   "source": [
    "if env_==\"COLAB_INIT\":\n",
    "  ! cp kaggle.json ~/.kaggle/\n",
    "  ! chmod 600 ~/.kaggle/kaggle.json\n",
    "\n",
    "if env_==\"COLAB_INIT\" and not os.path.isdir(\"cafa-5-protein-function-prediction\"):\n",
    "  ! kaggle competitions download cafa-5-protein-function-prediction\n",
    "\n",
    "  ! unzip cafa-5-protein-function-prediction.zip -d cafa-5-protein-function-prediction\n",
    "\n",
    "  ! kaggle datasets download train-targets-top\n",
    "\n",
    "  ! unzip train-targets-top.zip -d train-targets-top\n",
    "  \n",
    "  ! kaggle datasets download my-t5embeds\n",
    "\n",
    "  ! unzip my-t5embeds.zip -d my-t5embeds\n",
    "  \n",
    "  ! kaggle datasets download dataframes-train-cafa\n",
    "\n",
    "  ! unzip dataframes-train-cafa.zip -d dataframes-train-cafa"
   ]
  },
  {
   "cell_type": "code",
   "execution_count": 4,
   "metadata": {
    "execution": {
     "iopub.execute_input": "2023-07-05T21:09:01.775219Z",
     "iopub.status.busy": "2023-07-05T21:09:01.774739Z",
     "iopub.status.idle": "2023-07-05T21:09:01.907823Z",
     "shell.execute_reply": "2023-07-05T21:09:01.906805Z",
     "shell.execute_reply.started": "2023-07-05T21:09:01.775163Z"
    },
    "trusted": true
   },
   "outputs": [
    {
     "data": {
      "text/html": [
       "<div>\n",
       "<style scoped>\n",
       "    .dataframe tbody tr th:only-of-type {\n",
       "        vertical-align: middle;\n",
       "    }\n",
       "\n",
       "    .dataframe tbody tr th {\n",
       "        vertical-align: top;\n",
       "    }\n",
       "\n",
       "    .dataframe thead th {\n",
       "        text-align: right;\n",
       "    }\n",
       "</style>\n",
       "<table border=\"1\" class=\"dataframe\">\n",
       "  <thead>\n",
       "    <tr style=\"text-align: right;\">\n",
       "      <th></th>\n",
       "      <th>The Protein ID</th>\n",
       "      <th>The Gene Ontology term (GO) ID</th>\n",
       "      <th>Predicted link probability that GO appear in Protein</th>\n",
       "    </tr>\n",
       "  </thead>\n",
       "  <tbody>\n",
       "    <tr>\n",
       "      <th>0</th>\n",
       "      <td>A0A0A0MRZ7</td>\n",
       "      <td>GO:0000001</td>\n",
       "      <td>0.123</td>\n",
       "    </tr>\n",
       "    <tr>\n",
       "      <th>1</th>\n",
       "      <td>A0A0A0MRZ7</td>\n",
       "      <td>GO:0000002</td>\n",
       "      <td>0.123</td>\n",
       "    </tr>\n",
       "    <tr>\n",
       "      <th>2</th>\n",
       "      <td>A0A0A0MRZ8</td>\n",
       "      <td>GO:0000001</td>\n",
       "      <td>0.123</td>\n",
       "    </tr>\n",
       "    <tr>\n",
       "      <th>3</th>\n",
       "      <td>A0A0A0MRZ8</td>\n",
       "      <td>GO:0000002</td>\n",
       "      <td>0.123</td>\n",
       "    </tr>\n",
       "    <tr>\n",
       "      <th>4</th>\n",
       "      <td>A0A0A0MRZ9</td>\n",
       "      <td>GO:0000001</td>\n",
       "      <td>0.123</td>\n",
       "    </tr>\n",
       "  </tbody>\n",
       "</table>\n",
       "</div>"
      ],
      "text/plain": [
       "  The Protein ID The Gene Ontology term (GO) ID  \\\n",
       "0     A0A0A0MRZ7                     GO:0000001   \n",
       "1     A0A0A0MRZ7                     GO:0000002   \n",
       "2     A0A0A0MRZ8                     GO:0000001   \n",
       "3     A0A0A0MRZ8                     GO:0000002   \n",
       "4     A0A0A0MRZ9                     GO:0000001   \n",
       "\n",
       "   Predicted link probability that GO appear in Protein  \n",
       "0                                              0.123     \n",
       "1                                              0.123     \n",
       "2                                              0.123     \n",
       "3                                              0.123     \n",
       "4                                              0.123     "
      ]
     },
     "execution_count": 4,
     "metadata": {},
     "output_type": "execute_result"
    }
   ],
   "source": [
    "import pandas as pd\n",
    "\n",
    "sub = pd.read_csv(f\"{PATH}cafa-5-protein-function-prediction/sample_submission.tsv\", sep= \"\\t\", header = None)\n",
    "sub.columns = [\"The Protein ID\", \"The Gene Ontology term (GO) ID\", \"Predicted link probability that GO appear in Protein\"]\n",
    "sub.head(5)"
   ]
  },
  {
   "cell_type": "code",
   "execution_count": 5,
   "metadata": {
    "execution": {
     "iopub.execute_input": "2023-07-05T21:09:02.010893Z",
     "iopub.status.busy": "2023-07-05T21:09:02.010589Z",
     "iopub.status.idle": "2023-07-05T21:09:07.010383Z",
     "shell.execute_reply": "2023-07-05T21:09:07.009293Z",
     "shell.execute_reply.started": "2023-07-05T21:09:02.010867Z"
    },
    "trusted": true
   },
   "outputs": [
    {
     "name": "stdout",
     "output_type": "stream",
     "text": [
      "Loading train set ProtBERT Embeddings...\n",
      "Total Nb of Elements :  142246\n",
      "Total Nb of Elements :  141865\n"
     ]
    }
   ],
   "source": [
    "from Bio import SeqIO\n",
    "print(\"Loading train set ProtBERT Embeddings...\")\n",
    "fasta_train = list(SeqIO.parse(config.train_sequences_path, \"fasta\"))\n",
    "print(\"Total Nb of Elements : \", len(list(fasta_train)))\n",
    "fasta_test= list(SeqIO.parse(config.test_sequences_path, \"fasta\"))\n",
    "print(\"Total Nb of Elements : \", len(list(fasta_test)))"
   ]
  },
  {
   "cell_type": "code",
   "execution_count": 6,
   "metadata": {},
   "outputs": [
    {
     "name": "stderr",
     "output_type": "stream",
     "text": [
      "100%|██████████| 142246/142246 [00:00<00:00, 587516.46it/s]\n"
     ]
    }
   ],
   "source": [
    "seq_train=[]\n",
    "ids=[]\n",
    "for seq in tqdm(fasta_train ,total=len(fasta_train )):\n",
    "    seq_train.append( str(seq.seq))\n",
    "    ids.append(seq.id)\n"
   ]
  },
  {
   "cell_type": "code",
   "execution_count": 7,
   "metadata": {},
   "outputs": [
    {
     "data": {
      "text/plain": [
       "142246"
      ]
     },
     "execution_count": 7,
     "metadata": {},
     "output_type": "execute_result"
    }
   ],
   "source": [
    "len(seq_train)"
   ]
  },
  {
   "cell_type": "code",
   "execution_count": 8,
   "metadata": {},
   "outputs": [
    {
     "name": "stderr",
     "output_type": "stream",
     "text": [
      "100%|██████████| 141865/141865 [00:00<00:00, 527377.21it/s]\n"
     ]
    }
   ],
   "source": [
    "seq_test=[]\n",
    "ids_test=[]\n",
    "for seq in tqdm(fasta_test ,total=len(fasta_test )):\n",
    "    seq_test.append( str(seq.seq))\n",
    "    ids_test.append(seq.id)\n"
   ]
  },
  {
   "cell_type": "code",
   "execution_count": 9,
   "metadata": {},
   "outputs": [
    {
     "data": {
      "text/plain": [
       "('A0A8I6GHU0', 'A0A3G2FQK2')"
      ]
     },
     "execution_count": 9,
     "metadata": {},
     "output_type": "execute_result"
    }
   ],
   "source": [
    "ids[-1],ids_test[-1]"
   ]
  },
  {
   "cell_type": "code",
   "execution_count": 10,
   "metadata": {},
   "outputs": [
    {
     "data": {
      "text/plain": [
       "(142246, 141865)"
      ]
     },
     "execution_count": 10,
     "metadata": {},
     "output_type": "execute_result"
    }
   ],
   "source": [
    "len(ids),len(ids_test)\n"
   ]
  },
  {
   "cell_type": "code",
   "execution_count": 11,
   "metadata": {},
   "outputs": [],
   "source": [
    "SAVE_SEQUENCES_UNIQUE=False\n",
    "if SAVE_SEQUENCES_UNIQUE:\n",
    "    seq_train_unique=[]\n",
    "    indices_unique=[]\n",
    "    for i,element in tqdm(enumerate(seq_train),total=len(seq_train)):\n",
    "        if element not in seq_train_unique:\n",
    "            seq_train_unique.append(element)\n",
    "            indices_unique.append(i)\n",
    "    np.save(\"../data/proteins/indices_unique_train.npy\",np.array(indices_unique))\n",
    "\n",
    "   "
   ]
  },
  {
   "cell_type": "code",
   "execution_count": 12,
   "metadata": {},
   "outputs": [],
   "source": [
    "ids=[seq.id for seq in fasta_train]"
   ]
  },
  {
   "cell_type": "code",
   "execution_count": 13,
   "metadata": {},
   "outputs": [],
   "source": [
    "ids_test=[seq.id for seq in fasta_test]"
   ]
  },
  {
   "cell_type": "code",
   "execution_count": 14,
   "metadata": {},
   "outputs": [
    {
     "data": {
      "text/plain": [
       "73653"
      ]
     },
     "execution_count": 14,
     "metadata": {},
     "output_type": "execute_result"
    }
   ],
   "source": [
    "len(set(ids_test).intersection(set(ids)))\n"
   ]
  },
  {
   "cell_type": "code",
   "execution_count": 15,
   "metadata": {},
   "outputs": [
    {
     "data": {
      "text/plain": [
       "141865"
      ]
     },
     "execution_count": 15,
     "metadata": {},
     "output_type": "execute_result"
    }
   ],
   "source": [
    "len(ids_test)"
   ]
  },
  {
   "cell_type": "code",
   "execution_count": 16,
   "metadata": {},
   "outputs": [],
   "source": [
    "indices_unique=np.load(\"../data/proteins/indices_unique_train.npy\")"
   ]
  },
  {
   "cell_type": "code",
   "execution_count": 17,
   "metadata": {},
   "outputs": [],
   "source": [
    "ids_unique=[id for i,id in enumerate(ids) if i in indices_unique]"
   ]
  },
  {
   "cell_type": "code",
   "execution_count": 18,
   "metadata": {},
   "outputs": [
    {
     "data": {
      "text/plain": [
       "(142246, 138924)"
      ]
     },
     "execution_count": 18,
     "metadata": {},
     "output_type": "execute_result"
    }
   ],
   "source": [
    "len(ids),len(indices_unique)"
   ]
  },
  {
   "attachments": {},
   "cell_type": "markdown",
   "metadata": {},
   "source": [
    "### BUILD STRATIFY TRAIN AND TEST DATAFRAMES"
   ]
  },
  {
   "attachments": {},
   "cell_type": "markdown",
   "metadata": {},
   "source": [
    "### Annalyze train sequences"
   ]
  },
  {
   "cell_type": "code",
   "execution_count": 19,
   "metadata": {},
   "outputs": [],
   "source": [
    "# Directories for the different embedding vectors : \n",
    "embeds_map = {\n",
    "    \"T5\" : \"my-t5embeds\",\n",
    "    \"ProtBERT\" : \"protbert-embeddings-for-cafa5\",\n",
    "    \"EMS2\" : \"cafa-5-ems-2-embeddings-numpy\"\n",
    "}\n",
    "\n",
    "# Length of the different embedding vectors :\n",
    "embeds_dim = {\n",
    "    \"T5\" : 1024,\n",
    "    \"ProtBERT\" : 1024,\n",
    "    \"EMS2\" : 1280\n",
    "}\n",
    "\n",
    "def get_dataset( datatype, embeddings_source):\n",
    "        if embeddings_source in [\"ProtBERT\", \"EMS2\"]:\n",
    "            embeds = np.load(f\"{PATH}\" + embeds_map[embeddings_source] + \"/\" + datatype + \"_embeddings.npy\")\n",
    "            ids = np.load(f\"{PATH}\" + embeds_map[embeddings_source] + \"/\" + datatype + \"_ids.npy\")\n",
    "        \n",
    "        if embeddings_source == \"T5\":\n",
    "            embeds = np.load(f\"{PATH}\"  + embeds_map[embeddings_source] + \"/\" + datatype + \"_embeds.npy\")\n",
    "            ids = np.load(f\"{PATH}\"  + embeds_map[embeddings_source] + \"/\" + datatype + \"_ids.npy\")\n",
    "            \n",
    "        return embeds,ids\n"
   ]
  },
  {
   "cell_type": "code",
   "execution_count": 20,
   "metadata": {},
   "outputs": [],
   "source": [
    "embeds={}\n",
    "for su in [\"T5\", \"EMS2\",\"ProtBERT\" ]:\n",
    "    embeds[su]={}\n",
    "    embeds_,ids=get_dataset( \"train\", su)\n",
    "    embeds[su][\"ids\"]=ids \n",
    "    embeds[su][\"sequences\"]=embeds_\n"
   ]
  },
  {
   "cell_type": "code",
   "execution_count": 21,
   "metadata": {},
   "outputs": [
    {
     "name": "stdout",
     "output_type": "stream",
     "text": [
      "['P20536' 'O73864' 'O95231' 'A0A0B4J1F4' 'P54366']\n",
      "[0, 1, 2, 3, 4]\n",
      "['P20536', 'O73864', 'O95231', 'A0A0B4J1F4', 'P54366']\n",
      "138924\n",
      "['P20536' 'O73864' 'O95231' 'A0A0B4J1F4' 'P54366']\n",
      "[0, 1, 2, 3, 4]\n",
      "['P20536', 'O73864', 'O95231', 'A0A0B4J1F4', 'P54366']\n",
      "138924\n",
      "['Q9ZSA8' 'P25353' 'A0A2R8YCW8' 'G3V5N8' 'A0A140LFN4']\n",
      "[94986, 67183, 94495, 41576, 4859]\n",
      "['P20536', 'O73864', 'O95231', 'A0A0B4J1F4', 'P54366']\n",
      "138924\n"
     ]
    }
   ],
   "source": [
    "embeds_f={}\n",
    "for su in [\"T5\",\"ProtBERT\", \"EMS2\" ]:\n",
    "    ids_=embeds[su][\"ids\"]\n",
    "    print(ids_[:5])\n",
    "    dic={id_:e for e,id_ in enumerate(ids_)}\n",
    "    indices=[dic[id_] for id_ in ids_unique]\n",
    "    print(indices[:5])\n",
    "    print(ids_unique[:5])\n",
    "    embeds_f[su]={}\n",
    "    embeds_f[su][\"ids\"]=[embeds[su][\"ids\"][i] for i in indices]\n",
    "    embeds_f[su][\"sequences\"]=[embeds[su][\"sequences\"][i] for i in indices]\n",
    "    print(len(embeds_f[su][\"sequences\"]))\n",
    "    #np.save(\"../data/proteins/ids.npy\",embeds_f[su][\"ids\"])\n",
    "    #np.save(f\"../data/proteins/embeds_{su}.npy\",embeds_f[su][\"sequences\"])\n"
   ]
  },
  {
   "cell_type": "code",
   "execution_count": 22,
   "metadata": {},
   "outputs": [
    {
     "data": {
      "text/html": [
       "<div>\n",
       "<style scoped>\n",
       "    .dataframe tbody tr th:only-of-type {\n",
       "        vertical-align: middle;\n",
       "    }\n",
       "\n",
       "    .dataframe tbody tr th {\n",
       "        vertical-align: top;\n",
       "    }\n",
       "\n",
       "    .dataframe thead th {\n",
       "        text-align: right;\n",
       "    }\n",
       "</style>\n",
       "<table border=\"1\" class=\"dataframe\">\n",
       "  <thead>\n",
       "    <tr style=\"text-align: right;\">\n",
       "      <th></th>\n",
       "      <th>EntryID</th>\n",
       "      <th>term</th>\n",
       "      <th>aspect</th>\n",
       "      <th>weight</th>\n",
       "      <th>top</th>\n",
       "    </tr>\n",
       "  </thead>\n",
       "  <tbody>\n",
       "    <tr>\n",
       "      <th>3939559</th>\n",
       "      <td>Q9T1W1</td>\n",
       "      <td>GO:0005575</td>\n",
       "      <td>CCO</td>\n",
       "      <td>0.000000</td>\n",
       "      <td>True</td>\n",
       "    </tr>\n",
       "    <tr>\n",
       "      <th>4645494</th>\n",
       "      <td>Q9T1W1</td>\n",
       "      <td>GO:0019028</td>\n",
       "      <td>CCO</td>\n",
       "      <td>1.276654</td>\n",
       "      <td>False</td>\n",
       "    </tr>\n",
       "    <tr>\n",
       "      <th>4645783</th>\n",
       "      <td>Q9T1W1</td>\n",
       "      <td>GO:0044423</td>\n",
       "      <td>CCO</td>\n",
       "      <td>8.284424</td>\n",
       "      <td>False</td>\n",
       "    </tr>\n",
       "    <tr>\n",
       "      <th>4679946</th>\n",
       "      <td>Q9T1W1</td>\n",
       "      <td>GO:0046727</td>\n",
       "      <td>CCO</td>\n",
       "      <td>4.357552</td>\n",
       "      <td>False</td>\n",
       "    </tr>\n",
       "    <tr>\n",
       "      <th>4679949</th>\n",
       "      <td>Q9T1W1</td>\n",
       "      <td>GO:0098017</td>\n",
       "      <td>CCO</td>\n",
       "      <td>0.584963</td>\n",
       "      <td>False</td>\n",
       "    </tr>\n",
       "  </tbody>\n",
       "</table>\n",
       "</div>"
      ],
      "text/plain": [
       "        EntryID        term aspect    weight    top\n",
       "3939559  Q9T1W1  GO:0005575    CCO  0.000000   True\n",
       "4645494  Q9T1W1  GO:0019028    CCO  1.276654  False\n",
       "4645783  Q9T1W1  GO:0044423    CCO  8.284424  False\n",
       "4679946  Q9T1W1  GO:0046727    CCO  4.357552  False\n",
       "4679949  Q9T1W1  GO:0098017    CCO  0.584963  False"
      ]
     },
     "execution_count": 22,
     "metadata": {},
     "output_type": "execute_result"
    }
   ],
   "source": [
    "labels = pd.read_csv(config.train_labels_path, sep = \"\\t\")\n",
    "NUM_LABELS = 1500\n",
    "top_terms = labels.groupby(\"term\")[\"EntryID\"].count().sort_values(ascending=False)\n",
    "labels_names = top_terms[:NUM_LABELS].index.values\n",
    "labels_names \n",
    "\n",
    "weights=pd.read_csv(f\"{PATH}cafa-5-protein-function-prediction/IA.txt\",sep=\"\\t\",header=None,index_col=0).rename(columns={1:\"weight\"})\n",
    "labels=pd.merge(labels, weights.reset_index(names=\"term\"), on =\"term\")\n",
    "labels[\"top\"]=labels.term.isin(labels_names)\n",
    "labels.loc[labels.EntryID== 'Q9T1W1']"
   ]
  },
  {
   "cell_type": "code",
   "execution_count": 23,
   "metadata": {},
   "outputs": [],
   "source": [
    "NUM_LABELS = 3000"
   ]
  },
  {
   "cell_type": "code",
   "execution_count": null,
   "metadata": {},
   "outputs": [],
   "source": [
    "\n",
    "print(\"GENERATE TARGETS FOR ENTRY IDS (\"+str(NUM_LABELS)+\" MOST COMMON GO TERMS)\")\n",
    "ids = ids_unique\n",
    "labels = pd.read_csv(config.train_labels_path, sep = \"\\t\")\n",
    "print(labels.shape)\n",
    "weights=pd.read_csv(f\"{PATH}cafa-5-protein-function-prediction/IA.txt\",sep=\"\\t\",header=None,index_col=0).rename(columns={1:\"weight\"})\n",
    "labels=pd.merge(labels, weights.reset_index(names=\"term\"), on =\"term\")\n",
    "labels=labels.loc[labels.weight>0]\n",
    "print(labels.shape)\n",
    "print(f\"Config labels {NUM_LABELS}\")\n",
    "top_terms = labels.groupby(\"term\")[\"EntryID\"].count().sort_values(ascending=False)\n",
    "labels_names = top_terms[:NUM_LABELS].index.values\n",
    "train_labels_sub = labels[(labels.term.isin(labels_names)) & (labels.EntryID.isin(ids))]\n",
    "id_labels = train_labels_sub.groupby('EntryID')['term'].apply(list).to_dict()\n",
    "\n",
    "go_terms_map = {label: i for i, label in enumerate(labels_names)}\n",
    "labels_matrix = np.empty((len(ids), len(labels_names)))\n",
    "\n",
    "for index, id in tqdm(enumerate(ids)):\n",
    "    if id in id_labels:\n",
    "        id_gos_list = id_labels[id]\n",
    "        temp = [go_terms_map[go] for go in labels_names if go in id_gos_list]\n",
    "        labels_matrix[index, temp] = 1\n",
    "    else:\n",
    "         labels_matrix[index,:] = 0\n",
    "\n",
    "\n",
    "    \n",
    "labels_df=pd.DataFrame(labels_matrix,columns=labels_names,index=ids)\n",
    "\n",
    "labels_df.to_pickle(f\"../data/data_train/labels_{NUM_LABELS}.pkl\" )\n",
    "#np.save(\"/kaggle/working/train_targets_top\"+str(config.num_labels)+\".npy\", np.array(labels_matrix))\n",
    "print(\"GENERATION FINISHED!\")"
   ]
  },
  {
   "cell_type": "code",
   "execution_count": 2,
   "metadata": {},
   "outputs": [],
   "source": [
    "import pandas as pd"
   ]
  },
  {
   "cell_type": "code",
   "execution_count": 3,
   "metadata": {},
   "outputs": [],
   "source": [
    "blasp =pd.read_csv(\"blasp_submision_fold.csv\")"
   ]
  },
  {
   "cell_type": "code",
   "execution_count": 5,
   "metadata": {},
   "outputs": [],
   "source": [
    "blasp.to_csv(\"blasp_submision_fold.tsv\",sep=\"\\t\",index=False, header=False)"
   ]
  },
  {
   "cell_type": "markdown",
   "metadata": {},
   "source": [
    "## Generate labels by importances\n"
   ]
  },
  {
   "cell_type": "code",
   "execution_count": 24,
   "metadata": {},
   "outputs": [
    {
     "name": "stdout",
     "output_type": "stream",
     "text": [
      "GENERATE TARGETS FOR ENTRY IDS (3000 MOST COMMON GO TERMS)\n",
      "(5363863, 3)\n"
     ]
    },
    {
     "data": {
      "text/html": [
       "<div>\n",
       "<style scoped>\n",
       "    .dataframe tbody tr th:only-of-type {\n",
       "        vertical-align: middle;\n",
       "    }\n",
       "\n",
       "    .dataframe tbody tr th {\n",
       "        vertical-align: top;\n",
       "    }\n",
       "\n",
       "    .dataframe thead th {\n",
       "        text-align: right;\n",
       "    }\n",
       "</style>\n",
       "<table border=\"1\" class=\"dataframe\">\n",
       "  <thead>\n",
       "    <tr style=\"text-align: right;\">\n",
       "      <th></th>\n",
       "      <th>term</th>\n",
       "      <th>aspect</th>\n",
       "      <th>weight</th>\n",
       "      <th>count</th>\n",
       "      <th>importance</th>\n",
       "    </tr>\n",
       "  </thead>\n",
       "  <tbody>\n",
       "    <tr>\n",
       "      <th>21304</th>\n",
       "      <td>GO:0005575</td>\n",
       "      <td>CCO</td>\n",
       "      <td>0.000000</td>\n",
       "      <td>92912</td>\n",
       "      <td>0.000000</td>\n",
       "    </tr>\n",
       "    <tr>\n",
       "      <th>8</th>\n",
       "      <td>GO:0008150</td>\n",
       "      <td>BPO</td>\n",
       "      <td>0.000000</td>\n",
       "      <td>92210</td>\n",
       "      <td>0.000000</td>\n",
       "    </tr>\n",
       "    <tr>\n",
       "      <th>21309</th>\n",
       "      <td>GO:0110165</td>\n",
       "      <td>CCO</td>\n",
       "      <td>0.025471</td>\n",
       "      <td>91286</td>\n",
       "      <td>2325.149641</td>\n",
       "    </tr>\n",
       "    <tr>\n",
       "      <th>24242</th>\n",
       "      <td>GO:0003674</td>\n",
       "      <td>MFO</td>\n",
       "      <td>0.000000</td>\n",
       "      <td>78637</td>\n",
       "      <td>0.000000</td>\n",
       "    </tr>\n",
       "    <tr>\n",
       "      <th>21287</th>\n",
       "      <td>GO:0005622</td>\n",
       "      <td>CCO</td>\n",
       "      <td>0.366945</td>\n",
       "      <td>70785</td>\n",
       "      <td>25974.228022</td>\n",
       "    </tr>\n",
       "    <tr>\n",
       "      <th>...</th>\n",
       "      <td>...</td>\n",
       "      <td>...</td>\n",
       "      <td>...</td>\n",
       "      <td>...</td>\n",
       "      <td>...</td>\n",
       "    </tr>\n",
       "    <tr>\n",
       "      <th>17422</th>\n",
       "      <td>GO:0046000</td>\n",
       "      <td>BPO</td>\n",
       "      <td>0.000000</td>\n",
       "      <td>1</td>\n",
       "      <td>0.000000</td>\n",
       "    </tr>\n",
       "    <tr>\n",
       "      <th>20220</th>\n",
       "      <td>GO:2000874</td>\n",
       "      <td>BPO</td>\n",
       "      <td>4.643856</td>\n",
       "      <td>1</td>\n",
       "      <td>4.643856</td>\n",
       "    </tr>\n",
       "    <tr>\n",
       "      <th>17410</th>\n",
       "      <td>GO:0032938</td>\n",
       "      <td>BPO</td>\n",
       "      <td>0.000000</td>\n",
       "      <td>1</td>\n",
       "      <td>0.000000</td>\n",
       "    </tr>\n",
       "    <tr>\n",
       "      <th>9386</th>\n",
       "      <td>GO:0097736</td>\n",
       "      <td>BPO</td>\n",
       "      <td>4.643856</td>\n",
       "      <td>1</td>\n",
       "      <td>4.643856</td>\n",
       "    </tr>\n",
       "    <tr>\n",
       "      <th>18342</th>\n",
       "      <td>GO:0039018</td>\n",
       "      <td>BPO</td>\n",
       "      <td>7.596190</td>\n",
       "      <td>1</td>\n",
       "      <td>7.596190</td>\n",
       "    </tr>\n",
       "  </tbody>\n",
       "</table>\n",
       "<p>31466 rows × 5 columns</p>\n",
       "</div>"
      ],
      "text/plain": [
       "             term aspect    weight  count    importance\n",
       "21304  GO:0005575    CCO  0.000000  92912      0.000000\n",
       "8      GO:0008150    BPO  0.000000  92210      0.000000\n",
       "21309  GO:0110165    CCO  0.025471  91286   2325.149641\n",
       "24242  GO:0003674    MFO  0.000000  78637      0.000000\n",
       "21287  GO:0005622    CCO  0.366945  70785  25974.228022\n",
       "...           ...    ...       ...    ...           ...\n",
       "17422  GO:0046000    BPO  0.000000      1      0.000000\n",
       "20220  GO:2000874    BPO  4.643856      1      4.643856\n",
       "17410  GO:0032938    BPO  0.000000      1      0.000000\n",
       "9386   GO:0097736    BPO  4.643856      1      4.643856\n",
       "18342  GO:0039018    BPO  7.596190      1      7.596190\n",
       "\n",
       "[31466 rows x 5 columns]"
      ]
     },
     "metadata": {},
     "output_type": "display_data"
    },
    {
     "data": {
      "text/html": [
       "<div>\n",
       "<style scoped>\n",
       "    .dataframe tbody tr th:only-of-type {\n",
       "        vertical-align: middle;\n",
       "    }\n",
       "\n",
       "    .dataframe tbody tr th {\n",
       "        vertical-align: top;\n",
       "    }\n",
       "\n",
       "    .dataframe thead th {\n",
       "        text-align: right;\n",
       "    }\n",
       "</style>\n",
       "<table border=\"1\" class=\"dataframe\">\n",
       "  <thead>\n",
       "    <tr style=\"text-align: right;\">\n",
       "      <th></th>\n",
       "      <th>term</th>\n",
       "      <th>aspect</th>\n",
       "      <th>weight</th>\n",
       "      <th>count</th>\n",
       "      <th>importance</th>\n",
       "    </tr>\n",
       "  </thead>\n",
       "  <tbody>\n",
       "    <tr>\n",
       "      <th>11052</th>\n",
       "      <td>GO:0044848</td>\n",
       "      <td>BPO</td>\n",
       "      <td>15.492651</td>\n",
       "      <td>1</td>\n",
       "      <td>15.492651</td>\n",
       "    </tr>\n",
       "    <tr>\n",
       "      <th>24110</th>\n",
       "      <td>GO:0120212</td>\n",
       "      <td>CCO</td>\n",
       "      <td>15.478122</td>\n",
       "      <td>1</td>\n",
       "      <td>15.478122</td>\n",
       "    </tr>\n",
       "    <tr>\n",
       "      <th>24116</th>\n",
       "      <td>GO:0031912</td>\n",
       "      <td>CCO</td>\n",
       "      <td>15.478122</td>\n",
       "      <td>1</td>\n",
       "      <td>15.478122</td>\n",
       "    </tr>\n",
       "    <tr>\n",
       "      <th>23410</th>\n",
       "      <td>GO:1990015</td>\n",
       "      <td>CCO</td>\n",
       "      <td>14.893159</td>\n",
       "      <td>2</td>\n",
       "      <td>29.786319</td>\n",
       "    </tr>\n",
       "    <tr>\n",
       "      <th>29980</th>\n",
       "      <td>GO:1904483</td>\n",
       "      <td>MFO</td>\n",
       "      <td>14.808285</td>\n",
       "      <td>1</td>\n",
       "      <td>14.808285</td>\n",
       "    </tr>\n",
       "    <tr>\n",
       "      <th>...</th>\n",
       "      <td>...</td>\n",
       "      <td>...</td>\n",
       "      <td>...</td>\n",
       "      <td>...</td>\n",
       "      <td>...</td>\n",
       "    </tr>\n",
       "    <tr>\n",
       "      <th>16754</th>\n",
       "      <td>GO:1901750</td>\n",
       "      <td>BPO</td>\n",
       "      <td>0.000000</td>\n",
       "      <td>3</td>\n",
       "      <td>0.000000</td>\n",
       "    </tr>\n",
       "    <tr>\n",
       "      <th>16752</th>\n",
       "      <td>GO:0072656</td>\n",
       "      <td>BPO</td>\n",
       "      <td>0.000000</td>\n",
       "      <td>5</td>\n",
       "      <td>0.000000</td>\n",
       "    </tr>\n",
       "    <tr>\n",
       "      <th>16747</th>\n",
       "      <td>GO:0031117</td>\n",
       "      <td>BPO</td>\n",
       "      <td>0.000000</td>\n",
       "      <td>12</td>\n",
       "      <td>0.000000</td>\n",
       "    </tr>\n",
       "    <tr>\n",
       "      <th>16743</th>\n",
       "      <td>GO:0060599</td>\n",
       "      <td>BPO</td>\n",
       "      <td>0.000000</td>\n",
       "      <td>2</td>\n",
       "      <td>0.000000</td>\n",
       "    </tr>\n",
       "    <tr>\n",
       "      <th>10092</th>\n",
       "      <td>GO:0090118</td>\n",
       "      <td>BPO</td>\n",
       "      <td>0.000000</td>\n",
       "      <td>5</td>\n",
       "      <td>0.000000</td>\n",
       "    </tr>\n",
       "  </tbody>\n",
       "</table>\n",
       "<p>31466 rows × 5 columns</p>\n",
       "</div>"
      ],
      "text/plain": [
       "             term aspect     weight  count  importance\n",
       "11052  GO:0044848    BPO  15.492651      1   15.492651\n",
       "24110  GO:0120212    CCO  15.478122      1   15.478122\n",
       "24116  GO:0031912    CCO  15.478122      1   15.478122\n",
       "23410  GO:1990015    CCO  14.893159      2   29.786319\n",
       "29980  GO:1904483    MFO  14.808285      1   14.808285\n",
       "...           ...    ...        ...    ...         ...\n",
       "16754  GO:1901750    BPO   0.000000      3    0.000000\n",
       "16752  GO:0072656    BPO   0.000000      5    0.000000\n",
       "16747  GO:0031117    BPO   0.000000     12    0.000000\n",
       "16743  GO:0060599    BPO   0.000000      2    0.000000\n",
       "10092  GO:0090118    BPO   0.000000      5    0.000000\n",
       "\n",
       "[31466 rows x 5 columns]"
      ]
     },
     "metadata": {},
     "output_type": "display_data"
    },
    {
     "data": {
      "text/html": [
       "<div>\n",
       "<style scoped>\n",
       "    .dataframe tbody tr th:only-of-type {\n",
       "        vertical-align: middle;\n",
       "    }\n",
       "\n",
       "    .dataframe tbody tr th {\n",
       "        vertical-align: top;\n",
       "    }\n",
       "\n",
       "    .dataframe thead th {\n",
       "        text-align: right;\n",
       "    }\n",
       "</style>\n",
       "<table border=\"1\" class=\"dataframe\">\n",
       "  <thead>\n",
       "    <tr style=\"text-align: right;\">\n",
       "      <th></th>\n",
       "      <th>term</th>\n",
       "      <th>aspect</th>\n",
       "      <th>weight</th>\n",
       "      <th>count</th>\n",
       "      <th>importance</th>\n",
       "    </tr>\n",
       "  </thead>\n",
       "  <tbody>\n",
       "    <tr>\n",
       "      <th>173</th>\n",
       "      <td>GO:0050896</td>\n",
       "      <td>BPO</td>\n",
       "      <td>1.568071</td>\n",
       "      <td>31098</td>\n",
       "      <td>48763.861747</td>\n",
       "    </tr>\n",
       "    <tr>\n",
       "      <th>0</th>\n",
       "      <td>GO:0008152</td>\n",
       "      <td>BPO</td>\n",
       "      <td>1.598544</td>\n",
       "      <td>30448</td>\n",
       "      <td>48672.468143</td>\n",
       "    </tr>\n",
       "    <tr>\n",
       "      <th>82</th>\n",
       "      <td>GO:0032501</td>\n",
       "      <td>BPO</td>\n",
       "      <td>1.655270</td>\n",
       "      <td>29274</td>\n",
       "      <td>48456.364953</td>\n",
       "    </tr>\n",
       "    <tr>\n",
       "      <th>69</th>\n",
       "      <td>GO:0032502</td>\n",
       "      <td>BPO</td>\n",
       "      <td>1.684844</td>\n",
       "      <td>28680</td>\n",
       "      <td>48321.312613</td>\n",
       "    </tr>\n",
       "    <tr>\n",
       "      <th>46</th>\n",
       "      <td>GO:0065007</td>\n",
       "      <td>BPO</td>\n",
       "      <td>1.153288</td>\n",
       "      <td>41457</td>\n",
       "      <td>47811.874800</td>\n",
       "    </tr>\n",
       "    <tr>\n",
       "      <th>21316</th>\n",
       "      <td>GO:0016020</td>\n",
       "      <td>CCO</td>\n",
       "      <td>1.824773</td>\n",
       "      <td>25768</td>\n",
       "      <td>47020.747337</td>\n",
       "    </tr>\n",
       "    <tr>\n",
       "      <th>21315</th>\n",
       "      <td>GO:0071944</td>\n",
       "      <td>CCO</td>\n",
       "      <td>2.157039</td>\n",
       "      <td>20467</td>\n",
       "      <td>44148.123047</td>\n",
       "    </tr>\n",
       "    <tr>\n",
       "      <th>24247</th>\n",
       "      <td>GO:0003824</td>\n",
       "      <td>MFO</td>\n",
       "      <td>1.634664</td>\n",
       "      <td>25324</td>\n",
       "      <td>41396.240279</td>\n",
       "    </tr>\n",
       "    <tr>\n",
       "      <th>21293</th>\n",
       "      <td>GO:0032991</td>\n",
       "      <td>CCO</td>\n",
       "      <td>2.479665</td>\n",
       "      <td>16657</td>\n",
       "      <td>41303.784386</td>\n",
       "    </tr>\n",
       "    <tr>\n",
       "      <th>21314</th>\n",
       "      <td>GO:0031974</td>\n",
       "      <td>CCO</td>\n",
       "      <td>2.539921</td>\n",
       "      <td>15696</td>\n",
       "      <td>39866.593187</td>\n",
       "    </tr>\n",
       "  </tbody>\n",
       "</table>\n",
       "</div>"
      ],
      "text/plain": [
       "             term aspect    weight  count    importance\n",
       "173    GO:0050896    BPO  1.568071  31098  48763.861747\n",
       "0      GO:0008152    BPO  1.598544  30448  48672.468143\n",
       "82     GO:0032501    BPO  1.655270  29274  48456.364953\n",
       "69     GO:0032502    BPO  1.684844  28680  48321.312613\n",
       "46     GO:0065007    BPO  1.153288  41457  47811.874800\n",
       "21316  GO:0016020    CCO  1.824773  25768  47020.747337\n",
       "21315  GO:0071944    CCO  2.157039  20467  44148.123047\n",
       "24247  GO:0003824    MFO  1.634664  25324  41396.240279\n",
       "21293  GO:0032991    CCO  2.479665  16657  41303.784386\n",
       "21314  GO:0031974    CCO  2.539921  15696  39866.593187"
      ]
     },
     "execution_count": 24,
     "metadata": {},
     "output_type": "execute_result"
    }
   ],
   "source": [
    "\n",
    "print(\"GENERATE TARGETS FOR ENTRY IDS (\"+str(NUM_LABELS)+\" MOST COMMON GO TERMS)\")\n",
    "ids = ids_unique\n",
    "labels = pd.read_csv(config.train_labels_path, sep = \"\\t\")\n",
    "print(labels.shape)\n",
    "weights_imp=pd.read_csv(f\"{PATH}cafa-5-protein-function-prediction/IA.txt\",sep=\"\\t\",header=None,).rename(columns={0:\"term\",1:\"weight\"})\n",
    "labels = pd.merge(labels,weights_imp, on =\"term\")\n",
    "\n",
    "labels_=labels[[\"term\",\"aspect\",\"weight\"]].drop_duplicates()\n",
    "labels_=pd.merge(labels_,labels.groupby([\"term\"]).size().reset_index().rename(columns={0:\"count\"}),on=\"term\")\n",
    "labels_[\"importance\"]=labels_[\"weight\"]*labels_[\"count\"]\n",
    "labels_=labels_.sort_values(by=\"importance\",ascending=False)\n",
    "display(labels_.sort_values(by=\"count\",ascending=False))\n",
    "display(labels_.sort_values(by=\"weight\",ascending=False))\n",
    "labels_.head(10)"
   ]
  },
  {
   "cell_type": "code",
   "execution_count": null,
   "metadata": {},
   "outputs": [],
   "source": [
    "weights_imp=pd.read_csv(f\"{PATH}cafa-5-protein-function-prediction/IA.txt\",sep=\"\\t\",header=None,).rename(columns={0:\"term\",1:\"weight\"})"
   ]
  },
  {
   "cell_type": "code",
   "execution_count": null,
   "metadata": {},
   "outputs": [],
   "source": [
    "labels.groupby([\"term\"]).size().sort_values()"
   ]
  },
  {
   "cell_type": "code",
   "execution_count": null,
   "metadata": {},
   "outputs": [],
   "source": [
    "labels.loc[labels.term==\"GO:0005575\"]"
   ]
  },
  {
   "cell_type": "code",
   "execution_count": null,
   "metadata": {},
   "outputs": [],
   "source": [
    "labels_.to_csv(\"../data/auxiliar_data/label_importances.csv\",index=False)"
   ]
  },
  {
   "cell_type": "code",
   "execution_count": null,
   "metadata": {},
   "outputs": [],
   "source": [
    "NUM_LABELS=2500"
   ]
  },
  {
   "cell_type": "code",
   "execution_count": null,
   "metadata": {},
   "outputs": [],
   "source": [
    "len(ids)"
   ]
  },
  {
   "cell_type": "code",
   "execution_count": 25,
   "metadata": {},
   "outputs": [
    {
     "data": {
      "text/html": [
       "<div>\n",
       "<style scoped>\n",
       "    .dataframe tbody tr th:only-of-type {\n",
       "        vertical-align: middle;\n",
       "    }\n",
       "\n",
       "    .dataframe tbody tr th {\n",
       "        vertical-align: top;\n",
       "    }\n",
       "\n",
       "    .dataframe thead th {\n",
       "        text-align: right;\n",
       "    }\n",
       "</style>\n",
       "<table border=\"1\" class=\"dataframe\">\n",
       "  <thead>\n",
       "    <tr style=\"text-align: right;\">\n",
       "      <th></th>\n",
       "      <th>term</th>\n",
       "      <th>aspect</th>\n",
       "      <th>weight</th>\n",
       "      <th>count</th>\n",
       "      <th>importance</th>\n",
       "    </tr>\n",
       "  </thead>\n",
       "  <tbody>\n",
       "    <tr>\n",
       "      <th>173</th>\n",
       "      <td>GO:0050896</td>\n",
       "      <td>BPO</td>\n",
       "      <td>1.568071</td>\n",
       "      <td>31098</td>\n",
       "      <td>48763.861747</td>\n",
       "    </tr>\n",
       "    <tr>\n",
       "      <th>0</th>\n",
       "      <td>GO:0008152</td>\n",
       "      <td>BPO</td>\n",
       "      <td>1.598544</td>\n",
       "      <td>30448</td>\n",
       "      <td>48672.468143</td>\n",
       "    </tr>\n",
       "    <tr>\n",
       "      <th>82</th>\n",
       "      <td>GO:0032501</td>\n",
       "      <td>BPO</td>\n",
       "      <td>1.655270</td>\n",
       "      <td>29274</td>\n",
       "      <td>48456.364953</td>\n",
       "    </tr>\n",
       "    <tr>\n",
       "      <th>69</th>\n",
       "      <td>GO:0032502</td>\n",
       "      <td>BPO</td>\n",
       "      <td>1.684844</td>\n",
       "      <td>28680</td>\n",
       "      <td>48321.312613</td>\n",
       "    </tr>\n",
       "    <tr>\n",
       "      <th>46</th>\n",
       "      <td>GO:0065007</td>\n",
       "      <td>BPO</td>\n",
       "      <td>1.153288</td>\n",
       "      <td>41457</td>\n",
       "      <td>47811.874800</td>\n",
       "    </tr>\n",
       "    <tr>\n",
       "      <th>...</th>\n",
       "      <td>...</td>\n",
       "      <td>...</td>\n",
       "      <td>...</td>\n",
       "      <td>...</td>\n",
       "      <td>...</td>\n",
       "    </tr>\n",
       "    <tr>\n",
       "      <th>20991</th>\n",
       "      <td>GO:0043641</td>\n",
       "      <td>BPO</td>\n",
       "      <td>0.000000</td>\n",
       "      <td>13</td>\n",
       "      <td>0.000000</td>\n",
       "    </tr>\n",
       "    <tr>\n",
       "      <th>20995</th>\n",
       "      <td>GO:0071366</td>\n",
       "      <td>BPO</td>\n",
       "      <td>0.000000</td>\n",
       "      <td>2</td>\n",
       "      <td>0.000000</td>\n",
       "    </tr>\n",
       "    <tr>\n",
       "      <th>20996</th>\n",
       "      <td>GO:0019567</td>\n",
       "      <td>BPO</td>\n",
       "      <td>0.000000</td>\n",
       "      <td>2</td>\n",
       "      <td>0.000000</td>\n",
       "    </tr>\n",
       "    <tr>\n",
       "      <th>20998</th>\n",
       "      <td>GO:0010253</td>\n",
       "      <td>BPO</td>\n",
       "      <td>0.000000</td>\n",
       "      <td>4</td>\n",
       "      <td>0.000000</td>\n",
       "    </tr>\n",
       "    <tr>\n",
       "      <th>10092</th>\n",
       "      <td>GO:0090118</td>\n",
       "      <td>BPO</td>\n",
       "      <td>0.000000</td>\n",
       "      <td>5</td>\n",
       "      <td>0.000000</td>\n",
       "    </tr>\n",
       "  </tbody>\n",
       "</table>\n",
       "<p>31466 rows × 5 columns</p>\n",
       "</div>"
      ],
      "text/plain": [
       "             term aspect    weight  count    importance\n",
       "173    GO:0050896    BPO  1.568071  31098  48763.861747\n",
       "0      GO:0008152    BPO  1.598544  30448  48672.468143\n",
       "82     GO:0032501    BPO  1.655270  29274  48456.364953\n",
       "69     GO:0032502    BPO  1.684844  28680  48321.312613\n",
       "46     GO:0065007    BPO  1.153288  41457  47811.874800\n",
       "...           ...    ...       ...    ...           ...\n",
       "20991  GO:0043641    BPO  0.000000     13      0.000000\n",
       "20995  GO:0071366    BPO  0.000000      2      0.000000\n",
       "20996  GO:0019567    BPO  0.000000      2      0.000000\n",
       "20998  GO:0010253    BPO  0.000000      4      0.000000\n",
       "10092  GO:0090118    BPO  0.000000      5      0.000000\n",
       "\n",
       "[31466 rows x 5 columns]"
      ]
     },
     "execution_count": 25,
     "metadata": {},
     "output_type": "execute_result"
    }
   ],
   "source": [
    "labels_"
   ]
  },
  {
   "cell_type": "code",
   "execution_count": null,
   "metadata": {},
   "outputs": [],
   "source": [
    "labels_"
   ]
  },
  {
   "cell_type": "code",
   "execution_count": null,
   "metadata": {},
   "outputs": [],
   "source": [
    "labels.loc[labels.term==\"GO:0005575\"]"
   ]
  },
  {
   "cell_type": "code",
   "execution_count": null,
   "metadata": {},
   "outputs": [],
   "source": [
    "labels_"
   ]
  },
  {
   "cell_type": "code",
   "execution_count": null,
   "metadata": {},
   "outputs": [],
   "source": [
    "def add_important_labels(ids,file_suffix=\"\"):\n",
    "   \n",
    "    print(labels.shape)\n",
    "    print(f\"Config labels {NUM_LABELS}\")\n",
    "    labels_names = labels_.iloc[:NUM_LABELS].term.values\n",
    "    train_labels_sub = labels[(labels.term.isin(labels_names)) & (labels.EntryID.isin(ids))]\n",
    "    id_labels = train_labels_sub.groupby('EntryID')['term'].apply(list).to_dict()\n",
    "\n",
    "    go_terms_map = {label: i for i, label in enumerate(labels_names)}\n",
    "    labels_matrix = np.empty((len(ids), len(labels_names)))\n",
    "\n",
    "    for index, id in tqdm(enumerate(ids)):\n",
    "        if id in id_labels:\n",
    "            id_gos_list = id_labels[id]\n",
    "            temp = [go_terms_map[go] for go in labels_names if go in id_gos_list]\n",
    "            labels_matrix[index, temp] = 1\n",
    "        else:\n",
    "            labels_matrix[index,:] = 0\n",
    "\n",
    "\n",
    "        \n",
    "    labels_df=pd.DataFrame(labels_matrix,columns=labels_names,index=ids)\n",
    "\n",
    "    labels_df.to_pickle(f\"../data/proteins/labels_{NUM_LABELS}.pkl\" )\n",
    "    #np.save(\"/kaggle/working/train_targets_top\"+str(config.num_labels)+\".npy\", np.array(labels_matrix))\n",
    "    print(\"GENERATION FINISHED!\")"
   ]
  },
  {
   "cell_type": "code",
   "execution_count": null,
   "metadata": {},
   "outputs": [],
   "source": [
    "add_important_labels(ids,file_suffix=\"\")"
   ]
  },
  {
   "cell_type": "code",
   "execution_count": null,
   "metadata": {},
   "outputs": [],
   "source": [
    "labels___=pd.read_pickle(\"../data/proteins/labels_2500.pkl\")"
   ]
  },
  {
   "cell_type": "code",
   "execution_count": null,
   "metadata": {},
   "outputs": [],
   "source": [
    "labels___.sum(axis=0)"
   ]
  },
  {
   "cell_type": "code",
   "execution_count": 26,
   "metadata": {},
   "outputs": [],
   "source": [
    "NUM_LABELS_dict= {\"BPO\": 5000,\n",
    "                  \"CCO\":2000,\n",
    "                \"MFO\": 3000}"
   ]
  },
  {
   "cell_type": "code",
   "execution_count": 28,
   "metadata": {},
   "outputs": [
    {
     "data": {
      "text/plain": [
       "138924"
      ]
     },
     "execution_count": 28,
     "metadata": {},
     "output_type": "execute_result"
    }
   ],
   "source": [
    "len(ids)"
   ]
  },
  {
   "cell_type": "markdown",
   "metadata": {},
   "source": [
    "### by aspects"
   ]
  },
  {
   "cell_type": "code",
   "execution_count": null,
   "metadata": {},
   "outputs": [],
   "source": [
    "labels_"
   ]
  },
  {
   "cell_type": "code",
   "execution_count": 29,
   "metadata": {},
   "outputs": [
    {
     "name": "stdout",
     "output_type": "stream",
     "text": [
      "GENERATE TARGETS FOR ENTRY IDS (5000 MOST COMMON GO TERMS)\n",
      "(5363863, 3)\n",
      "(3226048, 4)\n",
      "Config labels 5000\n"
     ]
    },
    {
     "name": "stderr",
     "output_type": "stream",
     "text": [
      "138924it [05:20, 434.02it/s]\n"
     ]
    },
    {
     "name": "stdout",
     "output_type": "stream",
     "text": [
      "GENERATION FINISHED!\n",
      "GENERATE TARGETS FOR ENTRY IDS (2000 MOST COMMON GO TERMS)\n",
      "(5363863, 3)\n",
      "(1067313, 4)\n",
      "Config labels 2000\n"
     ]
    },
    {
     "name": "stderr",
     "output_type": "stream",
     "text": [
      "138924it [00:38, 3596.09it/s]\n"
     ]
    },
    {
     "name": "stdout",
     "output_type": "stream",
     "text": [
      "GENERATION FINISHED!\n",
      "GENERATE TARGETS FOR ENTRY IDS (3000 MOST COMMON GO TERMS)\n",
      "(5363863, 3)\n",
      "(567995, 4)\n",
      "Config labels 3000\n"
     ]
    },
    {
     "name": "stderr",
     "output_type": "stream",
     "text": [
      "138924it [00:33, 4187.23it/s]\n"
     ]
    },
    {
     "name": "stdout",
     "output_type": "stream",
     "text": [
      "GENERATION FINISHED!\n"
     ]
    }
   ],
   "source": [
    "\n",
    "RANGE_ = 1500\n",
    "for aspect  in [\"BPO\", \"CCO\", \"MFO\"]:  \n",
    "    NUM_LABELS =  NUM_LABELS_dict[aspect]\n",
    "    print(\"GENERATE TARGETS FOR ENTRY IDS (\"+str(NUM_LABELS)+\" MOST COMMON GO TERMS)\")\n",
    "    ids = ids_unique\n",
    "    labels = pd.read_csv(config.train_labels_path, sep = \"\\t\")\n",
    "    print(labels.shape)\n",
    "    weights=pd.read_csv(f\"{PATH}cafa-5-protein-function-prediction/IA.txt\",sep=\"\\t\",header=None,index_col=0).rename(columns={1:\"weight\"})\n",
    "    labels=pd.merge(labels, weights.reset_index(names=\"term\"), on =\"term\")\n",
    "    labels=labels.loc[(labels.weight>0)&(labels.aspect==aspect)]\n",
    "    print(labels.shape)\n",
    "    print(f\"Config labels {NUM_LABELS}\")\n",
    "    top_terms = labels_.loc[labels_.aspect==aspect]\n",
    "    labels_names = top_terms[:NUM_LABELS].term.values\n",
    "    train_labels_sub = labels[(labels.term.isin(labels_names)) & (labels.EntryID.isin(ids))]\n",
    "    id_labels = train_labels_sub.groupby('EntryID')['term'].apply(list).to_dict()\n",
    "\n",
    "    go_terms_map = {label: i for i, label in enumerate(labels_names)}\n",
    "    labels_matrix = np.empty((len(ids), len(labels_names)))\n",
    "\n",
    "    for index, id in tqdm(enumerate(ids)):\n",
    "        if id in id_labels:\n",
    "            id_gos_list = id_labels[id]\n",
    "            temp = [go_terms_map[go] for go in labels_names if go in id_gos_list]\n",
    "            labels_matrix[index, temp] = 1\n",
    "        else:\n",
    "            labels_matrix[index,:] = 0\n",
    "\n",
    "\n",
    "        \n",
    "    labels_df=pd.DataFrame(labels_matrix,columns=labels_names,index=ids)\n",
    "\n",
    "    labels_df.to_pickle(f\"../data/proteins/labels_{NUM_LABELS}_{aspect}_importance.pkl\" )\n",
    "    #np.save(\"/kaggle/working/train_targets_top\"+str(config.num_labels)+\".npy\", np.array(labels_matrix))\n",
    "    print(\"GENERATION FINISHED!\")"
   ]
  },
  {
   "cell_type": "code",
   "execution_count": null,
   "metadata": {},
   "outputs": [],
   "source": [
    "labels_df.shape"
   ]
  },
  {
   "cell_type": "markdown",
   "metadata": {},
   "source": [
    "## Work with labels"
   ]
  },
  {
   "cell_type": "code",
   "execution_count": null,
   "metadata": {},
   "outputs": [],
   "source": [
    "labels_=labels[[\"term\",\"aspect\"]].drop_duplicates()\n",
    "display(labels_.groupby(\"aspect\").size()/len(labels_))\n",
    "labels_selected=labels_.loc[labels_.term.isin(labels_names)]\n",
    "display(labels_selected.groupby(\"aspect\").size()/len(labels_selected))\n",
    "display(labels_selected.groupby(\"aspect\").size())"
   ]
  },
  {
   "cell_type": "code",
   "execution_count": null,
   "metadata": {},
   "outputs": [],
   "source": []
  },
  {
   "cell_type": "code",
   "execution_count": null,
   "metadata": {},
   "outputs": [],
   "source": [
    "from sklearn.model_selection import train_test_split\n",
    "labels_df=pd.read_pickle(f\"data/data_train/labels_{1000}.pkl\" )\n",
    "ids_train,ids_test=train_test_split(labels_df.index,random_state=2,test_size=0.25)\n",
    "len(ids_train),len(ids_test)"
   ]
  },
  {
   "cell_type": "code",
   "execution_count": null,
   "metadata": {},
   "outputs": [],
   "source": [
    "for N_LABELS in [1000, 1500, 2000]:\n",
    "    labels_df  =pd.read_pickle(f\"data/data_train/labels_{N_LABELS}.pkl\" )\n",
    "    labels_df.loc[ids_train].to_pickle(f\"data/data_train/labels_train_{N_LABELS}.pkl\" )\n",
    "    labels_df.loc[ids_test].to_pickle(f\"data/data_train/labels_test_{N_LABELS}.pkl\" )"
   ]
  },
  {
   "cell_type": "code",
   "execution_count": null,
   "metadata": {},
   "outputs": [],
   "source": [
    "for aspect  in [\"BPO\", \"CCO\", \"MFO\"]:  \n",
    "\n",
    "    NUM_LABELS =  NUM_LABELS_dict[aspect]\n",
    "    print(\"GENERATE TARGETS FOR ENTRY IDS (\"+str(NUM_LABELS)+\" MOST COMMON GO TERMS)\")\n",
    "    ids = ids_unique\n",
    "    labels = pd.read_csv(config.train_labels_path, sep = \"\\t\")\n",
    "    print(labels.shape)\n",
    "    weights=pd.read_csv(f\"{PATH}cafa-5-protein-function-prediction/IA.txt\",sep=\"\\t\",header=None,index_col=0).rename(columns={1:\"weight\"})\n",
    "    labels=pd.merge(labels, weights.reset_index(names=\"term\"), on =\"term\")\n",
    "    labels=labels.loc[(labels.weight>0)&(labels.aspect==aspect)]\n",
    "    print(labels.shape)\n",
    "    print(f\"Config labels {NUM_LABELS}\")\n",
    "    top_terms = labels.groupby(\"term\")[\"EntryID\"].count().sort_values(ascending=False)\n",
    "    labels_names = top_terms[:NUM_LABELS].index.values\n",
    "    train_labels_sub = labels[(labels.term.isin(labels_names)) & (labels.EntryID.isin(ids))]\n",
    "    id_labels = train_labels_sub.groupby('EntryID')['term'].apply(list).to_dict()\n",
    "\n",
    "    go_terms_map = {label: i for i, label in enumerate(labels_names)}\n",
    "    labels_matrix = np.empty((len(ids), len(labels_names)))\n",
    "\n",
    "    for index, id in tqdm(enumerate(ids)):\n",
    "        if id in id_labels:\n",
    "            id_gos_list = id_labels[id]\n",
    "            temp = [go_terms_map[go] for go in labels_names if go in id_gos_list]\n",
    "            labels_matrix[index, temp] = 1\n",
    "        else:\n",
    "            labels_matrix[index,:] = 0\n",
    "\n",
    "\n",
    "        \n",
    "    labels_df=pd.DataFrame(labels_matrix,columns=labels_names,index=ids)\n",
    "\n",
    "    labels_df.to_pickle(f\"data/data_train/labels_{NUM_LABELS}_{aspect}.pkl\" )\n",
    "    #np.save(\"/kaggle/working/train_targets_top\"+str(config.num_labels)+\".npy\", np.array(labels_matrix))\n",
    "    print(\"GENERATION FINISHED!\")"
   ]
  },
  {
   "cell_type": "code",
   "execution_count": null,
   "metadata": {},
   "outputs": [],
   "source": [
    "for aspect  in [\"BPO\", \"CCO\", \"MFO\"]:  \n",
    "    NUM_LABELS =  NUM_LABELS_dict[aspect]\n",
    "    for N_LABELS in [ NUM_LABELS ]:\n",
    "        labels_df  =pd.read_pickle(f\"data/data_train/labels_{N_LABELS}_{aspect}.pkl\" )\n",
    "        labels_df.loc[ids_train].to_pickle(f\"data/data_train/labels_train_{N_LABELS}_{aspect}.pkl\" )\n",
    "        labels_df.loc[ids_test].to_pickle(f\"data/data_train/labels_test_{N_LABELS}_{aspect}.pkl\" )"
   ]
  },
  {
   "cell_type": "code",
   "execution_count": null,
   "metadata": {},
   "outputs": [],
   "source": [
    "for su in [\"T5\", \"EMS2\",\"ProtBERT\" ]:\n",
    "        matrix=np.load(f\"data/data_train/embeds_{su}.npy\")\n",
    "        df_=pd.DataFrame(matrix,index=ids)\n",
    "        df_train=df_.loc[ids_train]\n",
    "        df_test=df_.loc[ids_test]\n",
    "        print(df_train.shape,df_test.shape)\n",
    "        np.save(f\"data/data_train/embeds_train_{su}.npy\",df_train.values)\n",
    "        np.save(f\"data/data_train/embeds_test_{su}.npy\",df_test.values)"
   ]
  },
  {
   "cell_type": "code",
   "execution_count": null,
   "metadata": {},
   "outputs": [],
   "source": [
    "dic_ids={e:i for i,e in enumerate(ids)}\n",
    "ind_train=[dic_ids[e] for e in ids_train]\n",
    "ind_test=[dic_ids[e] for e in ids_test]"
   ]
  },
  {
   "cell_type": "code",
   "execution_count": null,
   "metadata": {},
   "outputs": [],
   "source": [
    "len(ind_train),len(ind_test)"
   ]
  },
  {
   "cell_type": "code",
   "execution_count": null,
   "metadata": {},
   "outputs": [],
   "source": [
    "for su1,su2 in [(\"T5\", \"EMS2\"),(\"T5\",\"ProtBERT\")]:\n",
    "      matrix1=np.load(f\"data/data_train/embeds_{su1}.npy\")\n",
    "      matrix2=np.load(f\"data/data_train/embeds_{su2}.npy\")\n",
    "      if matrix2.shape[1]>matrix1.shape[1]:\n",
    "            matrix1=np.pad(matrix1,((0,0),(0,matrix2.shape[1]-matrix1.shape[1])))\n",
    "      matrix=np.concatenate([np.expand_dims(matrix1,-1),np.expand_dims(matrix2,-1)],axis=-1)\n",
    "      print(su1,su2,matrix.shape)\n",
    "      np.save(f\"data/data_train/embeds_{su1}-{su2}.npy\",matrix)\n",
    "      np.save(f\"data/data_train/embeds_train_{su1}-{su2}.npy\",matrix[ind_train])\n",
    "      np.save(f\"data/data_train/embeds_test_{su1}-{su2}.npy\",matrix[ind_test])\n"
   ]
  },
  {
   "cell_type": "code",
   "execution_count": null,
   "metadata": {},
   "outputs": [],
   "source": [
    "matrix1=np.load(f\"data/data_train/embeds_{'T5'}.npy\")"
   ]
  },
  {
   "cell_type": "code",
   "execution_count": null,
   "metadata": {},
   "outputs": [],
   "source": [
    "labels.groupby(\"aspect\").size()"
   ]
  },
  {
   "cell_type": "code",
   "execution_count": null,
   "metadata": {},
   "outputs": [],
   "source": [
    "labels"
   ]
  },
  {
   "cell_type": "code",
   "execution_count": null,
   "metadata": {},
   "outputs": [],
   "source": [
    "for aspect,df_  in labels.groupby(\"aspect\"):\n",
    "    x=df_.groupby(\"term\")[\"weight\"].agg([\"count\",\"sum\"]).sort_values(by=\"count\")\n",
    "    selected=x.iloc[-1500:]\n",
    "    display(selected.loc[selected[\"sum\"]==0].tail(50))\n",
    "    \n"
   ]
  },
  {
   "attachments": {},
   "cell_type": "markdown",
   "metadata": {},
   "source": [
    "## DATA FROM T5"
   ]
  },
  {
   "cell_type": "markdown",
   "metadata": {},
   "source": [
    "### SHORT SEQUENCES T5"
   ]
  },
  {
   "cell_type": "markdown",
   "metadata": {},
   "source": [
    "## CHECK TRAIN"
   ]
  },
  {
   "cell_type": "code",
   "execution_count": null,
   "metadata": {},
   "outputs": [],
   "source": [
    "embeds_t5 = pd.read_pickle(\"../data/t5/t5_embeddings_train_embeds.pkl\")\n",
    "ids_t5 = pd.read_pickle(\"../data/t5/t5_embeddings_train_ids.npy\")"
   ]
  },
  {
   "cell_type": "code",
   "execution_count": null,
   "metadata": {},
   "outputs": [],
   "source": [
    "indices_unique"
   ]
  },
  {
   "cell_type": "code",
   "execution_count": null,
   "metadata": {},
   "outputs": [],
   "source": [
    "seq_train_unique = [(seq_train)[i] for i in  indices_unique]"
   ]
  },
  {
   "cell_type": "code",
   "execution_count": null,
   "metadata": {},
   "outputs": [],
   "source": [
    "len(seq_train_unique)"
   ]
  },
  {
   "cell_type": "code",
   "execution_count": null,
   "metadata": {},
   "outputs": [],
   "source": [
    "ids_largos = set(ids_unique).difference(set(ids_t5 ))\n",
    "ids_cortos = set(ids_unique).intersection(set(ids_t5 ))\n",
    "dic_indices_t5={e: i for  i,e in enumerate(ids_t5)}\n",
    "dic_indices={e: i for  i,e in enumerate(ids_unique)}\n",
    "indices_prev=[dic_indices[e] for e in ids_t5 if e in dic_indices]\n",
    "indices_t5=[dic_indices_t5[e] for e in ids_t5 if e in dic_indices]"
   ]
  },
  {
   "cell_type": "code",
   "execution_count": null,
   "metadata": {},
   "outputs": [],
   "source": [
    "indices_largos=[dic_indices[e] for e in ids_largos]"
   ]
  },
  {
   "cell_type": "code",
   "execution_count": null,
   "metadata": {},
   "outputs": [],
   "source": [
    "len(indices_t5),len(indices_prev)"
   ]
  },
  {
   "cell_type": "code",
   "execution_count": null,
   "metadata": {},
   "outputs": [],
   "source": [
    "arr_t5  = np.stack([embeds_t5[i][1] for i in indices_t5])\n",
    "arr_t5_prev  = np.stack([embeds_f['T5']['sequences'][i] for i in indices_prev])\n",
    "(arr_t5-arr_t5_prev).max()"
   ]
  },
  {
   "cell_type": "code",
   "execution_count": null,
   "metadata": {},
   "outputs": [],
   "source": [
    "for i in indices_largos:\n",
    "    print(len(seq_train_unique[i]))"
   ]
  },
  {
   "cell_type": "code",
   "execution_count": null,
   "metadata": {},
   "outputs": [],
   "source": [
    "ids_t5_safe=np.stack([ids_t5[e] for e in indices_t5])\n",
    "embeds_t5_safe=np.stack([embeds_t5[e] for e in indices_t5])"
   ]
  },
  {
   "cell_type": "code",
   "execution_count": null,
   "metadata": {},
   "outputs": [],
   "source": [
    "len(ids_t5_safe),len(embeds_t5_safe)"
   ]
  },
  {
   "cell_type": "code",
   "execution_count": null,
   "metadata": {},
   "outputs": [],
   "source": [
    "embeds_t5_safe.shape"
   ]
  },
  {
   "cell_type": "code",
   "execution_count": null,
   "metadata": {},
   "outputs": [],
   "source": [
    "np.save(\"../data/data_train/ids_t5_cortos_shape4.npy\",ids_t5_safe)\n",
    "np.save(\"../data/data_train/embeds_t5_cortos_shape4.npy\",embeds_t5_safe)"
   ]
  },
  {
   "cell_type": "code",
   "execution_count": null,
   "metadata": {},
   "outputs": [],
   "source": [
    "np.save(\"../data/auxiliar_data/indices_largos_train.npy\",np.array(indices_largos))"
   ]
  },
  {
   "cell_type": "markdown",
   "metadata": {},
   "source": [
    "### ADD TRAIN LABELS"
   ]
  },
  {
   "cell_type": "code",
   "execution_count": null,
   "metadata": {},
   "outputs": [],
   "source": [
    "add_important_labels(ids_t5_safe,file_suffix=\"_cortos_shape4\")"
   ]
  },
  {
   "cell_type": "markdown",
   "metadata": {},
   "source": [
    "## CHECK TEST"
   ]
  },
  {
   "cell_type": "code",
   "execution_count": null,
   "metadata": {},
   "outputs": [],
   "source": [
    "embeds_t5 = pd.read_pickle(\"../data/t5/t5_embeddings_test_embeds.pkl\")\n",
    "ids_t5 = pd.read_pickle(\"../data/t5/t5_embeddings_test_ids.npy\")"
   ]
  },
  {
   "cell_type": "code",
   "execution_count": null,
   "metadata": {},
   "outputs": [],
   "source": [
    "embeds_prev = np.load(\"../data/my-t5embeds/test_embeds.npy\")\n",
    "ids_prev = np.load(\"../data/my-t5embeds/test_ids.npy\")"
   ]
  },
  {
   "cell_type": "code",
   "execution_count": null,
   "metadata": {},
   "outputs": [],
   "source": [
    "len(embeds_t5 ), len(embeds_prev)"
   ]
  },
  {
   "cell_type": "code",
   "execution_count": null,
   "metadata": {},
   "outputs": [],
   "source": [
    "ids_largos = set(ids_prev).difference(set(ids_t5 ))\n",
    "ids_cortos = set(ids_prev).intersection(set(ids_t5 ))\n",
    "dic_indices_t5={e: i for  i,e in enumerate(ids_t5)}\n",
    "dic_indices={e: i for  i,e in enumerate(ids_prev )}\n",
    "indices_prev=[dic_indices[e] for e in ids_t5 if e in dic_indices]\n",
    "indices_t5=[dic_indices_t5[e] for e in ids_t5 if e in dic_indices]\n",
    "indices_largos=[dic_indices[e] for e in ids_largos]\n"
   ]
  },
  {
   "cell_type": "code",
   "execution_count": null,
   "metadata": {},
   "outputs": [],
   "source": [
    "len(indices_t5),len(indices_prev)"
   ]
  },
  {
   "cell_type": "code",
   "execution_count": null,
   "metadata": {},
   "outputs": [],
   "source": [
    "arr_t5  = np.stack([embeds_t5[i][1] for i in indices_t5])\n",
    "arr_t5_prev  = np.stack([embeds_prev[i] for i in indices_prev])\n",
    "(arr_t5-arr_t5_prev).max()"
   ]
  },
  {
   "cell_type": "code",
   "execution_count": null,
   "metadata": {},
   "outputs": [],
   "source": [
    "np.save(\"../data/auxiliar_data/indices_largos_test.npy\",np.array(indices_largos))"
   ]
  },
  {
   "cell_type": "code",
   "execution_count": null,
   "metadata": {},
   "outputs": [],
   "source": [
    "for i in indices_largos:\n",
    "    print(len(seq_test[i]))"
   ]
  },
  {
   "cell_type": "markdown",
   "metadata": {},
   "source": [
    "## JOIN DATA"
   ]
  },
  {
   "cell_type": "code",
   "execution_count": 8,
   "metadata": {},
   "outputs": [],
   "source": [
    "labels=pd.read_csv(f'../data/cafa-5-protein-function-prediction/Train/train_terms.tsv',sep=\"\\t\")"
   ]
  },
  {
   "cell_type": "code",
   "execution_count": 2,
   "metadata": {},
   "outputs": [],
   "source": [
    "import pandas as pd"
   ]
  },
  {
   "cell_type": "code",
   "execution_count": 8,
   "metadata": {},
   "outputs": [],
   "source": [
    "preds_t=None\n",
    "for iter_ in range(1,8):\n",
    "    preds=pd.read_csv(f\"../results/preds_blasp10n/blasp_10n_{iter_}/preds.csv\",index_col=0)\n",
    "    if preds_t is None:\n",
    "        preds_t=preds\n",
    "    else:\n",
    "        preds_t=pd.concat([preds_t,preds])\n"
   ]
  },
  {
   "cell_type": "code",
   "execution_count": 12,
   "metadata": {},
   "outputs": [],
   "source": [
    "  preds_t.to_csv(\"submission.tsv\",sep=\"\\t\",header=False,index=False)"
   ]
  },
  {
   "cell_type": "code",
   "execution_count": 14,
   "metadata": {},
   "outputs": [],
   "source": [
    "  preds_=pd.read_csv(\"submission.tsv\",sep=\"\\t\",header=None)"
   ]
  },
  {
   "cell_type": "code",
   "execution_count": 15,
   "metadata": {},
   "outputs": [
    {
     "data": {
      "text/html": [
       "<div>\n",
       "<style scoped>\n",
       "    .dataframe tbody tr th:only-of-type {\n",
       "        vertical-align: middle;\n",
       "    }\n",
       "\n",
       "    .dataframe tbody tr th {\n",
       "        vertical-align: top;\n",
       "    }\n",
       "\n",
       "    .dataframe thead th {\n",
       "        text-align: right;\n",
       "    }\n",
       "</style>\n",
       "<table border=\"1\" class=\"dataframe\">\n",
       "  <thead>\n",
       "    <tr style=\"text-align: right;\">\n",
       "      <th></th>\n",
       "      <th>0</th>\n",
       "      <th>1</th>\n",
       "      <th>2</th>\n",
       "    </tr>\n",
       "  </thead>\n",
       "  <tbody>\n",
       "    <tr>\n",
       "      <th>0</th>\n",
       "      <td>Q9CQV8</td>\n",
       "      <td>GO:0009987</td>\n",
       "      <td>0.7</td>\n",
       "    </tr>\n",
       "    <tr>\n",
       "      <th>1</th>\n",
       "      <td>Q9CQV8</td>\n",
       "      <td>GO:0051641</td>\n",
       "      <td>0.6</td>\n",
       "    </tr>\n",
       "    <tr>\n",
       "      <th>2</th>\n",
       "      <td>Q9CQV8</td>\n",
       "      <td>GO:0051179</td>\n",
       "      <td>0.7</td>\n",
       "    </tr>\n",
       "    <tr>\n",
       "      <th>3</th>\n",
       "      <td>Q9CQV8</td>\n",
       "      <td>GO:0033036</td>\n",
       "      <td>0.5</td>\n",
       "    </tr>\n",
       "    <tr>\n",
       "      <th>4</th>\n",
       "      <td>Q9CQV8</td>\n",
       "      <td>GO:0070727</td>\n",
       "      <td>0.5</td>\n",
       "    </tr>\n",
       "    <tr>\n",
       "      <th>...</th>\n",
       "      <td>...</td>\n",
       "      <td>...</td>\n",
       "      <td>...</td>\n",
       "    </tr>\n",
       "    <tr>\n",
       "      <th>19808047</th>\n",
       "      <td>A0A3G2FQK2</td>\n",
       "      <td>GO:0016049</td>\n",
       "      <td>0.4</td>\n",
       "    </tr>\n",
       "    <tr>\n",
       "      <th>19808048</th>\n",
       "      <td>A0A3G2FQK2</td>\n",
       "      <td>GO:0048675</td>\n",
       "      <td>0.4</td>\n",
       "    </tr>\n",
       "    <tr>\n",
       "      <th>19808049</th>\n",
       "      <td>A0A3G2FQK2</td>\n",
       "      <td>GO:1990138</td>\n",
       "      <td>0.4</td>\n",
       "    </tr>\n",
       "    <tr>\n",
       "      <th>19808050</th>\n",
       "      <td>A0A3G2FQK2</td>\n",
       "      <td>GO:0008593</td>\n",
       "      <td>0.4</td>\n",
       "    </tr>\n",
       "    <tr>\n",
       "      <th>19808051</th>\n",
       "      <td>A0A3G2FQK2</td>\n",
       "      <td>GO:0045664</td>\n",
       "      <td>0.4</td>\n",
       "    </tr>\n",
       "  </tbody>\n",
       "</table>\n",
       "<p>19808052 rows × 3 columns</p>\n",
       "</div>"
      ],
      "text/plain": [
       "                   0           1    2\n",
       "0             Q9CQV8  GO:0009987  0.7\n",
       "1             Q9CQV8  GO:0051641  0.6\n",
       "2             Q9CQV8  GO:0051179  0.7\n",
       "3             Q9CQV8  GO:0033036  0.5\n",
       "4             Q9CQV8  GO:0070727  0.5\n",
       "...              ...         ...  ...\n",
       "19808047  A0A3G2FQK2  GO:0016049  0.4\n",
       "19808048  A0A3G2FQK2  GO:0048675  0.4\n",
       "19808049  A0A3G2FQK2  GO:1990138  0.4\n",
       "19808050  A0A3G2FQK2  GO:0008593  0.4\n",
       "19808051  A0A3G2FQK2  GO:0045664  0.4\n",
       "\n",
       "[19808052 rows x 3 columns]"
      ]
     },
     "execution_count": 15,
     "metadata": {},
     "output_type": "execute_result"
    }
   ],
   "source": [
    "  preds_"
   ]
  },
  {
   "cell_type": "code",
   "execution_count": 10,
   "metadata": {},
   "outputs": [
    {
     "data": {
      "text/html": [
       "<div>\n",
       "<style scoped>\n",
       "    .dataframe tbody tr th:only-of-type {\n",
       "        vertical-align: middle;\n",
       "    }\n",
       "\n",
       "    .dataframe tbody tr th {\n",
       "        vertical-align: top;\n",
       "    }\n",
       "\n",
       "    .dataframe thead th {\n",
       "        text-align: right;\n",
       "    }\n",
       "</style>\n",
       "<table border=\"1\" class=\"dataframe\">\n",
       "  <thead>\n",
       "    <tr style=\"text-align: right;\">\n",
       "      <th></th>\n",
       "      <th>EntryID</th>\n",
       "      <th>term</th>\n",
       "      <th>probability</th>\n",
       "    </tr>\n",
       "  </thead>\n",
       "  <tbody>\n",
       "    <tr>\n",
       "      <th>0</th>\n",
       "      <td>O73864</td>\n",
       "      <td>GO:0009987</td>\n",
       "      <td>0.8</td>\n",
       "    </tr>\n",
       "    <tr>\n",
       "      <th>1</th>\n",
       "      <td>O73864</td>\n",
       "      <td>GO:0048869</td>\n",
       "      <td>0.6</td>\n",
       "    </tr>\n",
       "    <tr>\n",
       "      <th>2</th>\n",
       "      <td>O73864</td>\n",
       "      <td>GO:0048856</td>\n",
       "      <td>0.8</td>\n",
       "    </tr>\n",
       "    <tr>\n",
       "      <th>3</th>\n",
       "      <td>O73864</td>\n",
       "      <td>GO:0065007</td>\n",
       "      <td>0.6</td>\n",
       "    </tr>\n",
       "    <tr>\n",
       "      <th>4</th>\n",
       "      <td>O73864</td>\n",
       "      <td>GO:0007275</td>\n",
       "      <td>0.8</td>\n",
       "    </tr>\n",
       "    <tr>\n",
       "      <th>...</th>\n",
       "      <td>...</td>\n",
       "      <td>...</td>\n",
       "      <td>...</td>\n",
       "    </tr>\n",
       "    <tr>\n",
       "      <th>3704466</th>\n",
       "      <td>Q9SZA7</td>\n",
       "      <td>GO:0080134</td>\n",
       "      <td>0.2</td>\n",
       "    </tr>\n",
       "    <tr>\n",
       "      <th>3704467</th>\n",
       "      <td>Q9SZA7</td>\n",
       "      <td>GO:0080135</td>\n",
       "      <td>0.2</td>\n",
       "    </tr>\n",
       "    <tr>\n",
       "      <th>3704468</th>\n",
       "      <td>Q9SZA7</td>\n",
       "      <td>GO:0071944</td>\n",
       "      <td>0.1</td>\n",
       "    </tr>\n",
       "    <tr>\n",
       "      <th>3704469</th>\n",
       "      <td>Q9SZA7</td>\n",
       "      <td>GO:0016020</td>\n",
       "      <td>0.1</td>\n",
       "    </tr>\n",
       "    <tr>\n",
       "      <th>3704470</th>\n",
       "      <td>Q9SZA7</td>\n",
       "      <td>GO:0005886</td>\n",
       "      <td>0.1</td>\n",
       "    </tr>\n",
       "  </tbody>\n",
       "</table>\n",
       "<p>3704471 rows × 3 columns</p>\n",
       "</div>"
      ],
      "text/plain": [
       "        EntryID        term  probability\n",
       "0        O73864  GO:0009987          0.8\n",
       "1        O73864  GO:0048869          0.6\n",
       "2        O73864  GO:0048856          0.8\n",
       "3        O73864  GO:0065007          0.6\n",
       "4        O73864  GO:0007275          0.8\n",
       "...         ...         ...          ...\n",
       "3704466  Q9SZA7  GO:0080134          0.2\n",
       "3704467  Q9SZA7  GO:0080135          0.2\n",
       "3704468  Q9SZA7  GO:0071944          0.1\n",
       "3704469  Q9SZA7  GO:0016020          0.1\n",
       "3704470  Q9SZA7  GO:0005886          0.1\n",
       "\n",
       "[3704471 rows x 3 columns]"
      ]
     },
     "metadata": {},
     "output_type": "display_data"
    },
    {
     "data": {
      "text/html": [
       "<div>\n",
       "<style scoped>\n",
       "    .dataframe tbody tr th:only-of-type {\n",
       "        vertical-align: middle;\n",
       "    }\n",
       "\n",
       "    .dataframe tbody tr th {\n",
       "        vertical-align: top;\n",
       "    }\n",
       "\n",
       "    .dataframe thead th {\n",
       "        text-align: right;\n",
       "    }\n",
       "</style>\n",
       "<table border=\"1\" class=\"dataframe\">\n",
       "  <thead>\n",
       "    <tr style=\"text-align: right;\">\n",
       "      <th></th>\n",
       "      <th>EntryID</th>\n",
       "      <th>term</th>\n",
       "      <th>probability</th>\n",
       "    </tr>\n",
       "  </thead>\n",
       "  <tbody>\n",
       "    <tr>\n",
       "      <th>0</th>\n",
       "      <td>P06731</td>\n",
       "      <td>GO:0110165</td>\n",
       "      <td>2.400000</td>\n",
       "    </tr>\n",
       "    <tr>\n",
       "      <th>1</th>\n",
       "      <td>P06731</td>\n",
       "      <td>GO:0071944</td>\n",
       "      <td>1.700000</td>\n",
       "    </tr>\n",
       "    <tr>\n",
       "      <th>2</th>\n",
       "      <td>P06731</td>\n",
       "      <td>GO:0016020</td>\n",
       "      <td>1.700000</td>\n",
       "    </tr>\n",
       "    <tr>\n",
       "      <th>3</th>\n",
       "      <td>P06731</td>\n",
       "      <td>GO:0005886</td>\n",
       "      <td>1.700000</td>\n",
       "    </tr>\n",
       "    <tr>\n",
       "      <th>4</th>\n",
       "      <td>P06731</td>\n",
       "      <td>GO:0009987</td>\n",
       "      <td>1.500000</td>\n",
       "    </tr>\n",
       "    <tr>\n",
       "      <th>...</th>\n",
       "      <td>...</td>\n",
       "      <td>...</td>\n",
       "      <td>...</td>\n",
       "    </tr>\n",
       "    <tr>\n",
       "      <th>3740803</th>\n",
       "      <td>Q5TAP6</td>\n",
       "      <td>GO:0042995</td>\n",
       "      <td>0.333333</td>\n",
       "    </tr>\n",
       "    <tr>\n",
       "      <th>3740804</th>\n",
       "      <td>Q5TAP6</td>\n",
       "      <td>GO:0120025</td>\n",
       "      <td>0.333333</td>\n",
       "    </tr>\n",
       "    <tr>\n",
       "      <th>3740805</th>\n",
       "      <td>Q5TAP6</td>\n",
       "      <td>GO:0005929</td>\n",
       "      <td>0.333333</td>\n",
       "    </tr>\n",
       "    <tr>\n",
       "      <th>3740806</th>\n",
       "      <td>Q5TAP6</td>\n",
       "      <td>GO:0032838</td>\n",
       "      <td>0.333333</td>\n",
       "    </tr>\n",
       "    <tr>\n",
       "      <th>3740807</th>\n",
       "      <td>Q5TAP6</td>\n",
       "      <td>GO:0099568</td>\n",
       "      <td>0.333333</td>\n",
       "    </tr>\n",
       "  </tbody>\n",
       "</table>\n",
       "<p>3740808 rows × 3 columns</p>\n",
       "</div>"
      ],
      "text/plain": [
       "        EntryID        term  probability\n",
       "0        P06731  GO:0110165     2.400000\n",
       "1        P06731  GO:0071944     1.700000\n",
       "2        P06731  GO:0016020     1.700000\n",
       "3        P06731  GO:0005886     1.700000\n",
       "4        P06731  GO:0009987     1.500000\n",
       "...         ...         ...          ...\n",
       "3740803  Q5TAP6  GO:0042995     0.333333\n",
       "3740804  Q5TAP6  GO:0120025     0.333333\n",
       "3740805  Q5TAP6  GO:0005929     0.333333\n",
       "3740806  Q5TAP6  GO:0032838     0.333333\n",
       "3740807  Q5TAP6  GO:0099568     0.333333\n",
       "\n",
       "[3740808 rows x 3 columns]"
      ]
     },
     "metadata": {},
     "output_type": "display_data"
    },
    {
     "data": {
      "text/html": [
       "<div>\n",
       "<style scoped>\n",
       "    .dataframe tbody tr th:only-of-type {\n",
       "        vertical-align: middle;\n",
       "    }\n",
       "\n",
       "    .dataframe tbody tr th {\n",
       "        vertical-align: top;\n",
       "    }\n",
       "\n",
       "    .dataframe thead th {\n",
       "        text-align: right;\n",
       "    }\n",
       "</style>\n",
       "<table border=\"1\" class=\"dataframe\">\n",
       "  <thead>\n",
       "    <tr style=\"text-align: right;\">\n",
       "      <th></th>\n",
       "      <th>EntryID</th>\n",
       "      <th>term</th>\n",
       "      <th>probability</th>\n",
       "    </tr>\n",
       "  </thead>\n",
       "  <tbody>\n",
       "    <tr>\n",
       "      <th>0</th>\n",
       "      <td>O43854</td>\n",
       "      <td>GO:0009987</td>\n",
       "      <td>0.1</td>\n",
       "    </tr>\n",
       "    <tr>\n",
       "      <th>1</th>\n",
       "      <td>O43854</td>\n",
       "      <td>GO:0048869</td>\n",
       "      <td>0.1</td>\n",
       "    </tr>\n",
       "    <tr>\n",
       "      <th>2</th>\n",
       "      <td>O43854</td>\n",
       "      <td>GO:0048856</td>\n",
       "      <td>0.1</td>\n",
       "    </tr>\n",
       "    <tr>\n",
       "      <th>3</th>\n",
       "      <td>O43854</td>\n",
       "      <td>GO:0065007</td>\n",
       "      <td>0.8</td>\n",
       "    </tr>\n",
       "    <tr>\n",
       "      <th>4</th>\n",
       "      <td>O43854</td>\n",
       "      <td>GO:0007275</td>\n",
       "      <td>0.1</td>\n",
       "    </tr>\n",
       "    <tr>\n",
       "      <th>...</th>\n",
       "      <td>...</td>\n",
       "      <td>...</td>\n",
       "      <td>...</td>\n",
       "    </tr>\n",
       "    <tr>\n",
       "      <th>3780566</th>\n",
       "      <td>B7ZVK1</td>\n",
       "      <td>GO:0010154</td>\n",
       "      <td>0.1</td>\n",
       "    </tr>\n",
       "    <tr>\n",
       "      <th>3780567</th>\n",
       "      <td>B7ZVK1</td>\n",
       "      <td>GO:0009791</td>\n",
       "      <td>0.1</td>\n",
       "    </tr>\n",
       "    <tr>\n",
       "      <th>3780568</th>\n",
       "      <td>B7ZVK1</td>\n",
       "      <td>GO:0048316</td>\n",
       "      <td>0.1</td>\n",
       "    </tr>\n",
       "    <tr>\n",
       "      <th>3780569</th>\n",
       "      <td>B7ZVK1</td>\n",
       "      <td>GO:0009733</td>\n",
       "      <td>0.1</td>\n",
       "    </tr>\n",
       "    <tr>\n",
       "      <th>3780570</th>\n",
       "      <td>B7ZVK1</td>\n",
       "      <td>GO:0009793</td>\n",
       "      <td>0.1</td>\n",
       "    </tr>\n",
       "  </tbody>\n",
       "</table>\n",
       "<p>3780571 rows × 3 columns</p>\n",
       "</div>"
      ],
      "text/plain": [
       "        EntryID        term  probability\n",
       "0        O43854  GO:0009987          0.1\n",
       "1        O43854  GO:0048869          0.1\n",
       "2        O43854  GO:0048856          0.1\n",
       "3        O43854  GO:0065007          0.8\n",
       "4        O43854  GO:0007275          0.1\n",
       "...         ...         ...          ...\n",
       "3780566  B7ZVK1  GO:0010154          0.1\n",
       "3780567  B7ZVK1  GO:0009791          0.1\n",
       "3780568  B7ZVK1  GO:0048316          0.1\n",
       "3780569  B7ZVK1  GO:0009733          0.1\n",
       "3780570  B7ZVK1  GO:0009793          0.1\n",
       "\n",
       "[3780571 rows x 3 columns]"
      ]
     },
     "metadata": {},
     "output_type": "display_data"
    },
    {
     "data": {
      "text/html": [
       "<div>\n",
       "<style scoped>\n",
       "    .dataframe tbody tr th:only-of-type {\n",
       "        vertical-align: middle;\n",
       "    }\n",
       "\n",
       "    .dataframe tbody tr th {\n",
       "        vertical-align: top;\n",
       "    }\n",
       "\n",
       "    .dataframe thead th {\n",
       "        text-align: right;\n",
       "    }\n",
       "</style>\n",
       "<table border=\"1\" class=\"dataframe\">\n",
       "  <thead>\n",
       "    <tr style=\"text-align: right;\">\n",
       "      <th></th>\n",
       "      <th>EntryID</th>\n",
       "      <th>term</th>\n",
       "      <th>probability</th>\n",
       "    </tr>\n",
       "  </thead>\n",
       "  <tbody>\n",
       "    <tr>\n",
       "      <th>0</th>\n",
       "      <td>F4ILE1</td>\n",
       "      <td>GO:0008152</td>\n",
       "      <td>0.1</td>\n",
       "    </tr>\n",
       "    <tr>\n",
       "      <th>1</th>\n",
       "      <td>F4ILE1</td>\n",
       "      <td>GO:0044237</td>\n",
       "      <td>0.1</td>\n",
       "    </tr>\n",
       "    <tr>\n",
       "      <th>2</th>\n",
       "      <td>F4ILE1</td>\n",
       "      <td>GO:1901360</td>\n",
       "      <td>0.1</td>\n",
       "    </tr>\n",
       "    <tr>\n",
       "      <th>3</th>\n",
       "      <td>F4ILE1</td>\n",
       "      <td>GO:0006139</td>\n",
       "      <td>0.1</td>\n",
       "    </tr>\n",
       "    <tr>\n",
       "      <th>4</th>\n",
       "      <td>F4ILE1</td>\n",
       "      <td>GO:0046483</td>\n",
       "      <td>0.1</td>\n",
       "    </tr>\n",
       "    <tr>\n",
       "      <th>...</th>\n",
       "      <td>...</td>\n",
       "      <td>...</td>\n",
       "      <td>...</td>\n",
       "    </tr>\n",
       "    <tr>\n",
       "      <th>4831308</th>\n",
       "      <td>F4K6M8</td>\n",
       "      <td>GO:0019953</td>\n",
       "      <td>0.1</td>\n",
       "    </tr>\n",
       "    <tr>\n",
       "      <th>4831309</th>\n",
       "      <td>F4K6M8</td>\n",
       "      <td>GO:0007338</td>\n",
       "      <td>0.1</td>\n",
       "    </tr>\n",
       "    <tr>\n",
       "      <th>4831310</th>\n",
       "      <td>F4K6M8</td>\n",
       "      <td>GO:0000003</td>\n",
       "      <td>0.1</td>\n",
       "    </tr>\n",
       "    <tr>\n",
       "      <th>4831311</th>\n",
       "      <td>F4K6M8</td>\n",
       "      <td>GO:0009566</td>\n",
       "      <td>0.1</td>\n",
       "    </tr>\n",
       "    <tr>\n",
       "      <th>4831312</th>\n",
       "      <td>F4K6M8</td>\n",
       "      <td>GO:0022414</td>\n",
       "      <td>0.1</td>\n",
       "    </tr>\n",
       "  </tbody>\n",
       "</table>\n",
       "<p>4831313 rows × 3 columns</p>\n",
       "</div>"
      ],
      "text/plain": [
       "        EntryID        term  probability\n",
       "0        F4ILE1  GO:0008152          0.1\n",
       "1        F4ILE1  GO:0044237          0.1\n",
       "2        F4ILE1  GO:1901360          0.1\n",
       "3        F4ILE1  GO:0006139          0.1\n",
       "4        F4ILE1  GO:0046483          0.1\n",
       "...         ...         ...          ...\n",
       "4831308  F4K6M8  GO:0019953          0.1\n",
       "4831309  F4K6M8  GO:0007338          0.1\n",
       "4831310  F4K6M8  GO:0000003          0.1\n",
       "4831311  F4K6M8  GO:0009566          0.1\n",
       "4831312  F4K6M8  GO:0022414          0.1\n",
       "\n",
       "[4831313 rows x 3 columns]"
      ]
     },
     "metadata": {},
     "output_type": "display_data"
    },
    {
     "data": {
      "text/html": [
       "<div>\n",
       "<style scoped>\n",
       "    .dataframe tbody tr th:only-of-type {\n",
       "        vertical-align: middle;\n",
       "    }\n",
       "\n",
       "    .dataframe tbody tr th {\n",
       "        vertical-align: top;\n",
       "    }\n",
       "\n",
       "    .dataframe thead th {\n",
       "        text-align: right;\n",
       "    }\n",
       "</style>\n",
       "<table border=\"1\" class=\"dataframe\">\n",
       "  <thead>\n",
       "    <tr style=\"text-align: right;\">\n",
       "      <th></th>\n",
       "      <th>EntryID</th>\n",
       "      <th>term</th>\n",
       "      <th>probability</th>\n",
       "    </tr>\n",
       "  </thead>\n",
       "  <tbody>\n",
       "    <tr>\n",
       "      <th>0</th>\n",
       "      <td>E7F6Z8</td>\n",
       "      <td>GO:0048856</td>\n",
       "      <td>0.1</td>\n",
       "    </tr>\n",
       "    <tr>\n",
       "      <th>1</th>\n",
       "      <td>E7F6Z8</td>\n",
       "      <td>GO:0007275</td>\n",
       "      <td>0.1</td>\n",
       "    </tr>\n",
       "    <tr>\n",
       "      <th>2</th>\n",
       "      <td>E7F6Z8</td>\n",
       "      <td>GO:0048731</td>\n",
       "      <td>0.1</td>\n",
       "    </tr>\n",
       "    <tr>\n",
       "      <th>3</th>\n",
       "      <td>E7F6Z8</td>\n",
       "      <td>GO:0032502</td>\n",
       "      <td>0.1</td>\n",
       "    </tr>\n",
       "    <tr>\n",
       "      <th>4</th>\n",
       "      <td>E7F6Z8</td>\n",
       "      <td>GO:0032501</td>\n",
       "      <td>0.3</td>\n",
       "    </tr>\n",
       "    <tr>\n",
       "      <th>...</th>\n",
       "      <td>...</td>\n",
       "      <td>...</td>\n",
       "      <td>...</td>\n",
       "    </tr>\n",
       "    <tr>\n",
       "      <th>4779744</th>\n",
       "      <td>A0A8I6GHU0</td>\n",
       "      <td>GO:0030097</td>\n",
       "      <td>0.1</td>\n",
       "    </tr>\n",
       "    <tr>\n",
       "      <th>4779745</th>\n",
       "      <td>A0A8I6GHU0</td>\n",
       "      <td>GO:0002521</td>\n",
       "      <td>0.1</td>\n",
       "    </tr>\n",
       "    <tr>\n",
       "      <th>4779746</th>\n",
       "      <td>A0A8I6GHU0</td>\n",
       "      <td>GO:1903131</td>\n",
       "      <td>0.1</td>\n",
       "    </tr>\n",
       "    <tr>\n",
       "      <th>4779747</th>\n",
       "      <td>A0A8I6GHU0</td>\n",
       "      <td>GO:0030098</td>\n",
       "      <td>0.1</td>\n",
       "    </tr>\n",
       "    <tr>\n",
       "      <th>4779748</th>\n",
       "      <td>A0A8I6GHU0</td>\n",
       "      <td>GO:0030217</td>\n",
       "      <td>0.1</td>\n",
       "    </tr>\n",
       "  </tbody>\n",
       "</table>\n",
       "<p>4779749 rows × 3 columns</p>\n",
       "</div>"
      ],
      "text/plain": [
       "            EntryID        term  probability\n",
       "0            E7F6Z8  GO:0048856          0.1\n",
       "1            E7F6Z8  GO:0007275          0.1\n",
       "2            E7F6Z8  GO:0048731          0.1\n",
       "3            E7F6Z8  GO:0032502          0.1\n",
       "4            E7F6Z8  GO:0032501          0.3\n",
       "...             ...         ...          ...\n",
       "4779744  A0A8I6GHU0  GO:0030097          0.1\n",
       "4779745  A0A8I6GHU0  GO:0002521          0.1\n",
       "4779746  A0A8I6GHU0  GO:1903131          0.1\n",
       "4779747  A0A8I6GHU0  GO:0030098          0.1\n",
       "4779748  A0A8I6GHU0  GO:0030217          0.1\n",
       "\n",
       "[4779749 rows x 3 columns]"
      ]
     },
     "metadata": {},
     "output_type": "display_data"
    }
   ],
   "source": [
    "\n",
    "for fold in range(0,5):\n",
    "    preds=pd.read_csv(f\"../results/preds_blasp10n/predsblasp_10n_fold{fold}/preds.csv\",index_col=0)\n",
    "    preds.to_csv(f\"../results/preds_blasp10n/preds_fold{fold}.tsv\",header=False,sep=\"\\t\",index=False)\n",
    "    ids=preds.EntryID.unique()\n",
    "    labels_=labels.loc[labels.EntryID.isin( ids)]\n",
    "    labels_.to_csv(f\"../results/preds_blasp10n/labels_used_fold{fold}.tsv\",sep=\"\\t\",index=False)\n",
    "    display(preds)"
   ]
  },
  {
   "cell_type": "code",
   "execution_count": null,
   "metadata": {},
   "outputs": [],
   "source": [
    " preds=pd.read_csv(f\"../results/preds_blasp/preds_fold{fold}.tsv\",header=None,sep=\"\\t\")\n",
    " preds"
   ]
  },
  {
   "cell_type": "code",
   "execution_count": null,
   "metadata": {},
   "outputs": [],
   "source": []
  }
 ],
 "metadata": {
  "kernelspec": {
   "display_name": "Python 3",
   "language": "python",
   "name": "python3"
  },
  "language_info": {
   "codemirror_mode": {
    "name": "ipython",
    "version": 3
   },
   "file_extension": ".py",
   "mimetype": "text/x-python",
   "name": "python",
   "nbconvert_exporter": "python",
   "pygments_lexer": "ipython3",
   "version": "3.8.0"
  }
 },
 "nbformat": 4,
 "nbformat_minor": 4
}
